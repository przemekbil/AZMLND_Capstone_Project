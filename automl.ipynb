{
  "cells": [
    {
      "cell_type": "markdown",
      "source": [
        "# Automated ML\n",
        "\n",
        "TODO: Import Dependencies. In the cell below, import all the dependencies that you will need to complete the project."
      ],
      "metadata": {}
    },
    {
      "cell_type": "code",
      "source": [
        "import pandas as pd\r\n",
        "import requests\r\n",
        "import json\r\n",
        "import os\r\n",
        "from azureml.core import Workspace, Datastore, Dataset, Experiment, Environment\r\n",
        "from azureml.train.automl import AutoMLConfig\r\n",
        "from azureml.core.compute import ComputeTarget, AmlCompute\r\n",
        "from azureml.core.model import Model, InferenceConfig\r\n",
        "from azureml.widgets import RunDetails\r\n",
        "from azureml.core.webservice import LocalWebservice"
      ],
      "outputs": [],
      "execution_count": 1,
      "metadata": {
        "gather": {
          "logged": 1634495808685
        },
        "jupyter": {
          "outputs_hidden": false,
          "source_hidden": false
        },
        "nteract": {
          "transient": {
            "deleting": false
          }
        }
      }
    },
    {
      "cell_type": "markdown",
      "source": [
        "## Dataset\n",
        "\n",
        "### Overview\n",
        "TODO: In this markdown cell, give an overview of the dataset you are using. Also mention the task you will be performing.\n",
        "\n",
        "\n",
        "TODO: Get data. In the cell below, write code to access the data you will be using in this project. Remember that the dataset needs to be external."
      ],
      "metadata": {}
    },
    {
      "cell_type": "code",
      "source": [
        "# Read and clean the data\r\n",
        "\r\n",
        "raw_data = pd.read_csv('data-unbalanced.csv')\r\n",
        "raw_data = raw_data.dropna()\r\n",
        "raw_data = raw_data.drop(\"WO-MRR NUM\", axis=1)\r\n",
        "raw_data = raw_data.drop(\"Has MRR\", axis=1)\r\n",
        "raw_data = pd.get_dummies(raw_data, columns=['PROD_CDE','PREP ASSOCIATE', 'FURN'])\r\n",
        "print(raw_data.shape)"
      ],
      "outputs": [
        {
          "output_type": "stream",
          "name": "stdout",
          "text": "(26038, 91)\n"
        }
      ],
      "execution_count": 11,
      "metadata": {
        "jupyter": {
          "source_hidden": false,
          "outputs_hidden": false
        },
        "nteract": {
          "transient": {
            "deleting": false
          }
        },
        "gather": {
          "logged": 1634497799255
        }
      }
    },
    {
      "cell_type": "code",
      "source": [
        "# Create a new Dataset from the raw_data\r\n",
        "ws = Workspace.from_config()\r\n",
        "datastore = Datastore.get(ws, 'workspaceblobstore')\r\n",
        "\r\n",
        "dataset = Dataset.Tabular.register_pandas_dataframe(raw_data, datastore ,\"Sinter\", show_progress=True)"
      ],
      "outputs": [
        {
          "output_type": "stream",
          "name": "stderr",
          "text": "Method register_pandas_dataframe: This is an experimental method, and may change at any time. Please see https://aka.ms/azuremlexperimental for more information.\n"
        },
        {
          "output_type": "stream",
          "name": "stdout",
          "text": "Validating arguments.\nArguments validated.\nSuccessfully obtained datastore reference and path.\nUploading file to managed-dataset/345c97f0-159c-49df-aed0-0c90c2d5f86d/\nSuccessfully uploaded file to datastore.\nCreating and registering a new dataset.\nSuccessfully created and registered a new dataset.\n"
        }
      ],
      "execution_count": 3,
      "metadata": {
        "jupyter": {
          "source_hidden": false,
          "outputs_hidden": false
        },
        "nteract": {
          "transient": {
            "deleting": false
          }
        },
        "gather": {
          "logged": 1634495827631
        }
      }
    },
    {
      "cell_type": "code",
      "source": [
        "# Register the dataset\r\n",
        "dataset = dataset.register(workspace = ws, name='Sinter_dataset', description='Sinter scrap dataset')"
      ],
      "outputs": [],
      "execution_count": 4,
      "metadata": {
        "jupyter": {
          "source_hidden": false,
          "outputs_hidden": false
        },
        "nteract": {
          "transient": {
            "deleting": false
          }
        },
        "gather": {
          "logged": 1634495845324
        }
      }
    },
    {
      "cell_type": "code",
      "source": [
        "# choose a name for experiment\n",
        "experiment_name = 'Sinter_AML'\n",
        "\n",
        "experiment=Experiment(ws, experiment_name)"
      ],
      "outputs": [],
      "execution_count": 5,
      "metadata": {
        "gather": {
          "logged": 1634495850625
        },
        "jupyter": {
          "outputs_hidden": false,
          "source_hidden": false
        },
        "nteract": {
          "transient": {
            "deleting": false
          }
        }
      }
    },
    {
      "cell_type": "markdown",
      "source": [
        "# Create a Copute target"
      ],
      "metadata": {
        "nteract": {
          "transient": {
            "deleting": false
          }
        }
      }
    },
    {
      "cell_type": "code",
      "source": [
        "cpu_cluster_name = \"ML-Cluster\"\r\n",
        "compute_config = AmlCompute.provisioning_configuration(\"Standard_D2_V2\", min_nodes=0, max_nodes=2)\r\n",
        "cpu_cluster = ComputeTarget.create(ws, cpu_cluster_name, compute_config)\r\n",
        "cpu_cluster.wait_for_completion(show_output=True)"
      ],
      "outputs": [
        {
          "output_type": "stream",
          "name": "stdout",
          "text": "SucceededProvisioning operation finished, operation \"Succeeded\"\nSucceeded\nAmlCompute wait for completion finished\n\nMinimum number of nodes requested have been provisioned\n"
        }
      ],
      "execution_count": 7,
      "metadata": {
        "jupyter": {
          "source_hidden": false,
          "outputs_hidden": false
        },
        "nteract": {
          "transient": {
            "deleting": false
          }
        },
        "gather": {
          "logged": 1634495874052
        }
      }
    },
    {
      "cell_type": "markdown",
      "source": [
        "## AutoML Configuration\n",
        "\n",
        "TODO: Explain why you chose the automl settings and cofiguration you used below."
      ],
      "metadata": {}
    },
    {
      "cell_type": "code",
      "source": [
        "automl_settings = {\n",
        "    \"experiment_timeout_minutes\": 20,\n",
        "    \"max_concurrent_iterations\": 5,\n",
        "    \"primary_metric\" : 'AUC_weighted'\n",
        "}\n",
        "automl_config = AutoMLConfig(compute_target=cpu_cluster,\n",
        "                             task = \"classification\",\n",
        "                             training_data=dataset,\n",
        "                             label_column_name=\"HAS SCRAP AT SINTER\",\n",
        "                             enable_early_stopping= True,\n",
        "                             featurization= 'auto',\n",
        "                             debug_log = \"automl_errors.log\",\n",
        "                             **automl_settings\n",
        "                            )"
      ],
      "outputs": [],
      "execution_count": 8,
      "metadata": {
        "gather": {
          "logged": 1634495879840
        },
        "jupyter": {
          "outputs_hidden": false,
          "source_hidden": false
        },
        "nteract": {
          "transient": {
            "deleting": false
          }
        }
      }
    },
    {
      "cell_type": "code",
      "source": [
        "# TODO: Submit your experiment\n",
        "remote_run = experiment.submit(automl_config, show_output=True)"
      ],
      "outputs": [
        {
          "output_type": "stream",
          "name": "stdout",
          "text": "Submitting remote run.\nNo run_configuration provided, running on ML-Cluster with default configuration\nRunning on remote compute: ML-Cluster\n"
        },
        {
          "output_type": "display_data",
          "data": {
            "text/plain": "<IPython.core.display.HTML object>",
            "text/html": "<table style=\"width:100%\"><tr><th>Experiment</th><th>Id</th><th>Type</th><th>Status</th><th>Details Page</th><th>Docs Page</th></tr><tr><td>Sinter_AML</td><td>AutoML_4505acab-d558-4f91-bb55-942f198dff5a</td><td>automl</td><td>NotStarted</td><td><a href=\"https://ml.azure.com/runs/AutoML_4505acab-d558-4f91-bb55-942f198dff5a?wsid=/subscriptions/610d6e37-4747-4a20-80eb-3aad70a55f43/resourcegroups/aml-quickstarts-161252/workspaces/quick-starts-ws-161252&amp;tid=660b3398-b80e-49d2-bc5b-ac1dc93b5254\" target=\"_blank\" rel=\"noopener\">Link to Azure Machine Learning studio</a></td><td><a href=\"https://docs.microsoft.com/en-us/python/api/overview/azure/ml/intro?view=azure-ml-py\" target=\"_blank\" rel=\"noopener\">Link to Documentation</a></td></tr></table>"
          },
          "metadata": {}
        },
        {
          "output_type": "stream",
          "name": "stdout",
          "text": "\nCurrent status: FeaturesGeneration. Generating features for the dataset.\nCurrent status: DatasetFeaturization. Beginning to fit featurizers and featurize the dataset.\nCurrent status: DatasetBalancing. Performing class balancing sweeping\nCurrent status: ModelSelection. Beginning model selection.\n\n****************************************************************************************************\nDATA GUARDRAILS: \n\nTYPE:         Train-Test data split\nSTATUS:       DONE\nDESCRIPTION:  Your input data has been split into a training dataset and a holdout test dataset for validation of the model. The test holdout dataset reflects the original distribution of your input data.\n              \nDETAILS:      \n+---------------------------------+---------------------------------+---------------------------------+\n|Dataset                          |Row counts                       |Percentage                       |\n+=================================+=================================+=================================+\n|train                            |23434                            |89.99923189185037                |\n|test                             |2604                             |10.000768108149627               |\n+---------------------------------+---------------------------------+---------------------------------+\n\n****************************************************************************************************\n\nTYPE:         Class balancing detection\nSTATUS:       ALERTED\nDESCRIPTION:  To decrease model bias, please cancel the current run and fix balancing problem.\n              Learn more about imbalanced data: https://aka.ms/AutomatedMLImbalancedData\nDETAILS:      Imbalanced data can lead to a falsely perceived positive effect of a model's accuracy because the input data has bias towards one class.\n+---------------------------------+---------------------------------+--------------------------------------+\n|Size of the smallest class       |Name/Label of the smallest class |Number of samples in the training data|\n+=================================+=================================+======================================+\n|2118                             |1                                |23434                                 |\n+---------------------------------+---------------------------------+--------------------------------------+\n\n****************************************************************************************************\n\nTYPE:         Missing feature values imputation\nSTATUS:       PASSED\nDESCRIPTION:  No feature missing values were detected in the training data.\n              Learn more about missing value imputation: https://aka.ms/AutomatedMLFeaturization\n\n****************************************************************************************************\n\nTYPE:         High cardinality feature detection\nSTATUS:       DONE\nDESCRIPTION:  The training data had the following high cardinality features which were excluded for training. Please review your data source and possibly filter out these columns. If you want to include these features for training, you can override column purpose with appropriate column type.\n              Learn more about high cardinality feature handling: https://aka.ms/AutomatedMLFeaturization\nDETAILS:      High cardinality features refer to columns that contain a large percentage of unique values.\n+---------------------------------+---------------------------------+\n|Column name                      |Column Content Type              |\n+=================================+=================================+\n|WO-MRR NUM                       |hashes                           |\n+---------------------------------+---------------------------------+\n\n****************************************************************************************************\n\n****************************************************************************************************\nITERATION: The iteration being evaluated.\nPIPELINE: A summary description of the pipeline being evaluated.\nDURATION: Time taken for the current iteration.\nMETRIC: The result of computing score on the fitted pipeline.\nBEST: The best observed score thus far.\n****************************************************************************************************\n\n ITERATION   PIPELINE                                       DURATION      METRIC      BEST\n         3   MaxAbsScaler RandomForest                      0:00:43       0.6362    0.6362\n         2   MaxAbsScaler ExtremeRandomTrees                0:00:53       0.6576    0.6576\n         0   MaxAbsScaler LightGBM                          0:00:40       0.7250    0.7250\n         4   StandardScalerWrapper LightGBM                 0:00:41       0.5529    0.7250\n         1   MaxAbsScaler XGBoostClassifier                 0:01:42       0.7028    0.7250\n         5   SparseNormalizer XGBoostClassifier             0:00:41       0.6643    0.7250\n         6   SparseNormalizer RandomForest                  0:00:42       0.6918    0.7250\n         7   StandardScalerWrapper XGBoostClassifier        0:00:39       0.6823    0.7250\n         8   SparseNormalizer XGBoostClassifier             0:00:40       0.6991    0.7250\n         9   MaxAbsScaler RandomForest                      0:00:39       0.5593    0.7250\n        10   SparseNormalizer LightGBM                      0:00:39       0.6229    0.7250\n        11   MaxAbsScaler ExtremeRandomTrees                0:00:42       0.7008    0.7250\n        12   StandardScalerWrapper XGBoostClassifier        0:00:41       0.6859    0.7250\n        13   StandardScalerWrapper ExtremeRandomTrees       0:00:41       0.7004    0.7250\n        14   StandardScalerWrapper RandomForest             0:00:58       0.6862    0.7250\n        15   MaxAbsScaler LightGBM                          0:00:40       0.7113    0.7250\n        16   MaxAbsScaler LogisticRegression                0:00:42       0.7164    0.7250\n        17   StandardScalerWrapper ExtremeRandomTrees       0:00:58       0.7008    0.7250\n        18   StandardScalerWrapper XGBoostClassifier        0:00:42       0.6559    0.7250\n        19   MaxAbsScaler ExtremeRandomTrees                0:00:40       0.7010    0.7250\n        20   MaxAbsScaler LogisticRegression                0:00:48       0.7164    0.7250\n        21   StandardScalerWrapper XGBoostClassifier        0:00:46       0.6662    0.7250\n        22   StandardScalerWrapper XGBoostClassifier        0:00:42       0.7143    0.7250\n        23   MaxAbsScaler RandomForest                      0:00:39       0.5691    0.7250\n        24   SparseNormalizer XGBoostClassifier             0:00:43       0.6965    0.7250\n        25   StandardScalerWrapper LightGBM                 0:00:41       0.5938    0.7250\n        26   StandardScalerWrapper LightGBM                 0:00:38       0.6477    0.7250\n        27   StandardScalerWrapper LightGBM                 0:00:41       0.5998    0.7250\n        28   StandardScalerWrapper LightGBM                 0:00:42       0.5543    0.7250\n        29   MaxAbsScaler LightGBM                          0:00:44       0.5602    0.7250\n        30   TruncatedSVDWrapper LightGBM                   0:00:41       0.5493    0.7250\n        31   StandardScalerWrapper LogisticRegression       0:00:40       0.7145    0.7250\n        32   TruncatedSVDWrapper XGBoostClassifier          0:00:43       0.6905    0.7250\n        33   MaxAbsScaler SGD                               0:00:40       0.7172    0.7250\n        34   StandardScalerWrapper LogisticRegression       0:00:17          nan    0.7250\n        35                                                  0:01:27          nan    0.7250\n        36                                                  0:00:52          nan    0.7250\n        37                                                  0:00:25          nan    0.7250\n        38    VotingEnsemble                                0:01:00       0.7317    0.7317\n        39    StackEnsemble                                 0:01:18       0.7277    0.7317\n"
        }
      ],
      "execution_count": 9,
      "metadata": {
        "gather": {
          "logged": 1634497778214
        },
        "jupyter": {
          "outputs_hidden": false,
          "source_hidden": false
        },
        "nteract": {
          "transient": {
            "deleting": false
          }
        }
      }
    },
    {
      "cell_type": "markdown",
      "source": [
        "## Run Details\n",
        "\n",
        "OPTIONAL: Write about the different models trained and their performance. Why do you think some models did better than others?\n",
        "\n",
        "TODO: In the cell below, use the `RunDetails` widget to show the different experiments."
      ],
      "metadata": {}
    },
    {
      "cell_type": "code",
      "source": [
        "RunDetails(remote_run).show()"
      ],
      "outputs": [
        {
          "output_type": "display_data",
          "data": {
            "text/plain": "_AutoMLWidget(widget_settings={'childWidgetDisplay': 'popup', 'send_telemetry': False, 'log_level': 'INFO', 's…",
            "application/vnd.jupyter.widget-view+json": {
              "version_major": 2,
              "version_minor": 0,
              "model_id": "8cf9d3d33aaf4fad9ec29aca63a73ff9"
            }
          },
          "metadata": {}
        },
        {
          "output_type": "display_data",
          "data": {
            "application/aml.mini.widget.v1": "{\"status\": \"Completed\", \"workbench_run_details_uri\": \"https://ml.azure.com/runs/AutoML_4505acab-d558-4f91-bb55-942f198dff5a?wsid=/subscriptions/610d6e37-4747-4a20-80eb-3aad70a55f43/resourcegroups/aml-quickstarts-161252/workspaces/quick-starts-ws-161252&tid=660b3398-b80e-49d2-bc5b-ac1dc93b5254\", \"run_id\": \"AutoML_4505acab-d558-4f91-bb55-942f198dff5a\", \"run_properties\": {\"run_id\": \"AutoML_4505acab-d558-4f91-bb55-942f198dff5a\", \"created_utc\": \"2021-10-17T18:38:09.025389Z\", \"properties\": {\"num_iterations\": \"1000\", \"training_type\": \"TrainFull\", \"acquisition_function\": \"EI\", \"primary_metric\": \"AUC_weighted\", \"train_split\": \"0\", \"acquisition_parameter\": \"0\", \"num_cross_validation\": null, \"target\": \"ML-Cluster\", \"AMLSettingsJsonString\": \"{\\\"path\\\":null,\\\"name\\\":\\\"Sinter_AML\\\",\\\"subscription_id\\\":\\\"610d6e37-4747-4a20-80eb-3aad70a55f43\\\",\\\"resource_group\\\":\\\"aml-quickstarts-161252\\\",\\\"workspace_name\\\":\\\"quick-starts-ws-161252\\\",\\\"region\\\":\\\"southcentralus\\\",\\\"compute_target\\\":\\\"ML-Cluster\\\",\\\"spark_service\\\":null,\\\"azure_service\\\":\\\"remote\\\",\\\"many_models\\\":false,\\\"pipeline_fetch_max_batch_size\\\":1,\\\"enable_batch_run\\\":false,\\\"enable_run_restructure\\\":false,\\\"start_auxiliary_runs_before_parent_complete\\\":false,\\\"enable_code_generation\\\":false,\\\"iterations\\\":1000,\\\"primary_metric\\\":\\\"AUC_weighted\\\",\\\"task_type\\\":\\\"classification\\\",\\\"data_script\\\":null,\\\"test_size\\\":0.0,\\\"test_include_predictions_only\\\":false,\\\"validation_size\\\":0.0,\\\"n_cross_validations\\\":null,\\\"y_min\\\":null,\\\"y_max\\\":null,\\\"num_classes\\\":null,\\\"featurization\\\":\\\"auto\\\",\\\"_ignore_package_version_incompatibilities\\\":false,\\\"is_timeseries\\\":false,\\\"max_cores_per_iteration\\\":1,\\\"max_concurrent_iterations\\\":5,\\\"iteration_timeout_minutes\\\":null,\\\"mem_in_mb\\\":null,\\\"enforce_time_on_windows\\\":false,\\\"experiment_timeout_minutes\\\":20,\\\"experiment_exit_score\\\":null,\\\"whitelist_models\\\":null,\\\"blacklist_algos\\\":[\\\"TensorFlowLinearClassifier\\\",\\\"TensorFlowDNN\\\"],\\\"supported_models\\\":[\\\"BernoulliNaiveBayes\\\",\\\"MultinomialNaiveBayes\\\",\\\"TensorFlowLinearClassifier\\\",\\\"ExtremeRandomTrees\\\",\\\"AveragedPerceptronClassifier\\\",\\\"KNN\\\",\\\"SGD\\\",\\\"GradientBoosting\\\",\\\"DecisionTree\\\",\\\"LogisticRegression\\\",\\\"XGBoostClassifier\\\",\\\"LinearSVM\\\",\\\"LightGBM\\\",\\\"RandomForest\\\",\\\"SVM\\\",\\\"TensorFlowDNN\\\"],\\\"private_models\\\":[],\\\"auto_blacklist\\\":true,\\\"blacklist_samples_reached\\\":false,\\\"exclude_nan_labels\\\":true,\\\"verbosity\\\":20,\\\"_debug_log\\\":\\\"azureml_automl.log\\\",\\\"show_warnings\\\":false,\\\"model_explainability\\\":true,\\\"service_url\\\":null,\\\"sdk_url\\\":null,\\\"sdk_packages\\\":null,\\\"enable_onnx_compatible_models\\\":false,\\\"enable_split_onnx_featurizer_estimator_models\\\":false,\\\"vm_type\\\":\\\"STANDARD_D2_V2\\\",\\\"telemetry_verbosity\\\":20,\\\"send_telemetry\\\":true,\\\"enable_dnn\\\":false,\\\"scenario\\\":\\\"SDK-1.13.0\\\",\\\"environment_label\\\":null,\\\"save_mlflow\\\":false,\\\"force_text_dnn\\\":false,\\\"enable_feature_sweeping\\\":true,\\\"enable_early_stopping\\\":true,\\\"early_stopping_n_iters\\\":10,\\\"metrics\\\":null,\\\"enable_metric_confidence\\\":false,\\\"enable_ensembling\\\":true,\\\"enable_stack_ensembling\\\":true,\\\"ensemble_iterations\\\":15,\\\"enable_tf\\\":false,\\\"enable_subsampling\\\":null,\\\"subsample_seed\\\":null,\\\"enable_nimbusml\\\":false,\\\"enable_streaming\\\":false,\\\"force_streaming\\\":false,\\\"track_child_runs\\\":true,\\\"allowed_private_models\\\":[],\\\"label_column_name\\\":\\\"HAS SCRAP AT SINTER\\\",\\\"weight_column_name\\\":null,\\\"cv_split_column_names\\\":null,\\\"positive_label\\\":null,\\\"enable_local_managed\\\":false,\\\"_local_managed_run_id\\\":null,\\\"cost_mode\\\":1,\\\"lag_length\\\":0,\\\"metric_operation\\\":\\\"maximize\\\",\\\"preprocess\\\":true}\", \"DataPrepJsonString\": \"{\\\\\\\"training_data\\\\\\\": {\\\\\\\"datasetId\\\\\\\": \\\\\\\"6776809e-9849-43fe-8359-8c1de8c6df27\\\\\\\"}, \\\\\\\"datasets\\\\\\\": 0}\", \"EnableSubsampling\": null, \"runTemplate\": \"AutoML\", \"azureml.runsource\": \"automl\", \"display_task_type\": \"classification\", \"dependencies_versions\": \"{\\\"azureml-widgets\\\": \\\"1.34.0\\\", \\\"azureml-train\\\": \\\"1.34.0\\\", \\\"azureml-train-restclients-hyperdrive\\\": \\\"1.34.0\\\", \\\"azureml-train-core\\\": \\\"1.34.0\\\", \\\"azureml-train-automl\\\": \\\"1.34.0\\\", \\\"azureml-train-automl-runtime\\\": \\\"1.34.0.post1\\\", \\\"azureml-train-automl-client\\\": \\\"1.34.0\\\", \\\"azureml-tensorboard\\\": \\\"1.34.0\\\", \\\"azureml-telemetry\\\": \\\"1.34.0\\\", \\\"azureml-sdk\\\": \\\"1.34.0\\\", \\\"azureml-samples\\\": \\\"0+unknown\\\", \\\"azureml-responsibleai\\\": \\\"1.34.0\\\", \\\"azureml-pipeline\\\": \\\"1.34.0\\\", \\\"azureml-pipeline-steps\\\": \\\"1.34.0\\\", \\\"azureml-pipeline-core\\\": \\\"1.34.0\\\", \\\"azureml-opendatasets\\\": \\\"1.34.0\\\", \\\"azureml-mlflow\\\": \\\"1.34.0\\\", \\\"azureml-interpret\\\": \\\"1.34.0\\\", \\\"azureml-inference-server-http\\\": \\\"0.3.1\\\", \\\"azureml-explain-model\\\": \\\"1.34.0\\\", \\\"azureml-defaults\\\": \\\"1.34.0\\\", \\\"azureml-dataset-runtime\\\": \\\"1.34.0\\\", \\\"azureml-dataprep\\\": \\\"2.22.2\\\", \\\"azureml-dataprep-rslex\\\": \\\"1.20.2\\\", \\\"azureml-dataprep-native\\\": \\\"38.0.0\\\", \\\"azureml-datadrift\\\": \\\"1.34.0\\\", \\\"azureml-core\\\": \\\"1.34.0\\\", \\\"azureml-contrib-services\\\": \\\"1.34.0\\\", \\\"azureml-contrib-server\\\": \\\"1.34.0\\\", \\\"azureml-contrib-reinforcementlearning\\\": \\\"1.34.0\\\", \\\"azureml-contrib-pipeline-steps\\\": \\\"1.34.0\\\", \\\"azureml-contrib-notebook\\\": \\\"1.34.0\\\", \\\"azureml-contrib-fairness\\\": \\\"1.34.0\\\", \\\"azureml-contrib-dataset\\\": \\\"1.34.0\\\", \\\"azureml-contrib-automl-pipeline-steps\\\": \\\"1.34.0\\\", \\\"azureml-cli-common\\\": \\\"1.34.0\\\", \\\"azureml-automl-runtime\\\": \\\"1.34.0.post1\\\", \\\"azureml-automl-dnn-nlp\\\": \\\"1.34.0\\\", \\\"azureml-automl-core\\\": \\\"1.34.0.post1\\\", \\\"azureml-accel-models\\\": \\\"1.34.0\\\"}\", \"_aml_system_scenario_identification\": \"Remote.Parent\", \"ClientType\": \"SDK\", \"environment_cpu_name\": \"AzureML-AutoML\", \"environment_cpu_label\": \"prod\", \"environment_gpu_name\": \"AzureML-AutoML-GPU\", \"environment_gpu_label\": \"prod\", \"root_attribution\": \"automl\", \"attribution\": \"AutoML\", \"Orchestrator\": \"AutoML\", \"CancelUri\": \"https://southcentralus.api.azureml.ms/jasmine/v1.0/subscriptions/610d6e37-4747-4a20-80eb-3aad70a55f43/resourceGroups/aml-quickstarts-161252/providers/Microsoft.MachineLearningServices/workspaces/quick-starts-ws-161252/experimentids/29d7fb6c-95ed-456f-8457-9f2ccf130849/cancel/AutoML_4505acab-d558-4f91-bb55-942f198dff5a\", \"ClientSdkVersion\": \"1.34.1\", \"snapshotId\": \"00000000-0000-0000-0000-000000000000\", \"SetupRunId\": \"AutoML_4505acab-d558-4f91-bb55-942f198dff5a_setup\", \"SetupRunContainerId\": \"dcid.AutoML_4505acab-d558-4f91-bb55-942f198dff5a_setup\", \"FeaturizationRunJsonPath\": \"featurizer_container.json\", \"FeaturizationRunId\": \"AutoML_4505acab-d558-4f91-bb55-942f198dff5a_featurize\", \"ProblemInfoJsonString\": \"{\\\"dataset_num_categorical\\\": 0, \\\"is_sparse\\\": true, \\\"subsampling\\\": false, \\\"has_extra_col\\\": true, \\\"dataset_classes\\\": 2, \\\"dataset_features\\\": 180, \\\"dataset_samples\\\": 23434, \\\"single_frequency_class_detected\\\": false}\", \"ModelExplainRunId\": \"AutoML_4505acab-d558-4f91-bb55-942f198dff5a_ModelExplain\"}, \"tags\": {\"model_explain_run\": \"best_run\", \"_aml_system_azureml.automlComponent\": \"AutoML\", \"pipeline_id\": \"<ce2643edf3d450b10c86c7d034a9bc952dc282d3>;<51ae05309834b29f71340af1008fc94fbd8213f4>;<5dfac790c5c209f98a1da2dc1c7fb76f0397324f>;<039a99c3d5147edeb525249e2660628be3e8b83f>;<c7af0367625be6ac5c2fecbfc72ed444cb7a2111>;<a3dadd95854bf6116ab454844302b51d417d78b7>;<1dfdf370ba770047b14bfa59c40920815defcdab>;<294650ec23bc3d067a4972de7ceb12f6e97260fa>;<681a59302459aec2cc115ddbc14e1d28f4b3b8df>;<5bcf69d12307c5f0246b0d33ab19666443595ac9>;<6f4a466f84f725a47910c1dff062a1bb46df2a21>;<dea7fdbaedc77258dbfe31dbfed41e768ca38939>;<c74787cd2f0507b852a1ac70d504d83ac9bdec83>;<79ebb3b8c385e3190e3dd4c1fa28b74730528045>;<a72eb56f3d4aadb7b7f0149ba6e5f05657a95ca1>;<9610149fbcf43017aa810a290e9c04cbe6fa8684>;<1e38ae92baee19b18f211a8b14c16015d5ee3dc3>;<a7434e890cabef86b0ce4ae71fb633e1e92b854d>;<dd46719e1e1ca3df6e6826afb96bf9be8390e6e2>;<208056285bd1883d5bd7d4e4e996a1c71c4b0033>;<5dcd9bc8a74634130a855a68c1bf956ce7160f98>;<ee365d2bc711bc6838929328cc4ff4b890fbc6c3>;<3fe9ace0255a98a01a321c2b4c6ab86f6c1db8e5>;<f9c4839cd35f7fe03bcc11d87a99d82f63f333dc>;<dfc631bbb8f3be228d228210719dafe9e4a19b00>;<b2368cd97692dd9092c1e39da452586d6240dfa7>;<b6800019e4bc82f1202faba1c46184f661a221d0>;<b6bd8bb4ac19514d3837e9f780a8a41bb7b723f0>;<7fc6c82a776b46c7a90d0cfb8eefee4404bfee95>;<27e5aa6ccbbc7e49f26b089f3fe952c332496275>;<aa8d77f61484a52507ff6603a297343f5d499f2d>;<582fb98b2d3c97039ca47c5bd05e2037311da36c>;<ac9856e7a16cd986de748f676fc47a447d3d3446>;<58f9ec9701bf80ae7fc8ba282e31cd44fdd5e5aa>;<97c1bf2ddfa79cee40db9546df36784000794068>;<d27946af422c9b02843418f480d6b436017ff0cc>;<f4291522bf5f10c5080e48625609faaf26a46672>;<ed6aed58226e652afb44a22eb3641ee03e891f60>;<__AutoML_Ensemble__>;<__AutoML_Stack_Ensemble__>;\", \"score\": \"<0.6361603333842272>;<0.6576336186379028>;<0.7249669938837646>;<0.5528699603926603>;<0.7027752081406106>;<0.6642797481655786>;<0.6918495100724786>;<0.6823446467222906>;<0.6990614587356188>;<0.5592879660149268>;<0.6229489056339419>;<0.7007984336689329>;<0.6859003260195972>;<0.7004472665547004>;<0.6862056887276256>;<0.711284948312871>;<0.7164437818273264>;<0.700838849321466>;<0.655858922428891>;<0.7010355388304608>;<0.7164419855761027>;<0.6662475413811376>;<0.7142775028515488>;<0.5690730445560116>;<0.6965089857467465>;<0.5938208957904852>;<0.6477048399989223>;<0.5997610985872482>;<0.5543446826473151>;<0.5601519628535248>;<0.5493178735978014>;<0.7145020342545108>;<0.6905148954132724>;<0.7171515048094627>;<NaN>;<NaN>;<NaN>;<NaN>;<0.7316508446871379>;<0.7277493870292698>;\", \"predicted_cost\": \"<0.5>;<0.5>;<0>;<0.5>;<0>;<0.09434600000000001>;<0.25765925000107986>;<0.2799231183969103>;<0.17901535456840945>;<0.11657585410661829>;<0.1568489376073974>;<2.078952705319605>;<0.5587413966112054>;<0.15640110200413976>;<0.18790042275968752>;<2.1183969817608306>;<2.2336772401330998>;<3.854223710013828>;<0.3041142292506367>;<0.5292803331142334>;<4.824037814101732>;<0.44858188618029415>;<2.059760051140049>;<0.5668322763217404>;<0.14046210559530928>;<0.44807752243478016>;<0.30700430478866797>;<0.8987844314478911>;<0.3755580426914899>;<0.20574401243087473>;<0.9982378336084181>;<1.0879126688705798>;<3.258662570947449>;<0.18722693535141996>;<1.3397389806067832>;<5.333118063700192>;<1.3097311438855326>;<0.3591093551428924>;<0>;<0>;\", \"fit_time\": \"<0.094346>;<0.484371>;<0.43988299999999997>;<0.108173>;<1.419087>;<0.48274399999999995>;<2.912185>;<0.413632>;<0.731904>;<0.189594>;<0.171315>;<3.6847540000000003>;<0.8909959999999999>;<0.27257200000000004>;<15.966811>;<0.5587310000000001>;<0.943655>;<18.266553000000002>;<0.499299>;<1.0850090000000001>;<0.397443>;<0.500804>;<1.97966>;<0.14671900000000002>;<0.50796>;<0.220839>;<0.26661999999999997>;<1.1871900000000002>;<0.487561>;<1.585067>;<0.610188>;<1.063973>;<3.099011>;<0.153792>;<NaN>;<NaN>;<NaN>;<NaN>;<14>;<34>;\", \"training_percent\": \"<100>;<100>;<100>;<100>;<100>;<100>;<100>;<100>;<100>;<100>;<100>;<100>;<100>;<100>;<100>;<100>;<100>;<100>;<100>;<100>;<100>;<100>;<100>;<100>;<100>;<100>;<100>;<100>;<100>;<100>;<100>;<100>;<100>;<100>;<100>;<100>;<100>;<100>;<100>;<100>;\", \"iteration\": \"<3>;<2>;<0>;<4>;<1>;<5>;<6>;<7>;<8>;<9>;<10>;<11>;<12>;<13>;<14>;<15>;<16>;<17>;<18>;<19>;<20>;<21>;<22>;<23>;<24>;<25>;<26>;<27>;<28>;<29>;<30>;<31>;<32>;<33>;<36>;<37>;<34>;<35>;<38>;<39>;\", \"run_preprocessor\": \"<MaxAbsScaler>;<MaxAbsScaler>;<MaxAbsScaler>;<StandardScalerWrapper>;<MaxAbsScaler>;<SparseNormalizer>;<SparseNormalizer>;<StandardScalerWrapper>;<SparseNormalizer>;<MaxAbsScaler>;<SparseNormalizer>;<MaxAbsScaler>;<StandardScalerWrapper>;<StandardScalerWrapper>;<StandardScalerWrapper>;<MaxAbsScaler>;<MaxAbsScaler>;<StandardScalerWrapper>;<StandardScalerWrapper>;<MaxAbsScaler>;<MaxAbsScaler>;<StandardScalerWrapper>;<StandardScalerWrapper>;<MaxAbsScaler>;<SparseNormalizer>;<StandardScalerWrapper>;<StandardScalerWrapper>;<StandardScalerWrapper>;<StandardScalerWrapper>;<MaxAbsScaler>;<TruncatedSVDWrapper>;<StandardScalerWrapper>;<TruncatedSVDWrapper>;<MaxAbsScaler>;<>;<>;<StandardScalerWrapper>;<>;<>;<>;\", \"run_algorithm\": \"<RandomForest>;<ExtremeRandomTrees>;<LightGBM>;<LightGBM>;<XGBoostClassifier>;<XGBoostClassifier>;<RandomForest>;<XGBoostClassifier>;<XGBoostClassifier>;<RandomForest>;<LightGBM>;<ExtremeRandomTrees>;<XGBoostClassifier>;<ExtremeRandomTrees>;<RandomForest>;<LightGBM>;<LogisticRegression>;<ExtremeRandomTrees>;<XGBoostClassifier>;<ExtremeRandomTrees>;<LogisticRegression>;<XGBoostClassifier>;<XGBoostClassifier>;<RandomForest>;<XGBoostClassifier>;<LightGBM>;<LightGBM>;<LightGBM>;<LightGBM>;<LightGBM>;<LightGBM>;<LogisticRegression>;<XGBoostClassifier>;<SGD>;<>;<>;<LogisticRegression>;<>;<VotingEnsemble>;<StackEnsemble>;\", \"dynamic_whitelisting_iterations\": \"<25>;<30>;<35>;\", \"_aml_system_azureml.automl_early_exit_message\": \"No scores improved over last 20 iterations, so experiment stopped early. This early stopping behavior can be disabled by setting enable_early_stopping = False in AutoMLConfig for notebook/python SDK runs.\", \"automl_best_child_run_id\": \"AutoML_4505acab-d558-4f91-bb55-942f198dff5a_38\"}, \"end_time_utc\": \"2021-10-17T19:09:23.236932Z\", \"status\": \"Completed\", \"log_files\": {}, \"log_groups\": [], \"run_duration\": \"0:31:14\", \"run_number\": \"1\", \"run_queued_details\": {\"status\": \"Completed\", \"details\": null}}, \"child_runs\": [{\"run_id\": \"AutoML_4505acab-d558-4f91-bb55-942f198dff5a_4\", \"run_number\": 5, \"metric\": null, \"status\": \"Completed\", \"run_type\": \"azureml.scriptrun\", \"training_percent\": \"100\", \"start_time\": \"2021-10-17T18:52:53.606877Z\", \"end_time\": \"2021-10-17T18:53:34.319601Z\", \"created_time\": \"2021-10-17T18:50:44.438258Z\", \"created_time_dt\": \"2021-10-17T18:50:44.438258Z\", \"duration\": \"0:02:49\", \"iteration\": \"4\", \"goal\": \"AUC_weighted_max\", \"run_name\": \"StandardScalerWrapper, LightGBM\", \"run_properties\": \"\\n    copy=True,\\n    with_mean=False,\\n    with_std=True\\n\", \"primary_metric\": 0.55286996, \"best_metric\": 0.72496699}, {\"run_id\": \"AutoML_4505acab-d558-4f91-bb55-942f198dff5a_3\", \"run_number\": 6, \"metric\": null, \"status\": \"Completed\", \"run_type\": \"azureml.scriptrun\", \"training_percent\": \"100\", \"start_time\": \"2021-10-17T18:50:58.561997Z\", \"end_time\": \"2021-10-17T18:51:41.217826Z\", \"created_time\": \"2021-10-17T18:50:44.443916Z\", \"created_time_dt\": \"2021-10-17T18:50:44.443916Z\", \"duration\": \"0:00:56\", \"iteration\": \"3\", \"goal\": \"AUC_weighted_max\", \"run_name\": \"MaxAbsScaler, RandomForest\", \"run_properties\": \"copy=True\", \"primary_metric\": 0.63616033, \"best_metric\": 0.72496699}, {\"run_id\": \"AutoML_4505acab-d558-4f91-bb55-942f198dff5a_2\", \"run_number\": 7, \"metric\": null, \"status\": \"Completed\", \"run_type\": \"azureml.scriptrun\", \"training_percent\": \"100\", \"start_time\": \"2021-10-17T18:50:49.737798Z\", \"end_time\": \"2021-10-17T18:51:42.556434Z\", \"created_time\": \"2021-10-17T18:50:44.443378Z\", \"created_time_dt\": \"2021-10-17T18:50:44.443378Z\", \"duration\": \"0:00:58\", \"iteration\": \"2\", \"goal\": \"AUC_weighted_max\", \"run_name\": \"MaxAbsScaler, ExtremeRandomTrees\", \"run_properties\": \"copy=True\", \"primary_metric\": 0.65763362, \"best_metric\": 0.72496699}, {\"run_id\": \"AutoML_4505acab-d558-4f91-bb55-942f198dff5a_0\", \"run_number\": 8, \"metric\": null, \"status\": \"Completed\", \"run_type\": \"azureml.scriptrun\", \"training_percent\": \"100\", \"start_time\": \"2021-10-17T18:51:57.047266Z\", \"end_time\": \"2021-10-17T18:52:37.323747Z\", \"created_time\": \"2021-10-17T18:50:44.443693Z\", \"created_time_dt\": \"2021-10-17T18:50:44.443693Z\", \"duration\": \"0:01:52\", \"iteration\": \"0\", \"goal\": \"AUC_weighted_max\", \"run_name\": \"MaxAbsScaler, LightGBM\", \"run_properties\": \"copy=True\", \"primary_metric\": 0.72496699, \"best_metric\": 0.72496699}, {\"run_id\": \"AutoML_4505acab-d558-4f91-bb55-942f198dff5a_1\", \"run_number\": 9, \"metric\": null, \"status\": \"Completed\", \"run_type\": \"azureml.scriptrun\", \"training_percent\": \"100\", \"start_time\": \"2021-10-17T18:51:55.973669Z\", \"end_time\": \"2021-10-17T18:53:37.498184Z\", \"created_time\": \"2021-10-17T18:50:45.67403Z\", \"created_time_dt\": \"2021-10-17T18:50:45.67403Z\", \"duration\": \"0:02:51\", \"iteration\": \"1\", \"goal\": \"AUC_weighted_max\", \"run_name\": \"MaxAbsScaler, XGBoostClassifier\", \"run_properties\": \"copy=True\", \"primary_metric\": 0.70277521, \"best_metric\": 0.72496699}, {\"run_id\": \"AutoML_4505acab-d558-4f91-bb55-942f198dff5a_5\", \"run_number\": 10, \"metric\": null, \"status\": \"Completed\", \"run_type\": \"azureml.scriptrun\", \"training_percent\": \"100\", \"start_time\": \"2021-10-17T18:53:49.099656Z\", \"end_time\": \"2021-10-17T18:54:29.807393Z\", \"created_time\": \"2021-10-17T18:51:44.346791Z\", \"created_time_dt\": \"2021-10-17T18:51:44.346791Z\", \"duration\": \"0:02:45\", \"iteration\": \"5\", \"goal\": \"AUC_weighted_max\", \"run_name\": \"SparseNormalizer, XGBoostClassifier\", \"run_properties\": \"copy=True, norm='max'\", \"primary_metric\": 0.66427975, \"best_metric\": 0.72496699}, {\"run_id\": \"AutoML_4505acab-d558-4f91-bb55-942f198dff5a_6\", \"run_number\": 11, \"metric\": null, \"status\": \"Completed\", \"run_type\": \"azureml.scriptrun\", \"training_percent\": \"100\", \"start_time\": \"2021-10-17T18:53:56.15291Z\", \"end_time\": \"2021-10-17T18:54:37.969965Z\", \"created_time\": \"2021-10-17T18:51:48.9952Z\", \"created_time_dt\": \"2021-10-17T18:51:48.9952Z\", \"duration\": \"0:02:48\", \"iteration\": \"6\", \"goal\": \"AUC_weighted_max\", \"run_name\": \"SparseNormalizer, RandomForest\", \"run_properties\": \"copy=True, norm='l2'\", \"primary_metric\": 0.69184951, \"best_metric\": 0.72496699}, {\"run_id\": \"AutoML_4505acab-d558-4f91-bb55-942f198dff5a_7\", \"run_number\": 12, \"metric\": null, \"status\": \"Completed\", \"run_type\": \"azureml.scriptrun\", \"training_percent\": \"100\", \"start_time\": \"2021-10-17T18:54:42.587413Z\", \"end_time\": \"2021-10-17T18:55:21.85512Z\", \"created_time\": \"2021-10-17T18:52:41.933764Z\", \"created_time_dt\": \"2021-10-17T18:52:41.933764Z\", \"duration\": \"0:02:39\", \"iteration\": \"7\", \"goal\": \"AUC_weighted_max\", \"run_name\": \"StandardScalerWrapper, XGBoostClassifier\", \"run_properties\": \"\\n    copy=True,\\n    with_mean=False,\\n    with_std=False\\n\", \"primary_metric\": 0.68234465, \"best_metric\": 0.72496699}, {\"run_id\": \"AutoML_4505acab-d558-4f91-bb55-942f198dff5a_8\", \"run_number\": 13, \"metric\": null, \"status\": \"Completed\", \"run_type\": \"azureml.scriptrun\", \"training_percent\": \"100\", \"start_time\": \"2021-10-17T18:54:51.929846Z\", \"end_time\": \"2021-10-17T18:55:31.933391Z\", \"created_time\": \"2021-10-17T18:53:37.544919Z\", \"created_time_dt\": \"2021-10-17T18:53:37.544919Z\", \"duration\": \"0:01:54\", \"iteration\": \"8\", \"goal\": \"AUC_weighted_max\", \"run_name\": \"SparseNormalizer, XGBoostClassifier\", \"run_properties\": \"copy=True, norm='max'\", \"primary_metric\": 0.69906146, \"best_metric\": 0.72496699}, {\"run_id\": \"AutoML_4505acab-d558-4f91-bb55-942f198dff5a_9\", \"run_number\": 14, \"metric\": null, \"status\": \"Completed\", \"run_type\": \"azureml.scriptrun\", \"training_percent\": \"100\", \"start_time\": \"2021-10-17T18:55:37.360725Z\", \"end_time\": \"2021-10-17T18:56:15.917878Z\", \"created_time\": \"2021-10-17T18:53:42.179469Z\", \"created_time_dt\": \"2021-10-17T18:53:42.179469Z\", \"duration\": \"0:02:33\", \"iteration\": \"9\", \"goal\": \"AUC_weighted_max\", \"run_name\": \"MaxAbsScaler, RandomForest\", \"run_properties\": \"copy=True\", \"primary_metric\": 0.55928797, \"best_metric\": 0.72496699}, {\"run_id\": \"AutoML_4505acab-d558-4f91-bb55-942f198dff5a_10\", \"run_number\": 15, \"metric\": null, \"status\": \"Completed\", \"run_type\": \"azureml.scriptrun\", \"training_percent\": \"100\", \"start_time\": \"2021-10-17T18:55:47.110599Z\", \"end_time\": \"2021-10-17T18:56:26.233009Z\", \"created_time\": \"2021-10-17T18:54:32.609708Z\", \"created_time_dt\": \"2021-10-17T18:54:32.609708Z\", \"duration\": \"0:01:53\", \"iteration\": \"10\", \"goal\": \"AUC_weighted_max\", \"run_name\": \"SparseNormalizer, LightGBM\", \"run_properties\": \"copy=True, norm='l1'\", \"primary_metric\": 0.62294891, \"best_metric\": 0.72496699}, {\"run_id\": \"AutoML_4505acab-d558-4f91-bb55-942f198dff5a_11\", \"run_number\": 16, \"metric\": null, \"status\": \"Completed\", \"run_type\": \"azureml.scriptrun\", \"training_percent\": \"100\", \"start_time\": \"2021-10-17T18:56:32.853842Z\", \"end_time\": \"2021-10-17T18:57:15.181026Z\", \"created_time\": \"2021-10-17T18:54:40.741913Z\", \"created_time_dt\": \"2021-10-17T18:54:40.741913Z\", \"duration\": \"0:02:34\", \"iteration\": \"11\", \"goal\": \"AUC_weighted_max\", \"run_name\": \"MaxAbsScaler, ExtremeRandomTrees\", \"run_properties\": \"copy=True\", \"primary_metric\": 0.70079843, \"best_metric\": 0.72496699}, {\"run_id\": \"AutoML_4505acab-d558-4f91-bb55-942f198dff5a_12\", \"run_number\": 17, \"metric\": null, \"status\": \"Completed\", \"run_type\": \"azureml.scriptrun\", \"training_percent\": \"100\", \"start_time\": \"2021-10-17T18:56:40.919968Z\", \"end_time\": \"2021-10-17T18:57:21.482483Z\", \"created_time\": \"2021-10-17T18:55:24.570757Z\", \"created_time_dt\": \"2021-10-17T18:55:24.570757Z\", \"duration\": \"0:01:56\", \"iteration\": \"12\", \"goal\": \"AUC_weighted_max\", \"run_name\": \"StandardScalerWrapper, XGBoostClassifier\", \"run_properties\": \"\\n    copy=True,\\n    with_mean=False,\\n    with_std=False\\n\", \"primary_metric\": 0.68590033, \"best_metric\": 0.72496699}, {\"run_id\": \"AutoML_4505acab-d558-4f91-bb55-942f198dff5a_13\", \"run_number\": 18, \"metric\": null, \"status\": \"Completed\", \"run_type\": \"azureml.scriptrun\", \"training_percent\": \"100\", \"start_time\": \"2021-10-17T18:57:32.57808Z\", \"end_time\": \"2021-10-17T18:58:13.939073Z\", \"created_time\": \"2021-10-17T18:55:34.609663Z\", \"created_time_dt\": \"2021-10-17T18:55:34.609663Z\", \"duration\": \"0:02:39\", \"iteration\": \"13\", \"goal\": \"AUC_weighted_max\", \"run_name\": \"StandardScalerWrapper, ExtremeRandomTrees\", \"run_properties\": \"\\n    copy=True,\\n    with_mean=False,\\n    with_std=False\\n\", \"primary_metric\": 0.70044727, \"best_metric\": 0.72496699}, {\"run_id\": \"AutoML_4505acab-d558-4f91-bb55-942f198dff5a_14\", \"run_number\": 19, \"metric\": null, \"status\": \"Completed\", \"run_type\": \"azureml.scriptrun\", \"training_percent\": \"100\", \"start_time\": \"2021-10-17T18:57:35.58552Z\", \"end_time\": \"2021-10-17T18:58:33.367658Z\", \"created_time\": \"2021-10-17T18:56:19.065998Z\", \"created_time_dt\": \"2021-10-17T18:56:19.065998Z\", \"duration\": \"0:02:14\", \"iteration\": \"14\", \"goal\": \"AUC_weighted_max\", \"run_name\": \"StandardScalerWrapper, RandomForest\", \"run_properties\": \"\\n    copy=True,\\n    with_mean=False,\\n    with_std=False\\n\", \"primary_metric\": 0.68620569, \"best_metric\": 0.72496699}, {\"run_id\": \"AutoML_4505acab-d558-4f91-bb55-942f198dff5a_15\", \"run_number\": 20, \"metric\": null, \"status\": \"Completed\", \"run_type\": \"azureml.scriptrun\", \"training_percent\": \"100\", \"start_time\": \"2021-10-17T18:58:29.938592Z\", \"end_time\": \"2021-10-17T18:59:10.212511Z\", \"created_time\": \"2021-10-17T18:56:29.738301Z\", \"created_time_dt\": \"2021-10-17T18:56:29.738301Z\", \"duration\": \"0:02:40\", \"iteration\": \"15\", \"goal\": \"AUC_weighted_max\", \"run_name\": \"MaxAbsScaler, LightGBM\", \"run_properties\": \"copy=True\", \"primary_metric\": 0.71128495, \"best_metric\": 0.72496699}, {\"run_id\": \"AutoML_4505acab-d558-4f91-bb55-942f198dff5a_16\", \"run_number\": 21, \"metric\": null, \"status\": \"Completed\", \"run_type\": \"azureml.scriptrun\", \"training_percent\": \"100\", \"start_time\": \"2021-10-17T18:58:49.757114Z\", \"end_time\": \"2021-10-17T18:59:32.131606Z\", \"created_time\": \"2021-10-17T18:57:19.976017Z\", \"created_time_dt\": \"2021-10-17T18:57:19.976017Z\", \"duration\": \"0:02:12\", \"iteration\": \"16\", \"goal\": \"AUC_weighted_max\", \"run_name\": \"MaxAbsScaler, LogisticRegression\", \"run_properties\": \"copy=True\", \"primary_metric\": 0.71644378, \"best_metric\": 0.72496699}, {\"run_id\": \"AutoML_4505acab-d558-4f91-bb55-942f198dff5a_17\", \"run_number\": 22, \"metric\": null, \"status\": \"Completed\", \"run_type\": \"azureml.scriptrun\", \"training_percent\": \"100\", \"start_time\": \"2021-10-17T18:59:24.46235Z\", \"end_time\": \"2021-10-17T19:00:22.05084Z\", \"created_time\": \"2021-10-17T18:57:24.450577Z\", \"created_time_dt\": \"2021-10-17T18:57:24.450577Z\", \"duration\": \"0:02:57\", \"iteration\": \"17\", \"goal\": \"AUC_weighted_max\", \"run_name\": \"StandardScalerWrapper, ExtremeRandomTrees\", \"run_properties\": \"\\n    copy=True,\\n    with_mean=False,\\n    with_std=True\\n\", \"primary_metric\": 0.70083885, \"best_metric\": 0.72496699}, {\"run_id\": \"AutoML_4505acab-d558-4f91-bb55-942f198dff5a_18\", \"run_number\": 23, \"metric\": null, \"status\": \"Completed\", \"run_type\": \"azureml.scriptrun\", \"training_percent\": \"100\", \"start_time\": \"2021-10-17T18:59:46.950642Z\", \"end_time\": \"2021-10-17T19:00:28.77907Z\", \"created_time\": \"2021-10-17T18:58:17.097042Z\", \"created_time_dt\": \"2021-10-17T18:58:17.097042Z\", \"duration\": \"0:02:11\", \"iteration\": \"18\", \"goal\": \"AUC_weighted_max\", \"run_name\": \"StandardScalerWrapper, XGBoostClassifier\", \"run_properties\": \"\\n    copy=True,\\n    with_mean=False,\\n    with_std=False\\n\", \"primary_metric\": 0.65585892, \"best_metric\": 0.72496699}, {\"run_id\": \"AutoML_4505acab-d558-4f91-bb55-942f198dff5a_19\", \"run_number\": 24, \"metric\": null, \"status\": \"Completed\", \"run_type\": \"azureml.scriptrun\", \"training_percent\": \"100\", \"start_time\": \"2021-10-17T19:00:37.225739Z\", \"end_time\": \"2021-10-17T19:01:17.228351Z\", \"created_time\": \"2021-10-17T18:58:36.377553Z\", \"created_time_dt\": \"2021-10-17T18:58:36.377553Z\", \"duration\": \"0:02:40\", \"iteration\": \"19\", \"goal\": \"AUC_weighted_max\", \"run_name\": \"MaxAbsScaler, ExtremeRandomTrees\", \"run_properties\": \"copy=True\", \"primary_metric\": 0.70103554, \"best_metric\": 0.72496699}, {\"run_id\": \"AutoML_4505acab-d558-4f91-bb55-942f198dff5a_20\", \"run_number\": 25, \"metric\": null, \"status\": \"Completed\", \"run_type\": \"azureml.scriptrun\", \"training_percent\": \"100\", \"start_time\": \"2021-10-17T19:00:43.794718Z\", \"end_time\": \"2021-10-17T19:01:31.612505Z\", \"created_time\": \"2021-10-17T18:59:13.132131Z\", \"created_time_dt\": \"2021-10-17T18:59:13.132131Z\", \"duration\": \"0:02:18\", \"iteration\": \"20\", \"goal\": \"AUC_weighted_max\", \"run_name\": \"MaxAbsScaler, LogisticRegression\", \"run_properties\": \"copy=True\", \"primary_metric\": 0.71644199, \"best_metric\": 0.72496699}, {\"run_id\": \"AutoML_4505acab-d558-4f91-bb55-942f198dff5a_21\", \"run_number\": 26, \"metric\": null, \"status\": \"Completed\", \"run_type\": \"azureml.scriptrun\", \"training_percent\": \"100\", \"start_time\": \"2021-10-17T19:01:32.698234Z\", \"end_time\": \"2021-10-17T19:02:18.807787Z\", \"created_time\": \"2021-10-17T18:59:35.16304Z\", \"created_time_dt\": \"2021-10-17T18:59:35.16304Z\", \"duration\": \"0:02:43\", \"iteration\": \"21\", \"goal\": \"AUC_weighted_max\", \"run_name\": \"StandardScalerWrapper, XGBoostClassifier\", \"run_properties\": \"\\n    copy=True,\\n    with_mean=False,\\n    with_std=False\\n\", \"primary_metric\": 0.66624754, \"best_metric\": 0.72496699}, {\"run_id\": \"AutoML_4505acab-d558-4f91-bb55-942f198dff5a_22\", \"run_number\": 27, \"metric\": null, \"status\": \"Completed\", \"run_type\": \"azureml.scriptrun\", \"training_percent\": \"100\", \"start_time\": \"2021-10-17T19:01:47.150284Z\", \"end_time\": \"2021-10-17T19:02:29.159413Z\", \"created_time\": \"2021-10-17T19:00:25.304908Z\", \"created_time_dt\": \"2021-10-17T19:00:25.304908Z\", \"duration\": \"0:02:03\", \"iteration\": \"22\", \"goal\": \"AUC_weighted_max\", \"run_name\": \"StandardScalerWrapper, XGBoostClassifier\", \"run_properties\": \"\\n    copy=True,\\n    with_mean=False,\\n    with_std=False\\n\", \"primary_metric\": 0.7142775, \"best_metric\": 0.72496699}, {\"run_id\": \"AutoML_4505acab-d558-4f91-bb55-942f198dff5a_23\", \"run_number\": 28, \"metric\": null, \"status\": \"Completed\", \"run_type\": \"azureml.scriptrun\", \"training_percent\": \"100\", \"start_time\": \"2021-10-17T19:02:32.097919Z\", \"end_time\": \"2021-10-17T19:03:10.905416Z\", \"created_time\": \"2021-10-17T19:00:31.923504Z\", \"created_time_dt\": \"2021-10-17T19:00:31.923504Z\", \"duration\": \"0:02:38\", \"iteration\": \"23\", \"goal\": \"AUC_weighted_max\", \"run_name\": \"MaxAbsScaler, RandomForest\", \"run_properties\": \"copy=True\", \"primary_metric\": 0.56907304, \"best_metric\": 0.72496699}, {\"run_id\": \"AutoML_4505acab-d558-4f91-bb55-942f198dff5a_24\", \"run_number\": 29, \"metric\": null, \"status\": \"Completed\", \"run_type\": \"azureml.scriptrun\", \"training_percent\": \"100\", \"start_time\": \"2021-10-17T19:02:44.623264Z\", \"end_time\": \"2021-10-17T19:03:28.086925Z\", \"created_time\": \"2021-10-17T19:01:20.369023Z\", \"created_time_dt\": \"2021-10-17T19:01:20.369023Z\", \"duration\": \"0:02:07\", \"iteration\": \"24\", \"goal\": \"AUC_weighted_max\", \"run_name\": \"SparseNormalizer, XGBoostClassifier\", \"run_properties\": \"copy=True, norm='max'\", \"primary_metric\": 0.69650899, \"best_metric\": 0.72496699}, {\"run_id\": \"AutoML_4505acab-d558-4f91-bb55-942f198dff5a_25\", \"run_number\": 30, \"metric\": null, \"status\": \"Completed\", \"run_type\": \"azureml.scriptrun\", \"training_percent\": \"100\", \"start_time\": \"2021-10-17T19:03:26.902181Z\", \"end_time\": \"2021-10-17T19:04:07.716185Z\", \"created_time\": \"2021-10-17T19:01:35.873673Z\", \"created_time_dt\": \"2021-10-17T19:01:35.873673Z\", \"duration\": \"0:02:31\", \"iteration\": \"25\", \"goal\": \"AUC_weighted_max\", \"run_name\": \"StandardScalerWrapper, LightGBM\", \"run_properties\": \"\\n    copy=True,\\n    with_mean=False,\\n    with_std=False\\n\", \"primary_metric\": 0.5938209, \"best_metric\": 0.72496699}, {\"run_id\": \"AutoML_4505acab-d558-4f91-bb55-942f198dff5a_26\", \"run_number\": 31, \"metric\": null, \"status\": \"Completed\", \"run_type\": \"azureml.scriptrun\", \"training_percent\": \"100\", \"start_time\": \"2021-10-17T19:03:44.05964Z\", \"end_time\": \"2021-10-17T19:04:22.020608Z\", \"created_time\": \"2021-10-17T19:02:20.802749Z\", \"created_time_dt\": \"2021-10-17T19:02:20.802749Z\", \"duration\": \"0:02:01\", \"iteration\": \"26\", \"goal\": \"AUC_weighted_max\", \"run_name\": \"StandardScalerWrapper, LightGBM\", \"run_properties\": \"\\n    copy=True,\\n    with_mean=False,\\n    with_std=False\\n\", \"primary_metric\": 0.64770484, \"best_metric\": 0.72496699}, {\"run_id\": \"AutoML_4505acab-d558-4f91-bb55-942f198dff5a_27\", \"run_number\": 32, \"metric\": null, \"status\": \"Completed\", \"run_type\": \"azureml.scriptrun\", \"training_percent\": \"100\", \"start_time\": \"2021-10-17T19:04:22.434627Z\", \"end_time\": \"2021-10-17T19:05:03.821745Z\", \"created_time\": \"2021-10-17T19:02:31.190614Z\", \"created_time_dt\": \"2021-10-17T19:02:31.190614Z\", \"duration\": \"0:02:32\", \"iteration\": \"27\", \"goal\": \"AUC_weighted_max\", \"run_name\": \"StandardScalerWrapper, LightGBM\", \"run_properties\": \"\\n    copy=True,\\n    with_mean=False,\\n    with_std=True\\n\", \"primary_metric\": 0.5997611, \"best_metric\": 0.72496699}, {\"run_id\": \"AutoML_4505acab-d558-4f91-bb55-942f198dff5a_28\", \"run_number\": 33, \"metric\": null, \"status\": \"Completed\", \"run_type\": \"azureml.scriptrun\", \"training_percent\": \"100\", \"start_time\": \"2021-10-17T19:04:37.592054Z\", \"end_time\": \"2021-10-17T19:05:19.78015Z\", \"created_time\": \"2021-10-17T19:03:12.966648Z\", \"created_time_dt\": \"2021-10-17T19:03:12.966648Z\", \"duration\": \"0:02:06\", \"iteration\": \"28\", \"goal\": \"AUC_weighted_max\", \"run_name\": \"StandardScalerWrapper, LightGBM\", \"run_properties\": \"\\n    copy=True,\\n    with_mean=False,\\n    with_std=True\\n\", \"primary_metric\": 0.55434468, \"best_metric\": 0.72496699}, {\"run_id\": \"AutoML_4505acab-d558-4f91-bb55-942f198dff5a_29\", \"run_number\": 34, \"metric\": null, \"status\": \"Completed\", \"run_type\": \"azureml.scriptrun\", \"training_percent\": \"100\", \"start_time\": \"2021-10-17T19:05:15.767102Z\", \"end_time\": \"2021-10-17T19:05:59.480106Z\", \"created_time\": \"2021-10-17T19:03:30.145191Z\", \"created_time_dt\": \"2021-10-17T19:03:30.145191Z\", \"duration\": \"0:02:29\", \"iteration\": \"29\", \"goal\": \"AUC_weighted_max\", \"run_name\": \"MaxAbsScaler, LightGBM\", \"run_properties\": \"copy=True\", \"primary_metric\": 0.56015196, \"best_metric\": 0.72496699}, {\"run_id\": \"AutoML_4505acab-d558-4f91-bb55-942f198dff5a_30\", \"run_number\": 35, \"metric\": null, \"status\": \"Completed\", \"run_type\": \"azureml.scriptrun\", \"training_percent\": \"100\", \"start_time\": \"2021-10-17T19:05:37.415602Z\", \"end_time\": \"2021-10-17T19:06:18.444335Z\", \"created_time\": \"2021-10-17T19:04:10.501087Z\", \"created_time_dt\": \"2021-10-17T19:04:10.501087Z\", \"duration\": \"0:02:07\", \"iteration\": \"30\", \"goal\": \"AUC_weighted_max\", \"run_name\": \"TruncatedSVDWrapper, LightGBM\", \"run_properties\": \"n_components=0.01, random_state=None\", \"primary_metric\": 0.54931787, \"best_metric\": 0.72496699}, {\"run_id\": \"AutoML_4505acab-d558-4f91-bb55-942f198dff5a_31\", \"run_number\": 36, \"metric\": null, \"status\": \"Completed\", \"run_type\": \"azureml.scriptrun\", \"training_percent\": \"100\", \"start_time\": \"2021-10-17T19:06:14.791738Z\", \"end_time\": \"2021-10-17T19:06:55.074654Z\", \"created_time\": \"2021-10-17T19:04:24.00054Z\", \"created_time_dt\": \"2021-10-17T19:04:24.00054Z\", \"duration\": \"0:02:31\", \"iteration\": \"31\", \"goal\": \"AUC_weighted_max\", \"run_name\": \"StandardScalerWrapper, LogisticRegression\", \"run_properties\": \"\\n    copy=True,\\n    with_mean=False,\\n    with_std=True\\n\", \"primary_metric\": 0.71450203, \"best_metric\": 0.72496699}, {\"run_id\": \"AutoML_4505acab-d558-4f91-bb55-942f198dff5a_32\", \"run_number\": 37, \"metric\": null, \"status\": \"Completed\", \"run_type\": \"azureml.scriptrun\", \"training_percent\": \"100\", \"start_time\": \"2021-10-17T19:06:35.034465Z\", \"end_time\": \"2021-10-17T19:07:17.771248Z\", \"created_time\": \"2021-10-17T19:05:05.610842Z\", \"created_time_dt\": \"2021-10-17T19:05:05.610842Z\", \"duration\": \"0:02:12\", \"iteration\": \"32\", \"goal\": \"AUC_weighted_max\", \"run_name\": \"TruncatedSVDWrapper, XGBoostClassifier\", \"run_properties\": \"n_components=0.45526315789473687, random_state=None\", \"primary_metric\": 0.6905149, \"best_metric\": 0.72496699}, {\"run_id\": \"AutoML_4505acab-d558-4f91-bb55-942f198dff5a_33\", \"run_number\": 38, \"metric\": null, \"status\": \"Completed\", \"run_type\": \"azureml.scriptrun\", \"training_percent\": \"100\", \"start_time\": \"2021-10-17T19:07:08.230984Z\", \"end_time\": \"2021-10-17T19:07:47.834596Z\", \"created_time\": \"2021-10-17T19:05:21.868258Z\", \"created_time_dt\": \"2021-10-17T19:05:21.868258Z\", \"duration\": \"0:02:25\", \"iteration\": \"33\", \"goal\": \"AUC_weighted_max\", \"run_name\": \"MaxAbsScaler, SGD\", \"run_properties\": \"copy=True\", \"primary_metric\": 0.7171515, \"best_metric\": 0.72496699}, {\"run_id\": \"AutoML_4505acab-d558-4f91-bb55-942f198dff5a_34\", \"run_number\": 39, \"metric\": null, \"status\": \"Canceled\", \"run_type\": \"azureml.scriptrun\", \"training_percent\": \"100\", \"start_time\": \"2021-10-17T19:07:32.473061Z\", \"end_time\": \"2021-10-17T19:07:48.978284Z\", \"created_time\": \"2021-10-17T19:06:01.380792Z\", \"created_time_dt\": \"2021-10-17T19:06:01.380792Z\", \"duration\": \"0:01:47\", \"iteration\": \"34\", \"goal\": null, \"run_name\": \"StandardScalerWrapper, LogisticRegression\", \"run_properties\": null}, {\"run_id\": \"AutoML_4505acab-d558-4f91-bb55-942f198dff5a_35\", \"run_number\": 40, \"metric\": null, \"status\": \"Canceled\", \"run_type\": \"azureml.scriptrun\", \"training_percent\": \"100\", \"start_time\": \"2021-10-17T19:06:21.667956Z\", \"end_time\": \"2021-10-17T19:07:48.868231Z\", \"created_time\": \"2021-10-17T19:06:21.667956Z\", \"created_time_dt\": \"2021-10-17T19:06:21.667956Z\", \"duration\": \"0:01:27\", \"iteration\": \"35\", \"goal\": null, \"run_name\": \"Canceled\", \"run_properties\": null}, {\"run_id\": \"AutoML_4505acab-d558-4f91-bb55-942f198dff5a_36\", \"run_number\": 41, \"metric\": null, \"status\": \"Canceled\", \"run_type\": \"azureml.scriptrun\", \"training_percent\": \"100\", \"start_time\": \"2021-10-17T19:06:56.913387Z\", \"end_time\": \"2021-10-17T19:07:48.960697Z\", \"created_time\": \"2021-10-17T19:06:56.913387Z\", \"created_time_dt\": \"2021-10-17T19:06:56.913387Z\", \"duration\": \"0:00:52\", \"iteration\": \"36\", \"goal\": null, \"run_name\": \"Canceled\", \"run_properties\": null}, {\"run_id\": \"AutoML_4505acab-d558-4f91-bb55-942f198dff5a_37\", \"run_number\": 42, \"metric\": null, \"status\": \"Canceled\", \"run_type\": \"azureml.scriptrun\", \"training_percent\": \"100\", \"start_time\": \"2021-10-17T19:07:24.396653Z\", \"end_time\": \"2021-10-17T19:07:49.188117Z\", \"created_time\": \"2021-10-17T19:07:24.396653Z\", \"created_time_dt\": \"2021-10-17T19:07:24.396653Z\", \"duration\": \"0:00:24\", \"iteration\": \"37\", \"goal\": null, \"run_name\": \"Canceled\", \"run_properties\": null}, {\"run_id\": \"AutoML_4505acab-d558-4f91-bb55-942f198dff5a_38\", \"run_number\": 43, \"metric\": null, \"status\": \"Completed\", \"run_type\": \"azureml.scriptrun\", \"training_percent\": \"100\", \"start_time\": \"2021-10-17T19:07:56.690905Z\", \"end_time\": \"2021-10-17T19:08:56.92773Z\", \"created_time\": \"2021-10-17T19:07:50.019669Z\", \"created_time_dt\": \"2021-10-17T19:07:50.019669Z\", \"duration\": \"0:01:06\", \"iteration\": \"38\", \"goal\": \"AUC_weighted_max\", \"run_name\": \"VotingEnsemble\", \"run_properties\": \"\\n    estimators=[('0', Pipeline(\\n        memory=None,\\n        steps=[('maxabsscaler', MaxAbsScaler(\\n            copy=True\\n        \", \"primary_metric\": 0.73165084, \"best_metric\": 0.73165084}, {\"run_id\": \"AutoML_4505acab-d558-4f91-bb55-942f198dff5a_39\", \"run_number\": 44, \"metric\": null, \"status\": \"Completed\", \"run_type\": \"azureml.scriptrun\", \"training_percent\": \"100\", \"start_time\": \"2021-10-17T19:08:02.863577Z\", \"end_time\": \"2021-10-17T19:09:21.347621Z\", \"created_time\": \"2021-10-17T19:07:50.05469Z\", \"created_time_dt\": \"2021-10-17T19:07:50.05469Z\", \"duration\": \"0:01:31\", \"iteration\": \"39\", \"goal\": \"AUC_weighted_max\", \"run_name\": \"StackEnsemble\", \"run_properties\": \"\\n    base_learners=[('0', Pipeline(\\n        memory=None,\\n        steps=[('maxabsscaler', MaxAbsScaler(\\n            copy=True\\n        \", \"primary_metric\": 0.72774939, \"best_metric\": 0.73165084}], \"children_metrics\": {\"categories\": [0], \"series\": {\"AUC_micro\": [{\"categories\": [\"0\", \"1\", \"2\", \"3\", \"4\", \"5\", \"6\", \"7\", \"8\", \"9\", \"10\", \"11\", \"12\", \"13\", \"14\", \"15\", \"16\", \"17\", \"18\", \"19\", \"20\", \"21\", \"22\", \"23\", \"24\", \"25\", \"26\", \"27\", \"28\", \"29\", \"30\", \"31\", \"32\", \"33\", \"38\", \"39\"], \"mode\": \"markers\", \"name\": \"AUC_micro\", \"stepped\": false, \"type\": \"scatter\", \"data\": [0.9467220464321697, 0.9430505119147902, 0.9356381296882263, 0.9321121528736366, 0.9184356278064469, 0.9367306235709685, 0.7009604743735858, 0.9396948685821884, 0.9424365740052526, 0.6622267880443887, 0.9299427974450273, 0.7053687933723611, 0.9402813761647566, 0.9426682570357314, 0.9400343557471549, 0.9444478363665967, 0.7306166396492693, 0.6959713993124131, 0.9353399354885903, 0.9427648530796293, 0.945235942104903, 0.9370494642532698, 0.9449398125535333, 0.6417740873664763, 0.9420217271785577, 0.9251598922607545, 0.9340077949320553, 0.9261352910918097, 0.9186777815531346, 0.9196313541025151, 0.9178523646711545, 0.944947776196847, 0.9410373323800557, 0.9453761907121504, 0.9477950736312561, 0.9471363033593596]}, {\"categories\": [\"0\", \"1\", \"2\", \"3\", \"4\", \"5\", \"6\", \"7\", \"8\", \"9\", \"10\", \"11\", \"12\", \"13\", \"14\", \"15\", \"16\", \"17\", \"18\", \"19\", \"20\", \"21\", \"22\", \"23\", \"24\", \"25\", \"26\", \"27\", \"28\", \"29\", \"30\", \"31\", \"32\", \"33\", \"38\", \"39\"], \"mode\": \"lines\", \"name\": \"AUC_micro_max\", \"stepped\": true, \"type\": \"scatter\", \"data\": [0.9467220464321697, 0.9467220464321697, 0.9467220464321697, 0.9467220464321697, 0.9467220464321697, 0.9467220464321697, 0.9467220464321697, 0.9467220464321697, 0.9467220464321697, 0.9467220464321697, 0.9467220464321697, 0.9467220464321697, 0.9467220464321697, 0.9467220464321697, 0.9467220464321697, 0.9467220464321697, 0.9467220464321697, 0.9467220464321697, 0.9467220464321697, 0.9467220464321697, 0.9467220464321697, 0.9467220464321697, 0.9467220464321697, 0.9467220464321697, 0.9467220464321697, 0.9467220464321697, 0.9467220464321697, 0.9467220464321697, 0.9467220464321697, 0.9467220464321697, 0.9467220464321697, 0.9467220464321697, 0.9467220464321697, 0.9467220464321697, 0.9477950736312561, 0.9477950736312561]}], \"f1_score_macro\": [{\"categories\": [\"0\", \"1\", \"2\", \"3\", \"4\", \"5\", \"6\", \"7\", \"8\", \"9\", \"10\", \"11\", \"12\", \"13\", \"14\", \"15\", \"16\", \"17\", \"18\", \"19\", \"20\", \"21\", \"22\", \"23\", \"24\", \"25\", \"26\", \"27\", \"28\", \"29\", \"30\", \"31\", \"32\", \"33\", \"38\", \"39\"], \"mode\": \"markers\", \"name\": \"f1_score_macro\", \"stepped\": false, \"type\": \"scatter\", \"data\": [0.5162765671240248, 0.47637241101950534, 0.47637241101950534, 0.47637241101950534, 0.47637241101950534, 0.48472159186117103, 0.49254904188442017, 0.48472159186117103, 0.48472159186117103, 0.474850085665334, 0.47637241101950534, 0.5112315759637188, 0.4887920023190401, 0.47637241101950534, 0.5085105366925223, 0.47637241101950534, 0.5176821881774732, 0.4963326612314076, 0.49210644647685137, 0.47637241101950534, 0.4924498431248381, 0.4965444696768613, 0.4887920023190401, 0.46674718733478643, 0.4807055101790365, 0.47637241101950534, 0.47637241101950534, 0.47637241101950534, 0.47637241101950534, 0.47637241101950534, 0.47637241101950534, 0.48444129595579793, 0.47637241101950534, 0.48430151476319966, 0.49296871619575094, 0.5220231000327611]}, {\"categories\": [\"0\", \"1\", \"2\", \"3\", \"4\", \"5\", \"6\", \"7\", \"8\", \"9\", \"10\", \"11\", \"12\", \"13\", \"14\", \"15\", \"16\", \"17\", \"18\", \"19\", \"20\", \"21\", \"22\", \"23\", \"24\", \"25\", \"26\", \"27\", \"28\", \"29\", \"30\", \"31\", \"32\", \"33\", \"38\", \"39\"], \"mode\": \"lines\", \"name\": \"f1_score_macro_max\", \"stepped\": true, \"type\": \"scatter\", \"data\": [0.5162765671240248, 0.5162765671240248, 0.5162765671240248, 0.5162765671240248, 0.5162765671240248, 0.5162765671240248, 0.5162765671240248, 0.5162765671240248, 0.5162765671240248, 0.5162765671240248, 0.5162765671240248, 0.5162765671240248, 0.5162765671240248, 0.5162765671240248, 0.5162765671240248, 0.5162765671240248, 0.5176821881774732, 0.5176821881774732, 0.5176821881774732, 0.5176821881774732, 0.5176821881774732, 0.5176821881774732, 0.5176821881774732, 0.5176821881774732, 0.5176821881774732, 0.5176821881774732, 0.5176821881774732, 0.5176821881774732, 0.5176821881774732, 0.5176821881774732, 0.5176821881774732, 0.5176821881774732, 0.5176821881774732, 0.5176821881774732, 0.5176821881774732, 0.5220231000327611]}], \"f1_score_micro\": [{\"categories\": [\"0\", \"1\", \"2\", \"3\", \"4\", \"5\", \"6\", \"7\", \"8\", \"9\", \"10\", \"11\", \"12\", \"13\", \"14\", \"15\", \"16\", \"17\", \"18\", \"19\", \"20\", \"21\", \"22\", \"23\", \"24\", \"25\", \"26\", \"27\", \"28\", \"29\", \"30\", \"31\", \"32\", \"33\", \"38\", \"39\"], \"mode\": \"markers\", \"name\": \"f1_score_micro\", \"stepped\": false, \"type\": \"scatter\", \"data\": [0.9109062980030722, 0.9097542242703534, 0.9097542242703534, 0.9097542242703534, 0.9097542242703534, 0.9097542242703534, 0.620583717357911, 0.9097542242703534, 0.9097542242703534, 0.65284178187404, 0.9097542242703534, 0.6582181259600615, 0.9097542242703534, 0.9097542242703534, 0.9043778801843319, 0.9097542242703534, 0.6609062980030722, 0.6263440860215054, 0.9082181259600615, 0.9097542242703534, 0.9089861751152074, 0.9093701996927803, 0.9097542242703534, 0.6309523809523809, 0.9101382488479263, 0.9097542242703534, 0.9097542242703534, 0.9097542242703534, 0.9097542242703534, 0.9097542242703534, 0.9097542242703534, 0.9089861751152074, 0.9097542242703534, 0.9086021505376344, 0.9101382488479263, 0.9089861751152074]}, {\"categories\": [\"0\", \"1\", \"2\", \"3\", \"4\", \"5\", \"6\", \"7\", \"8\", \"9\", \"10\", \"11\", \"12\", \"13\", \"14\", \"15\", \"16\", \"17\", \"18\", \"19\", \"20\", \"21\", \"22\", \"23\", \"24\", \"25\", \"26\", \"27\", \"28\", \"29\", \"30\", \"31\", \"32\", \"33\", \"38\", \"39\"], \"mode\": \"lines\", \"name\": \"f1_score_micro_max\", \"stepped\": true, \"type\": \"scatter\", \"data\": [0.9109062980030722, 0.9109062980030722, 0.9109062980030722, 0.9109062980030722, 0.9109062980030722, 0.9109062980030722, 0.9109062980030722, 0.9109062980030722, 0.9109062980030722, 0.9109062980030722, 0.9109062980030722, 0.9109062980030722, 0.9109062980030722, 0.9109062980030722, 0.9109062980030722, 0.9109062980030722, 0.9109062980030722, 0.9109062980030722, 0.9109062980030722, 0.9109062980030722, 0.9109062980030722, 0.9109062980030722, 0.9109062980030722, 0.9109062980030722, 0.9109062980030722, 0.9109062980030722, 0.9109062980030722, 0.9109062980030722, 0.9109062980030722, 0.9109062980030722, 0.9109062980030722, 0.9109062980030722, 0.9109062980030722, 0.9109062980030722, 0.9109062980030722, 0.9109062980030722]}], \"recall_score_weighted\": [{\"categories\": [\"0\", \"1\", \"2\", \"3\", \"4\", \"5\", \"6\", \"7\", \"8\", \"9\", \"10\", \"11\", \"12\", \"13\", \"14\", \"15\", \"16\", \"17\", \"18\", \"19\", \"20\", \"21\", \"22\", \"23\", \"24\", \"25\", \"26\", \"27\", \"28\", \"29\", \"30\", \"31\", \"32\", \"33\", \"38\", \"39\"], \"mode\": \"markers\", \"name\": \"recall_score_weighted\", \"stepped\": false, \"type\": \"scatter\", \"data\": [0.9109062980030722, 0.9097542242703534, 0.9097542242703534, 0.9097542242703534, 0.9097542242703534, 0.9097542242703534, 0.620583717357911, 0.9097542242703534, 0.9097542242703534, 0.65284178187404, 0.9097542242703534, 0.6582181259600614, 0.9097542242703534, 0.9097542242703534, 0.9043778801843319, 0.9097542242703534, 0.6609062980030722, 0.6263440860215054, 0.9082181259600615, 0.9097542242703534, 0.9089861751152074, 0.9093701996927803, 0.9097542242703534, 0.6309523809523809, 0.9101382488479263, 0.9097542242703534, 0.9097542242703534, 0.9097542242703534, 0.9097542242703534, 0.9097542242703534, 0.9097542242703534, 0.9089861751152074, 0.9097542242703534, 0.9086021505376344, 0.9101382488479263, 0.9089861751152074]}, {\"categories\": [\"0\", \"1\", \"2\", \"3\", \"4\", \"5\", \"6\", \"7\", \"8\", \"9\", \"10\", \"11\", \"12\", \"13\", \"14\", \"15\", \"16\", \"17\", \"18\", \"19\", \"20\", \"21\", \"22\", \"23\", \"24\", \"25\", \"26\", \"27\", \"28\", \"29\", \"30\", \"31\", \"32\", \"33\", \"38\", \"39\"], \"mode\": \"lines\", \"name\": \"recall_score_weighted_max\", \"stepped\": true, \"type\": \"scatter\", \"data\": [0.9109062980030722, 0.9109062980030722, 0.9109062980030722, 0.9109062980030722, 0.9109062980030722, 0.9109062980030722, 0.9109062980030722, 0.9109062980030722, 0.9109062980030722, 0.9109062980030722, 0.9109062980030722, 0.9109062980030722, 0.9109062980030722, 0.9109062980030722, 0.9109062980030722, 0.9109062980030722, 0.9109062980030722, 0.9109062980030722, 0.9109062980030722, 0.9109062980030722, 0.9109062980030722, 0.9109062980030722, 0.9109062980030722, 0.9109062980030722, 0.9109062980030722, 0.9109062980030722, 0.9109062980030722, 0.9109062980030722, 0.9109062980030722, 0.9109062980030722, 0.9109062980030722, 0.9109062980030722, 0.9109062980030722, 0.9109062980030722, 0.9109062980030722, 0.9109062980030722]}], \"matthews_correlation\": [{\"categories\": [\"0\", \"1\", \"2\", \"3\", \"4\", \"5\", \"6\", \"7\", \"8\", \"9\", \"10\", \"11\", \"12\", \"13\", \"14\", \"15\", \"16\", \"17\", \"18\", \"19\", \"20\", \"21\", \"22\", \"23\", \"24\", \"25\", \"26\", \"27\", \"28\", \"29\", \"30\", \"31\", \"32\", \"33\", \"38\", \"39\"], \"mode\": \"markers\", \"name\": \"matthews_correlation\", \"stepped\": false, \"type\": \"scatter\", \"data\": [0.1408870146340131, 0.0, 0.0, 0.0, 0.0, 0.05609075420059616, 0.15888176903368453, 0.05609075420059616, 0.05609075420059616, 0.04289306472632231, 0.0, 0.16203194906322313, 0.06872330066342341, 0.0, 0.07435445551209297, 0.0, 0.18171273861967166, 0.16294553927174646, 0.057724525669401026, 0.0, 0.06712074531601571, 0.08280916222605424, 0.06872330066342341, 0.043733834762019856, 0.06223167854689163, 0.0, 0.0, 0.0, 0.0, 0.0, 0.0, 0.040770243036501425, 0.0, 0.035417211589604376, 0.0871861809858041, 0.13013260689001283]}, {\"categories\": [\"0\", \"1\", \"2\", \"3\", \"4\", \"5\", \"6\", \"7\", \"8\", \"9\", \"10\", \"11\", \"12\", \"13\", \"14\", \"15\", \"16\", \"17\", \"18\", \"19\", \"20\", \"21\", \"22\", \"23\", \"24\", \"25\", \"26\", \"27\", \"28\", \"29\", \"30\", \"31\", \"32\", \"33\", \"38\", \"39\"], \"mode\": \"lines\", \"name\": \"matthews_correlation_max\", \"stepped\": true, \"type\": \"scatter\", \"data\": [0.1408870146340131, 0.1408870146340131, 0.1408870146340131, 0.1408870146340131, 0.1408870146340131, 0.1408870146340131, 0.15888176903368453, 0.15888176903368453, 0.15888176903368453, 0.15888176903368453, 0.15888176903368453, 0.16203194906322313, 0.16203194906322313, 0.16203194906322313, 0.16203194906322313, 0.16203194906322313, 0.18171273861967166, 0.18171273861967166, 0.18171273861967166, 0.18171273861967166, 0.18171273861967166, 0.18171273861967166, 0.18171273861967166, 0.18171273861967166, 0.18171273861967166, 0.18171273861967166, 0.18171273861967166, 0.18171273861967166, 0.18171273861967166, 0.18171273861967166, 0.18171273861967166, 0.18171273861967166, 0.18171273861967166, 0.18171273861967166, 0.18171273861967166, 0.18171273861967166]}], \"recall_score_macro\": [{\"categories\": [\"0\", \"1\", \"2\", \"3\", \"4\", \"5\", \"6\", \"7\", \"8\", \"9\", \"10\", \"11\", \"12\", \"13\", \"14\", \"15\", \"16\", \"17\", \"18\", \"19\", \"20\", \"21\", \"22\", \"23\", \"24\", \"25\", \"26\", \"27\", \"28\", \"29\", \"30\", \"31\", \"32\", \"33\", \"38\", \"39\"], \"mode\": \"markers\", \"name\": \"recall_score_macro\", \"stepped\": false, \"type\": \"scatter\", \"data\": [0.5197991791131907, 0.5, 0.5, 0.5, 0.5, 0.5038332001113676, 0.6362285909307275, 0.5038332001113676, 0.5038332001113676, 0.5351283870562137, 0.5, 0.635829823159067, 0.5057498001670514, 0.5, 0.5142945672381739, 0.5, 0.6526400402360275, 0.6393944837124921, 0.5068221621475979, 0.5, 0.5072442811851665, 0.5093719407596347, 0.5057498001670514, 0.5365141948752953, 0.502127659574468, 0.5, 0.5, 0.5, 0.5, 0.5, 0.5, 0.503411081073799, 0.5, 0.5032000215550146, 0.5078774597415194, 0.5225770816306369]}, {\"categories\": [\"0\", \"1\", \"2\", \"3\", \"4\", \"5\", \"6\", \"7\", \"8\", \"9\", \"10\", \"11\", \"12\", \"13\", \"14\", \"15\", \"16\", \"17\", \"18\", \"19\", \"20\", \"21\", \"22\", \"23\", \"24\", \"25\", \"26\", \"27\", \"28\", \"29\", \"30\", \"31\", \"32\", \"33\", \"38\", \"39\"], \"mode\": \"lines\", \"name\": \"recall_score_macro_max\", \"stepped\": true, \"type\": \"scatter\", \"data\": [0.5197991791131907, 0.5197991791131907, 0.5197991791131907, 0.5197991791131907, 0.5197991791131907, 0.5197991791131907, 0.6362285909307275, 0.6362285909307275, 0.6362285909307275, 0.6362285909307275, 0.6362285909307275, 0.6362285909307275, 0.6362285909307275, 0.6362285909307275, 0.6362285909307275, 0.6362285909307275, 0.6526400402360275, 0.6526400402360275, 0.6526400402360275, 0.6526400402360275, 0.6526400402360275, 0.6526400402360275, 0.6526400402360275, 0.6526400402360275, 0.6526400402360275, 0.6526400402360275, 0.6526400402360275, 0.6526400402360275, 0.6526400402360275, 0.6526400402360275, 0.6526400402360275, 0.6526400402360275, 0.6526400402360275, 0.6526400402360275, 0.6526400402360275, 0.6526400402360275]}], \"weighted_accuracy\": [{\"categories\": [\"0\", \"1\", \"2\", \"3\", \"4\", \"5\", \"6\", \"7\", \"8\", \"9\", \"10\", \"11\", \"12\", \"13\", \"14\", \"15\", \"16\", \"17\", \"18\", \"19\", \"20\", \"21\", \"22\", \"23\", \"24\", \"25\", \"26\", \"27\", \"28\", \"29\", \"30\", \"31\", \"32\", \"33\", \"38\", \"39\"], \"mode\": \"markers\", \"name\": \"weighted_accuracy\", \"stepped\": false, \"type\": \"scatter\", \"data\": [0.9877442616401988, 0.9902556487241209, 0.9902556487241209, 0.9902556487241209, 0.9902556487241209, 0.9895025678505046, 0.6175100831318002, 0.9895025678505046, 0.9895025678505046, 0.6759680741703495, 0.9902556487241209, 0.6626165925525455, 0.9891260274136967, 0.9902556487241209, 0.9810147041334398, 0.9902556487241209, 0.6625303093877849, 0.6237801695525945, 0.9870774639313432, 0.9902556487241209, 0.9879134754541157, 0.9879549407786942, 0.9891260274136967, 0.6495059627136744, 0.9902971140486991, 0.9902556487241209, 0.9902556487241209, 0.9902556487241209, 0.9902556487241209, 0.9902556487241209, 0.9902556487241209, 0.9886665563277321, 0.9902556487241209, 0.9882485505663456, 0.9891674927382746, 0.9849011519596512]}, {\"categories\": [\"0\", \"1\", \"2\", \"3\", \"4\", \"5\", \"6\", \"7\", \"8\", \"9\", \"10\", \"11\", \"12\", \"13\", \"14\", \"15\", \"16\", \"17\", \"18\", \"19\", \"20\", \"21\", \"22\", \"23\", \"24\", \"25\", \"26\", \"27\", \"28\", \"29\", \"30\", \"31\", \"32\", \"33\", \"38\", \"39\"], \"mode\": \"lines\", \"name\": \"weighted_accuracy_max\", \"stepped\": true, \"type\": \"scatter\", \"data\": [0.9877442616401988, 0.9902556487241209, 0.9902556487241209, 0.9902556487241209, 0.9902556487241209, 0.9902556487241209, 0.9902556487241209, 0.9902556487241209, 0.9902556487241209, 0.9902556487241209, 0.9902556487241209, 0.9902556487241209, 0.9902556487241209, 0.9902556487241209, 0.9902556487241209, 0.9902556487241209, 0.9902556487241209, 0.9902556487241209, 0.9902556487241209, 0.9902556487241209, 0.9902556487241209, 0.9902556487241209, 0.9902556487241209, 0.9902556487241209, 0.9902971140486991, 0.9902971140486991, 0.9902971140486991, 0.9902971140486991, 0.9902971140486991, 0.9902971140486991, 0.9902971140486991, 0.9902971140486991, 0.9902971140486991, 0.9902971140486991, 0.9902971140486991, 0.9902971140486991]}], \"norm_macro_recall\": [{\"categories\": [\"0\", \"1\", \"2\", \"3\", \"4\", \"5\", \"6\", \"7\", \"8\", \"9\", \"10\", \"11\", \"12\", \"13\", \"14\", \"15\", \"16\", \"17\", \"18\", \"19\", \"20\", \"21\", \"22\", \"23\", \"24\", \"25\", \"26\", \"27\", \"28\", \"29\", \"30\", \"31\", \"32\", \"33\", \"38\", \"39\"], \"mode\": \"markers\", \"name\": \"norm_macro_recall\", \"stepped\": false, \"type\": \"scatter\", \"data\": [0.03959835822638147, 0.0, 0.0, 0.0, 0.0, 0.007666400222735126, 0.27245718186145496, 0.007666400222735126, 0.007666400222735126, 0.07025677411242737, 0.0, 0.271659646318134, 0.0114996003341028, 0.0, 0.02858913447634781, 0.0, 0.305280080472055, 0.27878896742498416, 0.013644324295195798, 0.0, 0.014488562370333025, 0.018743881519269312, 0.0114996003341028, 0.07302838975059056, 0.004255319148936065, 0.0, 0.0, 0.0, 0.0, 0.0, 0.0, 0.006822162147597899, 0.0, 0.006400043110029285, 0.015754919483038865, 0.04515416326127375]}, {\"categories\": [\"0\", \"1\", \"2\", \"3\", \"4\", \"5\", \"6\", \"7\", \"8\", \"9\", \"10\", \"11\", \"12\", \"13\", \"14\", \"15\", \"16\", \"17\", \"18\", \"19\", \"20\", \"21\", \"22\", \"23\", \"24\", \"25\", \"26\", \"27\", \"28\", \"29\", \"30\", \"31\", \"32\", \"33\", \"38\", \"39\"], \"mode\": \"lines\", \"name\": \"norm_macro_recall_max\", \"stepped\": true, \"type\": \"scatter\", \"data\": [0.03959835822638147, 0.03959835822638147, 0.03959835822638147, 0.03959835822638147, 0.03959835822638147, 0.03959835822638147, 0.27245718186145496, 0.27245718186145496, 0.27245718186145496, 0.27245718186145496, 0.27245718186145496, 0.27245718186145496, 0.27245718186145496, 0.27245718186145496, 0.27245718186145496, 0.27245718186145496, 0.305280080472055, 0.305280080472055, 0.305280080472055, 0.305280080472055, 0.305280080472055, 0.305280080472055, 0.305280080472055, 0.305280080472055, 0.305280080472055, 0.305280080472055, 0.305280080472055, 0.305280080472055, 0.305280080472055, 0.305280080472055, 0.305280080472055, 0.305280080472055, 0.305280080472055, 0.305280080472055, 0.305280080472055, 0.305280080472055]}], \"AUC_macro\": [{\"categories\": [\"0\", \"1\", \"2\", \"3\", \"4\", \"5\", \"6\", \"7\", \"8\", \"9\", \"10\", \"11\", \"12\", \"13\", \"14\", \"15\", \"16\", \"17\", \"18\", \"19\", \"20\", \"21\", \"22\", \"23\", \"24\", \"25\", \"26\", \"27\", \"28\", \"29\", \"30\", \"31\", \"32\", \"33\", \"38\", \"39\"], \"mode\": \"markers\", \"name\": \"AUC_macro\", \"stepped\": false, \"type\": \"scatter\", \"data\": [0.7249669938837646, 0.7027752081406105, 0.6576336186379026, 0.6361603333842272, 0.5528699603926605, 0.6642797481655784, 0.6918495100724786, 0.6823446467222906, 0.6990614587356188, 0.5592879660149268, 0.6229489056339419, 0.7007984336689329, 0.685900326019597, 0.7004472665547004, 0.6862056887276256, 0.7112849483128709, 0.7164437818273264, 0.7008388493214661, 0.655858922428891, 0.7010355388304608, 0.7164419855761026, 0.6662475413811375, 0.7142775028515488, 0.5690730445560116, 0.6965089857467466, 0.5938208957904852, 0.6477048399989223, 0.5997610985872484, 0.5543446826473151, 0.5601519628535248, 0.5493178735978014, 0.7145020342545108, 0.6905148954132725, 0.7171515048094628, 0.7316508446871379, 0.7277493870292698]}, {\"categories\": [\"0\", \"1\", \"2\", \"3\", \"4\", \"5\", \"6\", \"7\", \"8\", \"9\", \"10\", \"11\", \"12\", \"13\", \"14\", \"15\", \"16\", \"17\", \"18\", \"19\", \"20\", \"21\", \"22\", \"23\", \"24\", \"25\", \"26\", \"27\", \"28\", \"29\", \"30\", \"31\", \"32\", \"33\", \"38\", \"39\"], \"mode\": \"lines\", \"name\": \"AUC_macro_max\", \"stepped\": true, \"type\": \"scatter\", \"data\": [0.7249669938837646, 0.7249669938837646, 0.7249669938837646, 0.7249669938837646, 0.7249669938837646, 0.7249669938837646, 0.7249669938837646, 0.7249669938837646, 0.7249669938837646, 0.7249669938837646, 0.7249669938837646, 0.7249669938837646, 0.7249669938837646, 0.7249669938837646, 0.7249669938837646, 0.7249669938837646, 0.7249669938837646, 0.7249669938837646, 0.7249669938837646, 0.7249669938837646, 0.7249669938837646, 0.7249669938837646, 0.7249669938837646, 0.7249669938837646, 0.7249669938837646, 0.7249669938837646, 0.7249669938837646, 0.7249669938837646, 0.7249669938837646, 0.7249669938837646, 0.7249669938837646, 0.7249669938837646, 0.7249669938837646, 0.7249669938837646, 0.7316508446871379, 0.7316508446871379]}], \"precision_score_weighted\": [{\"categories\": [\"0\", \"1\", \"2\", \"3\", \"4\", \"5\", \"6\", \"7\", \"8\", \"9\", \"10\", \"11\", \"12\", \"13\", \"14\", \"15\", \"16\", \"17\", \"18\", \"19\", \"20\", \"21\", \"22\", \"23\", \"24\", \"25\", \"26\", \"27\", \"28\", \"29\", \"30\", \"31\", \"32\", \"33\", \"38\", \"39\"], \"mode\": \"markers\", \"name\": \"precision_score_weighted\", \"stepped\": false, \"type\": \"scatter\", \"data\": [0.8837156219895341, 0.8276527485777524, 0.8276527485777524, 0.8276527485777524, 0.8276527485777524, 0.873349137421718, 0.8750953708625223, 0.873349137421718, 0.873349137421718, 0.8451901881654224, 0.8276527485777524, 0.8731393559236197, 0.8736365501526047, 0.8276527485777524, 0.8551963250997986, 0.8276527485777524, 0.8778957990013454, 0.8757430103647209, 0.8587585161005861, 0.8276527485777524, 0.8648374128172421, 0.8700795159623521, 0.8736365501526047, 0.8457766439909298, 0.9182164854094265, 0.8276527485777524, 0.8276527485777524, 0.8276527485777524, 0.8276527485777524, 0.8276527485777524, 0.8276527485777524, 0.8582454126948652, 0.8276527485777524, 0.85391657749962, 0.8804017041996348, 0.8727113216871468]}, {\"categories\": [\"0\", \"1\", \"2\", \"3\", \"4\", \"5\", \"6\", \"7\", \"8\", \"9\", \"10\", \"11\", \"12\", \"13\", \"14\", \"15\", \"16\", \"17\", \"18\", \"19\", \"20\", \"21\", \"22\", \"23\", \"24\", \"25\", \"26\", \"27\", \"28\", \"29\", \"30\", \"31\", \"32\", \"33\", \"38\", \"39\"], \"mode\": \"lines\", \"name\": \"precision_score_weighted_max\", \"stepped\": true, \"type\": \"scatter\", \"data\": [0.8837156219895341, 0.8837156219895341, 0.8837156219895341, 0.8837156219895341, 0.8837156219895341, 0.8837156219895341, 0.8837156219895341, 0.8837156219895341, 0.8837156219895341, 0.8837156219895341, 0.8837156219895341, 0.8837156219895341, 0.8837156219895341, 0.8837156219895341, 0.8837156219895341, 0.8837156219895341, 0.8837156219895341, 0.8837156219895341, 0.8837156219895341, 0.8837156219895341, 0.8837156219895341, 0.8837156219895341, 0.8837156219895341, 0.8837156219895341, 0.9182164854094265, 0.9182164854094265, 0.9182164854094265, 0.9182164854094265, 0.9182164854094265, 0.9182164854094265, 0.9182164854094265, 0.9182164854094265, 0.9182164854094265, 0.9182164854094265, 0.9182164854094265, 0.9182164854094265]}], \"log_loss\": [{\"categories\": [\"0\", \"1\", \"2\", \"3\", \"4\", \"5\", \"6\", \"7\", \"8\", \"9\", \"10\", \"11\", \"12\", \"13\", \"14\", \"15\", \"16\", \"17\", \"18\", \"19\", \"20\", \"21\", \"22\", \"23\", \"24\", \"25\", \"26\", \"27\", \"28\", \"29\", \"30\", \"31\", \"32\", \"33\", \"38\", \"39\"], \"mode\": \"markers\", \"name\": \"log_loss\", \"stepped\": false, \"type\": \"scatter\", \"data\": [0.272470616596301, 0.27737863060189527, 0.2882606157110288, 0.29562121065257496, 0.30073337626106456, 0.36501169623323015, 0.634992914097128, 0.3657694249799243, 0.3630941658305728, 0.689954487774506, 0.2927237230459627, 0.6483875178042815, 0.28771393922280203, 0.28693483209577464, 0.34199933532221566, 0.2803421983793107, 0.601471762141029, 0.6131920590940985, 0.3643254948449501, 0.2876109080439414, 0.2776298994851898, 0.36365312946673484, 0.2737247728640087, 0.6777178296980799, 0.3653394697193857, 0.2972908903201093, 0.2895053647837122, 0.29652435572295616, 0.3010151865815591, 0.2994508110473002, 0.30220054274022906, 0.27795132162050845, 0.36896741732464716, 0.2758522255114493, 0.3085762754662025, 0.2734345220525751]}, {\"categories\": [\"0\", \"1\", \"2\", \"3\", \"4\", \"5\", \"6\", \"7\", \"8\", \"9\", \"10\", \"11\", \"12\", \"13\", \"14\", \"15\", \"16\", \"17\", \"18\", \"19\", \"20\", \"21\", \"22\", \"23\", \"24\", \"25\", \"26\", \"27\", \"28\", \"29\", \"30\", \"31\", \"32\", \"33\", \"38\", \"39\"], \"mode\": \"lines\", \"name\": \"log_loss_min\", \"stepped\": true, \"type\": \"scatter\", \"data\": [0.272470616596301, 0.272470616596301, 0.272470616596301, 0.272470616596301, 0.272470616596301, 0.272470616596301, 0.272470616596301, 0.272470616596301, 0.272470616596301, 0.272470616596301, 0.272470616596301, 0.272470616596301, 0.272470616596301, 0.272470616596301, 0.272470616596301, 0.272470616596301, 0.272470616596301, 0.272470616596301, 0.272470616596301, 0.272470616596301, 0.272470616596301, 0.272470616596301, 0.272470616596301, 0.272470616596301, 0.272470616596301, 0.272470616596301, 0.272470616596301, 0.272470616596301, 0.272470616596301, 0.272470616596301, 0.272470616596301, 0.272470616596301, 0.272470616596301, 0.272470616596301, 0.272470616596301, 0.272470616596301]}], \"AUC_weighted\": [{\"categories\": [\"0\", \"1\", \"2\", \"3\", \"4\", \"5\", \"6\", \"7\", \"8\", \"9\", \"10\", \"11\", \"12\", \"13\", \"14\", \"15\", \"16\", \"17\", \"18\", \"19\", \"20\", \"21\", \"22\", \"23\", \"24\", \"25\", \"26\", \"27\", \"28\", \"29\", \"30\", \"31\", \"32\", \"33\", \"38\", \"39\"], \"mode\": \"markers\", \"name\": \"AUC_weighted\", \"stepped\": false, \"type\": \"scatter\", \"data\": [0.7249669938837646, 0.7027752081406106, 0.6576336186379028, 0.6361603333842272, 0.5528699603926603, 0.6642797481655786, 0.6918495100724786, 0.6823446467222906, 0.6990614587356188, 0.5592879660149268, 0.6229489056339419, 0.7007984336689329, 0.6859003260195972, 0.7004472665547004, 0.6862056887276256, 0.711284948312871, 0.7164437818273264, 0.700838849321466, 0.655858922428891, 0.7010355388304608, 0.7164419855761027, 0.6662475413811376, 0.7142775028515488, 0.5690730445560116, 0.6965089857467465, 0.5938208957904852, 0.6477048399989223, 0.5997610985872482, 0.5543446826473151, 0.5601519628535248, 0.5493178735978014, 0.7145020342545108, 0.6905148954132724, 0.7171515048094627, 0.7316508446871379, 0.7277493870292698]}, {\"categories\": [\"0\", \"1\", \"2\", \"3\", \"4\", \"5\", \"6\", \"7\", \"8\", \"9\", \"10\", \"11\", \"12\", \"13\", \"14\", \"15\", \"16\", \"17\", \"18\", \"19\", \"20\", \"21\", \"22\", \"23\", \"24\", \"25\", \"26\", \"27\", \"28\", \"29\", \"30\", \"31\", \"32\", \"33\", \"38\", \"39\"], \"mode\": \"lines\", \"name\": \"AUC_weighted_max\", \"stepped\": true, \"type\": \"scatter\", \"data\": [0.7249669938837646, 0.7249669938837646, 0.7249669938837646, 0.7249669938837646, 0.7249669938837646, 0.7249669938837646, 0.7249669938837646, 0.7249669938837646, 0.7249669938837646, 0.7249669938837646, 0.7249669938837646, 0.7249669938837646, 0.7249669938837646, 0.7249669938837646, 0.7249669938837646, 0.7249669938837646, 0.7249669938837646, 0.7249669938837646, 0.7249669938837646, 0.7249669938837646, 0.7249669938837646, 0.7249669938837646, 0.7249669938837646, 0.7249669938837646, 0.7249669938837646, 0.7249669938837646, 0.7249669938837646, 0.7249669938837646, 0.7249669938837646, 0.7249669938837646, 0.7249669938837646, 0.7249669938837646, 0.7249669938837646, 0.7249669938837646, 0.7316508446871379, 0.7316508446871379]}], \"precision_score_micro\": [{\"categories\": [\"0\", \"1\", \"2\", \"3\", \"4\", \"5\", \"6\", \"7\", \"8\", \"9\", \"10\", \"11\", \"12\", \"13\", \"14\", \"15\", \"16\", \"17\", \"18\", \"19\", \"20\", \"21\", \"22\", \"23\", \"24\", \"25\", \"26\", \"27\", \"28\", \"29\", \"30\", \"31\", \"32\", \"33\", \"38\", \"39\"], \"mode\": \"markers\", \"name\": \"precision_score_micro\", \"stepped\": false, \"type\": \"scatter\", \"data\": [0.9109062980030722, 0.9097542242703534, 0.9097542242703534, 0.9097542242703534, 0.9097542242703534, 0.9097542242703534, 0.620583717357911, 0.9097542242703534, 0.9097542242703534, 0.65284178187404, 0.9097542242703534, 0.6582181259600615, 0.9097542242703534, 0.9097542242703534, 0.9043778801843319, 0.9097542242703534, 0.6609062980030722, 0.6263440860215054, 0.9082181259600615, 0.9097542242703534, 0.9089861751152074, 0.9093701996927803, 0.9097542242703534, 0.6309523809523809, 0.9101382488479263, 0.9097542242703534, 0.9097542242703534, 0.9097542242703534, 0.9097542242703534, 0.9097542242703534, 0.9097542242703534, 0.9089861751152074, 0.9097542242703534, 0.9086021505376344, 0.9101382488479263, 0.9089861751152074]}, {\"categories\": [\"0\", \"1\", \"2\", \"3\", \"4\", \"5\", \"6\", \"7\", \"8\", \"9\", \"10\", \"11\", \"12\", \"13\", \"14\", \"15\", \"16\", \"17\", \"18\", \"19\", \"20\", \"21\", \"22\", \"23\", \"24\", \"25\", \"26\", \"27\", \"28\", \"29\", \"30\", \"31\", \"32\", \"33\", \"38\", \"39\"], \"mode\": \"lines\", \"name\": \"precision_score_micro_max\", \"stepped\": true, \"type\": \"scatter\", \"data\": [0.9109062980030722, 0.9109062980030722, 0.9109062980030722, 0.9109062980030722, 0.9109062980030722, 0.9109062980030722, 0.9109062980030722, 0.9109062980030722, 0.9109062980030722, 0.9109062980030722, 0.9109062980030722, 0.9109062980030722, 0.9109062980030722, 0.9109062980030722, 0.9109062980030722, 0.9109062980030722, 0.9109062980030722, 0.9109062980030722, 0.9109062980030722, 0.9109062980030722, 0.9109062980030722, 0.9109062980030722, 0.9109062980030722, 0.9109062980030722, 0.9109062980030722, 0.9109062980030722, 0.9109062980030722, 0.9109062980030722, 0.9109062980030722, 0.9109062980030722, 0.9109062980030722, 0.9109062980030722, 0.9109062980030722, 0.9109062980030722, 0.9109062980030722, 0.9109062980030722]}], \"average_precision_score_weighted\": [{\"categories\": [\"0\", \"1\", \"2\", \"3\", \"4\", \"5\", \"6\", \"7\", \"8\", \"9\", \"10\", \"11\", \"12\", \"13\", \"14\", \"15\", \"16\", \"17\", \"18\", \"19\", \"20\", \"21\", \"22\", \"23\", \"24\", \"25\", \"26\", \"27\", \"28\", \"29\", \"30\", \"31\", \"32\", \"33\", \"38\", \"39\"], \"mode\": \"markers\", \"name\": \"average_precision_score_weighted\", \"stepped\": false, \"type\": \"scatter\", \"data\": [0.8966421896710269, 0.8905379550460859, 0.876851080465398, 0.8723114785119934, 0.8439608054417008, 0.8753984846257535, 0.8884347933976956, 0.8856423462186301, 0.882719410138547, 0.8483921447882314, 0.8699056016885124, 0.887094889670807, 0.8842364901002082, 0.8890177266578404, 0.8813209834429439, 0.8937880706171821, 0.8908289102629561, 0.8863142881235047, 0.8731919693399394, 0.8876236829674201, 0.8916222741464744, 0.8762639084008247, 0.8946860307453534, 0.8495353364489802, 0.883864441097727, 0.8637204339444514, 0.8785778079854539, 0.8587662074837386, 0.843593473653904, 0.8468402419691411, 0.8489200104829353, 0.8907959369738239, 0.885373779608414, 0.8934144323968136, 0.8975313081047034, 0.8964631274717741]}, {\"categories\": [\"0\", \"1\", \"2\", \"3\", \"4\", \"5\", \"6\", \"7\", \"8\", \"9\", \"10\", \"11\", \"12\", \"13\", \"14\", \"15\", \"16\", \"17\", \"18\", \"19\", \"20\", \"21\", \"22\", \"23\", \"24\", \"25\", \"26\", \"27\", \"28\", \"29\", \"30\", \"31\", \"32\", \"33\", \"38\", \"39\"], \"mode\": \"lines\", \"name\": \"average_precision_score_weighted_max\", \"stepped\": true, \"type\": \"scatter\", \"data\": [0.8966421896710269, 0.8966421896710269, 0.8966421896710269, 0.8966421896710269, 0.8966421896710269, 0.8966421896710269, 0.8966421896710269, 0.8966421896710269, 0.8966421896710269, 0.8966421896710269, 0.8966421896710269, 0.8966421896710269, 0.8966421896710269, 0.8966421896710269, 0.8966421896710269, 0.8966421896710269, 0.8966421896710269, 0.8966421896710269, 0.8966421896710269, 0.8966421896710269, 0.8966421896710269, 0.8966421896710269, 0.8966421896710269, 0.8966421896710269, 0.8966421896710269, 0.8966421896710269, 0.8966421896710269, 0.8966421896710269, 0.8966421896710269, 0.8966421896710269, 0.8966421896710269, 0.8966421896710269, 0.8966421896710269, 0.8966421896710269, 0.8975313081047034, 0.8975313081047034]}], \"average_precision_score_micro\": [{\"categories\": [\"0\", \"1\", \"2\", \"3\", \"4\", \"5\", \"6\", \"7\", \"8\", \"9\", \"10\", \"11\", \"12\", \"13\", \"14\", \"15\", \"16\", \"17\", \"18\", \"19\", \"20\", \"21\", \"22\", \"23\", \"24\", \"25\", \"26\", \"27\", \"28\", \"29\", \"30\", \"31\", \"32\", \"33\", \"38\", \"39\"], \"mode\": \"markers\", \"name\": \"average_precision_score_micro\", \"stepped\": false, \"type\": \"scatter\", \"data\": [0.9426239426061869, 0.9378620782543885, 0.9282107050085407, 0.9218402605279785, 0.8936468581624489, 0.9204761054548057, 0.7177149167945291, 0.9344863466562883, 0.9284504817998323, 0.6215237775889607, 0.9183677604119852, 0.7076744148333357, 0.9306711032468833, 0.9381841590237128, 0.9311365071268922, 0.9407915494419495, 0.7321089038764453, 0.7083742331735849, 0.918686602299139, 0.938189531746098, 0.9394317017760124, 0.921352464143045, 0.9411836341308898, 0.5887592259826716, 0.9301652805467955, 0.9121388725890918, 0.9265921635348778, 0.9088429339418307, 0.8922336140981639, 0.8963072302333478, 0.9005946679703957, 0.9392520249087499, 0.9366925439951126, 0.9414956832209835, 0.9440575676197781, 0.9430102968334367]}, {\"categories\": [\"0\", \"1\", \"2\", \"3\", \"4\", \"5\", \"6\", \"7\", \"8\", \"9\", \"10\", \"11\", \"12\", \"13\", \"14\", \"15\", \"16\", \"17\", \"18\", \"19\", \"20\", \"21\", \"22\", \"23\", \"24\", \"25\", \"26\", \"27\", \"28\", \"29\", \"30\", \"31\", \"32\", \"33\", \"38\", \"39\"], \"mode\": \"lines\", \"name\": \"average_precision_score_micro_max\", \"stepped\": true, \"type\": \"scatter\", \"data\": [0.9426239426061869, 0.9426239426061869, 0.9426239426061869, 0.9426239426061869, 0.9426239426061869, 0.9426239426061869, 0.9426239426061869, 0.9426239426061869, 0.9426239426061869, 0.9426239426061869, 0.9426239426061869, 0.9426239426061869, 0.9426239426061869, 0.9426239426061869, 0.9426239426061869, 0.9426239426061869, 0.9426239426061869, 0.9426239426061869, 0.9426239426061869, 0.9426239426061869, 0.9426239426061869, 0.9426239426061869, 0.9426239426061869, 0.9426239426061869, 0.9426239426061869, 0.9426239426061869, 0.9426239426061869, 0.9426239426061869, 0.9426239426061869, 0.9426239426061869, 0.9426239426061869, 0.9426239426061869, 0.9426239426061869, 0.9426239426061869, 0.9440575676197781, 0.9440575676197781]}], \"balanced_accuracy\": [{\"categories\": [\"0\", \"1\", \"2\", \"3\", \"4\", \"5\", \"6\", \"7\", \"8\", \"9\", \"10\", \"11\", \"12\", \"13\", \"14\", \"15\", \"16\", \"17\", \"18\", \"19\", \"20\", \"21\", \"22\", \"23\", \"24\", \"25\", \"26\", \"27\", \"28\", \"29\", \"30\", \"31\", \"32\", \"33\", \"38\", \"39\"], \"mode\": \"markers\", \"name\": \"balanced_accuracy\", \"stepped\": false, \"type\": \"scatter\", \"data\": [0.5197991791131907, 0.5, 0.5, 0.5, 0.5, 0.5038332001113676, 0.6362285909307275, 0.5038332001113676, 0.5038332001113676, 0.5351283870562137, 0.5, 0.635829823159067, 0.5057498001670514, 0.5, 0.5142945672381739, 0.5, 0.6526400402360275, 0.6393944837124921, 0.5068221621475979, 0.5, 0.5072442811851665, 0.5093719407596347, 0.5057498001670514, 0.5365141948752953, 0.502127659574468, 0.5, 0.5, 0.5, 0.5, 0.5, 0.5, 0.503411081073799, 0.5, 0.5032000215550146, 0.5078774597415194, 0.5225770816306369]}, {\"categories\": [\"0\", \"1\", \"2\", \"3\", \"4\", \"5\", \"6\", \"7\", \"8\", \"9\", \"10\", \"11\", \"12\", \"13\", \"14\", \"15\", \"16\", \"17\", \"18\", \"19\", \"20\", \"21\", \"22\", \"23\", \"24\", \"25\", \"26\", \"27\", \"28\", \"29\", \"30\", \"31\", \"32\", \"33\", \"38\", \"39\"], \"mode\": \"lines\", \"name\": \"balanced_accuracy_max\", \"stepped\": true, \"type\": \"scatter\", \"data\": [0.5197991791131907, 0.5197991791131907, 0.5197991791131907, 0.5197991791131907, 0.5197991791131907, 0.5197991791131907, 0.6362285909307275, 0.6362285909307275, 0.6362285909307275, 0.6362285909307275, 0.6362285909307275, 0.6362285909307275, 0.6362285909307275, 0.6362285909307275, 0.6362285909307275, 0.6362285909307275, 0.6526400402360275, 0.6526400402360275, 0.6526400402360275, 0.6526400402360275, 0.6526400402360275, 0.6526400402360275, 0.6526400402360275, 0.6526400402360275, 0.6526400402360275, 0.6526400402360275, 0.6526400402360275, 0.6526400402360275, 0.6526400402360275, 0.6526400402360275, 0.6526400402360275, 0.6526400402360275, 0.6526400402360275, 0.6526400402360275, 0.6526400402360275, 0.6526400402360275]}], \"recall_score_micro\": [{\"categories\": [\"0\", \"1\", \"2\", \"3\", \"4\", \"5\", \"6\", \"7\", \"8\", \"9\", \"10\", \"11\", \"12\", \"13\", \"14\", \"15\", \"16\", \"17\", \"18\", \"19\", \"20\", \"21\", \"22\", \"23\", \"24\", \"25\", \"26\", \"27\", \"28\", \"29\", \"30\", \"31\", \"32\", \"33\", \"38\", \"39\"], \"mode\": \"markers\", \"name\": \"recall_score_micro\", \"stepped\": false, \"type\": \"scatter\", \"data\": [0.9109062980030722, 0.9097542242703534, 0.9097542242703534, 0.9097542242703534, 0.9097542242703534, 0.9097542242703534, 0.620583717357911, 0.9097542242703534, 0.9097542242703534, 0.65284178187404, 0.9097542242703534, 0.6582181259600615, 0.9097542242703534, 0.9097542242703534, 0.9043778801843319, 0.9097542242703534, 0.6609062980030722, 0.6263440860215054, 0.9082181259600615, 0.9097542242703534, 0.9089861751152074, 0.9093701996927803, 0.9097542242703534, 0.6309523809523809, 0.9101382488479263, 0.9097542242703534, 0.9097542242703534, 0.9097542242703534, 0.9097542242703534, 0.9097542242703534, 0.9097542242703534, 0.9089861751152074, 0.9097542242703534, 0.9086021505376344, 0.9101382488479263, 0.9089861751152074]}, {\"categories\": [\"0\", \"1\", \"2\", \"3\", \"4\", \"5\", \"6\", \"7\", \"8\", \"9\", \"10\", \"11\", \"12\", \"13\", \"14\", \"15\", \"16\", \"17\", \"18\", \"19\", \"20\", \"21\", \"22\", \"23\", \"24\", \"25\", \"26\", \"27\", \"28\", \"29\", \"30\", \"31\", \"32\", \"33\", \"38\", \"39\"], \"mode\": \"lines\", \"name\": \"recall_score_micro_max\", \"stepped\": true, \"type\": \"scatter\", \"data\": [0.9109062980030722, 0.9109062980030722, 0.9109062980030722, 0.9109062980030722, 0.9109062980030722, 0.9109062980030722, 0.9109062980030722, 0.9109062980030722, 0.9109062980030722, 0.9109062980030722, 0.9109062980030722, 0.9109062980030722, 0.9109062980030722, 0.9109062980030722, 0.9109062980030722, 0.9109062980030722, 0.9109062980030722, 0.9109062980030722, 0.9109062980030722, 0.9109062980030722, 0.9109062980030722, 0.9109062980030722, 0.9109062980030722, 0.9109062980030722, 0.9109062980030722, 0.9109062980030722, 0.9109062980030722, 0.9109062980030722, 0.9109062980030722, 0.9109062980030722, 0.9109062980030722, 0.9109062980030722, 0.9109062980030722, 0.9109062980030722, 0.9109062980030722, 0.9109062980030722]}], \"accuracy\": [{\"categories\": [\"0\", \"1\", \"2\", \"3\", \"4\", \"5\", \"6\", \"7\", \"8\", \"9\", \"10\", \"11\", \"12\", \"13\", \"14\", \"15\", \"16\", \"17\", \"18\", \"19\", \"20\", \"21\", \"22\", \"23\", \"24\", \"25\", \"26\", \"27\", \"28\", \"29\", \"30\", \"31\", \"32\", \"33\", \"38\", \"39\"], \"mode\": \"markers\", \"name\": \"accuracy\", \"stepped\": false, \"type\": \"scatter\", \"data\": [0.9109062980030722, 0.9097542242703534, 0.9097542242703534, 0.9097542242703534, 0.9097542242703534, 0.9097542242703534, 0.620583717357911, 0.9097542242703534, 0.9097542242703534, 0.65284178187404, 0.9097542242703534, 0.6582181259600615, 0.9097542242703534, 0.9097542242703534, 0.9043778801843319, 0.9097542242703534, 0.6609062980030722, 0.6263440860215054, 0.9082181259600615, 0.9097542242703534, 0.9089861751152074, 0.9093701996927803, 0.9097542242703534, 0.6309523809523809, 0.9101382488479263, 0.9097542242703534, 0.9097542242703534, 0.9097542242703534, 0.9097542242703534, 0.9097542242703534, 0.9097542242703534, 0.9089861751152074, 0.9097542242703534, 0.9086021505376344, 0.9101382488479263, 0.9089861751152074]}, {\"categories\": [\"0\", \"1\", \"2\", \"3\", \"4\", \"5\", \"6\", \"7\", \"8\", \"9\", \"10\", \"11\", \"12\", \"13\", \"14\", \"15\", \"16\", \"17\", \"18\", \"19\", \"20\", \"21\", \"22\", \"23\", \"24\", \"25\", \"26\", \"27\", \"28\", \"29\", \"30\", \"31\", \"32\", \"33\", \"38\", \"39\"], \"mode\": \"lines\", \"name\": \"accuracy_max\", \"stepped\": true, \"type\": \"scatter\", \"data\": [0.9109062980030722, 0.9109062980030722, 0.9109062980030722, 0.9109062980030722, 0.9109062980030722, 0.9109062980030722, 0.9109062980030722, 0.9109062980030722, 0.9109062980030722, 0.9109062980030722, 0.9109062980030722, 0.9109062980030722, 0.9109062980030722, 0.9109062980030722, 0.9109062980030722, 0.9109062980030722, 0.9109062980030722, 0.9109062980030722, 0.9109062980030722, 0.9109062980030722, 0.9109062980030722, 0.9109062980030722, 0.9109062980030722, 0.9109062980030722, 0.9109062980030722, 0.9109062980030722, 0.9109062980030722, 0.9109062980030722, 0.9109062980030722, 0.9109062980030722, 0.9109062980030722, 0.9109062980030722, 0.9109062980030722, 0.9109062980030722, 0.9109062980030722, 0.9109062980030722]}], \"precision_score_macro\": [{\"categories\": [\"0\", \"1\", \"2\", \"3\", \"4\", \"5\", \"6\", \"7\", \"8\", \"9\", \"10\", \"11\", \"12\", \"13\", \"14\", \"15\", \"16\", \"17\", \"18\", \"19\", \"20\", \"21\", \"22\", \"23\", \"24\", \"25\", \"26\", \"27\", \"28\", \"29\", \"30\", \"31\", \"32\", \"33\", \"38\", \"39\"], \"mode\": \"markers\", \"name\": \"precision_score_macro\", \"stepped\": false, \"type\": \"scatter\", \"data\": [0.7506309829691444, 0.4548771121351767, 0.4548771121351767, 0.4548771121351767, 0.4548771121351767, 0.7051923076923077, 0.5463254746283572, 0.7051923076923077, 0.7051923076923077, 0.5130935061057055, 0.4548771121351767, 0.5483221429333694, 0.7053502694380293, 0.4548771121351767, 0.5966903188180404, 0.4548771121351767, 0.5540806975116146, 0.5476189015185915, 0.6221064814814815, 0.4548771121351767, 0.6554741711642251, 0.6829225537285699, 0.7053502694380293, 0.513095238095238, 0.9550518632347291, 0.4548771121351767, 0.4548771121351767, 0.4548771121351767, 0.4548771121351767, 0.4548771121351767, 0.4548771121351767, 0.621824480369515, 0.4548771121351767, 0.5979976896418945, 0.7412398921832883, 0.6875186489228382]}, {\"categories\": [\"0\", \"1\", \"2\", \"3\", \"4\", \"5\", \"6\", \"7\", \"8\", \"9\", \"10\", \"11\", \"12\", \"13\", \"14\", \"15\", \"16\", \"17\", \"18\", \"19\", \"20\", \"21\", \"22\", \"23\", \"24\", \"25\", \"26\", \"27\", \"28\", \"29\", \"30\", \"31\", \"32\", \"33\", \"38\", \"39\"], \"mode\": \"lines\", \"name\": \"precision_score_macro_max\", \"stepped\": true, \"type\": \"scatter\", \"data\": [0.7506309829691444, 0.7506309829691444, 0.7506309829691444, 0.7506309829691444, 0.7506309829691444, 0.7506309829691444, 0.7506309829691444, 0.7506309829691444, 0.7506309829691444, 0.7506309829691444, 0.7506309829691444, 0.7506309829691444, 0.7506309829691444, 0.7506309829691444, 0.7506309829691444, 0.7506309829691444, 0.7506309829691444, 0.7506309829691444, 0.7506309829691444, 0.7506309829691444, 0.7506309829691444, 0.7506309829691444, 0.7506309829691444, 0.7506309829691444, 0.9550518632347291, 0.9550518632347291, 0.9550518632347291, 0.9550518632347291, 0.9550518632347291, 0.9550518632347291, 0.9550518632347291, 0.9550518632347291, 0.9550518632347291, 0.9550518632347291, 0.9550518632347291, 0.9550518632347291]}], \"average_precision_score_macro\": [{\"categories\": [\"0\", \"1\", \"2\", \"3\", \"4\", \"5\", \"6\", \"7\", \"8\", \"9\", \"10\", \"11\", \"12\", \"13\", \"14\", \"15\", \"16\", \"17\", \"18\", \"19\", \"20\", \"21\", \"22\", \"23\", \"24\", \"25\", \"26\", \"27\", \"28\", \"29\", \"30\", \"31\", \"32\", \"33\", \"38\", \"39\"], \"mode\": \"markers\", \"name\": \"average_precision_score_macro\", \"stepped\": false, \"type\": \"scatter\", \"data\": [0.6056708582818758, 0.5895507663301633, 0.5517713832343544, 0.5560245272599487, 0.5249674456018613, 0.5760428855673801, 0.5817595857865655, 0.5752218474421148, 0.5800490826488413, 0.521296448073594, 0.5583763613099513, 0.5676154530666135, 0.5840968986514083, 0.5796309729109962, 0.5651211259735448, 0.595661184850685, 0.5883100005033195, 0.5674288919439661, 0.5711133178224415, 0.5716469178651848, 0.591607270969475, 0.5783369564589197, 0.5998420529907565, 0.5312874643068386, 0.5797656938962484, 0.5496578876163938, 0.5692810827277759, 0.5396786505936169, 0.5305487910794757, 0.5290000044595936, 0.5137471113357511, 0.5876223468321524, 0.5630623452614157, 0.5914497678110978, 0.6048186897274697, 0.6032469141724037]}, {\"categories\": [\"0\", \"1\", \"2\", \"3\", \"4\", \"5\", \"6\", \"7\", \"8\", \"9\", \"10\", \"11\", \"12\", \"13\", \"14\", \"15\", \"16\", \"17\", \"18\", \"19\", \"20\", \"21\", \"22\", \"23\", \"24\", \"25\", \"26\", \"27\", \"28\", \"29\", \"30\", \"31\", \"32\", \"33\", \"38\", \"39\"], \"mode\": \"lines\", \"name\": \"average_precision_score_macro_max\", \"stepped\": true, \"type\": \"scatter\", \"data\": [0.6056708582818758, 0.6056708582818758, 0.6056708582818758, 0.6056708582818758, 0.6056708582818758, 0.6056708582818758, 0.6056708582818758, 0.6056708582818758, 0.6056708582818758, 0.6056708582818758, 0.6056708582818758, 0.6056708582818758, 0.6056708582818758, 0.6056708582818758, 0.6056708582818758, 0.6056708582818758, 0.6056708582818758, 0.6056708582818758, 0.6056708582818758, 0.6056708582818758, 0.6056708582818758, 0.6056708582818758, 0.6056708582818758, 0.6056708582818758, 0.6056708582818758, 0.6056708582818758, 0.6056708582818758, 0.6056708582818758, 0.6056708582818758, 0.6056708582818758, 0.6056708582818758, 0.6056708582818758, 0.6056708582818758, 0.6056708582818758, 0.6056708582818758, 0.6056708582818758]}], \"f1_score_weighted\": [{\"categories\": [\"0\", \"1\", \"2\", \"3\", \"4\", \"5\", \"6\", \"7\", \"8\", \"9\", \"10\", \"11\", \"12\", \"13\", \"14\", \"15\", \"16\", \"17\", \"18\", \"19\", \"20\", \"21\", \"22\", \"23\", \"24\", \"25\", \"26\", \"27\", \"28\", \"29\", \"30\", \"31\", \"32\", \"33\", \"38\", \"39\"], \"mode\": \"markers\", \"name\": \"f1_score_weighted\", \"stepped\": false, \"type\": \"scatter\", \"data\": [0.87432922260697, 0.8667636265016959, 0.8667636265016959, 0.8667636265016959, 0.8667636265016959, 0.868239409011782, 0.7014374191477452, 0.868239409011782, 0.868239409011782, 0.7254004020963222, 0.8667636265016959, 0.7308879468966285, 0.8689584778349532, 0.8667636265016959, 0.8699914571082356, 0.8667636265016959, 0.7330734851244981, 0.7060411876879976, 0.8688490531875728, 0.8667636265016959, 0.8692571905040022, 0.8701535060865184, 0.8689584778349532, 0.7092481445527425, 0.8677027501787876, 0.8667636265016959, 0.8667636265016959, 0.8667636265016959, 0.8667636265016959, 0.8667636265016959, 0.8667636265016959, 0.8678432308378038, 0.8667636265016959, 0.867645103561948, 0.8698695556029238, 0.8744683421266324]}, {\"categories\": [\"0\", \"1\", \"2\", \"3\", \"4\", \"5\", \"6\", \"7\", \"8\", \"9\", \"10\", \"11\", \"12\", \"13\", \"14\", \"15\", \"16\", \"17\", \"18\", \"19\", \"20\", \"21\", \"22\", \"23\", \"24\", \"25\", \"26\", \"27\", \"28\", \"29\", \"30\", \"31\", \"32\", \"33\", \"38\", \"39\"], \"mode\": \"lines\", \"name\": \"f1_score_weighted_max\", \"stepped\": true, \"type\": \"scatter\", \"data\": [0.87432922260697, 0.87432922260697, 0.87432922260697, 0.87432922260697, 0.87432922260697, 0.87432922260697, 0.87432922260697, 0.87432922260697, 0.87432922260697, 0.87432922260697, 0.87432922260697, 0.87432922260697, 0.87432922260697, 0.87432922260697, 0.87432922260697, 0.87432922260697, 0.87432922260697, 0.87432922260697, 0.87432922260697, 0.87432922260697, 0.87432922260697, 0.87432922260697, 0.87432922260697, 0.87432922260697, 0.87432922260697, 0.87432922260697, 0.87432922260697, 0.87432922260697, 0.87432922260697, 0.87432922260697, 0.87432922260697, 0.87432922260697, 0.87432922260697, 0.87432922260697, 0.87432922260697, 0.8744683421266324]}]}, \"metricName\": null, \"primaryMetricName\": \"AUC_weighted\", \"showLegend\": false}, \"run_metrics\": [], \"run_logs\": \"\\nRun is completed.\", \"graph\": {}, \"widget_settings\": {\"childWidgetDisplay\": \"popup\", \"send_telemetry\": false, \"log_level\": \"INFO\", \"sdk_version\": \"1.34.0\"}, \"loading\": false}"
          },
          "metadata": {}
        }
      ],
      "execution_count": 10,
      "metadata": {
        "gather": {
          "logged": 1634497779481
        },
        "jupyter": {
          "outputs_hidden": false,
          "source_hidden": false
        },
        "nteract": {
          "transient": {
            "deleting": false
          }
        }
      }
    },
    {
      "cell_type": "markdown",
      "source": [
        "## Best Model\n",
        "\n",
        "TODO: In the cell below, get the best model from the automl experiments and display all the properties of the model.\n",
        "\n"
      ],
      "metadata": {}
    },
    {
      "cell_type": "code",
      "source": [
        "best_run, best_model = remote_run.get_output()\r\n",
        "\r\n",
        "best_model_metrics = best_run.get_metrics()\r\n"
      ],
      "outputs": [],
      "execution_count": 27,
      "metadata": {
        "gather": {
          "logged": 1634473942198
        },
        "jupyter": {
          "outputs_hidden": false,
          "source_hidden": false
        },
        "nteract": {
          "transient": {
            "deleting": false
          }
        }
      }
    },
    {
      "cell_type": "code",
      "source": [
        "# Display the metrics of the best model\r\n",
        "\r\n",
        "metrics = pd.DataFrame.from_dict(best_model_metrics, orient='index', columns=['metric value'])\r\n",
        "metrics"
      ],
      "outputs": [
        {
          "output_type": "execute_result",
          "execution_count": 35,
          "data": {
            "text/plain": "                                                                       metric value\nweighted_accuracy                                                              0.99\nAUC_micro                                                                      0.95\nrecall_score_micro                                                             0.91\nlog_loss                                                                       0.31\nprecision_score_macro                                                          0.71\nnorm_macro_recall                                                              0.01\nprecision_score_weighted                                                       0.87\naccuracy                                                                       0.91\naverage_precision_score_micro                                                  0.94\nrecall_score_weighted                                                          0.91\nbalanced_accuracy                                                              0.51\nAUC_macro                                                                      0.73\nf1_score_weighted                                                              0.87\nf1_score_micro                                                                 0.91\naverage_precision_score_macro                                                  0.61\nf1_score_macro                                                                 0.49\naverage_precision_score_weighted                                               0.90\nrecall_score_macro                                                             0.51\nAUC_weighted                                                                   0.73\nmatthews_correlation                                                           0.07\nprecision_score_micro                                                          0.91\nconfusion_matrix                  aml://artifactId/ExperimentRun/dcid.AutoML_9e5...\naccuracy_table                    aml://artifactId/ExperimentRun/dcid.AutoML_9e5...",
            "text/html": "<div>\n<style scoped>\n    .dataframe tbody tr th:only-of-type {\n        vertical-align: middle;\n    }\n\n    .dataframe tbody tr th {\n        vertical-align: top;\n    }\n\n    .dataframe thead th {\n        text-align: right;\n    }\n</style>\n<table border=\"1\" class=\"dataframe\">\n  <thead>\n    <tr style=\"text-align: right;\">\n      <th></th>\n      <th>metric value</th>\n    </tr>\n  </thead>\n  <tbody>\n    <tr>\n      <th>weighted_accuracy</th>\n      <td>0.99</td>\n    </tr>\n    <tr>\n      <th>AUC_micro</th>\n      <td>0.95</td>\n    </tr>\n    <tr>\n      <th>recall_score_micro</th>\n      <td>0.91</td>\n    </tr>\n    <tr>\n      <th>log_loss</th>\n      <td>0.31</td>\n    </tr>\n    <tr>\n      <th>precision_score_macro</th>\n      <td>0.71</td>\n    </tr>\n    <tr>\n      <th>norm_macro_recall</th>\n      <td>0.01</td>\n    </tr>\n    <tr>\n      <th>precision_score_weighted</th>\n      <td>0.87</td>\n    </tr>\n    <tr>\n      <th>accuracy</th>\n      <td>0.91</td>\n    </tr>\n    <tr>\n      <th>average_precision_score_micro</th>\n      <td>0.94</td>\n    </tr>\n    <tr>\n      <th>recall_score_weighted</th>\n      <td>0.91</td>\n    </tr>\n    <tr>\n      <th>balanced_accuracy</th>\n      <td>0.51</td>\n    </tr>\n    <tr>\n      <th>AUC_macro</th>\n      <td>0.73</td>\n    </tr>\n    <tr>\n      <th>f1_score_weighted</th>\n      <td>0.87</td>\n    </tr>\n    <tr>\n      <th>f1_score_micro</th>\n      <td>0.91</td>\n    </tr>\n    <tr>\n      <th>average_precision_score_macro</th>\n      <td>0.61</td>\n    </tr>\n    <tr>\n      <th>f1_score_macro</th>\n      <td>0.49</td>\n    </tr>\n    <tr>\n      <th>average_precision_score_weighted</th>\n      <td>0.90</td>\n    </tr>\n    <tr>\n      <th>recall_score_macro</th>\n      <td>0.51</td>\n    </tr>\n    <tr>\n      <th>AUC_weighted</th>\n      <td>0.73</td>\n    </tr>\n    <tr>\n      <th>matthews_correlation</th>\n      <td>0.07</td>\n    </tr>\n    <tr>\n      <th>precision_score_micro</th>\n      <td>0.91</td>\n    </tr>\n    <tr>\n      <th>confusion_matrix</th>\n      <td>aml://artifactId/ExperimentRun/dcid.AutoML_9e5...</td>\n    </tr>\n    <tr>\n      <th>accuracy_table</th>\n      <td>aml://artifactId/ExperimentRun/dcid.AutoML_9e5...</td>\n    </tr>\n  </tbody>\n</table>\n</div>"
          },
          "metadata": {}
        }
      ],
      "execution_count": 35,
      "metadata": {
        "jupyter": {
          "source_hidden": false,
          "outputs_hidden": false
        },
        "nteract": {
          "transient": {
            "deleting": false
          }
        },
        "gather": {
          "logged": 1634474211726
        }
      }
    },
    {
      "cell_type": "code",
      "source": [
        "#TODO: Save the best model\r\n",
        "\r\n",
        "aml_model = remote_run.register_model(model_name='AML_Best')\r\n",
        "\r\n",
        "print(aml_model.name)"
      ],
      "outputs": [
        {
          "output_type": "stream",
          "name": "stdout",
          "text": "AML_Best\n"
        }
      ],
      "execution_count": 89,
      "metadata": {
        "gather": {
          "logged": 1634484291020
        },
        "jupyter": {
          "outputs_hidden": false,
          "source_hidden": false
        },
        "nteract": {
          "transient": {
            "deleting": false
          }
        }
      }
    },
    {
      "cell_type": "markdown",
      "source": [
        "## Model Deployment\n",
        "\n",
        "Remember you have to deploy only one of the two models you trained but you still need to register both the models. Perform the steps in the rest of this notebook only if you wish to deploy this model.\n",
        "\n",
        "TODO: In the cell below, register the model, create an inference config and deploy the model as a web service."
      ],
      "metadata": {}
    },
    {
      "cell_type": "code",
      "source": [
        "# Define inference config\r\n",
        "\r\n",
        "env = best_run.get_environment()\r\n",
        "dummy_inference_config = InferenceConfig(\r\n",
        "    environment= env,\r\n",
        "    entry_script=\"./source_dir/score.py\"\r\n",
        ")\r\n",
        "\r\n",
        "\r\n",
        "# Define a deployment configuration\r\n",
        "\r\n",
        "deploy_config = LocalWebservice.deploy_configuration(port=9000)"
      ],
      "outputs": [],
      "execution_count": 90,
      "metadata": {
        "jupyter": {
          "source_hidden": false,
          "outputs_hidden": false
        },
        "nteract": {
          "transient": {
            "deleting": false
          }
        },
        "gather": {
          "logged": 1634484327687
        }
      }
    },
    {
      "cell_type": "code",
      "source": [
        "# Deploy the model\r\n",
        "\r\n",
        "service = Model.deploy(\r\n",
        "    ws,\r\n",
        "    \"myservice\",\r\n",
        "    [aml_model],\r\n",
        "    dummy_inference_config,\r\n",
        "    deploy_config\r\n",
        ")\r\n",
        "\r\n",
        "service.wait_for_deployment(show_output=True)"
      ],
      "outputs": [
        {
          "output_type": "stream",
          "name": "stderr",
          "text": "ERROR:azureml._restclient.models_client:ModelNotFound: Model with id AutoML9e50608fd24:1 not found in provided workspace\n\nERROR:azureml._model_management._util:Error: Container has crashed. Did your init method fail?\n\n"
        },
        {
          "output_type": "stream",
          "name": "stdout",
          "text": "Downloading model AML_Best:1 to /tmp/azureml_qr92ewah/AML_Best/1\nGenerating Docker build context.\nPackage creation Succeeded\nLogging into Docker registry viennaglobal.azurecr.io\nLogging into Docker registry viennaglobal.azurecr.io\nBuilding Docker image from Dockerfile...\nStep 1/5 : FROM viennaglobal.azurecr.io/azureml/azureml_4d4668f442e87b2baa899f119bc648ab\n ---> f1f4c52d7f98\nStep 2/5 : COPY azureml-app /var/azureml-app\n ---> 8416e671f196\nStep 3/5 : RUN mkdir -p '/var/azureml-app' && echo eyJhY2NvdW50Q29udGV4dCI6eyJzdWJzY3JpcHRpb25JZCI6ImEwYTc2YmFkLTExYTEtNGEyZC05ODg3LTk3YTI5MTIyYzhlZCIsInJlc291cmNlR3JvdXBOYW1lIjoiYW1sLXF1aWNrc3RhcnRzLTE2MTIzNyIsImFjY291bnROYW1lIjoicXVpY2stc3RhcnRzLXdzLTE2MTIzNyIsIndvcmtzcGFjZUlkIjoiZTZlOTNjMjgtMTczYi00YzlmLWE3ODQtNjNlMjJiZGQyMmI0In0sIm1vZGVscyI6e30sIm1vZGVsc0luZm8iOnt9fQ== | base64 --decode > /var/azureml-app/model_config_map.json\n ---> Running in 842ab13ecee3\n ---> 78c941ca6e83\nStep 4/5 : RUN mv '/var/azureml-app/tmpx_lat_xw.py' /var/azureml-app/main.py\n ---> Running in fefc985328b9\n ---> cba812e6938e\nStep 5/5 : CMD [\"runsvdir\",\"/var/runit\"]\n ---> Running in e3dc9c3621ae\n ---> 3895d0dfbe73\nSuccessfully built 3895d0dfbe73\nSuccessfully tagged myservice:latest\nContainer (name:keen_galois, id:0b396c6d3c236fa0422e5984a5f6af283311f113214cb4b21e8d2e912aaef000) cannot be killed.\nContainer has been successfully cleaned up.\nImage sha256:3e00466c01ab29aa50732a6b40a2ef2ea52b7c51d6fd6831c0e5d2c7b35837a9 successfully removed.\nStarting Docker container...\nDocker container running.\nChecking container health...\n\nContainer Logs:\n2021-10-17T15:26:04,900626787+00:00 - gunicorn/run \nDynamic Python package installation is disabled.\nStarting HTTP server\n2021-10-17T15:26:04,902358016+00:00 - iot-server/run \n2021-10-17T15:26:04,903585337+00:00 - rsyslog/run \n2021-10-17T15:26:04,911216465+00:00 - nginx/run \nrsyslogd: /azureml-envs/azureml_1b22a9c5d9b447e8fbdcc34171e02fe8/lib/libuuid.so.1: no version information available (required by rsyslogd)\nEdgeHubConnectionString and IOTEDGE_IOTHUBHOSTNAME are not set. Exiting...\n2021-10-17T15:26:04,975857149+00:00 - iot-server/finish 1 0\n2021-10-17T15:26:04,977059969+00:00 - Exit code 1 is normal. Not restarting iot-server.\nStarting gunicorn 20.1.0\nListening at: http://127.0.0.1:31311 (13)\nUsing worker: sync\nworker timeout is set to 300\nBooting worker with pid: 42\nSPARK_HOME not set. Skipping PySpark Initialization.\nInitializing logger\n2021-10-17 15:26:05,442 | root | INFO | Starting up app insights client\nlogging socket was found. logging is available.\nlogging socket was found. logging is available.\n2021-10-17 15:26:05,442 | root | INFO | Starting up request id generator\n2021-10-17 15:26:05,442 | root | INFO | Starting up app insight hooks\n2021-10-17 15:26:05,443 | root | INFO | Invoking user's init function\n2021-10-17 15:26:05,443 | root | ERROR | User's init function failed\n2021-10-17 15:26:05,443 | root | ERROR | Encountered Exception Traceback (most recent call last):\n  File \"/var/azureml-server/aml_blueprint.py\", line 191, in register\n    main.init()\n  File \"/var/azureml-app/score.py\", line 13, in init\n    model = joblib.load(model_path)\n  File \"/azureml-envs/azureml_1b22a9c5d9b447e8fbdcc34171e02fe8/lib/python3.6/site-packages/joblib/numpy_pickle.py\", line 597, in load\n    with open(filename, 'rb') as f:\nFileNotFoundError: [Errno 2] No such file or directory: 'azureml-models/AML_Best/1/AML_Best'\n\n2021-10-17 15:26:05,443 | root | INFO | Waiting for logs to be sent to Application Insights before exit.\n2021-10-17 15:26:05,443 | root | INFO | Waiting 30 seconds for upload.\nWorker exiting (pid: 42)\nShutting down: Master\nReason: Worker failed to boot.\n2021-10-17T15:26:35,553446430+00:00 - gunicorn/finish 3 0\n2021-10-17T15:26:35,554604549+00:00 - Exit code 3 is not normal. Killing image.\n\n"
        },
        {
          "output_type": "error",
          "ename": "WebserviceException",
          "evalue": "WebserviceException:\n\tMessage: Error: Container has crashed. Did your init method fail?\n\tInnerException None\n\tErrorResponse \n{\n    \"error\": {\n        \"message\": \"Error: Container has crashed. Did your init method fail?\"\n    }\n}",
          "traceback": [
            "\u001b[0;31m---------------------------------------------------------------------------\u001b[0m",
            "\u001b[0;31mWebserviceException\u001b[0m                       Traceback (most recent call last)",
            "\u001b[0;32m<ipython-input-91-b9ffd453114e>\u001b[0m in \u001b[0;36m<module>\u001b[0;34m\u001b[0m\n\u001b[1;32m      9\u001b[0m )\n\u001b[1;32m     10\u001b[0m \u001b[0;34m\u001b[0m\u001b[0m\n\u001b[0;32m---> 11\u001b[0;31m \u001b[0mservice\u001b[0m\u001b[0;34m.\u001b[0m\u001b[0mwait_for_deployment\u001b[0m\u001b[0;34m(\u001b[0m\u001b[0mshow_output\u001b[0m\u001b[0;34m=\u001b[0m\u001b[0;32mTrue\u001b[0m\u001b[0;34m)\u001b[0m\u001b[0;34m\u001b[0m\u001b[0;34m\u001b[0m\u001b[0m\n\u001b[0m",
            "\u001b[0;32m/anaconda/envs/azureml_py36/lib/python3.6/site-packages/azureml/core/webservice/local.py\u001b[0m in \u001b[0;36mdecorated\u001b[0;34m(self, *args, **kwargs)\u001b[0m\n\u001b[1;32m     70\u001b[0m                 raise WebserviceException('Cannot call {}() when service is {}.'.format(func.__name__, self.state),\n\u001b[1;32m     71\u001b[0m                                           logger=module_logger)\n\u001b[0;32m---> 72\u001b[0;31m             \u001b[0;32mreturn\u001b[0m \u001b[0mfunc\u001b[0m\u001b[0;34m(\u001b[0m\u001b[0mself\u001b[0m\u001b[0;34m,\u001b[0m \u001b[0;34m*\u001b[0m\u001b[0margs\u001b[0m\u001b[0;34m,\u001b[0m \u001b[0;34m**\u001b[0m\u001b[0mkwargs\u001b[0m\u001b[0;34m)\u001b[0m\u001b[0;34m\u001b[0m\u001b[0;34m\u001b[0m\u001b[0m\n\u001b[0m\u001b[1;32m     73\u001b[0m         \u001b[0;32mreturn\u001b[0m \u001b[0mdecorated\u001b[0m\u001b[0;34m\u001b[0m\u001b[0;34m\u001b[0m\u001b[0m\n\u001b[1;32m     74\u001b[0m     \u001b[0;32mreturn\u001b[0m \u001b[0mdecorator\u001b[0m\u001b[0;34m\u001b[0m\u001b[0;34m\u001b[0m\u001b[0m\n",
            "\u001b[0;32m/anaconda/envs/azureml_py36/lib/python3.6/site-packages/azureml/core/webservice/local.py\u001b[0m in \u001b[0;36mwait_for_deployment\u001b[0;34m(self, show_output)\u001b[0m\n\u001b[1;32m    612\u001b[0m                                    \u001b[0mself\u001b[0m\u001b[0;34m.\u001b[0m\u001b[0m_container\u001b[0m\u001b[0;34m,\u001b[0m\u001b[0;34m\u001b[0m\u001b[0;34m\u001b[0m\u001b[0m\n\u001b[1;32m    613\u001b[0m                                    \u001b[0mhealth_url\u001b[0m\u001b[0;34m=\u001b[0m\u001b[0mself\u001b[0m\u001b[0;34m.\u001b[0m\u001b[0m_get_health_url\u001b[0m\u001b[0;34m(\u001b[0m\u001b[0;34m)\u001b[0m\u001b[0;34m,\u001b[0m\u001b[0;34m\u001b[0m\u001b[0;34m\u001b[0m\u001b[0m\n\u001b[0;32m--> 614\u001b[0;31m                                    cleanup_if_failed=False)\n\u001b[0m\u001b[1;32m    615\u001b[0m \u001b[0;34m\u001b[0m\u001b[0m\n\u001b[1;32m    616\u001b[0m             \u001b[0mself\u001b[0m\u001b[0;34m.\u001b[0m\u001b[0mstate\u001b[0m \u001b[0;34m=\u001b[0m \u001b[0mLocalWebservice\u001b[0m\u001b[0;34m.\u001b[0m\u001b[0mSTATE_RUNNING\u001b[0m\u001b[0;34m\u001b[0m\u001b[0;34m\u001b[0m\u001b[0m\n",
            "\u001b[0;32m/anaconda/envs/azureml_py36/lib/python3.6/site-packages/azureml/_model_management/_util.py\u001b[0m in \u001b[0;36mcontainer_health_check\u001b[0;34m(docker_port, container, health_url, cleanup_if_failed)\u001b[0m\n\u001b[1;32m    750\u001b[0m             \u001b[0;31m# The container has started and crashed.\u001b[0m\u001b[0;34m\u001b[0m\u001b[0;34m\u001b[0m\u001b[0;34m\u001b[0m\u001b[0m\n\u001b[1;32m    751\u001b[0m             _raise_for_container_failure(container, cleanup_if_failed,\n\u001b[0;32m--> 752\u001b[0;31m                                          'Error: Container has crashed. Did your init method fail?')\n\u001b[0m\u001b[1;32m    753\u001b[0m \u001b[0;34m\u001b[0m\u001b[0m\n\u001b[1;32m    754\u001b[0m         \u001b[0;31m# The container hasn't crashed, so try to ping the health endpoint.\u001b[0m\u001b[0;34m\u001b[0m\u001b[0;34m\u001b[0m\u001b[0;34m\u001b[0m\u001b[0m\n",
            "\u001b[0;32m/anaconda/envs/azureml_py36/lib/python3.6/site-packages/azureml/_model_management/_util.py\u001b[0m in \u001b[0;36m_raise_for_container_failure\u001b[0;34m(container, cleanup, message)\u001b[0m\n\u001b[1;32m   1268\u001b[0m         \u001b[0mcleanup_container\u001b[0m\u001b[0;34m(\u001b[0m\u001b[0mcontainer\u001b[0m\u001b[0;34m)\u001b[0m\u001b[0;34m\u001b[0m\u001b[0;34m\u001b[0m\u001b[0m\n\u001b[1;32m   1269\u001b[0m \u001b[0;34m\u001b[0m\u001b[0m\n\u001b[0;32m-> 1270\u001b[0;31m     \u001b[0;32mraise\u001b[0m \u001b[0mWebserviceException\u001b[0m\u001b[0;34m(\u001b[0m\u001b[0mmessage\u001b[0m\u001b[0;34m,\u001b[0m \u001b[0mlogger\u001b[0m\u001b[0;34m=\u001b[0m\u001b[0mmodule_logger\u001b[0m\u001b[0;34m)\u001b[0m\u001b[0;34m\u001b[0m\u001b[0;34m\u001b[0m\u001b[0m\n\u001b[0m\u001b[1;32m   1271\u001b[0m \u001b[0;34m\u001b[0m\u001b[0m\n\u001b[1;32m   1272\u001b[0m \u001b[0;34m\u001b[0m\u001b[0m\n",
            "\u001b[0;31mWebserviceException\u001b[0m: WebserviceException:\n\tMessage: Error: Container has crashed. Did your init method fail?\n\tInnerException None\n\tErrorResponse \n{\n    \"error\": {\n        \"message\": \"Error: Container has crashed. Did your init method fail?\"\n    }\n}"
          ]
        }
      ],
      "execution_count": 91,
      "metadata": {
        "gather": {
          "logged": 1634482755262
        },
        "jupyter": {
          "outputs_hidden": false,
          "source_hidden": false
        },
        "nteract": {
          "transient": {
            "deleting": false
          }
        }
      }
    },
    {
      "cell_type": "markdown",
      "source": [
        "TODO: In the cell below, send a request to the web service you deployed to test it."
      ],
      "metadata": {
        "collapsed": true,
        "gather": {
          "logged": 1598431657736
        },
        "jupyter": {
          "outputs_hidden": false,
          "source_hidden": false
        },
        "nteract": {
          "transient": {
            "deleting": false
          }
        }
      }
    },
    {
      "cell_type": "code",
      "source": [
        "uri = service.scoring_uri\r\n",
        "requests.get(\"http://localhost:9000\")\r\n",
        "headers = {\"Content-Type\":\"application/json\"}\r\n",
        "\r\n",
        "data = {\r\n",
        "    \"query\": \"what color is the fox\",\r\n",
        "    \"context\": \"the quick...\"\r\n",
        "}\r\n",
        "\r\n",
        "data = json.dumps(data)\r\n",
        "response = requests.post(uri, data=data, headers=headers)\r\n",
        "\r\n",
        "print(response.json())"
      ],
      "outputs": [
        {
          "output_type": "stream",
          "name": "stdout",
          "text": "test is {'query': 'what color is the fox', 'context': 'the quick...'}\n"
        }
      ],
      "execution_count": 69,
      "metadata": {
        "jupyter": {
          "source_hidden": false,
          "outputs_hidden": false
        },
        "nteract": {
          "transient": {
            "deleting": false
          }
        },
        "gather": {
          "logged": 1634482113822
        }
      }
    },
    {
      "cell_type": "markdown",
      "source": [
        "TODO: In the cell below, print the logs of the web service and delete the service"
      ],
      "metadata": {
        "collapsed": true,
        "gather": {
          "logged": 1598432765711
        },
        "jupyter": {
          "outputs_hidden": false,
          "source_hidden": false
        },
        "nteract": {
          "transient": {
            "deleting": false
          }
        }
      }
    },
    {
      "cell_type": "code",
      "source": [
        "model_path = os.path.join(os.getenv('AZUREML_MODEL_DIR'), 'AutoML_best')"
      ],
      "outputs": [
        {
          "output_type": "error",
          "ename": "TypeError",
          "evalue": "expected str, bytes or os.PathLike object, not NoneType",
          "traceback": [
            "\u001b[0;31m---------------------------------------------------------------------------\u001b[0m",
            "\u001b[0;31mTypeError\u001b[0m                                 Traceback (most recent call last)",
            "\u001b[0;32m<ipython-input-92-61592b7c3e3f>\u001b[0m in \u001b[0;36m<module>\u001b[0;34m\u001b[0m\n\u001b[0;32m----> 1\u001b[0;31m \u001b[0mmodel_path\u001b[0m \u001b[0;34m=\u001b[0m \u001b[0mos\u001b[0m\u001b[0;34m.\u001b[0m\u001b[0mpath\u001b[0m\u001b[0;34m.\u001b[0m\u001b[0mjoin\u001b[0m\u001b[0;34m(\u001b[0m\u001b[0mos\u001b[0m\u001b[0;34m.\u001b[0m\u001b[0mgetenv\u001b[0m\u001b[0;34m(\u001b[0m\u001b[0;34m'AZUREML_MODEL_DIR'\u001b[0m\u001b[0;34m)\u001b[0m\u001b[0;34m,\u001b[0m \u001b[0;34m'AutoML_best'\u001b[0m\u001b[0;34m)\u001b[0m\u001b[0;34m\u001b[0m\u001b[0;34m\u001b[0m\u001b[0m\n\u001b[0m",
            "\u001b[0;32m/anaconda/envs/azureml_py36/lib/python3.6/posixpath.py\u001b[0m in \u001b[0;36mjoin\u001b[0;34m(a, *p)\u001b[0m\n\u001b[1;32m     78\u001b[0m     \u001b[0mwill\u001b[0m \u001b[0mbe\u001b[0m \u001b[0mdiscarded\u001b[0m\u001b[0;34m.\u001b[0m  \u001b[0mAn\u001b[0m \u001b[0mempty\u001b[0m \u001b[0mlast\u001b[0m \u001b[0mpart\u001b[0m \u001b[0mwill\u001b[0m \u001b[0mresult\u001b[0m \u001b[0;32min\u001b[0m \u001b[0ma\u001b[0m \u001b[0mpath\u001b[0m \u001b[0mthat\u001b[0m\u001b[0;34m\u001b[0m\u001b[0;34m\u001b[0m\u001b[0m\n\u001b[1;32m     79\u001b[0m     ends with a separator.\"\"\"\n\u001b[0;32m---> 80\u001b[0;31m     \u001b[0ma\u001b[0m \u001b[0;34m=\u001b[0m \u001b[0mos\u001b[0m\u001b[0;34m.\u001b[0m\u001b[0mfspath\u001b[0m\u001b[0;34m(\u001b[0m\u001b[0ma\u001b[0m\u001b[0;34m)\u001b[0m\u001b[0;34m\u001b[0m\u001b[0;34m\u001b[0m\u001b[0m\n\u001b[0m\u001b[1;32m     81\u001b[0m     \u001b[0msep\u001b[0m \u001b[0;34m=\u001b[0m \u001b[0m_get_sep\u001b[0m\u001b[0;34m(\u001b[0m\u001b[0ma\u001b[0m\u001b[0;34m)\u001b[0m\u001b[0;34m\u001b[0m\u001b[0;34m\u001b[0m\u001b[0m\n\u001b[1;32m     82\u001b[0m     \u001b[0mpath\u001b[0m \u001b[0;34m=\u001b[0m \u001b[0ma\u001b[0m\u001b[0;34m\u001b[0m\u001b[0;34m\u001b[0m\u001b[0m\n",
            "\u001b[0;31mTypeError\u001b[0m: expected str, bytes or os.PathLike object, not NoneType"
          ]
        }
      ],
      "execution_count": 92,
      "metadata": {
        "jupyter": {
          "source_hidden": false,
          "outputs_hidden": false
        },
        "nteract": {
          "transient": {
            "deleting": false
          }
        },
        "gather": {
          "logged": 1634481790817
        }
      }
    },
    {
      "cell_type": "code",
      "source": [],
      "outputs": [],
      "execution_count": null,
      "metadata": {
        "jupyter": {
          "outputs_hidden": false,
          "source_hidden": false
        },
        "nteract": {
          "transient": {
            "deleting": false
          }
        }
      }
    },
    {
      "cell_type": "markdown",
      "source": [
        "**Submission Checklist**\n",
        "- I have registered the model.\n",
        "- I have deployed the model with the best accuracy as a webservice.\n",
        "- I have tested the webservice by sending a request to the model endpoint.\n",
        "- I have deleted the webservice and shutdown all the computes that I have used.\n",
        "- I have taken a screenshot showing the model endpoint as active.\n",
        "- The project includes a file containing the environment details.\n"
      ],
      "metadata": {}
    },
    {
      "cell_type": "markdown",
      "source": [],
      "metadata": {}
    }
  ],
  "metadata": {
    "kernel_info": {
      "name": "python3"
    },
    "kernelspec": {
      "name": "python3",
      "language": "python",
      "display_name": "Python 3"
    },
    "language_info": {
      "name": "python",
      "version": "3.6.9",
      "mimetype": "text/x-python",
      "codemirror_mode": {
        "name": "ipython",
        "version": 3
      },
      "pygments_lexer": "ipython3",
      "nbconvert_exporter": "python",
      "file_extension": ".py"
    },
    "nteract": {
      "version": "nteract-front-end@1.0.0"
    },
    "microsoft": {
      "host": {
        "AzureML": {
          "notebookHasBeenCompleted": true
        }
      }
    }
  },
  "nbformat": 4,
  "nbformat_minor": 2
}