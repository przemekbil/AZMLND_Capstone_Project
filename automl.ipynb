{
  "cells": [
    {
      "cell_type": "markdown",
      "source": [
        "# Automated ML\n",
        "\n",
        "TODO: Import Dependencies. In the cell below, import all the dependencies that you will need to complete the project."
      ],
      "metadata": {}
    },
    {
      "cell_type": "code",
      "source": [
        "import pandas as pd\r\n",
        "from azureml.core import Workspace, Dataset, Experiment\r\n",
        "from azureml.train.automl import AutoMLConfig\r\n",
        "from azureml.core.compute import ComputeTarget, AmlCompute"
      ],
      "outputs": [],
      "execution_count": 14,
      "metadata": {
        "gather": {
          "logged": 1634390465142
        },
        "jupyter": {
          "outputs_hidden": false,
          "source_hidden": false
        },
        "nteract": {
          "transient": {
            "deleting": false
          }
        }
      }
    },
    {
      "cell_type": "markdown",
      "source": [
        "## Dataset\n",
        "\n",
        "### Overview\n",
        "TODO: In this markdown cell, give an overview of the dataset you are using. Also mention the task you will be performing.\n",
        "\n",
        "\n",
        "TODO: Get data. In the cell below, write code to access the data you will be using in this project. Remember that the dataset needs to be external."
      ],
      "metadata": {}
    },
    {
      "cell_type": "code",
      "source": [
        "# azureml-core of version 1.0.72 or higher is required\r\n",
        "# azureml-dataprep[pandas] of version 1.1.34 or higher is required\r\n",
        "\r\n",
        "subscription_id = '1b944a9b-fdae-4f97-aeb1-b7eea0beac53'\r\n",
        "resource_group = 'aml-quickstarts-161186'\r\n",
        "workspace_name = 'quick-starts-ws-161186'\r\n",
        "\r\n",
        "workspace = Workspace(subscription_id, resource_group, workspace_name)\r\n",
        "\r\n",
        "dataset = Dataset.get_by_name(workspace, name='Sinter')\r\n",
        "df = dataset.to_pandas_dataframe()"
      ],
      "outputs": [],
      "execution_count": 5,
      "metadata": {
        "jupyter": {
          "source_hidden": false,
          "outputs_hidden": false
        },
        "nteract": {
          "transient": {
            "deleting": false
          }
        },
        "gather": {
          "logged": 1634390005708
        }
      }
    },
    {
      "cell_type": "code",
      "source": [
        "#Clean the dataset by removing rows with no data\r\n",
        "df = df.dropna()\r\n",
        "df.shape\r\n",
        "\r\n",
        "print(df.columns)\r\n",
        "df.head()"
      ],
      "outputs": [
        {
          "output_type": "stream",
          "name": "stdout",
          "text": "Index(['IS REWORK', 'PROD_CDE', 'HOURS BLAST TO PREP', 'PREP DAY',\n       'PREP SHIFT', 'PREP H', 'PREP QTY', 'PREP ASSOCIATE',\n       'PREP QTY IN THE SHIFT', 'PREPED IN THE SHIFT SO FAR',\n       'HOURS PREP TO FUR', 'FURN', 'HAS SCRAP AT SINTER',\n       'ASSOCIATE AXPERIENCE', 'Prep week'],\n      dtype='object')\n"
        },
        {
          "output_type": "execute_result",
          "execution_count": 9,
          "data": {
            "text/plain": "   IS REWORK    PROD_CDE  HOURS BLAST TO PREP  PREP DAY  PREP SHIFT  PREP H  \\\n0          0   PINN_PORO               1224.0         3           2       3   \n1          0   PINN_PORO                264.0         5           1      19   \n2          0  DX_EP_OP10                312.0         7           2       4   \n3          1  DX_EP_OP10                408.0         6           2      11   \n4          1  DX_EP_OP10                480.0         6           2       3   \n\n   PREP QTY PREP ASSOCIATE  PREP QTY IN THE SHIFT  PREPED IN THE SHIFT SO FAR  \\\n0        10      152848005                     20                           0   \n1         9      152852517                     66                          47   \n2        12      152867385                     36                           2   \n3         4      152868303                     44                          48   \n4         4      152868303                     44                          20   \n\n   HOURS PREP TO FUR      FURN  HAS SCRAP AT SINTER  ASSOCIATE AXPERIENCE  \\\n0                0.0  FURN0006                    0                     2   \n1               24.0  FURN0006                    0                     2   \n2               24.0  FURN0004                    0                     1   \n3               48.0  FURN0004                    1                     1   \n4               48.0  FURN0004                    1                     1   \n\n   Prep week  \n0          1  \n1          1  \n2          1  \n3          1  \n4          1  ",
            "text/html": "<div>\n<style scoped>\n    .dataframe tbody tr th:only-of-type {\n        vertical-align: middle;\n    }\n\n    .dataframe tbody tr th {\n        vertical-align: top;\n    }\n\n    .dataframe thead th {\n        text-align: right;\n    }\n</style>\n<table border=\"1\" class=\"dataframe\">\n  <thead>\n    <tr style=\"text-align: right;\">\n      <th></th>\n      <th>IS REWORK</th>\n      <th>PROD_CDE</th>\n      <th>HOURS BLAST TO PREP</th>\n      <th>PREP DAY</th>\n      <th>PREP SHIFT</th>\n      <th>PREP H</th>\n      <th>PREP QTY</th>\n      <th>PREP ASSOCIATE</th>\n      <th>PREP QTY IN THE SHIFT</th>\n      <th>PREPED IN THE SHIFT SO FAR</th>\n      <th>HOURS PREP TO FUR</th>\n      <th>FURN</th>\n      <th>HAS SCRAP AT SINTER</th>\n      <th>ASSOCIATE AXPERIENCE</th>\n      <th>Prep week</th>\n    </tr>\n  </thead>\n  <tbody>\n    <tr>\n      <th>0</th>\n      <td>0</td>\n      <td>PINN_PORO</td>\n      <td>1224.0</td>\n      <td>3</td>\n      <td>2</td>\n      <td>3</td>\n      <td>10</td>\n      <td>152848005</td>\n      <td>20</td>\n      <td>0</td>\n      <td>0.0</td>\n      <td>FURN0006</td>\n      <td>0</td>\n      <td>2</td>\n      <td>1</td>\n    </tr>\n    <tr>\n      <th>1</th>\n      <td>0</td>\n      <td>PINN_PORO</td>\n      <td>264.0</td>\n      <td>5</td>\n      <td>1</td>\n      <td>19</td>\n      <td>9</td>\n      <td>152852517</td>\n      <td>66</td>\n      <td>47</td>\n      <td>24.0</td>\n      <td>FURN0006</td>\n      <td>0</td>\n      <td>2</td>\n      <td>1</td>\n    </tr>\n    <tr>\n      <th>2</th>\n      <td>0</td>\n      <td>DX_EP_OP10</td>\n      <td>312.0</td>\n      <td>7</td>\n      <td>2</td>\n      <td>4</td>\n      <td>12</td>\n      <td>152867385</td>\n      <td>36</td>\n      <td>2</td>\n      <td>24.0</td>\n      <td>FURN0004</td>\n      <td>0</td>\n      <td>1</td>\n      <td>1</td>\n    </tr>\n    <tr>\n      <th>3</th>\n      <td>1</td>\n      <td>DX_EP_OP10</td>\n      <td>408.0</td>\n      <td>6</td>\n      <td>2</td>\n      <td>11</td>\n      <td>4</td>\n      <td>152868303</td>\n      <td>44</td>\n      <td>48</td>\n      <td>48.0</td>\n      <td>FURN0004</td>\n      <td>1</td>\n      <td>1</td>\n      <td>1</td>\n    </tr>\n    <tr>\n      <th>4</th>\n      <td>1</td>\n      <td>DX_EP_OP10</td>\n      <td>480.0</td>\n      <td>6</td>\n      <td>2</td>\n      <td>3</td>\n      <td>4</td>\n      <td>152868303</td>\n      <td>44</td>\n      <td>20</td>\n      <td>48.0</td>\n      <td>FURN0004</td>\n      <td>1</td>\n      <td>1</td>\n      <td>1</td>\n    </tr>\n  </tbody>\n</table>\n</div>"
          },
          "metadata": {}
        }
      ],
      "execution_count": 9,
      "metadata": {
        "jupyter": {
          "source_hidden": false,
          "outputs_hidden": false
        },
        "nteract": {
          "transient": {
            "deleting": false
          }
        },
        "gather": {
          "logged": 1634390210961
        }
      }
    },
    {
      "cell_type": "code",
      "source": [
        "# Turn categorical variables into numerical representation\r\n",
        "\r\n",
        "df = pd.get_dummies(df, columns=['PROD_CDE','PREP ASSOCIATE', 'FURN'])"
      ],
      "outputs": [],
      "execution_count": 12,
      "metadata": {
        "jupyter": {
          "source_hidden": false,
          "outputs_hidden": false
        },
        "nteract": {
          "transient": {
            "deleting": false
          }
        },
        "gather": {
          "logged": 1634390243895
        }
      }
    },
    {
      "cell_type": "code",
      "source": [
        "# choose a name for experiment\n",
        "experiment_name = 'Sinter_AML'\n",
        "\n",
        "experiment=Experiment(workspace, experiment_name)"
      ],
      "outputs": [],
      "execution_count": 3,
      "metadata": {
        "gather": {
          "logged": 1634389874587
        },
        "jupyter": {
          "outputs_hidden": false,
          "source_hidden": false
        },
        "nteract": {
          "transient": {
            "deleting": false
          }
        }
      }
    },
    {
      "cell_type": "markdown",
      "source": [
        "# Create a Copute target"
      ],
      "metadata": {
        "nteract": {
          "transient": {
            "deleting": false
          }
        }
      }
    },
    {
      "cell_type": "code",
      "source": [
        "cpu_cluster_name = \"ML-Cluster\"\r\n",
        "compute_config = AmlCompute.provisioning_configuration(\"Standard_D2_V2\", min_nodes=0, max_nodes=2)\r\n",
        "cpu_cluster = ComputeTarget.create(workspace, cpu_cluster_name, compute_config)\r\n",
        "cpu_cluster.wait_for_completion(show_output=True)"
      ],
      "outputs": [
        {
          "output_type": "stream",
          "name": "stdout",
          "text": "InProgress...\nSucceededProvisioning operation finished, operation \"Succeeded\"\nSucceeded\nAmlCompute wait for completion finished\n\nMinimum number of nodes requested have been provisioned\n"
        }
      ],
      "execution_count": 15,
      "metadata": {
        "jupyter": {
          "source_hidden": false,
          "outputs_hidden": false
        },
        "nteract": {
          "transient": {
            "deleting": false
          }
        },
        "gather": {
          "logged": 1634390531722
        }
      }
    },
    {
      "cell_type": "markdown",
      "source": [
        "## AutoML Configuration\n",
        "\n",
        "TODO: Explain why you chose the automl settings and cofiguration you used below."
      ],
      "metadata": {}
    },
    {
      "cell_type": "code",
      "source": [
        "automl_settings = {\n",
        "    \"experiment_timeout_minutes\": 20,\n",
        "    \"max_concurrent_iterations\": 5,\n",
        "    \"primary_metric\" : 'AUC_weighted'\n",
        "}\n",
        "automl_config = AutoMLConfig(compute_target=compute_target,\n",
        "                             task = \"classification\",\n",
        "                             training_data=dataset,\n",
        "                             label_column_name=\"y\",\n",
        "                             enable_early_stopping= True,\n",
        "                             featurization= 'auto',\n",
        "                             debug_log = \"automl_errors.log\",\n",
        "                             **automl_settings\n",
        "                            )"
      ],
      "outputs": [],
      "execution_count": null,
      "metadata": {
        "gather": {
          "logged": 1598429217746
        },
        "jupyter": {
          "outputs_hidden": false,
          "source_hidden": false
        },
        "nteract": {
          "transient": {
            "deleting": false
          }
        }
      }
    },
    {
      "cell_type": "code",
      "source": [
        "# TODO: Submit your experiment\n",
        "remote_run = experiment.submit(automl_config)"
      ],
      "outputs": [],
      "execution_count": null,
      "metadata": {
        "gather": {
          "logged": 1598431107951
        },
        "jupyter": {
          "outputs_hidden": false,
          "source_hidden": false
        },
        "nteract": {
          "transient": {
            "deleting": false
          }
        }
      }
    },
    {
      "cell_type": "markdown",
      "source": [
        "## Run Details\n",
        "\n",
        "OPTIONAL: Write about the different models trained and their performance. Why do you think some models did better than others?\n",
        "\n",
        "TODO: In the cell below, use the `RunDetails` widget to show the different experiments."
      ],
      "metadata": {}
    },
    {
      "cell_type": "code",
      "source": [],
      "outputs": [],
      "execution_count": null,
      "metadata": {
        "gather": {
          "logged": 1598431121770
        },
        "jupyter": {
          "outputs_hidden": false,
          "source_hidden": false
        },
        "nteract": {
          "transient": {
            "deleting": false
          }
        }
      }
    },
    {
      "cell_type": "markdown",
      "source": [
        "## Best Model\n",
        "\n",
        "TODO: In the cell below, get the best model from the automl experiments and display all the properties of the model.\n",
        "\n"
      ],
      "metadata": {}
    },
    {
      "cell_type": "code",
      "source": [],
      "outputs": [],
      "execution_count": null,
      "metadata": {
        "gather": {
          "logged": 1598431425670
        },
        "jupyter": {
          "outputs_hidden": false,
          "source_hidden": false
        },
        "nteract": {
          "transient": {
            "deleting": false
          }
        }
      }
    },
    {
      "cell_type": "code",
      "source": [
        "#TODO: Save the best model"
      ],
      "outputs": [],
      "execution_count": null,
      "metadata": {
        "gather": {
          "logged": 1598431426111
        },
        "jupyter": {
          "outputs_hidden": false,
          "source_hidden": false
        },
        "nteract": {
          "transient": {
            "deleting": false
          }
        }
      }
    },
    {
      "cell_type": "markdown",
      "source": [
        "## Model Deployment\n",
        "\n",
        "Remember you have to deploy only one of the two models you trained but you still need to register both the models. Perform the steps in the rest of this notebook only if you wish to deploy this model.\n",
        "\n",
        "TODO: In the cell below, register the model, create an inference config and deploy the model as a web service."
      ],
      "metadata": {}
    },
    {
      "cell_type": "code",
      "source": [],
      "outputs": [],
      "execution_count": null,
      "metadata": {
        "gather": {
          "logged": 1598431435189
        },
        "jupyter": {
          "outputs_hidden": false,
          "source_hidden": false
        },
        "nteract": {
          "transient": {
            "deleting": false
          }
        }
      }
    },
    {
      "cell_type": "markdown",
      "source": [
        "TODO: In the cell below, send a request to the web service you deployed to test it."
      ],
      "metadata": {
        "collapsed": true,
        "gather": {
          "logged": 1598431657736
        },
        "jupyter": {
          "outputs_hidden": false,
          "source_hidden": false
        },
        "nteract": {
          "transient": {
            "deleting": false
          }
        }
      }
    },
    {
      "cell_type": "code",
      "source": [],
      "outputs": [],
      "execution_count": null,
      "metadata": {
        "gather": {
          "logged": 1598432707604
        },
        "jupyter": {
          "outputs_hidden": false,
          "source_hidden": false
        },
        "nteract": {
          "transient": {
            "deleting": false
          }
        }
      }
    },
    {
      "cell_type": "markdown",
      "source": [
        "TODO: In the cell below, print the logs of the web service and delete the service"
      ],
      "metadata": {
        "collapsed": true,
        "gather": {
          "logged": 1598432765711
        },
        "jupyter": {
          "outputs_hidden": false,
          "source_hidden": false
        },
        "nteract": {
          "transient": {
            "deleting": false
          }
        }
      }
    },
    {
      "cell_type": "code",
      "source": [],
      "outputs": [],
      "execution_count": null,
      "metadata": {
        "jupyter": {
          "outputs_hidden": false,
          "source_hidden": false
        },
        "nteract": {
          "transient": {
            "deleting": false
          }
        }
      }
    },
    {
      "cell_type": "markdown",
      "source": [
        "**Submission Checklist**\n",
        "- I have registered the model.\n",
        "- I have deployed the model with the best accuracy as a webservice.\n",
        "- I have tested the webservice by sending a request to the model endpoint.\n",
        "- I have deleted the webservice and shutdown all the computes that I have used.\n",
        "- I have taken a screenshot showing the model endpoint as active.\n",
        "- The project includes a file containing the environment details.\n"
      ],
      "metadata": {}
    },
    {
      "cell_type": "markdown",
      "source": [],
      "metadata": {}
    }
  ],
  "metadata": {
    "kernel_info": {
      "name": "python3"
    },
    "kernelspec": {
      "name": "python3",
      "language": "python",
      "display_name": "Python 3"
    },
    "language_info": {
      "name": "python",
      "version": "3.6.9",
      "mimetype": "text/x-python",
      "codemirror_mode": {
        "name": "ipython",
        "version": 3
      },
      "pygments_lexer": "ipython3",
      "nbconvert_exporter": "python",
      "file_extension": ".py"
    },
    "nteract": {
      "version": "nteract-front-end@1.0.0"
    },
    "microsoft": {
      "host": {
        "AzureML": {
          "notebookHasBeenCompleted": true
        }
      }
    }
  },
  "nbformat": 4,
  "nbformat_minor": 2
}