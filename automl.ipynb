{
  "cells": [
    {
      "cell_type": "markdown",
      "source": [
        "# Automated ML\n",
        "\n",
        "TODO: Import Dependencies. In the cell below, import all the dependencies that you will need to complete the project."
      ],
      "metadata": {}
    },
    {
      "cell_type": "code",
      "source": [
        "import pandas as pd\r\n",
        "import requests\r\n",
        "import json\r\n",
        "from azureml.core import Workspace, Datastore, Dataset, Experiment, Environment\r\n",
        "from azureml.train.automl import AutoMLConfig\r\n",
        "from azureml.core.compute import ComputeTarget, AmlCompute\r\n",
        "from azureml.core.model import Model, InferenceConfig\r\n",
        "from azureml.widgets import RunDetails\r\n",
        "from azureml.core.webservice import LocalWebservice"
      ],
      "outputs": [],
      "execution_count": 62,
      "metadata": {
        "gather": {
          "logged": 1634481554443
        },
        "jupyter": {
          "outputs_hidden": false,
          "source_hidden": false
        },
        "nteract": {
          "transient": {
            "deleting": false
          }
        }
      }
    },
    {
      "cell_type": "markdown",
      "source": [
        "## Dataset\n",
        "\n",
        "### Overview\n",
        "TODO: In this markdown cell, give an overview of the dataset you are using. Also mention the task you will be performing.\n",
        "\n",
        "\n",
        "TODO: Get data. In the cell below, write code to access the data you will be using in this project. Remember that the dataset needs to be external."
      ],
      "metadata": {}
    },
    {
      "cell_type": "code",
      "source": [
        "# Read and clean the data\r\n",
        "\r\n",
        "raw_data = pd.read_csv('data-unbalanced.csv')\r\n",
        "raw_data = raw_data.dropna()\r\n",
        "raw_data = pd.get_dummies(raw_data, columns=['PROD_CDE','PREP ASSOCIATE', 'FURN'])\r\n",
        "print(raw_data.shape)"
      ],
      "outputs": [
        {
          "output_type": "stream",
          "name": "stdout",
          "text": "(26038, 93)\n"
        }
      ],
      "execution_count": 5,
      "metadata": {
        "jupyter": {
          "source_hidden": false,
          "outputs_hidden": false
        },
        "nteract": {
          "transient": {
            "deleting": false
          }
        },
        "gather": {
          "logged": 1634468116943
        }
      }
    },
    {
      "cell_type": "code",
      "source": [
        "# Create a new Dataset from the raw_data\r\n",
        "ws = Workspace.from_config()\r\n",
        "datastore = Datastore.get(ws, 'workspaceblobstore')\r\n",
        "\r\n",
        "dataset = Dataset.Tabular.register_pandas_dataframe(raw_data, datastore ,\"Sinter\", show_progress=True)"
      ],
      "outputs": [
        {
          "output_type": "stream",
          "name": "stderr",
          "text": "Method register_pandas_dataframe: This is an experimental method, and may change at any time. Please see https://aka.ms/azuremlexperimental for more information.\n"
        },
        {
          "output_type": "stream",
          "name": "stdout",
          "text": "Validating arguments.\nArguments validated.\nSuccessfully obtained datastore reference and path.\nUploading file to managed-dataset/b22ba56f-425b-4554-95de-18018f960523/\nSuccessfully uploaded file to datastore.\nCreating and registering a new dataset.\nSuccessfully created and registered a new dataset.\n"
        }
      ],
      "execution_count": 10,
      "metadata": {
        "jupyter": {
          "source_hidden": false,
          "outputs_hidden": false
        },
        "nteract": {
          "transient": {
            "deleting": false
          }
        },
        "gather": {
          "logged": 1634468771326
        }
      }
    },
    {
      "cell_type": "code",
      "source": [
        "# Register the dataset\r\n",
        "dataset = dataset.register(workspace = ws, name='Sinter_dataset', description='Sinter scrap dataset')"
      ],
      "outputs": [],
      "execution_count": 11,
      "metadata": {
        "jupyter": {
          "source_hidden": false,
          "outputs_hidden": false
        },
        "nteract": {
          "transient": {
            "deleting": false
          }
        },
        "gather": {
          "logged": 1634468967531
        }
      }
    },
    {
      "cell_type": "code",
      "source": [
        "# choose a name for experiment\n",
        "experiment_name = 'Sinter_AML'\n",
        "\n",
        "experiment=Experiment(ws, experiment_name)"
      ],
      "outputs": [],
      "execution_count": 12,
      "metadata": {
        "gather": {
          "logged": 1634469011265
        },
        "jupyter": {
          "outputs_hidden": false,
          "source_hidden": false
        },
        "nteract": {
          "transient": {
            "deleting": false
          }
        }
      }
    },
    {
      "cell_type": "markdown",
      "source": [
        "# Create a Copute target"
      ],
      "metadata": {
        "nteract": {
          "transient": {
            "deleting": false
          }
        }
      }
    },
    {
      "cell_type": "code",
      "source": [
        "cpu_cluster_name = \"ML-Cluster\"\r\n",
        "compute_config = AmlCompute.provisioning_configuration(\"Standard_D2_V2\", min_nodes=0, max_nodes=2)\r\n",
        "cpu_cluster = ComputeTarget.create(ws, cpu_cluster_name, compute_config)\r\n",
        "cpu_cluster.wait_for_completion(show_output=True)"
      ],
      "outputs": [
        {
          "output_type": "stream",
          "name": "stdout",
          "text": "InProgress....\nSucceededProvisioning operation finished, operation \"Succeeded\"\nSucceeded\nAmlCompute wait for completion finished\n\nMinimum number of nodes requested have been provisioned\n"
        }
      ],
      "execution_count": 13,
      "metadata": {
        "jupyter": {
          "source_hidden": false,
          "outputs_hidden": false
        },
        "nteract": {
          "transient": {
            "deleting": false
          }
        },
        "gather": {
          "logged": 1634469040170
        }
      }
    },
    {
      "cell_type": "markdown",
      "source": [
        "## AutoML Configuration\n",
        "\n",
        "TODO: Explain why you chose the automl settings and cofiguration you used below."
      ],
      "metadata": {}
    },
    {
      "cell_type": "code",
      "source": [
        "automl_settings = {\n",
        "    \"experiment_timeout_minutes\": 20,\n",
        "    \"max_concurrent_iterations\": 5,\n",
        "    \"primary_metric\" : 'AUC_weighted'\n",
        "}\n",
        "automl_config = AutoMLConfig(compute_target=cpu_cluster,\n",
        "                             task = \"classification\",\n",
        "                             training_data=dataset,\n",
        "                             label_column_name=\"HAS SCRAP AT SINTER\",\n",
        "                             enable_early_stopping= True,\n",
        "                             featurization= 'auto',\n",
        "                             debug_log = \"automl_errors.log\",\n",
        "                             **automl_settings\n",
        "                            )"
      ],
      "outputs": [],
      "execution_count": 14,
      "metadata": {
        "gather": {
          "logged": 1634469166488
        },
        "jupyter": {
          "outputs_hidden": false,
          "source_hidden": false
        },
        "nteract": {
          "transient": {
            "deleting": false
          }
        }
      }
    },
    {
      "cell_type": "code",
      "source": [
        "# TODO: Submit your experiment\n",
        "remote_run = experiment.submit(automl_config, show_output=True)"
      ],
      "outputs": [
        {
          "output_type": "stream",
          "name": "stdout",
          "text": "Submitting remote run.\n"
        },
        {
          "output_type": "display_data",
          "data": {
            "text/plain": "<IPython.core.display.HTML object>",
            "text/html": "<table style=\"width:100%\"><tr><th>Experiment</th><th>Id</th><th>Type</th><th>Status</th><th>Details Page</th><th>Docs Page</th></tr><tr><td>Sinter_AML</td><td>AutoML_9e50608f-dce9-4706-aa7a-2480c162c927</td><td>automl</td><td>NotStarted</td><td><a href=\"https://ml.azure.com/runs/AutoML_9e50608f-dce9-4706-aa7a-2480c162c927?wsid=/subscriptions/a0a76bad-11a1-4a2d-9887-97a29122c8ed/resourcegroups/aml-quickstarts-161237/workspaces/quick-starts-ws-161237&amp;tid=660b3398-b80e-49d2-bc5b-ac1dc93b5254\" target=\"_blank\" rel=\"noopener\">Link to Azure Machine Learning studio</a></td><td><a href=\"https://docs.microsoft.com/en-us/python/api/overview/azure/ml/intro?view=azure-ml-py\" target=\"_blank\" rel=\"noopener\">Link to Documentation</a></td></tr></table>"
          },
          "metadata": {}
        }
      ],
      "execution_count": 15,
      "metadata": {
        "gather": {
          "logged": 1634469181520
        },
        "jupyter": {
          "outputs_hidden": false,
          "source_hidden": false
        },
        "nteract": {
          "transient": {
            "deleting": false
          }
        }
      }
    },
    {
      "cell_type": "markdown",
      "source": [
        "## Run Details\n",
        "\n",
        "OPTIONAL: Write about the different models trained and their performance. Why do you think some models did better than others?\n",
        "\n",
        "TODO: In the cell below, use the `RunDetails` widget to show the different experiments."
      ],
      "metadata": {}
    },
    {
      "cell_type": "code",
      "source": [
        "RunDetails(remote_run).show()"
      ],
      "outputs": [
        {
          "output_type": "display_data",
          "data": {
            "text/plain": "_AutoMLWidget(widget_settings={'childWidgetDisplay': 'popup', 'send_telemetry': False, 'log_level': 'INFO', 's…",
            "application/vnd.jupyter.widget-view+json": {
              "version_major": 2,
              "version_minor": 0,
              "model_id": "8cf90956fa984008a3c4cf9e000c555a"
            }
          },
          "metadata": {}
        },
        {
          "output_type": "display_data",
          "data": {
            "application/aml.mini.widget.v1": "{\"status\": \"Completed\", \"workbench_run_details_uri\": \"https://ml.azure.com/runs/AutoML_9e50608f-dce9-4706-aa7a-2480c162c927?wsid=/subscriptions/a0a76bad-11a1-4a2d-9887-97a29122c8ed/resourcegroups/aml-quickstarts-161237/workspaces/quick-starts-ws-161237&tid=660b3398-b80e-49d2-bc5b-ac1dc93b5254\", \"run_id\": \"AutoML_9e50608f-dce9-4706-aa7a-2480c162c927\", \"run_properties\": {\"run_id\": \"AutoML_9e50608f-dce9-4706-aa7a-2480c162c927\", \"created_utc\": \"2021-10-17T11:12:59.758907Z\", \"properties\": {\"num_iterations\": \"1000\", \"training_type\": \"TrainFull\", \"acquisition_function\": \"EI\", \"primary_metric\": \"AUC_weighted\", \"train_split\": \"0\", \"acquisition_parameter\": \"0\", \"num_cross_validation\": null, \"target\": \"ML-Cluster\", \"AMLSettingsJsonString\": \"{\\\"path\\\":null,\\\"name\\\":\\\"Sinter_AML\\\",\\\"subscription_id\\\":\\\"a0a76bad-11a1-4a2d-9887-97a29122c8ed\\\",\\\"resource_group\\\":\\\"aml-quickstarts-161237\\\",\\\"workspace_name\\\":\\\"quick-starts-ws-161237\\\",\\\"region\\\":\\\"southcentralus\\\",\\\"compute_target\\\":\\\"ML-Cluster\\\",\\\"spark_service\\\":null,\\\"azure_service\\\":\\\"remote\\\",\\\"many_models\\\":false,\\\"pipeline_fetch_max_batch_size\\\":1,\\\"enable_batch_run\\\":false,\\\"enable_run_restructure\\\":false,\\\"start_auxiliary_runs_before_parent_complete\\\":false,\\\"enable_code_generation\\\":false,\\\"iterations\\\":1000,\\\"primary_metric\\\":\\\"AUC_weighted\\\",\\\"task_type\\\":\\\"classification\\\",\\\"data_script\\\":null,\\\"test_size\\\":0.0,\\\"test_include_predictions_only\\\":false,\\\"validation_size\\\":0.0,\\\"n_cross_validations\\\":null,\\\"y_min\\\":null,\\\"y_max\\\":null,\\\"num_classes\\\":null,\\\"featurization\\\":\\\"auto\\\",\\\"_ignore_package_version_incompatibilities\\\":false,\\\"is_timeseries\\\":false,\\\"max_cores_per_iteration\\\":1,\\\"max_concurrent_iterations\\\":5,\\\"iteration_timeout_minutes\\\":null,\\\"mem_in_mb\\\":null,\\\"enforce_time_on_windows\\\":false,\\\"experiment_timeout_minutes\\\":20,\\\"experiment_exit_score\\\":null,\\\"whitelist_models\\\":null,\\\"blacklist_algos\\\":[\\\"TensorFlowLinearClassifier\\\",\\\"TensorFlowDNN\\\"],\\\"supported_models\\\":[\\\"RandomForest\\\",\\\"BernoulliNaiveBayes\\\",\\\"SGD\\\",\\\"LinearSVM\\\",\\\"LogisticRegression\\\",\\\"MultinomialNaiveBayes\\\",\\\"DecisionTree\\\",\\\"GradientBoosting\\\",\\\"TensorFlowDNN\\\",\\\"KNN\\\",\\\"AveragedPerceptronClassifier\\\",\\\"ExtremeRandomTrees\\\",\\\"SVM\\\",\\\"TensorFlowLinearClassifier\\\",\\\"XGBoostClassifier\\\",\\\"LightGBM\\\"],\\\"private_models\\\":[],\\\"auto_blacklist\\\":true,\\\"blacklist_samples_reached\\\":false,\\\"exclude_nan_labels\\\":true,\\\"verbosity\\\":20,\\\"_debug_log\\\":\\\"azureml_automl.log\\\",\\\"show_warnings\\\":false,\\\"model_explainability\\\":true,\\\"service_url\\\":null,\\\"sdk_url\\\":null,\\\"sdk_packages\\\":null,\\\"enable_onnx_compatible_models\\\":false,\\\"enable_split_onnx_featurizer_estimator_models\\\":false,\\\"vm_type\\\":\\\"STANDARD_D2_V2\\\",\\\"telemetry_verbosity\\\":20,\\\"send_telemetry\\\":true,\\\"enable_dnn\\\":false,\\\"scenario\\\":\\\"SDK-1.13.0\\\",\\\"environment_label\\\":null,\\\"save_mlflow\\\":false,\\\"force_text_dnn\\\":false,\\\"enable_feature_sweeping\\\":true,\\\"enable_early_stopping\\\":true,\\\"early_stopping_n_iters\\\":10,\\\"metrics\\\":null,\\\"enable_metric_confidence\\\":false,\\\"enable_ensembling\\\":true,\\\"enable_stack_ensembling\\\":true,\\\"ensemble_iterations\\\":15,\\\"enable_tf\\\":false,\\\"enable_subsampling\\\":null,\\\"subsample_seed\\\":null,\\\"enable_nimbusml\\\":false,\\\"enable_streaming\\\":false,\\\"force_streaming\\\":false,\\\"track_child_runs\\\":true,\\\"allowed_private_models\\\":[],\\\"label_column_name\\\":\\\"HAS SCRAP AT SINTER\\\",\\\"weight_column_name\\\":null,\\\"cv_split_column_names\\\":null,\\\"positive_label\\\":null,\\\"enable_local_managed\\\":false,\\\"_local_managed_run_id\\\":null,\\\"cost_mode\\\":1,\\\"lag_length\\\":0,\\\"metric_operation\\\":\\\"maximize\\\",\\\"preprocess\\\":true}\", \"DataPrepJsonString\": \"{\\\\\\\"training_data\\\\\\\": {\\\\\\\"datasetId\\\\\\\": \\\\\\\"ef47fff5-716d-4c94-9526-6da12e93258c\\\\\\\"}, \\\\\\\"datasets\\\\\\\": 0}\", \"EnableSubsampling\": null, \"runTemplate\": \"AutoML\", \"azureml.runsource\": \"automl\", \"display_task_type\": \"classification\", \"dependencies_versions\": \"{\\\"azureml-widgets\\\": \\\"1.34.0\\\", \\\"azureml-train\\\": \\\"1.34.0\\\", \\\"azureml-train-restclients-hyperdrive\\\": \\\"1.34.0\\\", \\\"azureml-train-core\\\": \\\"1.34.0\\\", \\\"azureml-train-automl\\\": \\\"1.34.0\\\", \\\"azureml-train-automl-runtime\\\": \\\"1.34.0.post1\\\", \\\"azureml-train-automl-client\\\": \\\"1.34.0\\\", \\\"azureml-tensorboard\\\": \\\"1.34.0\\\", \\\"azureml-telemetry\\\": \\\"1.34.0\\\", \\\"azureml-sdk\\\": \\\"1.34.0\\\", \\\"azureml-samples\\\": \\\"0+unknown\\\", \\\"azureml-responsibleai\\\": \\\"1.34.0\\\", \\\"azureml-pipeline\\\": \\\"1.34.0\\\", \\\"azureml-pipeline-steps\\\": \\\"1.34.0\\\", \\\"azureml-pipeline-core\\\": \\\"1.34.0\\\", \\\"azureml-opendatasets\\\": \\\"1.34.0\\\", \\\"azureml-mlflow\\\": \\\"1.34.0\\\", \\\"azureml-interpret\\\": \\\"1.34.0\\\", \\\"azureml-inference-server-http\\\": \\\"0.3.1\\\", \\\"azureml-explain-model\\\": \\\"1.34.0\\\", \\\"azureml-defaults\\\": \\\"1.34.0\\\", \\\"azureml-dataset-runtime\\\": \\\"1.34.0\\\", \\\"azureml-dataprep\\\": \\\"2.22.2\\\", \\\"azureml-dataprep-rslex\\\": \\\"1.20.2\\\", \\\"azureml-dataprep-native\\\": \\\"38.0.0\\\", \\\"azureml-datadrift\\\": \\\"1.34.0\\\", \\\"azureml-core\\\": \\\"1.34.0\\\", \\\"azureml-contrib-services\\\": \\\"1.34.0\\\", \\\"azureml-contrib-server\\\": \\\"1.34.0\\\", \\\"azureml-contrib-reinforcementlearning\\\": \\\"1.34.0\\\", \\\"azureml-contrib-pipeline-steps\\\": \\\"1.34.0\\\", \\\"azureml-contrib-notebook\\\": \\\"1.34.0\\\", \\\"azureml-contrib-fairness\\\": \\\"1.34.0\\\", \\\"azureml-contrib-dataset\\\": \\\"1.34.0\\\", \\\"azureml-contrib-automl-pipeline-steps\\\": \\\"1.34.0\\\", \\\"azureml-cli-common\\\": \\\"1.34.0\\\", \\\"azureml-automl-runtime\\\": \\\"1.34.0.post1\\\", \\\"azureml-automl-dnn-nlp\\\": \\\"1.34.0\\\", \\\"azureml-automl-core\\\": \\\"1.34.0.post1\\\", \\\"azureml-accel-models\\\": \\\"1.34.0\\\"}\", \"_aml_system_scenario_identification\": \"Remote.Parent\", \"ClientType\": \"SDK\", \"environment_cpu_name\": \"AzureML-AutoML\", \"environment_cpu_label\": \"prod\", \"environment_gpu_name\": \"AzureML-AutoML-GPU\", \"environment_gpu_label\": \"prod\", \"root_attribution\": \"automl\", \"attribution\": \"AutoML\", \"Orchestrator\": \"AutoML\", \"CancelUri\": \"https://southcentralus.api.azureml.ms/jasmine/v1.0/subscriptions/a0a76bad-11a1-4a2d-9887-97a29122c8ed/resourceGroups/aml-quickstarts-161237/providers/Microsoft.MachineLearningServices/workspaces/quick-starts-ws-161237/experimentids/402803ba-16ec-41a1-8f5d-dc93f2b96a74/cancel/AutoML_9e50608f-dce9-4706-aa7a-2480c162c927\", \"ClientSdkVersion\": \"1.34.1\", \"snapshotId\": \"00000000-0000-0000-0000-000000000000\", \"SetupRunId\": \"AutoML_9e50608f-dce9-4706-aa7a-2480c162c927_setup\", \"SetupRunContainerId\": \"dcid.AutoML_9e50608f-dce9-4706-aa7a-2480c162c927_setup\", \"FeaturizationRunJsonPath\": \"featurizer_container.json\", \"FeaturizationRunId\": \"AutoML_9e50608f-dce9-4706-aa7a-2480c162c927_featurize\", \"ProblemInfoJsonString\": \"{\\\"dataset_num_categorical\\\": 0, \\\"is_sparse\\\": true, \\\"subsampling\\\": false, \\\"has_extra_col\\\": true, \\\"dataset_classes\\\": 2, \\\"dataset_features\\\": 180, \\\"dataset_samples\\\": 23434, \\\"single_frequency_class_detected\\\": false}\", \"ModelExplainRunId\": \"AutoML_9e50608f-dce9-4706-aa7a-2480c162c927_ModelExplain\"}, \"tags\": {\"model_explain_run\": \"best_run\", \"_aml_system_azureml.automlComponent\": \"AutoML\", \"pipeline_id\": \"\", \"score\": \"\", \"predicted_cost\": \"\", \"fit_time\": \"\", \"training_percent\": \"\", \"iteration\": \"\", \"run_preprocessor\": \"\", \"run_algorithm\": \"\", \"_aml_system_azureml.automl_early_exit_message\": \"Experiment timeout reached, hence experiment stopped. Current experiment timeout: 0 hour(s) 20 minute(s)\", \"automl_best_child_run_id\": \"AutoML_9e50608f-dce9-4706-aa7a-2480c162c927_24\", \"model_explain_best_run_child_id\": \"AutoML_9e50608f-dce9-4706-aa7a-2480c162c927_24\"}, \"end_time_utc\": \"2021-10-17T11:47:33.723649Z\", \"status\": \"Completed\", \"log_files\": {}, \"log_groups\": [], \"run_duration\": \"0:34:33\", \"run_number\": \"1\", \"run_queued_details\": {\"status\": \"Completed\", \"details\": null}}, \"child_runs\": [{\"run_id\": \"AutoML_9e50608f-dce9-4706-aa7a-2480c162c927_0\", \"run_number\": 5, \"metric\": null, \"status\": \"Completed\", \"run_type\": \"azureml.scriptrun\", \"training_percent\": \"100\", \"start_time\": \"2021-10-17T11:24:27.438684Z\", \"end_time\": \"2021-10-17T11:29:35.581459Z\", \"created_time\": \"2021-10-17T11:24:27.438684Z\", \"created_time_dt\": \"2021-10-17T11:24:27.438684Z\", \"duration\": \"0:05:08\", \"iteration\": \"0\", \"goal\": \"AUC_weighted_max\", \"run_name\": \"MaxAbsScaler, LightGBM\", \"run_properties\": \"copy=True\", \"primary_metric\": 0.72496699, \"best_metric\": 0.72496699}, {\"run_id\": \"AutoML_9e50608f-dce9-4706-aa7a-2480c162c927_3\", \"run_number\": 6, \"metric\": null, \"status\": \"Completed\", \"run_type\": \"azureml.scriptrun\", \"training_percent\": \"100\", \"start_time\": \"2021-10-17T11:24:27.453703Z\", \"end_time\": \"2021-10-17T11:24:55.810231Z\", \"created_time\": \"2021-10-17T11:24:27.453703Z\", \"created_time_dt\": \"2021-10-17T11:24:27.453703Z\", \"duration\": \"0:00:28\", \"iteration\": \"3\", \"goal\": \"AUC_weighted_max\", \"run_name\": \"MaxAbsScaler, RandomForest\", \"run_properties\": \"copy=True\", \"primary_metric\": 0.66830155, \"best_metric\": 0.72496699}, {\"run_id\": \"AutoML_9e50608f-dce9-4706-aa7a-2480c162c927_4\", \"run_number\": 7, \"metric\": null, \"status\": \"Completed\", \"run_type\": \"azureml.scriptrun\", \"training_percent\": \"100\", \"start_time\": \"2021-10-17T11:24:27.465038Z\", \"end_time\": \"2021-10-17T11:29:06.364821Z\", \"created_time\": \"2021-10-17T11:24:27.465038Z\", \"created_time_dt\": \"2021-10-17T11:24:27.465038Z\", \"duration\": \"0:04:38\", \"iteration\": \"4\", \"goal\": \"AUC_weighted_max\", \"run_name\": \"StandardScalerWrapper, LightGBM\", \"run_properties\": \"\\n    copy=True,\\n    with_mean=False,\\n    with_std=True\\n\", \"primary_metric\": 0.55286996, \"best_metric\": 0.72496699}, {\"run_id\": \"AutoML_9e50608f-dce9-4706-aa7a-2480c162c927_2\", \"run_number\": 8, \"metric\": null, \"status\": \"Completed\", \"run_type\": \"azureml.scriptrun\", \"training_percent\": \"100\", \"start_time\": \"2021-10-17T11:24:27.482742Z\", \"end_time\": \"2021-10-17T11:27:22.543272Z\", \"created_time\": \"2021-10-17T11:24:27.482742Z\", \"created_time_dt\": \"2021-10-17T11:24:27.482742Z\", \"duration\": \"0:02:55\", \"iteration\": \"2\", \"goal\": \"AUC_weighted_max\", \"run_name\": \"MaxAbsScaler, ExtremeRandomTrees\", \"run_properties\": \"copy=True\", \"primary_metric\": 0.66146323, \"best_metric\": 0.72496699}, {\"run_id\": \"AutoML_9e50608f-dce9-4706-aa7a-2480c162c927_1\", \"run_number\": 9, \"metric\": null, \"status\": \"Completed\", \"run_type\": \"azureml.scriptrun\", \"training_percent\": \"100\", \"start_time\": \"2021-10-17T11:24:27.455393Z\", \"end_time\": \"2021-10-17T11:26:53.84358Z\", \"created_time\": \"2021-10-17T11:24:27.455393Z\", \"created_time_dt\": \"2021-10-17T11:24:27.455393Z\", \"duration\": \"0:02:26\", \"iteration\": \"1\", \"goal\": \"AUC_weighted_max\", \"run_name\": \"MaxAbsScaler, XGBoostClassifier\", \"run_properties\": \"copy=True\", \"primary_metric\": 0.70277521, \"best_metric\": 0.72496699}, {\"run_id\": \"AutoML_9e50608f-dce9-4706-aa7a-2480c162c927_5\", \"run_number\": 10, \"metric\": null, \"status\": \"Completed\", \"run_type\": \"azureml.scriptrun\", \"training_percent\": \"100\", \"start_time\": \"2021-10-17T11:24:58.98427Z\", \"end_time\": \"2021-10-17T11:30:58.126542Z\", \"created_time\": \"2021-10-17T11:24:58.98427Z\", \"created_time_dt\": \"2021-10-17T11:24:58.98427Z\", \"duration\": \"0:05:59\", \"iteration\": \"5\", \"goal\": \"AUC_weighted_max\", \"run_name\": \"SparseNormalizer, XGBoostClassifier\", \"run_properties\": \"copy=True, norm='max'\", \"primary_metric\": 0.66427975, \"best_metric\": 0.72496699}, {\"run_id\": \"AutoML_9e50608f-dce9-4706-aa7a-2480c162c927_6\", \"run_number\": 11, \"metric\": null, \"status\": \"Completed\", \"run_type\": \"azureml.scriptrun\", \"training_percent\": \"100\", \"start_time\": \"2021-10-17T11:26:57.260113Z\", \"end_time\": \"2021-10-17T11:31:31.921294Z\", \"created_time\": \"2021-10-17T11:26:57.260113Z\", \"created_time_dt\": \"2021-10-17T11:26:57.260113Z\", \"duration\": \"0:04:34\", \"iteration\": \"6\", \"goal\": \"AUC_weighted_max\", \"run_name\": \"SparseNormalizer, RandomForest\", \"run_properties\": \"copy=True, norm='l2'\", \"primary_metric\": 0.69030114, \"best_metric\": 0.72496699}, {\"run_id\": \"AutoML_9e50608f-dce9-4706-aa7a-2480c162c927_7\", \"run_number\": 12, \"metric\": null, \"status\": \"Completed\", \"run_type\": \"azureml.scriptrun\", \"training_percent\": \"100\", \"start_time\": \"2021-10-17T11:27:25.75685Z\", \"end_time\": \"2021-10-17T11:33:00.927536Z\", \"created_time\": \"2021-10-17T11:27:25.75685Z\", \"created_time_dt\": \"2021-10-17T11:27:25.75685Z\", \"duration\": \"0:05:35\", \"iteration\": \"7\", \"goal\": \"AUC_weighted_max\", \"run_name\": \"StandardScalerWrapper, XGBoostClassifier\", \"run_properties\": \"\\n    copy=True,\\n    with_mean=False,\\n    with_std=False\\n\", \"primary_metric\": 0.68234465, \"best_metric\": 0.72496699}, {\"run_id\": \"AutoML_9e50608f-dce9-4706-aa7a-2480c162c927_8\", \"run_number\": 13, \"metric\": null, \"status\": \"Completed\", \"run_type\": \"azureml.scriptrun\", \"training_percent\": \"100\", \"start_time\": \"2021-10-17T11:29:09.913817Z\", \"end_time\": \"2021-10-17T11:33:27.780831Z\", \"created_time\": \"2021-10-17T11:29:09.913817Z\", \"created_time_dt\": \"2021-10-17T11:29:09.913817Z\", \"duration\": \"0:04:17\", \"iteration\": \"8\", \"goal\": \"AUC_weighted_max\", \"run_name\": \"SparseNormalizer, XGBoostClassifier\", \"run_properties\": \"copy=True, norm='max'\", \"primary_metric\": 0.69906146, \"best_metric\": 0.72496699}, {\"run_id\": \"AutoML_9e50608f-dce9-4706-aa7a-2480c162c927_9\", \"run_number\": 14, \"metric\": null, \"status\": \"Completed\", \"run_type\": \"azureml.scriptrun\", \"training_percent\": \"100\", \"start_time\": \"2021-10-17T11:29:38.850031Z\", \"end_time\": \"2021-10-17T11:34:59.023908Z\", \"created_time\": \"2021-10-17T11:29:38.850031Z\", \"created_time_dt\": \"2021-10-17T11:29:38.850031Z\", \"duration\": \"0:05:20\", \"iteration\": \"9\", \"goal\": \"AUC_weighted_max\", \"run_name\": \"MaxAbsScaler, RandomForest\", \"run_properties\": \"copy=True\", \"primary_metric\": 0.54078927, \"best_metric\": 0.72496699}, {\"run_id\": \"AutoML_9e50608f-dce9-4706-aa7a-2480c162c927_10\", \"run_number\": 15, \"metric\": null, \"status\": \"Completed\", \"run_type\": \"azureml.scriptrun\", \"training_percent\": \"100\", \"start_time\": \"2021-10-17T11:31:01.078895Z\", \"end_time\": \"2021-10-17T11:35:35.168338Z\", \"created_time\": \"2021-10-17T11:31:01.078895Z\", \"created_time_dt\": \"2021-10-17T11:31:01.078895Z\", \"duration\": \"0:04:34\", \"iteration\": \"10\", \"goal\": \"AUC_weighted_max\", \"run_name\": \"SparseNormalizer, LightGBM\", \"run_properties\": \"copy=True, norm='l1'\", \"primary_metric\": 0.62294891, \"best_metric\": 0.72496699}, {\"run_id\": \"AutoML_9e50608f-dce9-4706-aa7a-2480c162c927_11\", \"run_number\": 16, \"metric\": null, \"status\": \"Completed\", \"run_type\": \"azureml.scriptrun\", \"training_percent\": \"100\", \"start_time\": \"2021-10-17T11:31:39.022139Z\", \"end_time\": \"2021-10-17T11:37:05.703049Z\", \"created_time\": \"2021-10-17T11:31:39.022139Z\", \"created_time_dt\": \"2021-10-17T11:31:39.022139Z\", \"duration\": \"0:05:26\", \"iteration\": \"11\", \"goal\": \"AUC_weighted_max\", \"run_name\": \"MaxAbsScaler, ExtremeRandomTrees\", \"run_properties\": \"copy=True\", \"primary_metric\": 0.70322697, \"best_metric\": 0.72496699}, {\"run_id\": \"AutoML_9e50608f-dce9-4706-aa7a-2480c162c927_12\", \"run_number\": 17, \"metric\": null, \"status\": \"Completed\", \"run_type\": \"azureml.scriptrun\", \"training_percent\": \"100\", \"start_time\": \"2021-10-17T11:33:04.093453Z\", \"end_time\": \"2021-10-17T11:37:36.447378Z\", \"created_time\": \"2021-10-17T11:33:04.093453Z\", \"created_time_dt\": \"2021-10-17T11:33:04.093453Z\", \"duration\": \"0:04:32\", \"iteration\": \"12\", \"goal\": \"AUC_weighted_max\", \"run_name\": \"StandardScalerWrapper, XGBoostClassifier\", \"run_properties\": \"\\n    copy=True,\\n    with_mean=False,\\n    with_std=False\\n\", \"primary_metric\": 0.68590033, \"best_metric\": 0.72496699}, {\"run_id\": \"AutoML_9e50608f-dce9-4706-aa7a-2480c162c927_13\", \"run_number\": 18, \"metric\": null, \"status\": \"Completed\", \"run_type\": \"azureml.scriptrun\", \"training_percent\": \"100\", \"start_time\": \"2021-10-17T11:33:30.897588Z\", \"end_time\": \"2021-10-17T11:39:01.284725Z\", \"created_time\": \"2021-10-17T11:33:30.897588Z\", \"created_time_dt\": \"2021-10-17T11:33:30.897588Z\", \"duration\": \"0:05:30\", \"iteration\": \"13\", \"goal\": \"AUC_weighted_max\", \"run_name\": \"StandardScalerWrapper, ExtremeRandomTrees\", \"run_properties\": \"\\n    copy=True,\\n    with_mean=False,\\n    with_std=False\\n\", \"primary_metric\": 0.69581473, \"best_metric\": 0.72496699}, {\"run_id\": \"AutoML_9e50608f-dce9-4706-aa7a-2480c162c927_14\", \"run_number\": 19, \"metric\": null, \"status\": \"Completed\", \"run_type\": \"azureml.scriptrun\", \"training_percent\": \"100\", \"start_time\": \"2021-10-17T11:35:02.191935Z\", \"end_time\": \"2021-10-17T11:39:45.342117Z\", \"created_time\": \"2021-10-17T11:35:02.191935Z\", \"created_time_dt\": \"2021-10-17T11:35:02.191935Z\", \"duration\": \"0:04:43\", \"iteration\": \"14\", \"goal\": \"AUC_weighted_max\", \"run_name\": \"StandardScalerWrapper, RandomForest\", \"run_properties\": \"\\n    copy=True,\\n    with_mean=False,\\n    with_std=False\\n\", \"primary_metric\": 0.70004491, \"best_metric\": 0.72496699}, {\"run_id\": \"AutoML_9e50608f-dce9-4706-aa7a-2480c162c927_15\", \"run_number\": 20, \"metric\": null, \"status\": \"Completed\", \"run_type\": \"azureml.scriptrun\", \"training_percent\": \"100\", \"start_time\": \"2021-10-17T11:35:38.335452Z\", \"end_time\": \"2021-10-17T11:41:04.429691Z\", \"created_time\": \"2021-10-17T11:35:38.335452Z\", \"created_time_dt\": \"2021-10-17T11:35:38.335452Z\", \"duration\": \"0:05:26\", \"iteration\": \"15\", \"goal\": \"AUC_weighted_max\", \"run_name\": \"MaxAbsScaler, LightGBM\", \"run_properties\": \"copy=True\", \"primary_metric\": 0.71128495, \"best_metric\": 0.72496699}, {\"run_id\": \"AutoML_9e50608f-dce9-4706-aa7a-2480c162c927_16\", \"run_number\": 21, \"metric\": null, \"status\": \"Completed\", \"run_type\": \"azureml.scriptrun\", \"training_percent\": \"100\", \"start_time\": \"2021-10-17T11:37:09.07172Z\", \"end_time\": \"2021-10-17T11:41:34.740395Z\", \"created_time\": \"2021-10-17T11:37:09.07172Z\", \"created_time_dt\": \"2021-10-17T11:37:09.07172Z\", \"duration\": \"0:04:25\", \"iteration\": \"16\", \"goal\": \"AUC_weighted_max\", \"run_name\": \"MaxAbsScaler, LogisticRegression\", \"run_properties\": \"copy=True\", \"primary_metric\": 0.71644378, \"best_metric\": 0.72496699}, {\"run_id\": \"AutoML_9e50608f-dce9-4706-aa7a-2480c162c927_17\", \"run_number\": 22, \"metric\": null, \"status\": \"Completed\", \"run_type\": \"azureml.scriptrun\", \"training_percent\": \"100\", \"start_time\": \"2021-10-17T11:37:39.442554Z\", \"end_time\": \"2021-10-17T11:43:22.451144Z\", \"created_time\": \"2021-10-17T11:37:39.442554Z\", \"created_time_dt\": \"2021-10-17T11:37:39.442554Z\", \"duration\": \"0:05:43\", \"iteration\": \"17\", \"goal\": \"AUC_weighted_max\", \"run_name\": \"StandardScalerWrapper, ExtremeRandomTrees\", \"run_properties\": \"\\n    copy=True,\\n    with_mean=False,\\n    with_std=True\\n\", \"primary_metric\": 0.69953657, \"best_metric\": 0.72496699}, {\"run_id\": \"AutoML_9e50608f-dce9-4706-aa7a-2480c162c927_18\", \"run_number\": 23, \"metric\": null, \"status\": \"Completed\", \"run_type\": \"azureml.scriptrun\", \"training_percent\": \"100\", \"start_time\": \"2021-10-17T11:39:04.318426Z\", \"end_time\": \"2021-10-17T11:43:53.414308Z\", \"created_time\": \"2021-10-17T11:39:04.318426Z\", \"created_time_dt\": \"2021-10-17T11:39:04.318426Z\", \"duration\": \"0:04:49\", \"iteration\": \"18\", \"goal\": \"AUC_weighted_max\", \"run_name\": \"StandardScalerWrapper, XGBoostClassifier\", \"run_properties\": \"\\n    copy=True,\\n    with_mean=False,\\n    with_std=False\\n\", \"primary_metric\": 0.65585892, \"best_metric\": 0.72496699}, {\"run_id\": \"AutoML_9e50608f-dce9-4706-aa7a-2480c162c927_19\", \"run_number\": 24, \"metric\": null, \"status\": \"Completed\", \"run_type\": \"azureml.scriptrun\", \"training_percent\": \"100\", \"start_time\": \"2021-10-17T11:39:48.678321Z\", \"end_time\": \"2021-10-17T11:45:07.334755Z\", \"created_time\": \"2021-10-17T11:39:48.678321Z\", \"created_time_dt\": \"2021-10-17T11:39:48.678321Z\", \"duration\": \"0:05:18\", \"iteration\": \"19\", \"goal\": \"AUC_weighted_max\", \"run_name\": \"MaxAbsScaler, ExtremeRandomTrees\", \"run_properties\": \"copy=True\", \"primary_metric\": 0.70046164, \"best_metric\": 0.72496699}, {\"run_id\": \"AutoML_9e50608f-dce9-4706-aa7a-2480c162c927_20\", \"run_number\": 25, \"metric\": null, \"status\": \"Canceled\", \"run_type\": \"azureml.scriptrun\", \"training_percent\": \"100\", \"start_time\": \"2021-10-17T11:41:07.445134Z\", \"end_time\": \"2021-10-17T11:45:08.852011Z\", \"created_time\": \"2021-10-17T11:41:07.445134Z\", \"created_time_dt\": \"2021-10-17T11:41:07.445134Z\", \"duration\": \"0:04:01\", \"iteration\": \"20\", \"goal\": null, \"run_name\": \"Canceled\", \"run_properties\": null}, {\"run_id\": \"AutoML_9e50608f-dce9-4706-aa7a-2480c162c927_21\", \"run_number\": 26, \"metric\": null, \"status\": \"Canceled\", \"run_type\": \"azureml.scriptrun\", \"training_percent\": \"100\", \"start_time\": \"2021-10-17T11:41:37.995359Z\", \"end_time\": \"2021-10-17T11:45:08.975762Z\", \"created_time\": \"2021-10-17T11:41:37.995359Z\", \"created_time_dt\": \"2021-10-17T11:41:37.995359Z\", \"duration\": \"0:03:30\", \"iteration\": \"21\", \"goal\": null, \"run_name\": \"Canceled\", \"run_properties\": null}, {\"run_id\": \"AutoML_9e50608f-dce9-4706-aa7a-2480c162c927_22\", \"run_number\": 27, \"metric\": null, \"status\": \"Canceled\", \"run_type\": \"azureml.scriptrun\", \"training_percent\": \"100\", \"start_time\": \"2021-10-17T11:43:25.755448Z\", \"end_time\": \"2021-10-17T11:45:08.906031Z\", \"created_time\": \"2021-10-17T11:43:25.755448Z\", \"created_time_dt\": \"2021-10-17T11:43:25.755448Z\", \"duration\": \"0:01:43\", \"iteration\": \"22\", \"goal\": null, \"run_name\": \"Canceled\", \"run_properties\": null}, {\"run_id\": \"AutoML_9e50608f-dce9-4706-aa7a-2480c162c927_23\", \"run_number\": 28, \"metric\": null, \"status\": \"Canceled\", \"run_type\": \"azureml.scriptrun\", \"training_percent\": \"100\", \"start_time\": \"2021-10-17T11:43:56.485907Z\", \"end_time\": \"2021-10-17T11:45:08.788999Z\", \"created_time\": \"2021-10-17T11:43:56.485907Z\", \"created_time_dt\": \"2021-10-17T11:43:56.485907Z\", \"duration\": \"0:01:12\", \"iteration\": \"23\", \"goal\": null, \"run_name\": \"Canceled\", \"run_properties\": null}, {\"run_id\": \"AutoML_9e50608f-dce9-4706-aa7a-2480c162c927_25\", \"run_number\": 29, \"metric\": null, \"status\": \"Completed\", \"run_type\": \"azureml.scriptrun\", \"training_percent\": \"100\", \"start_time\": \"2021-10-17T11:45:10.145398Z\", \"end_time\": \"2021-10-17T11:47:31.956427Z\", \"created_time\": \"2021-10-17T11:45:10.145398Z\", \"created_time_dt\": \"2021-10-17T11:45:10.145398Z\", \"duration\": \"0:02:21\", \"iteration\": \"25\", \"goal\": \"AUC_weighted_max\", \"run_name\": \"StackEnsemble\", \"run_properties\": \"\\n    base_learners=[('0', Pipeline(\\n        memory=None,\\n        steps=[('maxabsscaler', MaxAbsScaler(\\n            copy=True\\n        \", \"primary_metric\": 0.72579866, \"best_metric\": 0.73261184}, {\"run_id\": \"AutoML_9e50608f-dce9-4706-aa7a-2480c162c927_24\", \"run_number\": 30, \"metric\": null, \"status\": \"Completed\", \"run_type\": \"azureml.scriptrun\", \"training_percent\": \"100\", \"start_time\": \"2021-10-17T11:45:10.174613Z\", \"end_time\": \"2021-10-17T11:45:48.592478Z\", \"created_time\": \"2021-10-17T11:45:10.174613Z\", \"created_time_dt\": \"2021-10-17T11:45:10.174613Z\", \"duration\": \"0:00:38\", \"iteration\": \"24\", \"goal\": \"AUC_weighted_max\", \"run_name\": \"VotingEnsemble\", \"run_properties\": \"\\n    estimators=[('0', Pipeline(\\n        memory=None,\\n        steps=[('maxabsscaler', MaxAbsScaler(\\n            copy=True\\n        \", \"primary_metric\": 0.73261184, \"best_metric\": 0.73261184}], \"children_metrics\": {\"categories\": [0], \"series\": {\"AUC_weighted\": [{\"categories\": [\"0\", \"1\", \"2\", \"3\", \"4\", \"5\", \"6\", \"7\", \"8\", \"9\", \"10\", \"11\", \"12\", \"13\", \"14\", \"15\", \"16\", \"17\", \"18\", \"19\", \"24\", \"25\"], \"mode\": \"markers\", \"name\": \"AUC_weighted\", \"stepped\": false, \"type\": \"scatter\", \"data\": [0.7249669938837646, 0.7027752081406106, 0.661463226246823, 0.6683015546554343, 0.5528699603926603, 0.6642797481655786, 0.6903011415176528, 0.6823446467222906, 0.6990614587356188, 0.5407892727876921, 0.6229489056339419, 0.7032269653233703, 0.6859003260195972, 0.6958147346487881, 0.7000449062805925, 0.711284948312871, 0.7164437818273264, 0.6995365671842864, 0.655858922428891, 0.7004616365644899, 0.7326118390918154, 0.725798658200336]}, {\"categories\": [\"0\", \"1\", \"2\", \"3\", \"4\", \"5\", \"6\", \"7\", \"8\", \"9\", \"10\", \"11\", \"12\", \"13\", \"14\", \"15\", \"16\", \"17\", \"18\", \"19\", \"24\", \"25\"], \"mode\": \"lines\", \"name\": \"AUC_weighted_max\", \"stepped\": true, \"type\": \"scatter\", \"data\": [0.7249669938837646, 0.7249669938837646, 0.7249669938837646, 0.7249669938837646, 0.7249669938837646, 0.7249669938837646, 0.7249669938837646, 0.7249669938837646, 0.7249669938837646, 0.7249669938837646, 0.7249669938837646, 0.7249669938837646, 0.7249669938837646, 0.7249669938837646, 0.7249669938837646, 0.7249669938837646, 0.7249669938837646, 0.7249669938837646, 0.7249669938837646, 0.7249669938837646, 0.7326118390918154, 0.7326118390918154]}], \"recall_score_weighted\": [{\"categories\": [\"0\", \"1\", \"2\", \"3\", \"4\", \"5\", \"6\", \"7\", \"8\", \"9\", \"10\", \"11\", \"12\", \"13\", \"14\", \"15\", \"16\", \"17\", \"18\", \"19\", \"24\", \"25\"], \"mode\": \"markers\", \"name\": \"recall_score_weighted\", \"stepped\": false, \"type\": \"scatter\", \"data\": [0.9109062980030722, 0.9097542242703534, 0.9097542242703534, 0.9097542242703534, 0.9097542242703534, 0.9097542242703534, 0.6140552995391704, 0.9097542242703534, 0.9097542242703534, 0.5841013824884793, 0.9097542242703534, 0.6586021505376344, 0.9097542242703534, 0.9097542242703534, 0.9039938556067588, 0.9097542242703534, 0.6609062980030722, 0.6248079877112135, 0.9082181259600615, 0.9097542242703534, 0.9097542242703534, 0.9101382488479263]}, {\"categories\": [\"0\", \"1\", \"2\", \"3\", \"4\", \"5\", \"6\", \"7\", \"8\", \"9\", \"10\", \"11\", \"12\", \"13\", \"14\", \"15\", \"16\", \"17\", \"18\", \"19\", \"24\", \"25\"], \"mode\": \"lines\", \"name\": \"recall_score_weighted_max\", \"stepped\": true, \"type\": \"scatter\", \"data\": [0.9109062980030722, 0.9109062980030722, 0.9109062980030722, 0.9109062980030722, 0.9109062980030722, 0.9109062980030722, 0.9109062980030722, 0.9109062980030722, 0.9109062980030722, 0.9109062980030722, 0.9109062980030722, 0.9109062980030722, 0.9109062980030722, 0.9109062980030722, 0.9109062980030722, 0.9109062980030722, 0.9109062980030722, 0.9109062980030722, 0.9109062980030722, 0.9109062980030722, 0.9109062980030722, 0.9109062980030722]}], \"precision_score_weighted\": [{\"categories\": [\"0\", \"1\", \"2\", \"3\", \"4\", \"5\", \"6\", \"7\", \"8\", \"9\", \"10\", \"11\", \"12\", \"13\", \"14\", \"15\", \"16\", \"17\", \"18\", \"19\", \"24\", \"25\"], \"mode\": \"markers\", \"name\": \"precision_score_weighted\", \"stepped\": false, \"type\": \"scatter\", \"data\": [0.8837156219895341, 0.8276527485777524, 0.8276527485777524, 0.8276527485777524, 0.8276527485777524, 0.873349137421718, 0.8755444843382547, 0.873349137421718, 0.873349137421718, 0.841653820742343, 0.8276527485777524, 0.8742921041739401, 0.8736365501526047, 0.8276527485777524, 0.8509846919858042, 0.8276527485777524, 0.8778957990013454, 0.8785104422848866, 0.8587585161005861, 0.8276527485777524, 0.8736365501526047, 0.8781311458056428]}, {\"categories\": [\"0\", \"1\", \"2\", \"3\", \"4\", \"5\", \"6\", \"7\", \"8\", \"9\", \"10\", \"11\", \"12\", \"13\", \"14\", \"15\", \"16\", \"17\", \"18\", \"19\", \"24\", \"25\"], \"mode\": \"lines\", \"name\": \"precision_score_weighted_max\", \"stepped\": true, \"type\": \"scatter\", \"data\": [0.8837156219895341, 0.8837156219895341, 0.8837156219895341, 0.8837156219895341, 0.8837156219895341, 0.8837156219895341, 0.8837156219895341, 0.8837156219895341, 0.8837156219895341, 0.8837156219895341, 0.8837156219895341, 0.8837156219895341, 0.8837156219895341, 0.8837156219895341, 0.8837156219895341, 0.8837156219895341, 0.8837156219895341, 0.8837156219895341, 0.8837156219895341, 0.8837156219895341, 0.8837156219895341, 0.8837156219895341]}], \"precision_score_micro\": [{\"categories\": [\"0\", \"1\", \"2\", \"3\", \"4\", \"5\", \"6\", \"7\", \"8\", \"9\", \"10\", \"11\", \"12\", \"13\", \"14\", \"15\", \"16\", \"17\", \"18\", \"19\", \"24\", \"25\"], \"mode\": \"markers\", \"name\": \"precision_score_micro\", \"stepped\": false, \"type\": \"scatter\", \"data\": [0.9109062980030722, 0.9097542242703534, 0.9097542242703534, 0.9097542242703534, 0.9097542242703534, 0.9097542242703534, 0.6140552995391705, 0.9097542242703534, 0.9097542242703534, 0.5841013824884793, 0.9097542242703534, 0.6586021505376344, 0.9097542242703534, 0.9097542242703534, 0.9039938556067588, 0.9097542242703534, 0.6609062980030722, 0.6248079877112135, 0.9082181259600615, 0.9097542242703534, 0.9097542242703534, 0.9101382488479263]}, {\"categories\": [\"0\", \"1\", \"2\", \"3\", \"4\", \"5\", \"6\", \"7\", \"8\", \"9\", \"10\", \"11\", \"12\", \"13\", \"14\", \"15\", \"16\", \"17\", \"18\", \"19\", \"24\", \"25\"], \"mode\": \"lines\", \"name\": \"precision_score_micro_max\", \"stepped\": true, \"type\": \"scatter\", \"data\": [0.9109062980030722, 0.9109062980030722, 0.9109062980030722, 0.9109062980030722, 0.9109062980030722, 0.9109062980030722, 0.9109062980030722, 0.9109062980030722, 0.9109062980030722, 0.9109062980030722, 0.9109062980030722, 0.9109062980030722, 0.9109062980030722, 0.9109062980030722, 0.9109062980030722, 0.9109062980030722, 0.9109062980030722, 0.9109062980030722, 0.9109062980030722, 0.9109062980030722, 0.9109062980030722, 0.9109062980030722]}], \"weighted_accuracy\": [{\"categories\": [\"0\", \"1\", \"2\", \"3\", \"4\", \"5\", \"6\", \"7\", \"8\", \"9\", \"10\", \"11\", \"12\", \"13\", \"14\", \"15\", \"16\", \"17\", \"18\", \"19\", \"24\", \"25\"], \"mode\": \"markers\", \"name\": \"weighted_accuracy\", \"stepped\": false, \"type\": \"scatter\", \"data\": [0.9877442616401988, 0.9902556487241209, 0.9902556487241209, 0.9902556487241209, 0.9902556487241209, 0.9895025678505046, 0.6096509043146171, 0.9895025678505046, 0.9895025678505046, 0.5966265576405068, 0.9902556487241209, 0.6622815174403156, 0.9891260274136967, 0.9902556487241209, 0.9813497792456698, 0.9902556487241209, 0.6625303093877849, 0.620225444323009, 0.9870774639313432, 0.9902556487241209, 0.9891260274136965, 0.9865317096806182]}, {\"categories\": [\"0\", \"1\", \"2\", \"3\", \"4\", \"5\", \"6\", \"7\", \"8\", \"9\", \"10\", \"11\", \"12\", \"13\", \"14\", \"15\", \"16\", \"17\", \"18\", \"19\", \"24\", \"25\"], \"mode\": \"lines\", \"name\": \"weighted_accuracy_max\", \"stepped\": true, \"type\": \"scatter\", \"data\": [0.9877442616401988, 0.9902556487241209, 0.9902556487241209, 0.9902556487241209, 0.9902556487241209, 0.9902556487241209, 0.9902556487241209, 0.9902556487241209, 0.9902556487241209, 0.9902556487241209, 0.9902556487241209, 0.9902556487241209, 0.9902556487241209, 0.9902556487241209, 0.9902556487241209, 0.9902556487241209, 0.9902556487241209, 0.9902556487241209, 0.9902556487241209, 0.9902556487241209, 0.9902556487241209, 0.9902556487241209]}], \"log_loss\": [{\"categories\": [\"0\", \"1\", \"2\", \"3\", \"4\", \"5\", \"6\", \"7\", \"8\", \"9\", \"10\", \"11\", \"12\", \"13\", \"14\", \"15\", \"16\", \"17\", \"18\", \"19\", \"24\", \"25\"], \"mode\": \"markers\", \"name\": \"log_loss\", \"stepped\": false, \"type\": \"scatter\", \"data\": [0.272470616596301, 0.27737863060189527, 0.28789138639446654, 0.29263876918953813, 0.30073337626106456, 0.36501169623323015, 0.6359645395297221, 0.3657694249799243, 0.3630941658305728, 0.6894036852948987, 0.2927237230459627, 0.646178118429167, 0.28771393922280203, 0.2876420484834131, 0.3707390998158776, 0.2803421983793107, 0.6014716701583356, 0.6139143280471004, 0.3643254948449501, 0.2877694943692894, 0.31006609174539046, 0.27355512277428257]}, {\"categories\": [\"0\", \"1\", \"2\", \"3\", \"4\", \"5\", \"6\", \"7\", \"8\", \"9\", \"10\", \"11\", \"12\", \"13\", \"14\", \"15\", \"16\", \"17\", \"18\", \"19\", \"24\", \"25\"], \"mode\": \"lines\", \"name\": \"log_loss_min\", \"stepped\": true, \"type\": \"scatter\", \"data\": [0.272470616596301, 0.272470616596301, 0.272470616596301, 0.272470616596301, 0.272470616596301, 0.272470616596301, 0.272470616596301, 0.272470616596301, 0.272470616596301, 0.272470616596301, 0.272470616596301, 0.272470616596301, 0.272470616596301, 0.272470616596301, 0.272470616596301, 0.272470616596301, 0.272470616596301, 0.272470616596301, 0.272470616596301, 0.272470616596301, 0.272470616596301, 0.272470616596301]}], \"recall_score_micro\": [{\"categories\": [\"0\", \"1\", \"2\", \"3\", \"4\", \"5\", \"6\", \"7\", \"8\", \"9\", \"10\", \"11\", \"12\", \"13\", \"14\", \"15\", \"16\", \"17\", \"18\", \"19\", \"24\", \"25\"], \"mode\": \"markers\", \"name\": \"recall_score_micro\", \"stepped\": false, \"type\": \"scatter\", \"data\": [0.9109062980030722, 0.9097542242703534, 0.9097542242703534, 0.9097542242703534, 0.9097542242703534, 0.9097542242703534, 0.6140552995391705, 0.9097542242703534, 0.9097542242703534, 0.5841013824884793, 0.9097542242703534, 0.6586021505376344, 0.9097542242703534, 0.9097542242703534, 0.9039938556067588, 0.9097542242703534, 0.6609062980030722, 0.6248079877112135, 0.9082181259600615, 0.9097542242703534, 0.9097542242703534, 0.9101382488479263]}, {\"categories\": [\"0\", \"1\", \"2\", \"3\", \"4\", \"5\", \"6\", \"7\", \"8\", \"9\", \"10\", \"11\", \"12\", \"13\", \"14\", \"15\", \"16\", \"17\", \"18\", \"19\", \"24\", \"25\"], \"mode\": \"lines\", \"name\": \"recall_score_micro_max\", \"stepped\": true, \"type\": \"scatter\", \"data\": [0.9109062980030722, 0.9109062980030722, 0.9109062980030722, 0.9109062980030722, 0.9109062980030722, 0.9109062980030722, 0.9109062980030722, 0.9109062980030722, 0.9109062980030722, 0.9109062980030722, 0.9109062980030722, 0.9109062980030722, 0.9109062980030722, 0.9109062980030722, 0.9109062980030722, 0.9109062980030722, 0.9109062980030722, 0.9109062980030722, 0.9109062980030722, 0.9109062980030722, 0.9109062980030722, 0.9109062980030722]}], \"AUC_macro\": [{\"categories\": [\"0\", \"1\", \"2\", \"3\", \"4\", \"5\", \"6\", \"7\", \"8\", \"9\", \"10\", \"11\", \"12\", \"13\", \"14\", \"15\", \"16\", \"17\", \"18\", \"19\", \"24\", \"25\"], \"mode\": \"markers\", \"name\": \"AUC_macro\", \"stepped\": false, \"type\": \"scatter\", \"data\": [0.7249669938837646, 0.7027752081406105, 0.661463226246823, 0.6683015546554343, 0.5528699603926605, 0.6642797481655784, 0.6903011415176526, 0.6823446467222906, 0.6990614587356188, 0.5407892727876921, 0.6229489056339419, 0.7032269653233701, 0.685900326019597, 0.695814734648788, 0.7000449062805925, 0.7112849483128709, 0.7164437818273264, 0.6995365671842864, 0.655858922428891, 0.7004616365644899, 0.7326118390918155, 0.725798658200336]}, {\"categories\": [\"0\", \"1\", \"2\", \"3\", \"4\", \"5\", \"6\", \"7\", \"8\", \"9\", \"10\", \"11\", \"12\", \"13\", \"14\", \"15\", \"16\", \"17\", \"18\", \"19\", \"24\", \"25\"], \"mode\": \"lines\", \"name\": \"AUC_macro_max\", \"stepped\": true, \"type\": \"scatter\", \"data\": [0.7249669938837646, 0.7249669938837646, 0.7249669938837646, 0.7249669938837646, 0.7249669938837646, 0.7249669938837646, 0.7249669938837646, 0.7249669938837646, 0.7249669938837646, 0.7249669938837646, 0.7249669938837646, 0.7249669938837646, 0.7249669938837646, 0.7249669938837646, 0.7249669938837646, 0.7249669938837646, 0.7249669938837646, 0.7249669938837646, 0.7249669938837646, 0.7249669938837646, 0.7326118390918155, 0.7326118390918155]}], \"f1_score_micro\": [{\"categories\": [\"0\", \"1\", \"2\", \"3\", \"4\", \"5\", \"6\", \"7\", \"8\", \"9\", \"10\", \"11\", \"12\", \"13\", \"14\", \"15\", \"16\", \"17\", \"18\", \"19\", \"24\", \"25\"], \"mode\": \"markers\", \"name\": \"f1_score_micro\", \"stepped\": false, \"type\": \"scatter\", \"data\": [0.9109062980030722, 0.9097542242703534, 0.9097542242703534, 0.9097542242703534, 0.9097542242703534, 0.9097542242703534, 0.6140552995391705, 0.9097542242703534, 0.9097542242703534, 0.5841013824884793, 0.9097542242703534, 0.6586021505376344, 0.9097542242703534, 0.9097542242703534, 0.9039938556067588, 0.9097542242703534, 0.6609062980030722, 0.6248079877112135, 0.9082181259600615, 0.9097542242703534, 0.9097542242703534, 0.9101382488479263]}, {\"categories\": [\"0\", \"1\", \"2\", \"3\", \"4\", \"5\", \"6\", \"7\", \"8\", \"9\", \"10\", \"11\", \"12\", \"13\", \"14\", \"15\", \"16\", \"17\", \"18\", \"19\", \"24\", \"25\"], \"mode\": \"lines\", \"name\": \"f1_score_micro_max\", \"stepped\": true, \"type\": \"scatter\", \"data\": [0.9109062980030722, 0.9109062980030722, 0.9109062980030722, 0.9109062980030722, 0.9109062980030722, 0.9109062980030722, 0.9109062980030722, 0.9109062980030722, 0.9109062980030722, 0.9109062980030722, 0.9109062980030722, 0.9109062980030722, 0.9109062980030722, 0.9109062980030722, 0.9109062980030722, 0.9109062980030722, 0.9109062980030722, 0.9109062980030722, 0.9109062980030722, 0.9109062980030722, 0.9109062980030722, 0.9109062980030722]}], \"precision_score_macro\": [{\"categories\": [\"0\", \"1\", \"2\", \"3\", \"4\", \"5\", \"6\", \"7\", \"8\", \"9\", \"10\", \"11\", \"12\", \"13\", \"14\", \"15\", \"16\", \"17\", \"18\", \"19\", \"24\", \"25\"], \"mode\": \"markers\", \"name\": \"precision_score_macro\", \"stepped\": false, \"type\": \"scatter\", \"data\": [0.7506309829691444, 0.4548771121351767, 0.4548771121351767, 0.4548771121351767, 0.4548771121351767, 0.7051923076923077, 0.5461360307601876, 0.7051923076923077, 0.7051923076923077, 0.5069297627437163, 0.4548771121351767, 0.5496924137226874, 0.7053502694380293, 0.4548771121351767, 0.5764178105122196, 0.4548771121351767, 0.5540806975116146, 0.5503886010362694, 0.6221064814814815, 0.4548771121351767, 0.7053502694380293, 0.7185443283004258]}, {\"categories\": [\"0\", \"1\", \"2\", \"3\", \"4\", \"5\", \"6\", \"7\", \"8\", \"9\", \"10\", \"11\", \"12\", \"13\", \"14\", \"15\", \"16\", \"17\", \"18\", \"19\", \"24\", \"25\"], \"mode\": \"lines\", \"name\": \"precision_score_macro_max\", \"stepped\": true, \"type\": \"scatter\", \"data\": [0.7506309829691444, 0.7506309829691444, 0.7506309829691444, 0.7506309829691444, 0.7506309829691444, 0.7506309829691444, 0.7506309829691444, 0.7506309829691444, 0.7506309829691444, 0.7506309829691444, 0.7506309829691444, 0.7506309829691444, 0.7506309829691444, 0.7506309829691444, 0.7506309829691444, 0.7506309829691444, 0.7506309829691444, 0.7506309829691444, 0.7506309829691444, 0.7506309829691444, 0.7506309829691444, 0.7506309829691444]}], \"matthews_correlation\": [{\"categories\": [\"0\", \"1\", \"2\", \"3\", \"4\", \"5\", \"6\", \"7\", \"8\", \"9\", \"10\", \"11\", \"12\", \"13\", \"14\", \"15\", \"16\", \"17\", \"18\", \"19\", \"24\", \"25\"], \"mode\": \"markers\", \"name\": \"matthews_correlation\", \"stepped\": false, \"type\": \"scatter\", \"data\": [0.1408870146340131, 0.0, 0.0, 0.0, 0.0, 0.05609075420059616, 0.15869919314451986, 0.05609075420059616, 0.05609075420059616, 0.023749219270426305, 0.0, 0.1667414860320405, 0.06872330066342341, 0.0, 0.05597521110212244, 0.0, 0.18171273861967166, 0.17279151632713352, 0.057724525669401026, 0.0, 0.06872330066342341, 0.13643472652450064]}, {\"categories\": [\"0\", \"1\", \"2\", \"3\", \"4\", \"5\", \"6\", \"7\", \"8\", \"9\", \"10\", \"11\", \"12\", \"13\", \"14\", \"15\", \"16\", \"17\", \"18\", \"19\", \"24\", \"25\"], \"mode\": \"lines\", \"name\": \"matthews_correlation_max\", \"stepped\": true, \"type\": \"scatter\", \"data\": [0.1408870146340131, 0.1408870146340131, 0.1408870146340131, 0.1408870146340131, 0.1408870146340131, 0.1408870146340131, 0.15869919314451986, 0.15869919314451986, 0.15869919314451986, 0.15869919314451986, 0.15869919314451986, 0.1667414860320405, 0.1667414860320405, 0.1667414860320405, 0.1667414860320405, 0.1667414860320405, 0.18171273861967166, 0.18171273861967166, 0.18171273861967166, 0.18171273861967166, 0.18171273861967166, 0.18171273861967166]}], \"average_precision_score_macro\": [{\"categories\": [\"0\", \"1\", \"2\", \"3\", \"4\", \"5\", \"6\", \"7\", \"8\", \"9\", \"10\", \"11\", \"12\", \"13\", \"14\", \"15\", \"16\", \"17\", \"18\", \"19\", \"24\", \"25\"], \"mode\": \"markers\", \"name\": \"average_precision_score_macro\", \"stepped\": false, \"type\": \"scatter\", \"data\": [0.6056708582818758, 0.5895507663301633, 0.5530260433499106, 0.5561443001736919, 0.5249674456018613, 0.5760428855673801, 0.5743385230977249, 0.5752218474421148, 0.5800490826488413, 0.5197028060646557, 0.5583763613099513, 0.5726074777424558, 0.5840968986514083, 0.5706389356641632, 0.5702364275743664, 0.595661184850685, 0.5883100005033195, 0.5671435712490767, 0.5711133178224415, 0.5726244646163334, 0.6055917759754745, 0.600988275697359]}, {\"categories\": [\"0\", \"1\", \"2\", \"3\", \"4\", \"5\", \"6\", \"7\", \"8\", \"9\", \"10\", \"11\", \"12\", \"13\", \"14\", \"15\", \"16\", \"17\", \"18\", \"19\", \"24\", \"25\"], \"mode\": \"lines\", \"name\": \"average_precision_score_macro_max\", \"stepped\": true, \"type\": \"scatter\", \"data\": [0.6056708582818758, 0.6056708582818758, 0.6056708582818758, 0.6056708582818758, 0.6056708582818758, 0.6056708582818758, 0.6056708582818758, 0.6056708582818758, 0.6056708582818758, 0.6056708582818758, 0.6056708582818758, 0.6056708582818758, 0.6056708582818758, 0.6056708582818758, 0.6056708582818758, 0.6056708582818758, 0.6056708582818758, 0.6056708582818758, 0.6056708582818758, 0.6056708582818758, 0.6056708582818758, 0.6056708582818758]}], \"accuracy\": [{\"categories\": [\"0\", \"1\", \"2\", \"3\", \"4\", \"5\", \"6\", \"7\", \"8\", \"9\", \"10\", \"11\", \"12\", \"13\", \"14\", \"15\", \"16\", \"17\", \"18\", \"19\", \"24\", \"25\"], \"mode\": \"markers\", \"name\": \"accuracy\", \"stepped\": false, \"type\": \"scatter\", \"data\": [0.9109062980030722, 0.9097542242703534, 0.9097542242703534, 0.9097542242703534, 0.9097542242703534, 0.9097542242703534, 0.6140552995391705, 0.9097542242703534, 0.9097542242703534, 0.5841013824884793, 0.9097542242703534, 0.6586021505376344, 0.9097542242703534, 0.9097542242703534, 0.9039938556067588, 0.9097542242703534, 0.6609062980030722, 0.6248079877112135, 0.9082181259600615, 0.9097542242703534, 0.9097542242703534, 0.9101382488479263]}, {\"categories\": [\"0\", \"1\", \"2\", \"3\", \"4\", \"5\", \"6\", \"7\", \"8\", \"9\", \"10\", \"11\", \"12\", \"13\", \"14\", \"15\", \"16\", \"17\", \"18\", \"19\", \"24\", \"25\"], \"mode\": \"lines\", \"name\": \"accuracy_max\", \"stepped\": true, \"type\": \"scatter\", \"data\": [0.9109062980030722, 0.9109062980030722, 0.9109062980030722, 0.9109062980030722, 0.9109062980030722, 0.9109062980030722, 0.9109062980030722, 0.9109062980030722, 0.9109062980030722, 0.9109062980030722, 0.9109062980030722, 0.9109062980030722, 0.9109062980030722, 0.9109062980030722, 0.9109062980030722, 0.9109062980030722, 0.9109062980030722, 0.9109062980030722, 0.9109062980030722, 0.9109062980030722, 0.9109062980030722, 0.9109062980030722]}], \"f1_score_weighted\": [{\"categories\": [\"0\", \"1\", \"2\", \"3\", \"4\", \"5\", \"6\", \"7\", \"8\", \"9\", \"10\", \"11\", \"12\", \"13\", \"14\", \"15\", \"16\", \"17\", \"18\", \"19\", \"24\", \"25\"], \"mode\": \"markers\", \"name\": \"f1_score_weighted\", \"stepped\": false, \"type\": \"scatter\", \"data\": [0.87432922260697, 0.8667636265016959, 0.8667636265016959, 0.8667636265016959, 0.8667636265016959, 0.868239409011782, 0.6961547090131379, 0.868239409011782, 0.868239409011782, 0.6727588958391395, 0.8667636265016959, 0.731214553335346, 0.8689584778349532, 0.8667636265016959, 0.8685370409160732, 0.8667636265016959, 0.7330734851244981, 0.7047670261152202, 0.8688490531875728, 0.8667636265016959, 0.8689584778349532, 0.8745205266642719]}, {\"categories\": [\"0\", \"1\", \"2\", \"3\", \"4\", \"5\", \"6\", \"7\", \"8\", \"9\", \"10\", \"11\", \"12\", \"13\", \"14\", \"15\", \"16\", \"17\", \"18\", \"19\", \"24\", \"25\"], \"mode\": \"lines\", \"name\": \"f1_score_weighted_max\", \"stepped\": true, \"type\": \"scatter\", \"data\": [0.87432922260697, 0.87432922260697, 0.87432922260697, 0.87432922260697, 0.87432922260697, 0.87432922260697, 0.87432922260697, 0.87432922260697, 0.87432922260697, 0.87432922260697, 0.87432922260697, 0.87432922260697, 0.87432922260697, 0.87432922260697, 0.87432922260697, 0.87432922260697, 0.87432922260697, 0.87432922260697, 0.87432922260697, 0.87432922260697, 0.87432922260697, 0.8745205266642719]}], \"average_precision_score_micro\": [{\"categories\": [\"0\", \"1\", \"2\", \"3\", \"4\", \"5\", \"6\", \"7\", \"8\", \"9\", \"10\", \"11\", \"12\", \"13\", \"14\", \"15\", \"16\", \"17\", \"18\", \"19\", \"24\", \"25\"], \"mode\": \"markers\", \"name\": \"average_precision_score_micro\", \"stepped\": false, \"type\": \"scatter\", \"data\": [0.9426239426061869, 0.9378620782543885, 0.9292646546607706, 0.9319543655186795, 0.8936468581624489, 0.9204761054548057, 0.7140450693693774, 0.9344863466562883, 0.9284504817998323, 0.5576586891323695, 0.9183677604119852, 0.7095956048592835, 0.9306711032468833, 0.9370599055350842, 0.933394687461976, 0.9407915494419495, 0.7321089038764453, 0.7077331149369605, 0.918686602299139, 0.9380335947720001, 0.9445273369337064, 0.9432923462434204]}, {\"categories\": [\"0\", \"1\", \"2\", \"3\", \"4\", \"5\", \"6\", \"7\", \"8\", \"9\", \"10\", \"11\", \"12\", \"13\", \"14\", \"15\", \"16\", \"17\", \"18\", \"19\", \"24\", \"25\"], \"mode\": \"lines\", \"name\": \"average_precision_score_micro_max\", \"stepped\": true, \"type\": \"scatter\", \"data\": [0.9426239426061869, 0.9426239426061869, 0.9426239426061869, 0.9426239426061869, 0.9426239426061869, 0.9426239426061869, 0.9426239426061869, 0.9426239426061869, 0.9426239426061869, 0.9426239426061869, 0.9426239426061869, 0.9426239426061869, 0.9426239426061869, 0.9426239426061869, 0.9426239426061869, 0.9426239426061869, 0.9426239426061869, 0.9426239426061869, 0.9426239426061869, 0.9426239426061869, 0.9445273369337064, 0.9445273369337064]}], \"average_precision_score_weighted\": [{\"categories\": [\"0\", \"1\", \"2\", \"3\", \"4\", \"5\", \"6\", \"7\", \"8\", \"9\", \"10\", \"11\", \"12\", \"13\", \"14\", \"15\", \"16\", \"17\", \"18\", \"19\", \"24\", \"25\"], \"mode\": \"markers\", \"name\": \"average_precision_score_weighted\", \"stepped\": false, \"type\": \"scatter\", \"data\": [0.8966421896710269, 0.8905379550460859, 0.8777952368848966, 0.8805159449751836, 0.8439608054417008, 0.8753984846257535, 0.8867499508490982, 0.8856423462186301, 0.882719410138547, 0.8455330231655726, 0.8699056016885124, 0.8885277900007827, 0.8842364901002082, 0.8866026264319798, 0.8837262291451149, 0.8937880706171821, 0.8908289102629561, 0.8860366487114849, 0.8731919693399394, 0.887707611889355, 0.8980839600373971, 0.896425859943902]}, {\"categories\": [\"0\", \"1\", \"2\", \"3\", \"4\", \"5\", \"6\", \"7\", \"8\", \"9\", \"10\", \"11\", \"12\", \"13\", \"14\", \"15\", \"16\", \"17\", \"18\", \"19\", \"24\", \"25\"], \"mode\": \"lines\", \"name\": \"average_precision_score_weighted_max\", \"stepped\": true, \"type\": \"scatter\", \"data\": [0.8966421896710269, 0.8966421896710269, 0.8966421896710269, 0.8966421896710269, 0.8966421896710269, 0.8966421896710269, 0.8966421896710269, 0.8966421896710269, 0.8966421896710269, 0.8966421896710269, 0.8966421896710269, 0.8966421896710269, 0.8966421896710269, 0.8966421896710269, 0.8966421896710269, 0.8966421896710269, 0.8966421896710269, 0.8966421896710269, 0.8966421896710269, 0.8966421896710269, 0.8980839600373971, 0.8980839600373971]}], \"balanced_accuracy\": [{\"categories\": [\"0\", \"1\", \"2\", \"3\", \"4\", \"5\", \"6\", \"7\", \"8\", \"9\", \"10\", \"11\", \"12\", \"13\", \"14\", \"15\", \"16\", \"17\", \"18\", \"19\", \"24\", \"25\"], \"mode\": \"markers\", \"name\": \"balanced_accuracy\", \"stepped\": false, \"type\": \"scatter\", \"data\": [0.5197991791131907, 0.5, 0.5, 0.5, 0.5, 0.5038332001113676, 0.636473779222762, 0.5038332001113676, 0.5038332001113676, 0.5203479338620299, 0.5, 0.6398740827892189, 0.5057498001670514, 0.5, 0.510250307608022, 0.5, 0.6526400402360275, 0.6481332459157738, 0.5068221621475979, 0.5, 0.5057498001670514, 0.521293660131306]}, {\"categories\": [\"0\", \"1\", \"2\", \"3\", \"4\", \"5\", \"6\", \"7\", \"8\", \"9\", \"10\", \"11\", \"12\", \"13\", \"14\", \"15\", \"16\", \"17\", \"18\", \"19\", \"24\", \"25\"], \"mode\": \"lines\", \"name\": \"balanced_accuracy_max\", \"stepped\": true, \"type\": \"scatter\", \"data\": [0.5197991791131907, 0.5197991791131907, 0.5197991791131907, 0.5197991791131907, 0.5197991791131907, 0.5197991791131907, 0.636473779222762, 0.636473779222762, 0.636473779222762, 0.636473779222762, 0.636473779222762, 0.6398740827892189, 0.6398740827892189, 0.6398740827892189, 0.6398740827892189, 0.6398740827892189, 0.6526400402360275, 0.6526400402360275, 0.6526400402360275, 0.6526400402360275, 0.6526400402360275, 0.6526400402360275]}], \"f1_score_macro\": [{\"categories\": [\"0\", \"1\", \"2\", \"3\", \"4\", \"5\", \"6\", \"7\", \"8\", \"9\", \"10\", \"11\", \"12\", \"13\", \"14\", \"15\", \"16\", \"17\", \"18\", \"19\", \"24\", \"25\"], \"mode\": \"markers\", \"name\": \"f1_score_macro\", \"stepped\": false, \"type\": \"scatter\", \"data\": [0.5162765671240248, 0.47637241101950534, 0.47637241101950534, 0.47637241101950534, 0.47637241101950534, 0.48472159186117103, 0.48930684618262216, 0.48472159186117103, 0.48472159186117103, 0.4423141534636108, 0.47637241101950534, 0.5126604382855342, 0.4887920023190401, 0.47637241101950534, 0.501231979994116, 0.47637241101950534, 0.5176821881774732, 0.4979396467768561, 0.49210644647685137, 0.47637241101950534, 0.4887920023190401, 0.519341932552504]}, {\"categories\": [\"0\", \"1\", \"2\", \"3\", \"4\", \"5\", \"6\", \"7\", \"8\", \"9\", \"10\", \"11\", \"12\", \"13\", \"14\", \"15\", \"16\", \"17\", \"18\", \"19\", \"24\", \"25\"], \"mode\": \"lines\", \"name\": \"f1_score_macro_max\", \"stepped\": true, \"type\": \"scatter\", \"data\": [0.5162765671240248, 0.5162765671240248, 0.5162765671240248, 0.5162765671240248, 0.5162765671240248, 0.5162765671240248, 0.5162765671240248, 0.5162765671240248, 0.5162765671240248, 0.5162765671240248, 0.5162765671240248, 0.5162765671240248, 0.5162765671240248, 0.5162765671240248, 0.5162765671240248, 0.5162765671240248, 0.5176821881774732, 0.5176821881774732, 0.5176821881774732, 0.5176821881774732, 0.5176821881774732, 0.519341932552504]}], \"norm_macro_recall\": [{\"categories\": [\"0\", \"1\", \"2\", \"3\", \"4\", \"5\", \"6\", \"7\", \"8\", \"9\", \"10\", \"11\", \"12\", \"13\", \"14\", \"15\", \"16\", \"17\", \"18\", \"19\", \"24\", \"25\"], \"mode\": \"markers\", \"name\": \"norm_macro_recall\", \"stepped\": false, \"type\": \"scatter\", \"data\": [0.03959835822638147, 0.0, 0.0, 0.0, 0.0, 0.007666400222735126, 0.2729475584455241, 0.007666400222735126, 0.007666400222735126, 0.040695867724059864, 0.0, 0.27974816557843774, 0.0114996003341028, 0.0, 0.02050061521604407, 0.0, 0.305280080472055, 0.29626649183154763, 0.013644324295195798, 0.0, 0.0114996003341028, 0.042587320262611916]}, {\"categories\": [\"0\", \"1\", \"2\", \"3\", \"4\", \"5\", \"6\", \"7\", \"8\", \"9\", \"10\", \"11\", \"12\", \"13\", \"14\", \"15\", \"16\", \"17\", \"18\", \"19\", \"24\", \"25\"], \"mode\": \"lines\", \"name\": \"norm_macro_recall_max\", \"stepped\": true, \"type\": \"scatter\", \"data\": [0.03959835822638147, 0.03959835822638147, 0.03959835822638147, 0.03959835822638147, 0.03959835822638147, 0.03959835822638147, 0.2729475584455241, 0.2729475584455241, 0.2729475584455241, 0.2729475584455241, 0.2729475584455241, 0.27974816557843774, 0.27974816557843774, 0.27974816557843774, 0.27974816557843774, 0.27974816557843774, 0.305280080472055, 0.305280080472055, 0.305280080472055, 0.305280080472055, 0.305280080472055, 0.305280080472055]}], \"AUC_micro\": [{\"categories\": [\"0\", \"1\", \"2\", \"3\", \"4\", \"5\", \"6\", \"7\", \"8\", \"9\", \"10\", \"11\", \"12\", \"13\", \"14\", \"15\", \"16\", \"17\", \"18\", \"19\", \"24\", \"25\"], \"mode\": \"markers\", \"name\": \"AUC_micro\", \"stepped\": false, \"type\": \"scatter\", \"data\": [0.9467220464321697, 0.9430505119147902, 0.9362669625602582, 0.9373898362674935, 0.9184356278064469, 0.9367306235709685, 0.6936154881654362, 0.9396948685821884, 0.9424365740052526, 0.6092319862388244, 0.9299427974450273, 0.702804057800713, 0.9402813761647566, 0.9419075816243945, 0.942314169858023, 0.9444478363665967, 0.7306166396492693, 0.6951399359605097, 0.9353399354885903, 0.9426706166337503, 0.9479547889221592, 0.9468134808554014]}, {\"categories\": [\"0\", \"1\", \"2\", \"3\", \"4\", \"5\", \"6\", \"7\", \"8\", \"9\", \"10\", \"11\", \"12\", \"13\", \"14\", \"15\", \"16\", \"17\", \"18\", \"19\", \"24\", \"25\"], \"mode\": \"lines\", \"name\": \"AUC_micro_max\", \"stepped\": true, \"type\": \"scatter\", \"data\": [0.9467220464321697, 0.9467220464321697, 0.9467220464321697, 0.9467220464321697, 0.9467220464321697, 0.9467220464321697, 0.9467220464321697, 0.9467220464321697, 0.9467220464321697, 0.9467220464321697, 0.9467220464321697, 0.9467220464321697, 0.9467220464321697, 0.9467220464321697, 0.9467220464321697, 0.9467220464321697, 0.9467220464321697, 0.9467220464321697, 0.9467220464321697, 0.9467220464321697, 0.9479547889221592, 0.9479547889221592]}], \"recall_score_macro\": [{\"categories\": [\"0\", \"1\", \"2\", \"3\", \"4\", \"5\", \"6\", \"7\", \"8\", \"9\", \"10\", \"11\", \"12\", \"13\", \"14\", \"15\", \"16\", \"17\", \"18\", \"19\", \"24\", \"25\"], \"mode\": \"markers\", \"name\": \"recall_score_macro\", \"stepped\": false, \"type\": \"scatter\", \"data\": [0.5197991791131907, 0.5, 0.5, 0.5, 0.5, 0.5038332001113676, 0.636473779222762, 0.5038332001113676, 0.5038332001113676, 0.5203479338620299, 0.5, 0.6398740827892189, 0.5057498001670514, 0.5, 0.510250307608022, 0.5, 0.6526400402360275, 0.6481332459157738, 0.5068221621475979, 0.5, 0.5057498001670514, 0.521293660131306]}, {\"categories\": [\"0\", \"1\", \"2\", \"3\", \"4\", \"5\", \"6\", \"7\", \"8\", \"9\", \"10\", \"11\", \"12\", \"13\", \"14\", \"15\", \"16\", \"17\", \"18\", \"19\", \"24\", \"25\"], \"mode\": \"lines\", \"name\": \"recall_score_macro_max\", \"stepped\": true, \"type\": \"scatter\", \"data\": [0.5197991791131907, 0.5197991791131907, 0.5197991791131907, 0.5197991791131907, 0.5197991791131907, 0.5197991791131907, 0.636473779222762, 0.636473779222762, 0.636473779222762, 0.636473779222762, 0.636473779222762, 0.6398740827892189, 0.6398740827892189, 0.6398740827892189, 0.6398740827892189, 0.6398740827892189, 0.6526400402360275, 0.6526400402360275, 0.6526400402360275, 0.6526400402360275, 0.6526400402360275, 0.6526400402360275]}]}, \"metricName\": null, \"primaryMetricName\": \"AUC_weighted\", \"showLegend\": false}, \"run_metrics\": [{\"name\": \"experiment_status\", \"run_id\": \"AutoML_9e50608f-dce9-4706-aa7a-2480c162c927\", \"categories\": [0, 1, 2, 3, 4, 5, 6, 7, 8, 9, 10, 11], \"series\": [{\"data\": [\"DatasetEvaluation\", \"FeaturesGeneration\", \"DatasetFeaturization\", \"DatasetFeaturizationCompleted\", \"DatasetBalancing\", \"ModelSelection\", \"BestRunExplainModel\", \"ModelExplanationDataSetSetup\", \"PickSurrogateModel\", \"EngineeredFeatureExplanations\", \"EngineeredFeatureExplanations\", \"RawFeaturesExplanations\"]}]}, {\"name\": \"experiment_status_description\", \"run_id\": \"AutoML_9e50608f-dce9-4706-aa7a-2480c162c927\", \"categories\": [0, 1, 2, 3, 4, 5, 6, 7, 8, 9, 10, 11], \"series\": [{\"data\": [\"Gathering dataset statistics.\", \"Generating features for the dataset.\", \"Beginning to fit featurizers and featurize the dataset.\", \"Completed fit featurizers and featurizing the dataset.\", \"Performing class balancing sweeping\", \"Beginning model selection.\", \"Best run model explanations started\", \"Model explanations data setup completed\", \"Choosing LightGBM as the surrogate model for explanations\", \"Computation of engineered features started\", \"Computation of engineered features completed\", \"Computation of raw features started\"]}]}, {\"name\": \"average_precision_score_weighted\", \"run_id\": \"AutoML_9e50608f-dce9-4706-aa7a-2480c162c927\", \"categories\": [0], \"series\": [{\"data\": [0.8980839600373971]}]}, {\"name\": \"AUC_weighted\", \"run_id\": \"AutoML_9e50608f-dce9-4706-aa7a-2480c162c927\", \"categories\": [0], \"series\": [{\"data\": [0.7326118390918154]}]}, {\"name\": \"f1_score_weighted\", \"run_id\": \"AutoML_9e50608f-dce9-4706-aa7a-2480c162c927\", \"categories\": [0], \"series\": [{\"data\": [0.8689584778349532]}]}, {\"name\": \"recall_score_macro\", \"run_id\": \"AutoML_9e50608f-dce9-4706-aa7a-2480c162c927\", \"categories\": [0], \"series\": [{\"data\": [0.5057498001670514]}]}, {\"name\": \"precision_score_micro\", \"run_id\": \"AutoML_9e50608f-dce9-4706-aa7a-2480c162c927\", \"categories\": [0], \"series\": [{\"data\": [0.9097542242703534]}]}, {\"name\": \"matthews_correlation\", \"run_id\": \"AutoML_9e50608f-dce9-4706-aa7a-2480c162c927\", \"categories\": [0], \"series\": [{\"data\": [0.06872330066342341]}]}, {\"name\": \"f1_score_macro\", \"run_id\": \"AutoML_9e50608f-dce9-4706-aa7a-2480c162c927\", \"categories\": [0], \"series\": [{\"data\": [0.4887920023190401]}]}, {\"name\": \"f1_score_micro\", \"run_id\": \"AutoML_9e50608f-dce9-4706-aa7a-2480c162c927\", \"categories\": [0], \"series\": [{\"data\": [0.9097542242703534]}]}, {\"name\": \"average_precision_score_macro\", \"run_id\": \"AutoML_9e50608f-dce9-4706-aa7a-2480c162c927\", \"categories\": [0], \"series\": [{\"data\": [0.6055917759754745]}]}, {\"name\": \"AUC_macro\", \"run_id\": \"AutoML_9e50608f-dce9-4706-aa7a-2480c162c927\", \"categories\": [0], \"series\": [{\"data\": [0.7326118390918155]}]}, {\"name\": \"balanced_accuracy\", \"run_id\": \"AutoML_9e50608f-dce9-4706-aa7a-2480c162c927\", \"categories\": [0], \"series\": [{\"data\": [0.5057498001670514]}]}, {\"name\": \"average_precision_score_micro\", \"run_id\": \"AutoML_9e50608f-dce9-4706-aa7a-2480c162c927\", \"categories\": [0], \"series\": [{\"data\": [0.9445273369337064]}]}, {\"name\": \"recall_score_weighted\", \"run_id\": \"AutoML_9e50608f-dce9-4706-aa7a-2480c162c927\", \"categories\": [0], \"series\": [{\"data\": [0.9097542242703534]}]}, {\"name\": \"recall_score_micro\", \"run_id\": \"AutoML_9e50608f-dce9-4706-aa7a-2480c162c927\", \"categories\": [0], \"series\": [{\"data\": [0.9097542242703534]}]}, {\"name\": \"norm_macro_recall\", \"run_id\": \"AutoML_9e50608f-dce9-4706-aa7a-2480c162c927\", \"categories\": [0], \"series\": [{\"data\": [0.0114996003341028]}]}, {\"name\": \"weighted_accuracy\", \"run_id\": \"AutoML_9e50608f-dce9-4706-aa7a-2480c162c927\", \"categories\": [0], \"series\": [{\"data\": [0.9891260274136965]}]}, {\"name\": \"AUC_micro\", \"run_id\": \"AutoML_9e50608f-dce9-4706-aa7a-2480c162c927\", \"categories\": [0], \"series\": [{\"data\": [0.9479547889221592]}]}, {\"name\": \"accuracy\", \"run_id\": \"AutoML_9e50608f-dce9-4706-aa7a-2480c162c927\", \"categories\": [0], \"series\": [{\"data\": [0.9097542242703534]}]}, {\"name\": \"precision_score_macro\", \"run_id\": \"AutoML_9e50608f-dce9-4706-aa7a-2480c162c927\", \"categories\": [0], \"series\": [{\"data\": [0.7053502694380293]}]}, {\"name\": \"precision_score_weighted\", \"run_id\": \"AutoML_9e50608f-dce9-4706-aa7a-2480c162c927\", \"categories\": [0], \"series\": [{\"data\": [0.8736365501526047]}]}, {\"name\": \"log_loss\", \"run_id\": \"AutoML_9e50608f-dce9-4706-aa7a-2480c162c927\", \"categories\": [0], \"series\": [{\"data\": [0.31006609174539046]}]}], \"run_logs\": \"\\nRun is completed.\", \"graph\": {}, \"widget_settings\": {\"childWidgetDisplay\": \"popup\", \"send_telemetry\": false, \"log_level\": \"INFO\", \"sdk_version\": \"1.34.0\"}, \"loading\": false}"
          },
          "metadata": {}
        }
      ],
      "execution_count": 17,
      "metadata": {
        "gather": {
          "logged": 1634469780923
        },
        "jupyter": {
          "outputs_hidden": false,
          "source_hidden": false
        },
        "nteract": {
          "transient": {
            "deleting": false
          }
        }
      }
    },
    {
      "cell_type": "markdown",
      "source": [
        "## Best Model\n",
        "\n",
        "TODO: In the cell below, get the best model from the automl experiments and display all the properties of the model.\n",
        "\n"
      ],
      "metadata": {}
    },
    {
      "cell_type": "code",
      "source": [
        "best_run, best_model = remote_run.get_output()\r\n",
        "\r\n",
        "best_model_metrics = best_run.get_metrics()\r\n"
      ],
      "outputs": [],
      "execution_count": 27,
      "metadata": {
        "gather": {
          "logged": 1634473942198
        },
        "jupyter": {
          "outputs_hidden": false,
          "source_hidden": false
        },
        "nteract": {
          "transient": {
            "deleting": false
          }
        }
      }
    },
    {
      "cell_type": "code",
      "source": [
        "# Display the metrics of the best model\r\n",
        "\r\n",
        "metrics = pd.DataFrame.from_dict(best_model_metrics, orient='index', columns=['metric value'])\r\n",
        "metrics"
      ],
      "outputs": [
        {
          "output_type": "execute_result",
          "execution_count": 35,
          "data": {
            "text/plain": "                                                                       metric value\nweighted_accuracy                                                              0.99\nAUC_micro                                                                      0.95\nrecall_score_micro                                                             0.91\nlog_loss                                                                       0.31\nprecision_score_macro                                                          0.71\nnorm_macro_recall                                                              0.01\nprecision_score_weighted                                                       0.87\naccuracy                                                                       0.91\naverage_precision_score_micro                                                  0.94\nrecall_score_weighted                                                          0.91\nbalanced_accuracy                                                              0.51\nAUC_macro                                                                      0.73\nf1_score_weighted                                                              0.87\nf1_score_micro                                                                 0.91\naverage_precision_score_macro                                                  0.61\nf1_score_macro                                                                 0.49\naverage_precision_score_weighted                                               0.90\nrecall_score_macro                                                             0.51\nAUC_weighted                                                                   0.73\nmatthews_correlation                                                           0.07\nprecision_score_micro                                                          0.91\nconfusion_matrix                  aml://artifactId/ExperimentRun/dcid.AutoML_9e5...\naccuracy_table                    aml://artifactId/ExperimentRun/dcid.AutoML_9e5...",
            "text/html": "<div>\n<style scoped>\n    .dataframe tbody tr th:only-of-type {\n        vertical-align: middle;\n    }\n\n    .dataframe tbody tr th {\n        vertical-align: top;\n    }\n\n    .dataframe thead th {\n        text-align: right;\n    }\n</style>\n<table border=\"1\" class=\"dataframe\">\n  <thead>\n    <tr style=\"text-align: right;\">\n      <th></th>\n      <th>metric value</th>\n    </tr>\n  </thead>\n  <tbody>\n    <tr>\n      <th>weighted_accuracy</th>\n      <td>0.99</td>\n    </tr>\n    <tr>\n      <th>AUC_micro</th>\n      <td>0.95</td>\n    </tr>\n    <tr>\n      <th>recall_score_micro</th>\n      <td>0.91</td>\n    </tr>\n    <tr>\n      <th>log_loss</th>\n      <td>0.31</td>\n    </tr>\n    <tr>\n      <th>precision_score_macro</th>\n      <td>0.71</td>\n    </tr>\n    <tr>\n      <th>norm_macro_recall</th>\n      <td>0.01</td>\n    </tr>\n    <tr>\n      <th>precision_score_weighted</th>\n      <td>0.87</td>\n    </tr>\n    <tr>\n      <th>accuracy</th>\n      <td>0.91</td>\n    </tr>\n    <tr>\n      <th>average_precision_score_micro</th>\n      <td>0.94</td>\n    </tr>\n    <tr>\n      <th>recall_score_weighted</th>\n      <td>0.91</td>\n    </tr>\n    <tr>\n      <th>balanced_accuracy</th>\n      <td>0.51</td>\n    </tr>\n    <tr>\n      <th>AUC_macro</th>\n      <td>0.73</td>\n    </tr>\n    <tr>\n      <th>f1_score_weighted</th>\n      <td>0.87</td>\n    </tr>\n    <tr>\n      <th>f1_score_micro</th>\n      <td>0.91</td>\n    </tr>\n    <tr>\n      <th>average_precision_score_macro</th>\n      <td>0.61</td>\n    </tr>\n    <tr>\n      <th>f1_score_macro</th>\n      <td>0.49</td>\n    </tr>\n    <tr>\n      <th>average_precision_score_weighted</th>\n      <td>0.90</td>\n    </tr>\n    <tr>\n      <th>recall_score_macro</th>\n      <td>0.51</td>\n    </tr>\n    <tr>\n      <th>AUC_weighted</th>\n      <td>0.73</td>\n    </tr>\n    <tr>\n      <th>matthews_correlation</th>\n      <td>0.07</td>\n    </tr>\n    <tr>\n      <th>precision_score_micro</th>\n      <td>0.91</td>\n    </tr>\n    <tr>\n      <th>confusion_matrix</th>\n      <td>aml://artifactId/ExperimentRun/dcid.AutoML_9e5...</td>\n    </tr>\n    <tr>\n      <th>accuracy_table</th>\n      <td>aml://artifactId/ExperimentRun/dcid.AutoML_9e5...</td>\n    </tr>\n  </tbody>\n</table>\n</div>"
          },
          "metadata": {}
        }
      ],
      "execution_count": 35,
      "metadata": {
        "jupyter": {
          "source_hidden": false,
          "outputs_hidden": false
        },
        "nteract": {
          "transient": {
            "deleting": false
          }
        },
        "gather": {
          "logged": 1634474211726
        }
      }
    },
    {
      "cell_type": "code",
      "source": [
        "#TODO: Save the best model\r\n",
        "model_name = best_run.properties['model_name']\r\n",
        "\r\n",
        "aml_model = remote_run.register_model(model_name=model_name, description='Best model form AutoML', tags=None)\r\n",
        "\r\n",
        "print(remote_run.model_id)"
      ],
      "outputs": [
        {
          "output_type": "stream",
          "name": "stdout",
          "text": "AutoML9e50608fd24\n"
        }
      ],
      "execution_count": 58,
      "metadata": {
        "gather": {
          "logged": 1634479501166
        },
        "jupyter": {
          "outputs_hidden": false,
          "source_hidden": false
        },
        "nteract": {
          "transient": {
            "deleting": false
          }
        }
      }
    },
    {
      "cell_type": "markdown",
      "source": [
        "## Model Deployment\n",
        "\n",
        "Remember you have to deploy only one of the two models you trained but you still need to register both the models. Perform the steps in the rest of this notebook only if you wish to deploy this model.\n",
        "\n",
        "TODO: In the cell below, register the model, create an inference config and deploy the model as a web service."
      ],
      "metadata": {}
    },
    {
      "cell_type": "code",
      "source": [
        "# Define inference config\r\n",
        "\r\n",
        "env = best_run.get_environment()\r\n",
        "dummy_inference_config = InferenceConfig(\r\n",
        "    environment= env,\r\n",
        "    entry_script=\"./source_dir/echo_score.py\"\r\n",
        ")\r\n",
        "\r\n",
        "\r\n",
        "# Define a deployment configuration\r\n",
        "\r\n",
        "deploy_config = LocalWebservice.deploy_configuration(port=9000)"
      ],
      "outputs": [],
      "execution_count": 59,
      "metadata": {
        "jupyter": {
          "source_hidden": false,
          "outputs_hidden": false
        },
        "nteract": {
          "transient": {
            "deleting": false
          }
        },
        "gather": {
          "logged": 1634479514545
        }
      }
    },
    {
      "cell_type": "code",
      "source": [
        "# Deploy the model\r\n",
        "\r\n",
        "service = Model.deploy(\r\n",
        "    ws,\r\n",
        "    \"myservice\",\r\n",
        "    [aml_model],\r\n",
        "    dummy_inference_config,\r\n",
        "    deploy_config\r\n",
        ")\r\n",
        "\r\n",
        "service.wait_for_deployment(show_output=True)"
      ],
      "outputs": [
        {
          "output_type": "stream",
          "name": "stdout",
          "text": "Downloading model AutoML9e50608fd24:1 to /tmp/azureml_uilmwz1f/AutoML9e50608fd24/1\nGenerating Docker build context.\nPackage creation Succeeded\nLogging into Docker registry viennaglobal.azurecr.io\nLogging into Docker registry viennaglobal.azurecr.io\nBuilding Docker image from Dockerfile...\nStep 1/5 : FROM viennaglobal.azurecr.io/azureml/azureml_4d4668f442e87b2baa899f119bc648ab\n ---> f1f4c52d7f98\nStep 2/5 : COPY azureml-app /var/azureml-app\n ---> 1eefedddbf30\nStep 3/5 : RUN mkdir -p '/var/azureml-app' && echo eyJhY2NvdW50Q29udGV4dCI6eyJzdWJzY3JpcHRpb25JZCI6ImEwYTc2YmFkLTExYTEtNGEyZC05ODg3LTk3YTI5MTIyYzhlZCIsInJlc291cmNlR3JvdXBOYW1lIjoiYW1sLXF1aWNrc3RhcnRzLTE2MTIzNyIsImFjY291bnROYW1lIjoicXVpY2stc3RhcnRzLXdzLTE2MTIzNyIsIndvcmtzcGFjZUlkIjoiZTZlOTNjMjgtMTczYi00YzlmLWE3ODQtNjNlMjJiZGQyMmI0In0sIm1vZGVscyI6e30sIm1vZGVsc0luZm8iOnt9fQ== | base64 --decode > /var/azureml-app/model_config_map.json\n ---> Running in 1e1a8a2c6c8f\n ---> 33b20edbb2b5\nStep 4/5 : RUN mv '/var/azureml-app/tmpev5f8bpc.py' /var/azureml-app/main.py\n ---> Running in 2fee8fb9f39a\n ---> 74be44822f75\nStep 5/5 : CMD [\"runsvdir\",\"/var/runit\"]\n ---> Running in 63f246535641\n ---> f2cc78e06cd7\nSuccessfully built f2cc78e06cd7\nSuccessfully tagged myservice:latest\nContainer (name:ecstatic_visvesvaraya, id:d1952ae01656404e9844d7bc45ae5d273d9d5b3785b4a45274998f7efa565571) cannot be killed.\nContainer has been successfully cleaned up.\nImage sha256:e50ed5b05b659e437150f11506262223a98a5e2980fb0718db1debbefae2c640 successfully removed.\nStarting Docker container...\nDocker container running.\nChecking container health...\nLocal webservice is running at http://localhost:9000\n"
        }
      ],
      "execution_count": 61,
      "metadata": {
        "gather": {
          "logged": 1634481233533
        },
        "jupyter": {
          "outputs_hidden": false,
          "source_hidden": false
        },
        "nteract": {
          "transient": {
            "deleting": false
          }
        }
      }
    },
    {
      "cell_type": "markdown",
      "source": [
        "TODO: In the cell below, send a request to the web service you deployed to test it."
      ],
      "metadata": {
        "collapsed": true,
        "gather": {
          "logged": 1598431657736
        },
        "jupyter": {
          "outputs_hidden": false,
          "source_hidden": false
        },
        "nteract": {
          "transient": {
            "deleting": false
          }
        }
      }
    },
    {
      "cell_type": "markdown",
      "source": [
        "TODO: In the cell below, print the logs of the web service and delete the service"
      ],
      "metadata": {
        "collapsed": true,
        "gather": {
          "logged": 1598432765711
        },
        "jupyter": {
          "outputs_hidden": false,
          "source_hidden": false
        },
        "nteract": {
          "transient": {
            "deleting": false
          }
        }
      }
    },
    {
      "cell_type": "code",
      "source": [
        "uri = service.scoring_uri\r\n",
        "requests.get(\"http://localhost:9000\")\r\n",
        "headers = {\"Content-Type\":\"application/json\"}\r\n",
        "\r\n",
        "data = {\r\n",
        "    \"query\": \"what color is the fox\",\r\n",
        "    \"context\": \"the quick...\"\r\n",
        "}\r\n",
        "\r\n",
        "data = json.dumps(data)\r\n",
        "response = requests.post(uri, data=data, headers=headers)\r\n",
        "\r\n",
        "print(response.json())"
      ],
      "outputs": [
        {
          "output_type": "stream",
          "name": "stdout",
          "text": "test is {'query': 'what color is the fox', 'context': 'the quick...'}\n"
        }
      ],
      "execution_count": 68,
      "metadata": {
        "jupyter": {
          "source_hidden": false,
          "outputs_hidden": false
        },
        "nteract": {
          "transient": {
            "deleting": false
          }
        },
        "gather": {
          "logged": 1634481790817
        }
      }
    },
    {
      "cell_type": "code",
      "source": [],
      "outputs": [],
      "execution_count": null,
      "metadata": {
        "jupyter": {
          "outputs_hidden": false,
          "source_hidden": false
        },
        "nteract": {
          "transient": {
            "deleting": false
          }
        }
      }
    },
    {
      "cell_type": "markdown",
      "source": [
        "**Submission Checklist**\n",
        "- I have registered the model.\n",
        "- I have deployed the model with the best accuracy as a webservice.\n",
        "- I have tested the webservice by sending a request to the model endpoint.\n",
        "- I have deleted the webservice and shutdown all the computes that I have used.\n",
        "- I have taken a screenshot showing the model endpoint as active.\n",
        "- The project includes a file containing the environment details.\n"
      ],
      "metadata": {}
    },
    {
      "cell_type": "markdown",
      "source": [],
      "metadata": {}
    }
  ],
  "metadata": {
    "kernel_info": {
      "name": "python3"
    },
    "kernelspec": {
      "name": "python3",
      "language": "python",
      "display_name": "Python 3"
    },
    "language_info": {
      "name": "python",
      "version": "3.6.9",
      "mimetype": "text/x-python",
      "codemirror_mode": {
        "name": "ipython",
        "version": 3
      },
      "pygments_lexer": "ipython3",
      "nbconvert_exporter": "python",
      "file_extension": ".py"
    },
    "nteract": {
      "version": "nteract-front-end@1.0.0"
    },
    "microsoft": {
      "host": {
        "AzureML": {
          "notebookHasBeenCompleted": true
        }
      }
    }
  },
  "nbformat": 4,
  "nbformat_minor": 2
}