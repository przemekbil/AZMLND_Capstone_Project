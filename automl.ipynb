{
  "cells": [
    {
      "cell_type": "markdown",
      "source": [
        "# Automated ML\n",
        "\n",
        "TODO: Import Dependencies. In the cell below, import all the dependencies that you will need to complete the project."
      ],
      "metadata": {}
    },
    {
      "cell_type": "code",
      "source": [
        "import pandas as pd\r\n",
        "import requests\r\n",
        "import json\r\n",
        "import os\r\n",
        "from azureml.core import Workspace, Datastore, Dataset, Experiment, Environment\r\n",
        "from azureml.train.automl import AutoMLConfig\r\n",
        "from azureml.core.compute import ComputeTarget, AmlCompute\r\n",
        "from azureml.core.model import Model, InferenceConfig\r\n",
        "from azureml.widgets import RunDetails\r\n",
        "from azureml.core.webservice import LocalWebservice\r\n",
        "from azureml.core.webservice import AciWebservice"
      ],
      "outputs": [],
      "execution_count": 1,
      "metadata": {
        "gather": {
          "logged": 1634743858041
        },
        "jupyter": {
          "outputs_hidden": false,
          "source_hidden": false
        },
        "nteract": {
          "transient": {
            "deleting": false
          }
        }
      }
    },
    {
      "cell_type": "markdown",
      "source": [
        "## Dataset\n",
        "\n",
        "### Overview\n",
        "TODO: In this markdown cell, give an overview of the dataset you are using. Also mention the task you will be performing.\n",
        "\n",
        "\n",
        "TODO: Get data. In the cell below, write code to access the data you will be using in this project. Remember that the dataset needs to be external."
      ],
      "metadata": {}
    },
    {
      "cell_type": "code",
      "source": [
        "# Read and clean the data\r\n",
        "\r\n",
        "raw_data = pd.read_csv('./data/balanced.csv')\r\n",
        "raw_data = raw_data.dropna()\r\n",
        "raw_data = raw_data.drop(\"WO-MRR NUM\", axis=1)\r\n",
        "raw_data = raw_data.drop(\"Has MRR\", axis=1)\r\n",
        "raw_data = pd.get_dummies(raw_data, columns=['PROD_CDE','PREP ASSOCIATE', 'FURN'])\r\n",
        "print(raw_data.shape)"
      ],
      "outputs": [
        {
          "output_type": "stream",
          "name": "stdout",
          "text": "(26038, 91)\n"
        }
      ],
      "execution_count": 2,
      "metadata": {
        "jupyter": {
          "source_hidden": false,
          "outputs_hidden": false
        },
        "nteract": {
          "transient": {
            "deleting": false
          }
        },
        "gather": {
          "logged": 1634743882609
        }
      }
    },
    {
      "cell_type": "code",
      "source": [
        "# Create a new Dataset from the raw_data\r\n",
        "ws = Workspace.from_config()\r\n",
        "datastore = Datastore.get(ws, 'workspaceblobstore')\r\n",
        "\r\n",
        "dataset = Dataset.Tabular.register_pandas_dataframe(raw_data, datastore ,\"Sinter\", show_progress=True)"
      ],
      "outputs": [
        {
          "output_type": "stream",
          "name": "stderr",
          "text": "Method register_pandas_dataframe: This is an experimental method, and may change at any time. Please see https://aka.ms/azuremlexperimental for more information.\n"
        },
        {
          "output_type": "stream",
          "name": "stdout",
          "text": "Validating arguments.\nArguments validated.\nSuccessfully obtained datastore reference and path.\nUploading file to managed-dataset/3c9e5685-f742-4e9f-9a6c-2acc5fe61331/\nSuccessfully uploaded file to datastore.\nCreating and registering a new dataset.\nSuccessfully created and registered a new dataset.\n"
        }
      ],
      "execution_count": 3,
      "metadata": {
        "jupyter": {
          "source_hidden": false,
          "outputs_hidden": false
        },
        "nteract": {
          "transient": {
            "deleting": false
          }
        },
        "gather": {
          "logged": 1634743897696
        }
      }
    },
    {
      "cell_type": "code",
      "source": [
        "# choose a name for experiment\n",
        "experiment_name = 'Sinter_AML'\n",
        "\n",
        "experiment=Experiment(ws, experiment_name)"
      ],
      "outputs": [],
      "execution_count": 4,
      "metadata": {
        "gather": {
          "logged": 1634743906552
        },
        "jupyter": {
          "outputs_hidden": false,
          "source_hidden": false
        },
        "nteract": {
          "transient": {
            "deleting": false
          }
        }
      }
    },
    {
      "cell_type": "markdown",
      "source": [
        "# Create a Compute target"
      ],
      "metadata": {
        "nteract": {
          "transient": {
            "deleting": false
          }
        }
      }
    },
    {
      "cell_type": "code",
      "source": [
        "cpu_cluster_name = \"ML-Cluster\"\r\n",
        "compute_config = AmlCompute.provisioning_configuration(\"Standard_D2_V2\", min_nodes=0, max_nodes=2)\r\n",
        "cpu_cluster = ComputeTarget.create(ws, cpu_cluster_name, compute_config)\r\n",
        "cpu_cluster.wait_for_completion(show_output=True)"
      ],
      "outputs": [
        {
          "output_type": "stream",
          "name": "stdout",
          "text": "InProgress....\nSucceededProvisioning operation finished, operation \"Succeeded\"\nSucceeded\nAmlCompute wait for completion finished\n\nMinimum number of nodes requested have been provisioned\n"
        }
      ],
      "execution_count": 5,
      "metadata": {
        "jupyter": {
          "source_hidden": false,
          "outputs_hidden": false
        },
        "nteract": {
          "transient": {
            "deleting": false
          }
        },
        "gather": {
          "logged": 1634744085620
        }
      }
    },
    {
      "cell_type": "markdown",
      "source": [
        "## AutoML Configuration\n",
        "\n",
        "TODO: Explain why you chose the automl settings and cofiguration you used below."
      ],
      "metadata": {}
    },
    {
      "cell_type": "code",
      "source": [
        "automl_settings = {\n",
        "    \"experiment_timeout_minutes\": 40,\n",
        "    \"max_concurrent_iterations\": 2,\n",
        "    \"primary_metric\" : 'accuracy'\n",
        "}\n",
        "automl_config = AutoMLConfig(compute_target=cpu_cluster,\n",
        "                             task = \"classification\",\n",
        "                             training_data=dataset,\n",
        "                             label_column_name=\"HAS SCRAP AT SINTER\",\n",
        "                             enable_early_stopping= True,\n",
        "                             featurization= 'auto',\n",
        "                             debug_log = \"automl_errors.log\",\n",
        "                             **automl_settings\n",
        "                            )"
      ],
      "outputs": [],
      "execution_count": 6,
      "metadata": {
        "gather": {
          "logged": 1634744297301
        },
        "jupyter": {
          "outputs_hidden": false,
          "source_hidden": false
        },
        "nteract": {
          "transient": {
            "deleting": false
          }
        }
      }
    },
    {
      "cell_type": "code",
      "source": [
        "# TODO: Submit your experiment\n",
        "remote_run = experiment.submit(automl_config, show_output=True)\n",
        "RunDetails(remote_run).show()"
      ],
      "outputs": [
        {
          "output_type": "stream",
          "name": "stdout",
          "text": "Submitting remote run.\nNo run_configuration provided, running on ML-Cluster with default configuration\nRunning on remote compute: ML-Cluster\n"
        },
        {
          "output_type": "display_data",
          "data": {
            "text/plain": "<IPython.core.display.HTML object>",
            "text/html": "<table style=\"width:100%\"><tr><th>Experiment</th><th>Id</th><th>Type</th><th>Status</th><th>Details Page</th><th>Docs Page</th></tr><tr><td>Sinter_AML</td><td>AutoML_fc137486-3d67-4d93-ba32-89abac93bbe7</td><td>automl</td><td>NotStarted</td><td><a href=\"https://ml.azure.com/runs/AutoML_fc137486-3d67-4d93-ba32-89abac93bbe7?wsid=/subscriptions/61c5c3f0-6dc7-4ed9-a7f3-c704b20e3b30/resourcegroups/aml-quickstarts-161576/workspaces/quick-starts-ws-161576&amp;tid=660b3398-b80e-49d2-bc5b-ac1dc93b5254\" target=\"_blank\" rel=\"noopener\">Link to Azure Machine Learning studio</a></td><td><a href=\"https://docs.microsoft.com/en-us/python/api/overview/azure/ml/intro?view=azure-ml-py\" target=\"_blank\" rel=\"noopener\">Link to Documentation</a></td></tr></table>"
          },
          "metadata": {}
        },
        {
          "output_type": "stream",
          "name": "stdout",
          "text": "\nCurrent status: FeaturesGeneration. Generating features for the dataset.\nCurrent status: DatasetFeaturization. Beginning to fit featurizers and featurize the dataset.\nCurrent status: DatasetBalancing. Performing class balancing sweeping\nCurrent status: ModelSelection. Beginning model selection.\n\n****************************************************************************************************\nDATA GUARDRAILS: \n\nTYPE:         Train-Test data split\nSTATUS:       DONE\nDESCRIPTION:  Your input data has been split into a training dataset and a holdout test dataset for validation of the model. The test holdout dataset reflects the original distribution of your input data.\n              \nDETAILS:      \n+---------------------------------+---------------------------------+---------------------------------+\n|Dataset                          |Row counts                       |Percentage                       |\n+=================================+=================================+=================================+\n|train                            |23434                            |89.99923189185037                |\n|test                             |2604                             |10.000768108149627               |\n+---------------------------------+---------------------------------+---------------------------------+\n\n****************************************************************************************************\n\nTYPE:         Class balancing detection\nSTATUS:       ALERTED\nDESCRIPTION:  To decrease model bias, please cancel the current run and fix balancing problem.\n              Learn more about imbalanced data: https://aka.ms/AutomatedMLImbalancedData\nDETAILS:      Imbalanced data can lead to a falsely perceived positive effect of a model's accuracy because the input data has bias towards one class.\n+---------------------------------+---------------------------------+--------------------------------------+\n|Size of the smallest class       |Name/Label of the smallest class |Number of samples in the training data|\n+=================================+=================================+======================================+\n|2118                             |1                                |23434                                 |\n+---------------------------------+---------------------------------+--------------------------------------+\n\n****************************************************************************************************\n\nTYPE:         Missing feature values imputation\nSTATUS:       PASSED\nDESCRIPTION:  No feature missing values were detected in the training data.\n              Learn more about missing value imputation: https://aka.ms/AutomatedMLFeaturization\n\n****************************************************************************************************\n\nTYPE:         High cardinality feature detection\nSTATUS:       PASSED\nDESCRIPTION:  Your inputs were analyzed, and no high cardinality features were detected.\n              Learn more about high cardinality feature handling: https://aka.ms/AutomatedMLFeaturization\n\n****************************************************************************************************\n\n****************************************************************************************************\nITERATION: The iteration being evaluated.\nPIPELINE: A summary description of the pipeline being evaluated.\nDURATION: Time taken for the current iteration.\nMETRIC: The result of computing score on the fitted pipeline.\nBEST: The best observed score thus far.\n****************************************************************************************************\n\n ITERATION   PIPELINE                                       DURATION      METRIC      BEST\n         2   MaxAbsScaler ExtremeRandomTrees                0:00:30       0.0902    0.0902\n         1   MaxAbsScaler XGBoostClassifier                 0:02:23       0.6920    0.6920\n         3   SparseNormalizer XGBoostClassifier             0:02:52       0.6321    0.6920\n         4   MaxAbsScaler LightGBM                          0:04:21       0.6786    0.6920\n         0   MaxAbsScaler LightGBM                          0:04:50       0.7055    0.7055\n         5   MaxAbsScaler LightGBM                          0:05:44       0.6959    0.7055\n         6   StandardScalerWrapper XGBoostClassifier        0:04:22       0.7135    0.7135\n         7   MaxAbsScaler LogisticRegression                0:05:21       0.6598    0.7135\n         8   StandardScalerWrapper ExtremeRandomTrees       0:04:21       0.6540    0.7135\n         9   StandardScalerWrapper XGBoostClassifier        0:05:27       0.7020    0.7135\n        10   SparseNormalizer LightGBM                      0:04:31       0.5476    0.7135\n        11   StandardScalerWrapper XGBoostClassifier        0:05:32       0.6041    0.7135\n        12   MaxAbsScaler LogisticRegression                0:04:34       0.6590    0.7135\n        13   MaxAbsScaler SGD                               0:05:32       0.1240    0.7135\n        14   StandardScalerWrapper XGBoostClassifier        0:04:27       0.7177    0.7177\n        15   SparseNormalizer RandomForest                  0:05:32       0.0902    0.7177\n        16   StandardScalerWrapper LogisticRegression       0:04:31       0.6532    0.7177\n        17   StandardScalerWrapper RandomForest             0:05:30       0.6041    0.7177\n        18   StandardScalerWrapper XGBoostClassifier        0:04:33       0.6859    0.7177\n        19   TruncatedSVDWrapper RandomForest               0:06:10       0.0902    0.7177\n        20                                                  0:04:37          nan    0.7177\nERROR: {\n    \"additional_properties\": {},\n    \"error\": {\n        \"additional_properties\": {\n            \"debugInfo\": null\n        },\n        \"code\": \"UserError\",\n        \"severity\": null,\n        \"message\": \"Experiment timeout reached, please consider increasing your experiment timeout.\",\n        \"message_format\": \"Experiment timeout reached, please consider increasing your experiment timeout.\",\n        \"message_parameters\": {},\n        \"reference_code\": null,\n        \"details_uri\": null,\n        \"target\": null,\n        \"details\": [],\n        \"inner_error\": {\n            \"additional_properties\": {},\n            \"code\": \"ResourceExhausted\",\n            \"inner_error\": {\n                \"additional_properties\": {},\n                \"code\": \"Timeout\",\n                \"inner_error\": {\n                    \"additional_properties\": {},\n                    \"code\": \"ExperimentTimeoutForIterations\",\n                    \"inner_error\": null\n                }\n            }\n        },\n        \"additional_info\": null\n    },\n    \"correlation\": null,\n    \"environment\": null,\n    \"location\": null,\n    \"time\": {},\n    \"component_name\": null\n}\n        21                                                  0:04:06          nan    0.7177\nERROR: {\n    \"additional_properties\": {},\n    \"error\": {\n        \"additional_properties\": {\n            \"debugInfo\": null\n        },\n        \"code\": \"UserError\",\n        \"severity\": null,\n        \"message\": \"Experiment timeout reached, please consider increasing your experiment timeout.\",\n        \"message_format\": \"Experiment timeout reached, please consider increasing your experiment timeout.\",\n        \"message_parameters\": {},\n        \"reference_code\": null,\n        \"details_uri\": null,\n        \"target\": null,\n        \"details\": [],\n        \"inner_error\": {\n            \"additional_properties\": {},\n            \"code\": \"ResourceExhausted\",\n            \"inner_error\": {\n                \"additional_properties\": {},\n                \"code\": \"Timeout\",\n                \"inner_error\": {\n                    \"additional_properties\": {},\n                    \"code\": \"ExperimentTimeoutForIterations\",\n                    \"inner_error\": null\n                }\n            }\n        },\n        \"additional_info\": null\n    },\n    \"correlation\": null,\n    \"environment\": null,\n    \"location\": null,\n    \"time\": {},\n    \"component_name\": null\n}\n        22                                                  0:02:37          nan    0.7177\nERROR: {\n    \"additional_properties\": {},\n    \"error\": {\n        \"additional_properties\": {\n            \"debugInfo\": null\n        },\n        \"code\": \"UserError\",\n        \"severity\": null,\n        \"message\": \"Experiment timeout reached, please consider increasing your experiment timeout.\",\n        \"message_format\": \"Experiment timeout reached, please consider increasing your experiment timeout.\",\n        \"message_parameters\": {},\n        \"reference_code\": null,\n        \"details_uri\": null,\n        \"target\": null,\n        \"details\": [],\n        \"inner_error\": {\n            \"additional_properties\": {},\n            \"code\": \"ResourceExhausted\",\n            \"inner_error\": {\n                \"additional_properties\": {},\n                \"code\": \"Timeout\",\n                \"inner_error\": {\n                    \"additional_properties\": {},\n                    \"code\": \"ExperimentTimeoutForIterations\",\n                    \"inner_error\": null\n                }\n            }\n        },\n        \"additional_info\": null\n    },\n    \"correlation\": null,\n    \"environment\": null,\n    \"location\": null,\n    \"time\": {},\n    \"component_name\": null\n}\n        23                                                  0:02:08          nan    0.7177\nERROR: {\n    \"additional_properties\": {},\n    \"error\": {\n        \"additional_properties\": {\n            \"debugInfo\": null\n        },\n        \"code\": \"UserError\",\n        \"severity\": null,\n        \"message\": \"Experiment timeout reached, please consider increasing your experiment timeout.\",\n        \"message_format\": \"Experiment timeout reached, please consider increasing your experiment timeout.\",\n        \"message_parameters\": {},\n        \"reference_code\": null,\n        \"details_uri\": null,\n        \"target\": null,\n        \"details\": [],\n        \"inner_error\": {\n            \"additional_properties\": {},\n            \"code\": \"ResourceExhausted\",\n            \"inner_error\": {\n                \"additional_properties\": {},\n                \"code\": \"Timeout\",\n                \"inner_error\": {\n                    \"additional_properties\": {},\n                    \"code\": \"ExperimentTimeoutForIterations\",\n                    \"inner_error\": null\n                }\n            }\n        },\n        \"additional_info\": null\n    },\n    \"correlation\": null,\n    \"environment\": null,\n    \"location\": null,\n    \"time\": {},\n    \"component_name\": null\n}\n        24    VotingEnsemble                                0:00:36       0.7339    0.7339\n        25    StackEnsemble                                 0:01:28       0.6440    0.7339\n"
        },
        {
          "output_type": "display_data",
          "data": {
            "text/plain": "_AutoMLWidget(widget_settings={'childWidgetDisplay': 'popup', 'send_telemetry': False, 'log_level': 'INFO', 's…",
            "application/vnd.jupyter.widget-view+json": {
              "version_major": 2,
              "version_minor": 0,
              "model_id": "bc23dc58252744e5b3c77ea92d7ab0ff"
            }
          },
          "metadata": {}
        },
        {
          "output_type": "display_data",
          "data": {
            "application/aml.mini.widget.v1": "{\"status\": \"Completed\", \"workbench_run_details_uri\": \"https://ml.azure.com/runs/AutoML_fc137486-3d67-4d93-ba32-89abac93bbe7?wsid=/subscriptions/61c5c3f0-6dc7-4ed9-a7f3-c704b20e3b30/resourcegroups/aml-quickstarts-161576/workspaces/quick-starts-ws-161576&tid=660b3398-b80e-49d2-bc5b-ac1dc93b5254\", \"run_id\": \"AutoML_fc137486-3d67-4d93-ba32-89abac93bbe7\", \"run_properties\": {\"run_id\": \"AutoML_fc137486-3d67-4d93-ba32-89abac93bbe7\", \"created_utc\": \"2021-10-20T15:38:30.597835Z\", \"properties\": {\"num_iterations\": \"1000\", \"training_type\": \"TrainFull\", \"acquisition_function\": \"EI\", \"primary_metric\": \"accuracy\", \"train_split\": \"0\", \"acquisition_parameter\": \"0\", \"num_cross_validation\": null, \"target\": \"ML-Cluster\", \"AMLSettingsJsonString\": \"{\\\"path\\\":null,\\\"name\\\":\\\"Sinter_AML\\\",\\\"subscription_id\\\":\\\"61c5c3f0-6dc7-4ed9-a7f3-c704b20e3b30\\\",\\\"resource_group\\\":\\\"aml-quickstarts-161576\\\",\\\"workspace_name\\\":\\\"quick-starts-ws-161576\\\",\\\"region\\\":\\\"southcentralus\\\",\\\"compute_target\\\":\\\"ML-Cluster\\\",\\\"spark_service\\\":null,\\\"azure_service\\\":\\\"remote\\\",\\\"many_models\\\":false,\\\"pipeline_fetch_max_batch_size\\\":1,\\\"enable_batch_run\\\":false,\\\"enable_run_restructure\\\":false,\\\"start_auxiliary_runs_before_parent_complete\\\":false,\\\"enable_code_generation\\\":false,\\\"iterations\\\":1000,\\\"primary_metric\\\":\\\"accuracy\\\",\\\"task_type\\\":\\\"classification\\\",\\\"data_script\\\":null,\\\"test_size\\\":0.0,\\\"test_include_predictions_only\\\":false,\\\"validation_size\\\":0.0,\\\"n_cross_validations\\\":null,\\\"y_min\\\":null,\\\"y_max\\\":null,\\\"num_classes\\\":null,\\\"featurization\\\":\\\"auto\\\",\\\"_ignore_package_version_incompatibilities\\\":false,\\\"is_timeseries\\\":false,\\\"max_cores_per_iteration\\\":1,\\\"max_concurrent_iterations\\\":5,\\\"iteration_timeout_minutes\\\":null,\\\"mem_in_mb\\\":null,\\\"enforce_time_on_windows\\\":false,\\\"experiment_timeout_minutes\\\":20,\\\"experiment_exit_score\\\":null,\\\"whitelist_models\\\":null,\\\"blacklist_algos\\\":[\\\"TensorFlowLinearClassifier\\\",\\\"TensorFlowDNN\\\"],\\\"supported_models\\\":[\\\"MultinomialNaiveBayes\\\",\\\"GradientBoosting\\\",\\\"TensorFlowDNN\\\",\\\"LogisticRegression\\\",\\\"AveragedPerceptronClassifier\\\",\\\"XGBoostClassifier\\\",\\\"ExtremeRandomTrees\\\",\\\"BernoulliNaiveBayes\\\",\\\"DecisionTree\\\",\\\"LightGBM\\\",\\\"SGD\\\",\\\"TensorFlowLinearClassifier\\\",\\\"KNN\\\",\\\"SVM\\\",\\\"LinearSVM\\\",\\\"RandomForest\\\"],\\\"private_models\\\":[],\\\"auto_blacklist\\\":true,\\\"blacklist_samples_reached\\\":false,\\\"exclude_nan_labels\\\":true,\\\"verbosity\\\":20,\\\"_debug_log\\\":\\\"azureml_automl.log\\\",\\\"show_warnings\\\":false,\\\"model_explainability\\\":true,\\\"service_url\\\":null,\\\"sdk_url\\\":null,\\\"sdk_packages\\\":null,\\\"enable_onnx_compatible_models\\\":false,\\\"enable_split_onnx_featurizer_estimator_models\\\":false,\\\"vm_type\\\":\\\"STANDARD_D2_V2\\\",\\\"telemetry_verbosity\\\":20,\\\"send_telemetry\\\":true,\\\"enable_dnn\\\":false,\\\"scenario\\\":\\\"SDK-1.13.0\\\",\\\"environment_label\\\":null,\\\"save_mlflow\\\":false,\\\"force_text_dnn\\\":false,\\\"enable_feature_sweeping\\\":true,\\\"enable_early_stopping\\\":true,\\\"early_stopping_n_iters\\\":10,\\\"metrics\\\":null,\\\"enable_metric_confidence\\\":false,\\\"enable_ensembling\\\":true,\\\"enable_stack_ensembling\\\":true,\\\"ensemble_iterations\\\":15,\\\"enable_tf\\\":false,\\\"enable_subsampling\\\":null,\\\"subsample_seed\\\":null,\\\"enable_nimbusml\\\":false,\\\"enable_streaming\\\":false,\\\"force_streaming\\\":false,\\\"track_child_runs\\\":true,\\\"allowed_private_models\\\":[],\\\"label_column_name\\\":\\\"HAS SCRAP AT SINTER\\\",\\\"weight_column_name\\\":null,\\\"cv_split_column_names\\\":null,\\\"positive_label\\\":null,\\\"enable_local_managed\\\":false,\\\"_local_managed_run_id\\\":null,\\\"cost_mode\\\":1,\\\"lag_length\\\":0,\\\"metric_operation\\\":\\\"maximize\\\",\\\"preprocess\\\":true}\", \"DataPrepJsonString\": \"{\\\\\\\"training_data\\\\\\\": {\\\\\\\"datasetId\\\\\\\": \\\\\\\"1016426b-da10-49bc-a52e-126d025f86d3\\\\\\\"}, \\\\\\\"datasets\\\\\\\": 0}\", \"EnableSubsampling\": null, \"runTemplate\": \"AutoML\", \"azureml.runsource\": \"automl\", \"display_task_type\": \"classification\", \"dependencies_versions\": \"{\\\"azureml-widgets\\\": \\\"1.34.0\\\", \\\"azureml-train\\\": \\\"1.34.0\\\", \\\"azureml-train-restclients-hyperdrive\\\": \\\"1.34.0\\\", \\\"azureml-train-core\\\": \\\"1.34.0\\\", \\\"azureml-train-automl\\\": \\\"1.34.0\\\", \\\"azureml-train-automl-runtime\\\": \\\"1.34.0\\\", \\\"azureml-train-automl-client\\\": \\\"1.34.0\\\", \\\"azureml-tensorboard\\\": \\\"1.34.0\\\", \\\"azureml-telemetry\\\": \\\"1.34.0\\\", \\\"azureml-sdk\\\": \\\"1.34.0\\\", \\\"azureml-samples\\\": \\\"0+unknown\\\", \\\"azureml-responsibleai\\\": \\\"1.34.0\\\", \\\"azureml-pipeline\\\": \\\"1.34.0\\\", \\\"azureml-pipeline-steps\\\": \\\"1.34.0\\\", \\\"azureml-pipeline-core\\\": \\\"1.34.0\\\", \\\"azureml-opendatasets\\\": \\\"1.34.0\\\", \\\"azureml-mlflow\\\": \\\"1.34.0\\\", \\\"azureml-interpret\\\": \\\"1.34.0\\\", \\\"azureml-inference-server-http\\\": \\\"0.3.1\\\", \\\"azureml-explain-model\\\": \\\"1.34.0\\\", \\\"azureml-defaults\\\": \\\"1.34.0\\\", \\\"azureml-dataset-runtime\\\": \\\"1.34.0\\\", \\\"azureml-dataprep\\\": \\\"2.22.2\\\", \\\"azureml-dataprep-rslex\\\": \\\"1.20.1\\\", \\\"azureml-dataprep-native\\\": \\\"38.0.0\\\", \\\"azureml-datadrift\\\": \\\"1.34.0\\\", \\\"azureml-core\\\": \\\"1.34.0\\\", \\\"azureml-contrib-services\\\": \\\"1.34.0\\\", \\\"azureml-contrib-server\\\": \\\"1.34.0\\\", \\\"azureml-contrib-reinforcementlearning\\\": \\\"1.34.0\\\", \\\"azureml-contrib-pipeline-steps\\\": \\\"1.34.0\\\", \\\"azureml-contrib-notebook\\\": \\\"1.34.0\\\", \\\"azureml-contrib-fairness\\\": \\\"1.34.0\\\", \\\"azureml-contrib-dataset\\\": \\\"1.34.0\\\", \\\"azureml-contrib-automl-pipeline-steps\\\": \\\"1.34.0\\\", \\\"azureml-cli-common\\\": \\\"1.34.0\\\", \\\"azureml-automl-runtime\\\": \\\"1.34.0\\\", \\\"azureml-automl-dnn-nlp\\\": \\\"1.34.0\\\", \\\"azureml-automl-core\\\": \\\"1.34.0\\\", \\\"azureml-accel-models\\\": \\\"1.34.0\\\"}\", \"_aml_system_scenario_identification\": \"Remote.Parent\", \"ClientType\": \"SDK\", \"environment_cpu_name\": \"AzureML-AutoML\", \"environment_cpu_label\": \"prod\", \"environment_gpu_name\": \"AzureML-AutoML-GPU\", \"environment_gpu_label\": \"prod\", \"root_attribution\": \"automl\", \"attribution\": \"AutoML\", \"Orchestrator\": \"AutoML\", \"CancelUri\": \"https://southcentralus.api.azureml.ms/jasmine/v1.0/subscriptions/61c5c3f0-6dc7-4ed9-a7f3-c704b20e3b30/resourceGroups/aml-quickstarts-161576/providers/Microsoft.MachineLearningServices/workspaces/quick-starts-ws-161576/experimentids/cd0d6b92-34cf-4500-b91c-c3e2d667412f/cancel/AutoML_fc137486-3d67-4d93-ba32-89abac93bbe7\", \"ClientSdkVersion\": \"1.34.1\", \"snapshotId\": \"00000000-0000-0000-0000-000000000000\", \"SetupRunId\": \"AutoML_fc137486-3d67-4d93-ba32-89abac93bbe7_setup\", \"SetupRunContainerId\": \"dcid.AutoML_fc137486-3d67-4d93-ba32-89abac93bbe7_setup\", \"FeaturizationRunJsonPath\": \"featurizer_container.json\", \"FeaturizationRunId\": \"AutoML_fc137486-3d67-4d93-ba32-89abac93bbe7_featurize\", \"ProblemInfoJsonString\": \"{\\\"dataset_num_categorical\\\": 0, \\\"is_sparse\\\": true, \\\"subsampling\\\": false, \\\"has_extra_col\\\": true, \\\"dataset_classes\\\": 2, \\\"dataset_features\\\": 179, \\\"dataset_samples\\\": 23434, \\\"single_frequency_class_detected\\\": false}\", \"ModelExplainRunId\": \"AutoML_fc137486-3d67-4d93-ba32-89abac93bbe7_ModelExplain\"}, \"tags\": {\"model_explain_run\": \"best_run\", \"_aml_system_azureml.automlComponent\": \"AutoML\", \"pipeline_id\": \"\", \"score\": \"\", \"predicted_cost\": \"\", \"fit_time\": \"\", \"training_percent\": \"\", \"iteration\": \"\", \"run_preprocessor\": \"\", \"run_algorithm\": \"\", \"_aml_system_azureml.automl_early_exit_message\": \"Experiment timeout reached, hence experiment stopped. Current experiment timeout: 0 hour(s) 20 minute(s)\", \"automl_best_child_run_id\": \"AutoML_fc137486-3d67-4d93-ba32-89abac93bbe7_24\", \"model_explain_best_run_child_id\": \"AutoML_fc137486-3d67-4d93-ba32-89abac93bbe7_24\"}, \"end_time_utc\": \"2021-10-20T16:13:13.024794Z\", \"status\": \"Completed\", \"log_files\": {}, \"log_groups\": [], \"run_duration\": \"0:34:42\", \"run_number\": \"1\", \"run_queued_details\": {\"status\": \"Completed\", \"details\": null}}, \"child_runs\": [{\"run_id\": \"AutoML_fc137486-3d67-4d93-ba32-89abac93bbe7_setup\", \"run_number\": 2, \"metric\": null, \"status\": \"Completed\", \"run_type\": \"azureml.scriptrun\", \"training_percent\": null, \"start_time\": \"2021-10-20T15:42:49.42409Z\", \"end_time\": \"2021-10-20T15:48:13.690108Z\", \"created_time\": \"2021-10-20T15:38:44.028767Z\", \"created_time_dt\": \"2021-10-20T15:38:44.028767Z\", \"duration\": \"0:09:29\", \"iteration\": null, \"goal\": null, \"run_name\": \"Completed\", \"run_properties\": null}, {\"run_id\": \"AutoML_fc137486-3d67-4d93-ba32-89abac93bbe7_featurize\", \"run_number\": 3, \"metric\": null, \"status\": \"Completed\", \"run_type\": \"automl.featurization\", \"training_percent\": null, \"start_time\": \"2021-10-20T15:48:14.596337Z\", \"end_time\": \"2021-10-20T15:50:34.396953Z\", \"created_time\": \"2021-10-20T15:48:14.18214Z\", \"created_time_dt\": \"2021-10-20T15:48:14.18214Z\", \"duration\": \"0:02:20\", \"iteration\": null, \"goal\": null, \"run_name\": \"Completed\", \"run_properties\": null}, {\"run_id\": \"AutoML_fc137486-3d67-4d93-ba32-89abac93bbe7_0\", \"run_number\": 5, \"metric\": null, \"status\": \"Completed\", \"run_type\": \"azureml.scriptrun\", \"training_percent\": \"100\", \"start_time\": \"2021-10-20T15:50:35.524458Z\", \"end_time\": \"2021-10-20T15:55:25.955253Z\", \"created_time\": \"2021-10-20T15:50:35.524458Z\", \"created_time_dt\": \"2021-10-20T15:50:35.524458Z\", \"duration\": \"0:04:50\", \"iteration\": \"0\", \"goal\": \"accuracy_max\", \"run_name\": \"MaxAbsScaler, LightGBM\", \"run_properties\": \"copy=True\", \"primary_metric\": 0.70545315, \"best_metric\": 0.70545315}, {\"run_id\": \"AutoML_fc137486-3d67-4d93-ba32-89abac93bbe7_4\", \"run_number\": 6, \"metric\": null, \"status\": \"Completed\", \"run_type\": \"azureml.scriptrun\", \"training_percent\": \"100\", \"start_time\": \"2021-10-20T15:50:35.579493Z\", \"end_time\": \"2021-10-20T15:54:56.083637Z\", \"created_time\": \"2021-10-20T15:50:35.579493Z\", \"created_time_dt\": \"2021-10-20T15:50:35.579493Z\", \"duration\": \"0:04:20\", \"iteration\": \"4\", \"goal\": \"accuracy_max\", \"run_name\": \"MaxAbsScaler, LightGBM\", \"run_properties\": \"copy=True\", \"primary_metric\": 0.67857143, \"best_metric\": 0.70545315}, {\"run_id\": \"AutoML_fc137486-3d67-4d93-ba32-89abac93bbe7_2\", \"run_number\": 7, \"metric\": null, \"status\": \"Completed\", \"run_type\": \"azureml.scriptrun\", \"training_percent\": \"100\", \"start_time\": \"2021-10-20T15:50:35.595492Z\", \"end_time\": \"2021-10-20T15:51:06.06166Z\", \"created_time\": \"2021-10-20T15:50:35.595492Z\", \"created_time_dt\": \"2021-10-20T15:50:35.595492Z\", \"duration\": \"0:00:30\", \"iteration\": \"2\", \"goal\": \"accuracy_max\", \"run_name\": \"MaxAbsScaler, ExtremeRandomTrees\", \"run_properties\": \"copy=True\", \"primary_metric\": 0.09024578, \"best_metric\": 0.70545315}, {\"run_id\": \"AutoML_fc137486-3d67-4d93-ba32-89abac93bbe7_1\", \"run_number\": 8, \"metric\": null, \"status\": \"Completed\", \"run_type\": \"azureml.scriptrun\", \"training_percent\": \"100\", \"start_time\": \"2021-10-20T15:50:35.601346Z\", \"end_time\": \"2021-10-20T15:52:58.206505Z\", \"created_time\": \"2021-10-20T15:50:35.601346Z\", \"created_time_dt\": \"2021-10-20T15:50:35.601346Z\", \"duration\": \"0:02:22\", \"iteration\": \"1\", \"goal\": \"accuracy_max\", \"run_name\": \"MaxAbsScaler, XGBoostClassifier\", \"run_properties\": \"copy=True\", \"primary_metric\": 0.69201229, \"best_metric\": 0.70545315}, {\"run_id\": \"AutoML_fc137486-3d67-4d93-ba32-89abac93bbe7_3\", \"run_number\": 9, \"metric\": null, \"status\": \"Completed\", \"run_type\": \"azureml.scriptrun\", \"training_percent\": \"100\", \"start_time\": \"2021-10-20T15:50:35.611677Z\", \"end_time\": \"2021-10-20T15:53:27.733111Z\", \"created_time\": \"2021-10-20T15:50:35.611677Z\", \"created_time_dt\": \"2021-10-20T15:50:35.611677Z\", \"duration\": \"0:02:52\", \"iteration\": \"3\", \"goal\": \"accuracy_max\", \"run_name\": \"SparseNormalizer, XGBoostClassifier\", \"run_properties\": \"copy=True, norm='l2'\", \"primary_metric\": 0.63210445, \"best_metric\": 0.70545315}, {\"run_id\": \"AutoML_fc137486-3d67-4d93-ba32-89abac93bbe7_5\", \"run_number\": 10, \"metric\": null, \"status\": \"Completed\", \"run_type\": \"azureml.scriptrun\", \"training_percent\": \"100\", \"start_time\": \"2021-10-20T15:51:09.227841Z\", \"end_time\": \"2021-10-20T15:56:52.979157Z\", \"created_time\": \"2021-10-20T15:51:09.227841Z\", \"created_time_dt\": \"2021-10-20T15:51:09.227841Z\", \"duration\": \"0:05:43\", \"iteration\": \"5\", \"goal\": \"accuracy_max\", \"run_name\": \"MaxAbsScaler, LightGBM\", \"run_properties\": \"copy=True\", \"primary_metric\": 0.69585253, \"best_metric\": 0.70545315}, {\"run_id\": \"AutoML_fc137486-3d67-4d93-ba32-89abac93bbe7_6\", \"run_number\": 11, \"metric\": null, \"status\": \"Completed\", \"run_type\": \"azureml.scriptrun\", \"training_percent\": \"100\", \"start_time\": \"2021-10-20T15:53:01.248515Z\", \"end_time\": \"2021-10-20T15:57:23.091921Z\", \"created_time\": \"2021-10-20T15:53:01.248515Z\", \"created_time_dt\": \"2021-10-20T15:53:01.248515Z\", \"duration\": \"0:04:21\", \"iteration\": \"6\", \"goal\": \"accuracy_max\", \"run_name\": \"StandardScalerWrapper, XGBoostClassifier\", \"run_properties\": \"\\n    copy=True,\\n    with_mean=False,\\n    with_std=False\\n\", \"primary_metric\": 0.71351767, \"best_metric\": 0.71351767}, {\"run_id\": \"AutoML_fc137486-3d67-4d93-ba32-89abac93bbe7_7\", \"run_number\": 12, \"metric\": null, \"status\": \"Completed\", \"run_type\": \"azureml.scriptrun\", \"training_percent\": \"100\", \"start_time\": \"2021-10-20T15:53:30.68755Z\", \"end_time\": \"2021-10-20T15:58:51.342475Z\", \"created_time\": \"2021-10-20T15:53:30.68755Z\", \"created_time_dt\": \"2021-10-20T15:53:30.68755Z\", \"duration\": \"0:05:20\", \"iteration\": \"7\", \"goal\": \"accuracy_max\", \"run_name\": \"MaxAbsScaler, LogisticRegression\", \"run_properties\": \"copy=True\", \"primary_metric\": 0.65975422, \"best_metric\": 0.71351767}, {\"run_id\": \"AutoML_fc137486-3d67-4d93-ba32-89abac93bbe7_8\", \"run_number\": 13, \"metric\": null, \"status\": \"Completed\", \"run_type\": \"azureml.scriptrun\", \"training_percent\": \"100\", \"start_time\": \"2021-10-20T15:54:59.285285Z\", \"end_time\": \"2021-10-20T15:59:20.409592Z\", \"created_time\": \"2021-10-20T15:54:59.285285Z\", \"created_time_dt\": \"2021-10-20T15:54:59.285285Z\", \"duration\": \"0:04:21\", \"iteration\": \"8\", \"goal\": \"accuracy_max\", \"run_name\": \"StandardScalerWrapper, ExtremeRandomTrees\", \"run_properties\": \"\\n    copy=True,\\n    with_mean=False,\\n    with_std=False\\n\", \"primary_metric\": 0.65399386, \"best_metric\": 0.71351767}, {\"run_id\": \"AutoML_fc137486-3d67-4d93-ba32-89abac93bbe7_9\", \"run_number\": 14, \"metric\": null, \"status\": \"Completed\", \"run_type\": \"azureml.scriptrun\", \"training_percent\": \"100\", \"start_time\": \"2021-10-20T15:55:29.049303Z\", \"end_time\": \"2021-10-20T16:00:56.471291Z\", \"created_time\": \"2021-10-20T15:55:29.049303Z\", \"created_time_dt\": \"2021-10-20T15:55:29.049303Z\", \"duration\": \"0:05:27\", \"iteration\": \"9\", \"goal\": \"accuracy_max\", \"run_name\": \"StandardScalerWrapper, XGBoostClassifier\", \"run_properties\": \"\\n    copy=True,\\n    with_mean=False,\\n    with_std=False\\n\", \"primary_metric\": 0.70199693, \"best_metric\": 0.71351767}, {\"run_id\": \"AutoML_fc137486-3d67-4d93-ba32-89abac93bbe7_10\", \"run_number\": 15, \"metric\": null, \"status\": \"Completed\", \"run_type\": \"azureml.scriptrun\", \"training_percent\": \"100\", \"start_time\": \"2021-10-20T15:56:55.97538Z\", \"end_time\": \"2021-10-20T16:01:26.783639Z\", \"created_time\": \"2021-10-20T15:56:55.97538Z\", \"created_time_dt\": \"2021-10-20T15:56:55.97538Z\", \"duration\": \"0:04:30\", \"iteration\": \"10\", \"goal\": \"accuracy_max\", \"run_name\": \"SparseNormalizer, LightGBM\", \"run_properties\": \"copy=True, norm='l1'\", \"primary_metric\": 0.54761905, \"best_metric\": 0.71351767}, {\"run_id\": \"AutoML_fc137486-3d67-4d93-ba32-89abac93bbe7_11\", \"run_number\": 16, \"metric\": null, \"status\": \"Completed\", \"run_type\": \"azureml.scriptrun\", \"training_percent\": \"100\", \"start_time\": \"2021-10-20T15:57:26.326863Z\", \"end_time\": \"2021-10-20T16:02:58.495409Z\", \"created_time\": \"2021-10-20T15:57:26.326863Z\", \"created_time_dt\": \"2021-10-20T15:57:26.326863Z\", \"duration\": \"0:05:32\", \"iteration\": \"11\", \"goal\": \"accuracy_max\", \"run_name\": \"StandardScalerWrapper, XGBoostClassifier\", \"run_properties\": \"\\n    copy=True,\\n    with_mean=False,\\n    with_std=False\\n\", \"primary_metric\": 0.60407066, \"best_metric\": 0.71351767}, {\"run_id\": \"AutoML_fc137486-3d67-4d93-ba32-89abac93bbe7_12\", \"run_number\": 17, \"metric\": null, \"status\": \"Completed\", \"run_type\": \"azureml.scriptrun\", \"training_percent\": \"100\", \"start_time\": \"2021-10-20T15:58:54.740303Z\", \"end_time\": \"2021-10-20T16:03:29.116887Z\", \"created_time\": \"2021-10-20T15:58:54.740303Z\", \"created_time_dt\": \"2021-10-20T15:58:54.740303Z\", \"duration\": \"0:04:34\", \"iteration\": \"12\", \"goal\": \"accuracy_max\", \"run_name\": \"MaxAbsScaler, LogisticRegression\", \"run_properties\": \"copy=True\", \"primary_metric\": 0.65898618, \"best_metric\": 0.71351767}, {\"run_id\": \"AutoML_fc137486-3d67-4d93-ba32-89abac93bbe7_13\", \"run_number\": 18, \"metric\": null, \"status\": \"Completed\", \"run_type\": \"azureml.scriptrun\", \"training_percent\": \"100\", \"start_time\": \"2021-10-20T15:59:23.280939Z\", \"end_time\": \"2021-10-20T16:04:55.180404Z\", \"created_time\": \"2021-10-20T15:59:23.280939Z\", \"created_time_dt\": \"2021-10-20T15:59:23.280939Z\", \"duration\": \"0:05:31\", \"iteration\": \"13\", \"goal\": \"accuracy_max\", \"run_name\": \"MaxAbsScaler, SGD\", \"run_properties\": \"copy=True\", \"primary_metric\": 0.12403994, \"best_metric\": 0.71351767}, {\"run_id\": \"AutoML_fc137486-3d67-4d93-ba32-89abac93bbe7_14\", \"run_number\": 19, \"metric\": null, \"status\": \"Completed\", \"run_type\": \"azureml.scriptrun\", \"training_percent\": \"100\", \"start_time\": \"2021-10-20T16:00:59.819669Z\", \"end_time\": \"2021-10-20T16:05:26.95875Z\", \"created_time\": \"2021-10-20T16:00:59.819669Z\", \"created_time_dt\": \"2021-10-20T16:00:59.819669Z\", \"duration\": \"0:04:27\", \"iteration\": \"14\", \"goal\": \"accuracy_max\", \"run_name\": \"StandardScalerWrapper, XGBoostClassifier\", \"run_properties\": \"\\n    copy=True,\\n    with_mean=False,\\n    with_std=False\\n\", \"primary_metric\": 0.71774194, \"best_metric\": 0.71774194}, {\"run_id\": \"AutoML_fc137486-3d67-4d93-ba32-89abac93bbe7_15\", \"run_number\": 20, \"metric\": null, \"status\": \"Completed\", \"run_type\": \"azureml.scriptrun\", \"training_percent\": \"100\", \"start_time\": \"2021-10-20T16:01:30.358361Z\", \"end_time\": \"2021-10-20T16:07:02.02413Z\", \"created_time\": \"2021-10-20T16:01:30.358361Z\", \"created_time_dt\": \"2021-10-20T16:01:30.358361Z\", \"duration\": \"0:05:31\", \"iteration\": \"15\", \"goal\": \"accuracy_max\", \"run_name\": \"SparseNormalizer, RandomForest\", \"run_properties\": \"copy=True, norm='l2'\", \"primary_metric\": 0.09024578, \"best_metric\": 0.71774194}, {\"run_id\": \"AutoML_fc137486-3d67-4d93-ba32-89abac93bbe7_16\", \"run_number\": 21, \"metric\": null, \"status\": \"Completed\", \"run_type\": \"azureml.scriptrun\", \"training_percent\": \"100\", \"start_time\": \"2021-10-20T16:03:01.536872Z\", \"end_time\": \"2021-10-20T16:07:32.856049Z\", \"created_time\": \"2021-10-20T16:03:01.536872Z\", \"created_time_dt\": \"2021-10-20T16:03:01.536872Z\", \"duration\": \"0:04:31\", \"iteration\": \"16\", \"goal\": \"accuracy_max\", \"run_name\": \"StandardScalerWrapper, LogisticRegression\", \"run_properties\": \"\\n    copy=True,\\n    with_mean=False,\\n    with_std=False\\n\", \"primary_metric\": 0.65322581, \"best_metric\": 0.71774194}, {\"run_id\": \"AutoML_fc137486-3d67-4d93-ba32-89abac93bbe7_17\", \"run_number\": 22, \"metric\": null, \"status\": \"Completed\", \"run_type\": \"azureml.scriptrun\", \"training_percent\": \"100\", \"start_time\": \"2021-10-20T16:03:32.180505Z\", \"end_time\": \"2021-10-20T16:09:01.747282Z\", \"created_time\": \"2021-10-20T16:03:32.180505Z\", \"created_time_dt\": \"2021-10-20T16:03:32.180505Z\", \"duration\": \"0:05:29\", \"iteration\": \"17\", \"goal\": \"accuracy_max\", \"run_name\": \"StandardScalerWrapper, RandomForest\", \"run_properties\": \"\\n    copy=True,\\n    with_mean=False,\\n    with_std=False\\n\", \"primary_metric\": 0.60407066, \"best_metric\": 0.71774194}, {\"run_id\": \"AutoML_fc137486-3d67-4d93-ba32-89abac93bbe7_18\", \"run_number\": 23, \"metric\": null, \"status\": \"Completed\", \"run_type\": \"azureml.scriptrun\", \"training_percent\": \"100\", \"start_time\": \"2021-10-20T16:04:58.019561Z\", \"end_time\": \"2021-10-20T16:09:30.75139Z\", \"created_time\": \"2021-10-20T16:04:58.019561Z\", \"created_time_dt\": \"2021-10-20T16:04:58.019561Z\", \"duration\": \"0:04:32\", \"iteration\": \"18\", \"goal\": \"accuracy_max\", \"run_name\": \"StandardScalerWrapper, XGBoostClassifier\", \"run_properties\": \"\\n    copy=True,\\n    with_mean=False,\\n    with_std=False\\n\", \"primary_metric\": 0.6858679, \"best_metric\": 0.71774194}, {\"run_id\": \"AutoML_fc137486-3d67-4d93-ba32-89abac93bbe7_19\", \"run_number\": 24, \"metric\": null, \"status\": \"Completed\", \"run_type\": \"azureml.scriptrun\", \"training_percent\": \"100\", \"start_time\": \"2021-10-20T16:05:30.294115Z\", \"end_time\": \"2021-10-20T16:11:40.544471Z\", \"created_time\": \"2021-10-20T16:05:30.294115Z\", \"created_time_dt\": \"2021-10-20T16:05:30.294115Z\", \"duration\": \"0:06:10\", \"iteration\": \"19\", \"goal\": \"accuracy_max\", \"run_name\": \"TruncatedSVDWrapper, RandomForest\", \"run_properties\": \"n_components=0.8015789473684211, random_state=None\", \"primary_metric\": 0.09024578, \"best_metric\": 0.71774194}, {\"run_id\": \"AutoML_fc137486-3d67-4d93-ba32-89abac93bbe7_20\", \"run_number\": 25, \"metric\": null, \"status\": \"Canceled\", \"run_type\": \"azureml.scriptrun\", \"training_percent\": \"100\", \"start_time\": \"2021-10-20T16:07:04.750033Z\", \"end_time\": \"2021-10-20T16:11:41.891895Z\", \"created_time\": \"2021-10-20T16:07:04.750033Z\", \"created_time_dt\": \"2021-10-20T16:07:04.750033Z\", \"duration\": \"0:04:37\", \"iteration\": \"20\", \"goal\": null, \"run_name\": \"Canceled\", \"run_properties\": null}, {\"run_id\": \"AutoML_fc137486-3d67-4d93-ba32-89abac93bbe7_21\", \"run_number\": 26, \"metric\": null, \"status\": \"Canceled\", \"run_type\": \"azureml.scriptrun\", \"training_percent\": \"100\", \"start_time\": \"2021-10-20T16:07:35.616991Z\", \"end_time\": \"2021-10-20T16:11:41.940115Z\", \"created_time\": \"2021-10-20T16:07:35.616991Z\", \"created_time_dt\": \"2021-10-20T16:07:35.616991Z\", \"duration\": \"0:04:06\", \"iteration\": \"21\", \"goal\": null, \"run_name\": \"Canceled\", \"run_properties\": null}, {\"run_id\": \"AutoML_fc137486-3d67-4d93-ba32-89abac93bbe7_22\", \"run_number\": 27, \"metric\": null, \"status\": \"Canceled\", \"run_type\": \"azureml.scriptrun\", \"training_percent\": \"100\", \"start_time\": \"2021-10-20T16:09:04.952408Z\", \"end_time\": \"2021-10-20T16:11:42.103493Z\", \"created_time\": \"2021-10-20T16:09:04.952408Z\", \"created_time_dt\": \"2021-10-20T16:09:04.952408Z\", \"duration\": \"0:02:37\", \"iteration\": \"22\", \"goal\": null, \"run_name\": \"Canceled\", \"run_properties\": null}, {\"run_id\": \"AutoML_fc137486-3d67-4d93-ba32-89abac93bbe7_23\", \"run_number\": 28, \"metric\": null, \"status\": \"Canceled\", \"run_type\": \"azureml.scriptrun\", \"training_percent\": \"100\", \"start_time\": \"2021-10-20T16:09:33.7848Z\", \"end_time\": \"2021-10-20T16:11:42.005875Z\", \"created_time\": \"2021-10-20T16:09:33.7848Z\", \"created_time_dt\": \"2021-10-20T16:09:33.7848Z\", \"duration\": \"0:02:08\", \"iteration\": \"23\", \"goal\": null, \"run_name\": \"Canceled\", \"run_properties\": null}, {\"run_id\": \"AutoML_fc137486-3d67-4d93-ba32-89abac93bbe7_24\", \"run_number\": 29, \"metric\": null, \"status\": \"Completed\", \"run_type\": \"azureml.scriptrun\", \"training_percent\": \"100\", \"start_time\": \"2021-10-20T16:11:43.363632Z\", \"end_time\": \"2021-10-20T16:12:19.424628Z\", \"created_time\": \"2021-10-20T16:11:43.363632Z\", \"created_time_dt\": \"2021-10-20T16:11:43.363632Z\", \"duration\": \"0:00:36\", \"iteration\": \"24\", \"goal\": \"accuracy_max\", \"run_name\": \"VotingEnsemble\", \"run_properties\": \"\\n    estimators=[('14', Pipeline(\\n        memory=None,\\n        steps=[('standardscalerwrapper', StandardScalerWrapper(\\n            copy=True,\\n            with_mean=False,\\n            with_std=False\\n        \", \"primary_metric\": 0.73387097, \"best_metric\": 0.73387097}, {\"run_id\": \"AutoML_fc137486-3d67-4d93-ba32-89abac93bbe7_25\", \"run_number\": 30, \"metric\": null, \"status\": \"Completed\", \"run_type\": \"azureml.scriptrun\", \"training_percent\": \"100\", \"start_time\": \"2021-10-20T16:11:43.372275Z\", \"end_time\": \"2021-10-20T16:13:11.138Z\", \"created_time\": \"2021-10-20T16:11:43.372275Z\", \"created_time_dt\": \"2021-10-20T16:11:43.372275Z\", \"duration\": \"0:01:27\", \"iteration\": \"25\", \"goal\": \"accuracy_max\", \"run_name\": \"StackEnsemble\", \"run_properties\": \"\\n    base_learners=[('14', Pipeline(\\n        memory=None,\\n        steps=[('standardscalerwrapper', StandardScalerWrapper(\\n            copy=True,\\n            with_mean=False,\\n            with_std=False\\n        \", \"primary_metric\": 0.64400922, \"best_metric\": 0.73387097}], \"children_metrics\": {\"categories\": [0], \"series\": {\"precision_score_macro\": [{\"categories\": [\"0\", \"1\", \"2\", \"3\", \"4\", \"5\", \"6\", \"7\", \"8\", \"9\", \"10\", \"11\", \"12\", \"13\", \"14\", \"15\", \"16\", \"17\", \"18\", \"19\", \"24\", \"25\"], \"mode\": \"markers\", \"name\": \"precision_score_macro\", \"stepped\": false, \"type\": \"scatter\", \"data\": [0.5570771144278607, 0.5523486134691568, 0.045122887864823345, 0.5508108104781662, 0.5472350230414746, 0.5495156151944226, 0.5549923287612987, 0.5531535245161746, 0.5535811546840959, 0.5506940456707118, 0.5416484004713121, 0.5452388759233899, 0.5523252818219813, 0.5355078233176406, 0.5502334415961025, 0.045122887864823345, 0.5546431077807711, 0.5421223003327686, 0.5479525416202724, 0.045122887864823345, 0.563371372965322, 0.5498687778846995]}, {\"categories\": [\"0\", \"1\", \"2\", \"3\", \"4\", \"5\", \"6\", \"7\", \"8\", \"9\", \"10\", \"11\", \"12\", \"13\", \"14\", \"15\", \"16\", \"17\", \"18\", \"19\", \"24\", \"25\"], \"mode\": \"lines\", \"name\": \"precision_score_macro_max\", \"stepped\": true, \"type\": \"scatter\", \"data\": [0.5570771144278607, 0.5570771144278607, 0.5570771144278607, 0.5570771144278607, 0.5570771144278607, 0.5570771144278607, 0.5570771144278607, 0.5570771144278607, 0.5570771144278607, 0.5570771144278607, 0.5570771144278607, 0.5570771144278607, 0.5570771144278607, 0.5570771144278607, 0.5570771144278607, 0.5570771144278607, 0.5570771144278607, 0.5570771144278607, 0.5570771144278607, 0.5570771144278607, 0.563371372965322, 0.563371372965322]}], \"recall_score_weighted\": [{\"categories\": [\"0\", \"1\", \"2\", \"3\", \"4\", \"5\", \"6\", \"7\", \"8\", \"9\", \"10\", \"11\", \"12\", \"13\", \"14\", \"15\", \"16\", \"17\", \"18\", \"19\", \"24\", \"25\"], \"mode\": \"markers\", \"name\": \"recall_score_weighted\", \"stepped\": false, \"type\": \"scatter\", \"data\": [0.7054531490015361, 0.6920122887864824, 0.09024577572964669, 0.6321044546850999, 0.6785714285714286, 0.695852534562212, 0.7135176651305684, 0.6597542242703534, 0.6539938556067588, 0.7019969278033794, 0.5476190476190477, 0.6040706605222734, 0.6589861751152074, 0.12403993855606758, 0.717741935483871, 0.09024577572964669, 0.6532258064516129, 0.6040706605222733, 0.6858678955453149, 0.09024577572964669, 0.7338709677419354, 0.6440092165898618]}, {\"categories\": [\"0\", \"1\", \"2\", \"3\", \"4\", \"5\", \"6\", \"7\", \"8\", \"9\", \"10\", \"11\", \"12\", \"13\", \"14\", \"15\", \"16\", \"17\", \"18\", \"19\", \"24\", \"25\"], \"mode\": \"lines\", \"name\": \"recall_score_weighted_max\", \"stepped\": true, \"type\": \"scatter\", \"data\": [0.7054531490015361, 0.7054531490015361, 0.7054531490015361, 0.7054531490015361, 0.7054531490015361, 0.7054531490015361, 0.7135176651305684, 0.7135176651305684, 0.7135176651305684, 0.7135176651305684, 0.7135176651305684, 0.7135176651305684, 0.7135176651305684, 0.7135176651305684, 0.717741935483871, 0.717741935483871, 0.717741935483871, 0.717741935483871, 0.717741935483871, 0.717741935483871, 0.7338709677419354, 0.7338709677419354]}], \"f1_score_micro\": [{\"categories\": [\"0\", \"1\", \"2\", \"3\", \"4\", \"5\", \"6\", \"7\", \"8\", \"9\", \"10\", \"11\", \"12\", \"13\", \"14\", \"15\", \"16\", \"17\", \"18\", \"19\", \"24\", \"25\"], \"mode\": \"markers\", \"name\": \"f1_score_micro\", \"stepped\": false, \"type\": \"scatter\", \"data\": [0.7054531490015361, 0.6920122887864824, 0.09024577572964669, 0.6321044546850998, 0.6785714285714286, 0.695852534562212, 0.7135176651305684, 0.6597542242703534, 0.6539938556067588, 0.7019969278033794, 0.5476190476190477, 0.6040706605222734, 0.6589861751152074, 0.12403993855606758, 0.7177419354838711, 0.09024577572964669, 0.6532258064516129, 0.6040706605222734, 0.6858678955453149, 0.09024577572964669, 0.7338709677419355, 0.6440092165898618]}, {\"categories\": [\"0\", \"1\", \"2\", \"3\", \"4\", \"5\", \"6\", \"7\", \"8\", \"9\", \"10\", \"11\", \"12\", \"13\", \"14\", \"15\", \"16\", \"17\", \"18\", \"19\", \"24\", \"25\"], \"mode\": \"lines\", \"name\": \"f1_score_micro_max\", \"stepped\": true, \"type\": \"scatter\", \"data\": [0.7054531490015361, 0.7054531490015361, 0.7054531490015361, 0.7054531490015361, 0.7054531490015361, 0.7054531490015361, 0.7135176651305684, 0.7135176651305684, 0.7135176651305684, 0.7135176651305684, 0.7135176651305684, 0.7135176651305684, 0.7135176651305684, 0.7135176651305684, 0.7177419354838711, 0.7177419354838711, 0.7177419354838711, 0.7177419354838711, 0.7177419354838711, 0.7177419354838711, 0.7338709677419355, 0.7338709677419355]}], \"recall_score_macro\": [{\"categories\": [\"0\", \"1\", \"2\", \"3\", \"4\", \"5\", \"6\", \"7\", \"8\", \"9\", \"10\", \"11\", \"12\", \"13\", \"14\", \"15\", \"16\", \"17\", \"18\", \"19\", \"24\", \"25\"], \"mode\": \"markers\", \"name\": \"recall_score_macro\", \"stepped\": false, \"type\": \"scatter\", \"data\": [0.6483739435797491, 0.639070260366615, 0.5, 0.6483101766613079, 0.627849977097797, 0.6296812552203551, 0.6393899930844328, 0.6500902616239908, 0.6526741690092777, 0.6311416074652201, 0.6267928832526517, 0.6348194318457379, 0.6477515425307383, 0.5147400375416505, 0.624462247289906, 0.5, 0.6560852500830766, 0.625236431567319, 0.6280269078433309, 0.5, 0.6544093476913682, 0.6433534214095183]}, {\"categories\": [\"0\", \"1\", \"2\", \"3\", \"4\", \"5\", \"6\", \"7\", \"8\", \"9\", \"10\", \"11\", \"12\", \"13\", \"14\", \"15\", \"16\", \"17\", \"18\", \"19\", \"24\", \"25\"], \"mode\": \"lines\", \"name\": \"recall_score_macro_max\", \"stepped\": true, \"type\": \"scatter\", \"data\": [0.6483739435797491, 0.6483739435797491, 0.6483739435797491, 0.6483739435797491, 0.6483739435797491, 0.6483739435797491, 0.6483739435797491, 0.6500902616239908, 0.6526741690092777, 0.6526741690092777, 0.6526741690092777, 0.6526741690092777, 0.6526741690092777, 0.6526741690092777, 0.6526741690092777, 0.6526741690092777, 0.6560852500830766, 0.6560852500830766, 0.6560852500830766, 0.6560852500830766, 0.6560852500830766, 0.6560852500830766]}], \"balanced_accuracy\": [{\"categories\": [\"0\", \"1\", \"2\", \"3\", \"4\", \"5\", \"6\", \"7\", \"8\", \"9\", \"10\", \"11\", \"12\", \"13\", \"14\", \"15\", \"16\", \"17\", \"18\", \"19\", \"24\", \"25\"], \"mode\": \"markers\", \"name\": \"balanced_accuracy\", \"stepped\": false, \"type\": \"scatter\", \"data\": [0.6483739435797491, 0.639070260366615, 0.5, 0.6483101766613079, 0.627849977097797, 0.6296812552203551, 0.6393899930844328, 0.6500902616239908, 0.6526741690092777, 0.6311416074652201, 0.6267928832526517, 0.6348194318457379, 0.6477515425307383, 0.5147400375416505, 0.624462247289906, 0.5, 0.6560852500830766, 0.625236431567319, 0.6280269078433309, 0.5, 0.6544093476913682, 0.6433534214095183]}, {\"categories\": [\"0\", \"1\", \"2\", \"3\", \"4\", \"5\", \"6\", \"7\", \"8\", \"9\", \"10\", \"11\", \"12\", \"13\", \"14\", \"15\", \"16\", \"17\", \"18\", \"19\", \"24\", \"25\"], \"mode\": \"lines\", \"name\": \"balanced_accuracy_max\", \"stepped\": true, \"type\": \"scatter\", \"data\": [0.6483739435797491, 0.6483739435797491, 0.6483739435797491, 0.6483739435797491, 0.6483739435797491, 0.6483739435797491, 0.6483739435797491, 0.6500902616239908, 0.6526741690092777, 0.6526741690092777, 0.6526741690092777, 0.6526741690092777, 0.6526741690092777, 0.6526741690092777, 0.6526741690092777, 0.6526741690092777, 0.6560852500830766, 0.6560852500830766, 0.6560852500830766, 0.6560852500830766, 0.6560852500830766, 0.6560852500830766]}], \"precision_score_weighted\": [{\"categories\": [\"0\", \"1\", \"2\", \"3\", \"4\", \"5\", \"6\", \"7\", \"8\", \"9\", \"10\", \"11\", \"12\", \"13\", \"14\", \"15\", \"16\", \"17\", \"18\", \"19\", \"24\", \"25\"], \"mode\": \"markers\", \"name\": \"precision_score_weighted\", \"stepped\": false, \"type\": \"scatter\", \"data\": [0.8749831965365187, 0.8728241867241813, 0.008144300037045688, 0.8781327665868386, 0.8701289048397716, 0.8701346972589633, 0.8723404223935891, 0.8772075035409858, 0.8782488876673727, 0.8703775609886453, 0.8769473745046703, 0.8756257925918566, 0.8765622423458337, 0.898347685334664, 0.868261133728218, 0.008144300037045688, 0.8792966246998705, 0.8726168019437766, 0.8699562235415422, 0.008144300037045688, 0.8759539633891135, 0.875998154827583]}, {\"categories\": [\"0\", \"1\", \"2\", \"3\", \"4\", \"5\", \"6\", \"7\", \"8\", \"9\", \"10\", \"11\", \"12\", \"13\", \"14\", \"15\", \"16\", \"17\", \"18\", \"19\", \"24\", \"25\"], \"mode\": \"lines\", \"name\": \"precision_score_weighted_max\", \"stepped\": true, \"type\": \"scatter\", \"data\": [0.8749831965365187, 0.8749831965365187, 0.8749831965365187, 0.8781327665868386, 0.8781327665868386, 0.8781327665868386, 0.8781327665868386, 0.8781327665868386, 0.8782488876673727, 0.8782488876673727, 0.8782488876673727, 0.8782488876673727, 0.8782488876673727, 0.898347685334664, 0.898347685334664, 0.898347685334664, 0.898347685334664, 0.898347685334664, 0.898347685334664, 0.898347685334664, 0.898347685334664, 0.898347685334664]}], \"AUC_micro\": [{\"categories\": [\"0\", \"1\", \"2\", \"3\", \"4\", \"5\", \"6\", \"7\", \"8\", \"9\", \"10\", \"11\", \"12\", \"13\", \"14\", \"15\", \"16\", \"17\", \"18\", \"19\", \"24\", \"25\"], \"mode\": \"markers\", \"name\": \"AUC_micro\", \"stepped\": false, \"type\": \"scatter\", \"data\": [0.7907607285022924, 0.7175577393635221, 0.12167473649189126, 0.7014180889143726, 0.7167641770547969, 0.7162748554156313, 0.7840491468873363, 0.7305026415699822, 0.6971725821789, 0.7378331752402661, 0.610935763483333, 0.6947747881670878, 0.730215950410688, 0.12858968596109965, 0.7603673363205845, 0.12230283198954225, 0.7122566074643524, 0.6757306200315715, 0.7503333669576051, 0.11965831250988082, 0.7812356211995725, 0.7159349258260364]}, {\"categories\": [\"0\", \"1\", \"2\", \"3\", \"4\", \"5\", \"6\", \"7\", \"8\", \"9\", \"10\", \"11\", \"12\", \"13\", \"14\", \"15\", \"16\", \"17\", \"18\", \"19\", \"24\", \"25\"], \"mode\": \"lines\", \"name\": \"AUC_micro_max\", \"stepped\": true, \"type\": \"scatter\", \"data\": [0.7907607285022924, 0.7907607285022924, 0.7907607285022924, 0.7907607285022924, 0.7907607285022924, 0.7907607285022924, 0.7907607285022924, 0.7907607285022924, 0.7907607285022924, 0.7907607285022924, 0.7907607285022924, 0.7907607285022924, 0.7907607285022924, 0.7907607285022924, 0.7907607285022924, 0.7907607285022924, 0.7907607285022924, 0.7907607285022924, 0.7907607285022924, 0.7907607285022924, 0.7907607285022924, 0.7907607285022924]}], \"weighted_accuracy\": [{\"categories\": [\"0\", \"1\", \"2\", \"3\", \"4\", \"5\", \"6\", \"7\", \"8\", \"9\", \"10\", \"11\", \"12\", \"13\", \"14\", \"15\", \"16\", \"17\", \"18\", \"19\", \"24\", \"25\"], \"mode\": \"markers\", \"name\": \"weighted_accuracy\", \"stepped\": false, \"type\": \"scatter\", \"data\": [0.7166670842607157, 0.7024134230490036, 0.009744351275879217, 0.6289206346629647, 0.6885363022740997, 0.708852723283715, 0.7280809883074842, 0.661652832540434, 0.6542531248092155, 0.7159173559027037, 0.5320643414794759, 0.5980296736449574, 0.6611933614544695, 0.0472819391514889, 0.7360679156140063, 0.009744351275879217, 0.6526640324128269, 0.5999123758289978, 0.6972314926140554, 0.009744351275879217, 0.7494822127873415, 0.6441380558867881]}, {\"categories\": [\"0\", \"1\", \"2\", \"3\", \"4\", \"5\", \"6\", \"7\", \"8\", \"9\", \"10\", \"11\", \"12\", \"13\", \"14\", \"15\", \"16\", \"17\", \"18\", \"19\", \"24\", \"25\"], \"mode\": \"lines\", \"name\": \"weighted_accuracy_max\", \"stepped\": true, \"type\": \"scatter\", \"data\": [0.7166670842607157, 0.7166670842607157, 0.7166670842607157, 0.7166670842607157, 0.7166670842607157, 0.7166670842607157, 0.7280809883074842, 0.7280809883074842, 0.7280809883074842, 0.7280809883074842, 0.7280809883074842, 0.7280809883074842, 0.7280809883074842, 0.7280809883074842, 0.7360679156140063, 0.7360679156140063, 0.7360679156140063, 0.7360679156140063, 0.7360679156140063, 0.7360679156140063, 0.7494822127873415, 0.7494822127873415]}], \"norm_macro_recall\": [{\"categories\": [\"0\", \"1\", \"2\", \"3\", \"4\", \"5\", \"6\", \"7\", \"8\", \"9\", \"10\", \"11\", \"12\", \"13\", \"14\", \"15\", \"16\", \"17\", \"18\", \"19\", \"24\", \"25\"], \"mode\": \"markers\", \"name\": \"norm_macro_recall\", \"stepped\": false, \"type\": \"scatter\", \"data\": [0.2967478871594982, 0.2781405207332299, 0.0, 0.2966203533226157, 0.255699954195594, 0.25936251044071024, 0.27877998616886557, 0.3001805232479815, 0.3053483380185553, 0.26228321493044016, 0.2535857665053034, 0.2696388636914757, 0.2955030850614766, 0.029480075083301083, 0.24892449457981192, 0.0, 0.3121705001661532, 0.250472863134638, 0.25605381568666186, 0.0, 0.3088186953827363, 0.2867068428190367]}, {\"categories\": [\"0\", \"1\", \"2\", \"3\", \"4\", \"5\", \"6\", \"7\", \"8\", \"9\", \"10\", \"11\", \"12\", \"13\", \"14\", \"15\", \"16\", \"17\", \"18\", \"19\", \"24\", \"25\"], \"mode\": \"lines\", \"name\": \"norm_macro_recall_max\", \"stepped\": true, \"type\": \"scatter\", \"data\": [0.2967478871594982, 0.2967478871594982, 0.2967478871594982, 0.2967478871594982, 0.2967478871594982, 0.2967478871594982, 0.2967478871594982, 0.3001805232479815, 0.3053483380185553, 0.3053483380185553, 0.3053483380185553, 0.3053483380185553, 0.3053483380185553, 0.3053483380185553, 0.3053483380185553, 0.3053483380185553, 0.3121705001661532, 0.3121705001661532, 0.3121705001661532, 0.3121705001661532, 0.3121705001661532, 0.3121705001661532]}], \"matthews_correlation\": [{\"categories\": [\"0\", \"1\", \"2\", \"3\", \"4\", \"5\", \"6\", \"7\", \"8\", \"9\", \"10\", \"11\", \"12\", \"13\", \"14\", \"15\", \"16\", \"17\", \"18\", \"19\", \"24\", \"25\"], \"mode\": \"markers\", \"name\": \"matthews_correlation\", \"stepped\": false, \"type\": \"scatter\", \"data\": [0.1840516944319099, 0.1706474178531502, 0.0, 0.1736175138437486, 0.1554219625930189, 0.16026536907792419, 0.1751043154891881, 0.17863735780479792, 0.18089177168629753, 0.16307174664143903, 0.14533713604745016, 0.15619320791034763, 0.1758538154553757, 0.04575529034873748, 0.15814129163703153, 0.0, 0.18470498794865461, 0.14526178551956243, 0.15670629377114512, 0.0, 0.19783965590226618, 0.16910186198008578]}, {\"categories\": [\"0\", \"1\", \"2\", \"3\", \"4\", \"5\", \"6\", \"7\", \"8\", \"9\", \"10\", \"11\", \"12\", \"13\", \"14\", \"15\", \"16\", \"17\", \"18\", \"19\", \"24\", \"25\"], \"mode\": \"lines\", \"name\": \"matthews_correlation_max\", \"stepped\": true, \"type\": \"scatter\", \"data\": [0.1840516944319099, 0.1840516944319099, 0.1840516944319099, 0.1840516944319099, 0.1840516944319099, 0.1840516944319099, 0.1840516944319099, 0.1840516944319099, 0.1840516944319099, 0.1840516944319099, 0.1840516944319099, 0.1840516944319099, 0.1840516944319099, 0.1840516944319099, 0.1840516944319099, 0.1840516944319099, 0.18470498794865461, 0.18470498794865461, 0.18470498794865461, 0.18470498794865461, 0.19783965590226618, 0.19783965590226618]}], \"AUC_macro\": [{\"categories\": [\"0\", \"1\", \"2\", \"3\", \"4\", \"5\", \"6\", \"7\", \"8\", \"9\", \"10\", \"11\", \"12\", \"13\", \"14\", \"15\", \"16\", \"17\", \"18\", \"19\", \"24\", \"25\"], \"mode\": \"markers\", \"name\": \"AUC_macro\", \"stepped\": false, \"type\": \"scatter\", \"data\": [0.7165964631813406, 0.7032296597002057, 0.6914031416433902, 0.7074526463271154, 0.6991090593930467, 0.6868074328875637, 0.7022093890051462, 0.7168982333869216, 0.7041304796888894, 0.6953081918037056, 0.6774696209011792, 0.6965979001823195, 0.7163863017881681, 0.6863781288451002, 0.6931625697170007, 0.6952282586242512, 0.7130560520194353, 0.692551844300944, 0.7055162875079708, 0.6791230701525917, 0.7113657796179373, 0.7176670289106635]}, {\"categories\": [\"0\", \"1\", \"2\", \"3\", \"4\", \"5\", \"6\", \"7\", \"8\", \"9\", \"10\", \"11\", \"12\", \"13\", \"14\", \"15\", \"16\", \"17\", \"18\", \"19\", \"24\", \"25\"], \"mode\": \"lines\", \"name\": \"AUC_macro_max\", \"stepped\": true, \"type\": \"scatter\", \"data\": [0.7165964631813406, 0.7165964631813406, 0.7165964631813406, 0.7165964631813406, 0.7165964631813406, 0.7165964631813406, 0.7165964631813406, 0.7168982333869216, 0.7168982333869216, 0.7168982333869216, 0.7168982333869216, 0.7168982333869216, 0.7168982333869216, 0.7168982333869216, 0.7168982333869216, 0.7168982333869216, 0.7168982333869216, 0.7168982333869216, 0.7168982333869216, 0.7168982333869216, 0.7168982333869216, 0.7176670289106635]}], \"recall_score_micro\": [{\"categories\": [\"0\", \"1\", \"2\", \"3\", \"4\", \"5\", \"6\", \"7\", \"8\", \"9\", \"10\", \"11\", \"12\", \"13\", \"14\", \"15\", \"16\", \"17\", \"18\", \"19\", \"24\", \"25\"], \"mode\": \"markers\", \"name\": \"recall_score_micro\", \"stepped\": false, \"type\": \"scatter\", \"data\": [0.7054531490015361, 0.6920122887864824, 0.09024577572964669, 0.6321044546850998, 0.6785714285714286, 0.695852534562212, 0.7135176651305684, 0.6597542242703534, 0.6539938556067588, 0.7019969278033794, 0.5476190476190477, 0.6040706605222734, 0.6589861751152074, 0.12403993855606758, 0.717741935483871, 0.09024577572964669, 0.6532258064516129, 0.6040706605222734, 0.6858678955453149, 0.09024577572964669, 0.7338709677419355, 0.6440092165898618]}, {\"categories\": [\"0\", \"1\", \"2\", \"3\", \"4\", \"5\", \"6\", \"7\", \"8\", \"9\", \"10\", \"11\", \"12\", \"13\", \"14\", \"15\", \"16\", \"17\", \"18\", \"19\", \"24\", \"25\"], \"mode\": \"lines\", \"name\": \"recall_score_micro_max\", \"stepped\": true, \"type\": \"scatter\", \"data\": [0.7054531490015361, 0.7054531490015361, 0.7054531490015361, 0.7054531490015361, 0.7054531490015361, 0.7054531490015361, 0.7135176651305684, 0.7135176651305684, 0.7135176651305684, 0.7135176651305684, 0.7135176651305684, 0.7135176651305684, 0.7135176651305684, 0.7135176651305684, 0.717741935483871, 0.717741935483871, 0.717741935483871, 0.717741935483871, 0.717741935483871, 0.717741935483871, 0.7338709677419355, 0.7338709677419355]}], \"accuracy\": [{\"categories\": [\"0\", \"1\", \"2\", \"3\", \"4\", \"5\", \"6\", \"7\", \"8\", \"9\", \"10\", \"11\", \"12\", \"13\", \"14\", \"15\", \"16\", \"17\", \"18\", \"19\", \"24\", \"25\"], \"mode\": \"markers\", \"name\": \"accuracy\", \"stepped\": false, \"type\": \"scatter\", \"data\": [0.7054531490015361, 0.6920122887864824, 0.09024577572964669, 0.6321044546850998, 0.6785714285714286, 0.695852534562212, 0.7135176651305684, 0.6597542242703534, 0.6539938556067588, 0.7019969278033794, 0.5476190476190477, 0.6040706605222734, 0.6589861751152074, 0.12403993855606758, 0.717741935483871, 0.09024577572964669, 0.6532258064516129, 0.6040706605222734, 0.6858678955453149, 0.09024577572964669, 0.7338709677419355, 0.6440092165898618]}, {\"categories\": [\"0\", \"1\", \"2\", \"3\", \"4\", \"5\", \"6\", \"7\", \"8\", \"9\", \"10\", \"11\", \"12\", \"13\", \"14\", \"15\", \"16\", \"17\", \"18\", \"19\", \"24\", \"25\"], \"mode\": \"lines\", \"name\": \"accuracy_max\", \"stepped\": true, \"type\": \"scatter\", \"data\": [0.7054531490015361, 0.7054531490015361, 0.7054531490015361, 0.7054531490015361, 0.7054531490015361, 0.7054531490015361, 0.7135176651305684, 0.7135176651305684, 0.7135176651305684, 0.7135176651305684, 0.7135176651305684, 0.7135176651305684, 0.7135176651305684, 0.7135176651305684, 0.717741935483871, 0.717741935483871, 0.717741935483871, 0.717741935483871, 0.717741935483871, 0.717741935483871, 0.7338709677419355, 0.7338709677419355]}], \"f1_score_weighted\": [{\"categories\": [\"0\", \"1\", \"2\", \"3\", \"4\", \"5\", \"6\", \"7\", \"8\", \"9\", \"10\", \"11\", \"12\", \"13\", \"14\", \"15\", \"16\", \"17\", \"18\", \"19\", \"24\", \"25\"], \"mode\": \"markers\", \"name\": \"f1_score_weighted\", \"stepped\": false, \"type\": \"scatter\", \"data\": [0.7660058541418338, 0.7560761822877164, 0.014940301018997513, 0.7106028757308485, 0.7460211571617404, 0.7586423816838564, 0.7715089414412255, 0.7321736772178019, 0.7277625137321391, 0.7630868273992417, 0.6395363522616969, 0.6879944641876772, 0.7315691031257429, 0.08184959126178307, 0.7740027399042968, 0.014940301018997513, 0.7271838015746954, 0.6881053924816563, 0.7513712712238907, 0.014940301018997513, 0.7862739368770877, 0.7199818895051744]}, {\"categories\": [\"0\", \"1\", \"2\", \"3\", \"4\", \"5\", \"6\", \"7\", \"8\", \"9\", \"10\", \"11\", \"12\", \"13\", \"14\", \"15\", \"16\", \"17\", \"18\", \"19\", \"24\", \"25\"], \"mode\": \"lines\", \"name\": \"f1_score_weighted_max\", \"stepped\": true, \"type\": \"scatter\", \"data\": [0.7660058541418338, 0.7660058541418338, 0.7660058541418338, 0.7660058541418338, 0.7660058541418338, 0.7660058541418338, 0.7715089414412255, 0.7715089414412255, 0.7715089414412255, 0.7715089414412255, 0.7715089414412255, 0.7715089414412255, 0.7715089414412255, 0.7715089414412255, 0.7740027399042968, 0.7740027399042968, 0.7740027399042968, 0.7740027399042968, 0.7740027399042968, 0.7740027399042968, 0.7862739368770877, 0.7862739368770877]}], \"precision_score_micro\": [{\"categories\": [\"0\", \"1\", \"2\", \"3\", \"4\", \"5\", \"6\", \"7\", \"8\", \"9\", \"10\", \"11\", \"12\", \"13\", \"14\", \"15\", \"16\", \"17\", \"18\", \"19\", \"24\", \"25\"], \"mode\": \"markers\", \"name\": \"precision_score_micro\", \"stepped\": false, \"type\": \"scatter\", \"data\": [0.7054531490015361, 0.6920122887864824, 0.09024577572964669, 0.6321044546850998, 0.6785714285714286, 0.695852534562212, 0.7135176651305684, 0.6597542242703534, 0.6539938556067588, 0.7019969278033794, 0.5476190476190477, 0.6040706605222734, 0.6589861751152074, 0.12403993855606758, 0.717741935483871, 0.09024577572964669, 0.6532258064516129, 0.6040706605222734, 0.6858678955453149, 0.09024577572964669, 0.7338709677419355, 0.6440092165898618]}, {\"categories\": [\"0\", \"1\", \"2\", \"3\", \"4\", \"5\", \"6\", \"7\", \"8\", \"9\", \"10\", \"11\", \"12\", \"13\", \"14\", \"15\", \"16\", \"17\", \"18\", \"19\", \"24\", \"25\"], \"mode\": \"lines\", \"name\": \"precision_score_micro_max\", \"stepped\": true, \"type\": \"scatter\", \"data\": [0.7054531490015361, 0.7054531490015361, 0.7054531490015361, 0.7054531490015361, 0.7054531490015361, 0.7054531490015361, 0.7135176651305684, 0.7135176651305684, 0.7135176651305684, 0.7135176651305684, 0.7135176651305684, 0.7135176651305684, 0.7135176651305684, 0.7135176651305684, 0.717741935483871, 0.717741935483871, 0.717741935483871, 0.717741935483871, 0.717741935483871, 0.717741935483871, 0.7338709677419355, 0.7338709677419355]}], \"f1_score_macro\": [{\"categories\": [\"0\", \"1\", \"2\", \"3\", \"4\", \"5\", \"6\", \"7\", \"8\", \"9\", \"10\", \"11\", \"12\", \"13\", \"14\", \"15\", \"16\", \"17\", \"18\", \"19\", \"24\", \"25\"], \"mode\": \"markers\", \"name\": \"f1_score_macro\", \"stepped\": false, \"type\": \"scatter\", \"data\": [0.5389066049864819, 0.5289792574843385, 0.08277562522014793, 0.5017305184844301, 0.5186313928462183, 0.5276190476190477, 0.5397610319900228, 0.5163313411984507, 0.5141637125929786, 0.531119130357302, 0.45236886360958467, 0.4837830650748245, 0.5152395383569122, 0.12139030321874537, 0.536259063402933, 0.08277562522014793, 0.5147660874526794, 0.4812655793313415, 0.5222168389319553, 0.08277562522014793, 0.5557008726824182, 0.5063775627577737]}, {\"categories\": [\"0\", \"1\", \"2\", \"3\", \"4\", \"5\", \"6\", \"7\", \"8\", \"9\", \"10\", \"11\", \"12\", \"13\", \"14\", \"15\", \"16\", \"17\", \"18\", \"19\", \"24\", \"25\"], \"mode\": \"lines\", \"name\": \"f1_score_macro_max\", \"stepped\": true, \"type\": \"scatter\", \"data\": [0.5389066049864819, 0.5389066049864819, 0.5389066049864819, 0.5389066049864819, 0.5389066049864819, 0.5389066049864819, 0.5397610319900228, 0.5397610319900228, 0.5397610319900228, 0.5397610319900228, 0.5397610319900228, 0.5397610319900228, 0.5397610319900228, 0.5397610319900228, 0.5397610319900228, 0.5397610319900228, 0.5397610319900228, 0.5397610319900228, 0.5397610319900228, 0.5397610319900228, 0.5557008726824182, 0.5557008726824182]}], \"average_precision_score_micro\": [{\"categories\": [\"0\", \"1\", \"2\", \"3\", \"4\", \"5\", \"6\", \"7\", \"8\", \"9\", \"10\", \"11\", \"12\", \"13\", \"14\", \"15\", \"16\", \"17\", \"18\", \"19\", \"24\", \"25\"], \"mode\": \"markers\", \"name\": \"average_precision_score_micro\", \"stepped\": false, \"type\": \"scatter\", \"data\": [0.7997731811109814, 0.7282373948568096, 0.3299506594191824, 0.7194288950604857, 0.7278953872688676, 0.7212501678784138, 0.7835695852606372, 0.7327891285102118, 0.7007044125901905, 0.7380905208552757, 0.6544855784756611, 0.7114484900391134, 0.7317724010557203, 0.3319619990744886, 0.7620101822737919, 0.3316856005282764, 0.7146629904521334, 0.6988125885469915, 0.7609491612686264, 0.3305120101104788, 0.7836978730951284, 0.725214500444468]}, {\"categories\": [\"0\", \"1\", \"2\", \"3\", \"4\", \"5\", \"6\", \"7\", \"8\", \"9\", \"10\", \"11\", \"12\", \"13\", \"14\", \"15\", \"16\", \"17\", \"18\", \"19\", \"24\", \"25\"], \"mode\": \"lines\", \"name\": \"average_precision_score_micro_max\", \"stepped\": true, \"type\": \"scatter\", \"data\": [0.7997731811109814, 0.7997731811109814, 0.7997731811109814, 0.7997731811109814, 0.7997731811109814, 0.7997731811109814, 0.7997731811109814, 0.7997731811109814, 0.7997731811109814, 0.7997731811109814, 0.7997731811109814, 0.7997731811109814, 0.7997731811109814, 0.7997731811109814, 0.7997731811109814, 0.7997731811109814, 0.7997731811109814, 0.7997731811109814, 0.7997731811109814, 0.7997731811109814, 0.7997731811109814, 0.7997731811109814]}], \"average_precision_score_macro\": [{\"categories\": [\"0\", \"1\", \"2\", \"3\", \"4\", \"5\", \"6\", \"7\", \"8\", \"9\", \"10\", \"11\", \"12\", \"13\", \"14\", \"15\", \"16\", \"17\", \"18\", \"19\", \"24\", \"25\"], \"mode\": \"markers\", \"name\": \"average_precision_score_macro\", \"stepped\": false, \"type\": \"scatter\", \"data\": [0.5958159939290555, 0.5839339292198201, 0.5631678791746537, 0.581889412746341, 0.5877363169160498, 0.581667765600524, 0.5870869318427188, 0.588552936013192, 0.567668889788204, 0.583224788875429, 0.5590654285413155, 0.579246098301495, 0.58776503728362, 0.5580722311897537, 0.5829887933621563, 0.5723428318869748, 0.5761050810317021, 0.5751314806184578, 0.5926985485223587, 0.5650233395854012, 0.5990394986321927, 0.6044682215572679]}, {\"categories\": [\"0\", \"1\", \"2\", \"3\", \"4\", \"5\", \"6\", \"7\", \"8\", \"9\", \"10\", \"11\", \"12\", \"13\", \"14\", \"15\", \"16\", \"17\", \"18\", \"19\", \"24\", \"25\"], \"mode\": \"lines\", \"name\": \"average_precision_score_macro_max\", \"stepped\": true, \"type\": \"scatter\", \"data\": [0.5958159939290555, 0.5958159939290555, 0.5958159939290555, 0.5958159939290555, 0.5958159939290555, 0.5958159939290555, 0.5958159939290555, 0.5958159939290555, 0.5958159939290555, 0.5958159939290555, 0.5958159939290555, 0.5958159939290555, 0.5958159939290555, 0.5958159939290555, 0.5958159939290555, 0.5958159939290555, 0.5958159939290555, 0.5958159939290555, 0.5958159939290555, 0.5958159939290555, 0.5990394986321927, 0.6044682215572679]}], \"AUC_weighted\": [{\"categories\": [\"0\", \"1\", \"2\", \"3\", \"4\", \"5\", \"6\", \"7\", \"8\", \"9\", \"10\", \"11\", \"12\", \"13\", \"14\", \"15\", \"16\", \"17\", \"18\", \"19\", \"24\", \"25\"], \"mode\": \"markers\", \"name\": \"AUC_weighted\", \"stepped\": false, \"type\": \"scatter\", \"data\": [0.7165964631813406, 0.7032296597002058, 0.6914031416433901, 0.7074526463271152, 0.6991090593930468, 0.6868074328875637, 0.7022093890051462, 0.7168982333869215, 0.7041304796888894, 0.6953081918037056, 0.6774696209011792, 0.6965979001823194, 0.7163863017881681, 0.6863781288451002, 0.6931625697170007, 0.6952282586242512, 0.7130560520194353, 0.692551844300944, 0.7055162875079708, 0.6791230701525917, 0.7113657796179373, 0.7176670289106637]}, {\"categories\": [\"0\", \"1\", \"2\", \"3\", \"4\", \"5\", \"6\", \"7\", \"8\", \"9\", \"10\", \"11\", \"12\", \"13\", \"14\", \"15\", \"16\", \"17\", \"18\", \"19\", \"24\", \"25\"], \"mode\": \"lines\", \"name\": \"AUC_weighted_max\", \"stepped\": true, \"type\": \"scatter\", \"data\": [0.7165964631813406, 0.7165964631813406, 0.7165964631813406, 0.7165964631813406, 0.7165964631813406, 0.7165964631813406, 0.7165964631813406, 0.7168982333869215, 0.7168982333869215, 0.7168982333869215, 0.7168982333869215, 0.7168982333869215, 0.7168982333869215, 0.7168982333869215, 0.7168982333869215, 0.7168982333869215, 0.7168982333869215, 0.7168982333869215, 0.7168982333869215, 0.7168982333869215, 0.7168982333869215, 0.7176670289106637]}], \"average_precision_score_weighted\": [{\"categories\": [\"0\", \"1\", \"2\", \"3\", \"4\", \"5\", \"6\", \"7\", \"8\", \"9\", \"10\", \"11\", \"12\", \"13\", \"14\", \"15\", \"16\", \"17\", \"18\", \"19\", \"24\", \"25\"], \"mode\": \"markers\", \"name\": \"average_precision_score_weighted\", \"stepped\": false, \"type\": \"scatter\", \"data\": [0.8934034298310148, 0.8900327543433056, 0.8858408651823826, 0.8887658160791158, 0.8901483150863169, 0.8861303834910832, 0.8900867201569875, 0.8912862263407767, 0.8876282385372111, 0.8866505938610137, 0.8803317034481697, 0.8868456089997769, 0.8906902126302115, 0.8813531409240344, 0.8879385096617303, 0.8875325662628814, 0.8900637061227658, 0.8873308404341443, 0.8924918925476728, 0.8819690318322021, 0.8941355964281428, 0.8959991070465443]}, {\"categories\": [\"0\", \"1\", \"2\", \"3\", \"4\", \"5\", \"6\", \"7\", \"8\", \"9\", \"10\", \"11\", \"12\", \"13\", \"14\", \"15\", \"16\", \"17\", \"18\", \"19\", \"24\", \"25\"], \"mode\": \"lines\", \"name\": \"average_precision_score_weighted_max\", \"stepped\": true, \"type\": \"scatter\", \"data\": [0.8934034298310148, 0.8934034298310148, 0.8934034298310148, 0.8934034298310148, 0.8934034298310148, 0.8934034298310148, 0.8934034298310148, 0.8934034298310148, 0.8934034298310148, 0.8934034298310148, 0.8934034298310148, 0.8934034298310148, 0.8934034298310148, 0.8934034298310148, 0.8934034298310148, 0.8934034298310148, 0.8934034298310148, 0.8934034298310148, 0.8934034298310148, 0.8934034298310148, 0.8941355964281428, 0.8959991070465443]}], \"log_loss\": [{\"categories\": [\"0\", \"1\", \"2\", \"3\", \"4\", \"5\", \"6\", \"7\", \"8\", \"9\", \"10\", \"11\", \"12\", \"13\", \"14\", \"15\", \"16\", \"17\", \"18\", \"19\", \"24\", \"25\"], \"mode\": \"markers\", \"name\": \"log_loss\", \"stepped\": false, \"type\": \"scatter\", \"data\": [0.5376495780121499, 0.6026527614627575, 2.012953180731962, 0.6257143370747125, 0.6078747573828378, 0.6520297325438362, 0.6144058106203091, 0.60065265526588, 0.6409648802167341, 0.6416910374644134, 0.6476025847160661, 0.6371977964876174, 0.6018518065906064, 5.908036623704704, 0.6050360874909295, 1.939830158118779, 0.6145506977942835, 0.6295841642164887, 0.5807049800506411, 2.02319545657452, 0.6050150451166487, 0.6096628380795246]}, {\"categories\": [\"0\", \"1\", \"2\", \"3\", \"4\", \"5\", \"6\", \"7\", \"8\", \"9\", \"10\", \"11\", \"12\", \"13\", \"14\", \"15\", \"16\", \"17\", \"18\", \"19\", \"24\", \"25\"], \"mode\": \"lines\", \"name\": \"log_loss_min\", \"stepped\": true, \"type\": \"scatter\", \"data\": [0.5376495780121499, 0.5376495780121499, 0.5376495780121499, 0.5376495780121499, 0.5376495780121499, 0.5376495780121499, 0.5376495780121499, 0.5376495780121499, 0.5376495780121499, 0.5376495780121499, 0.5376495780121499, 0.5376495780121499, 0.5376495780121499, 0.5376495780121499, 0.5376495780121499, 0.5376495780121499, 0.5376495780121499, 0.5376495780121499, 0.5376495780121499, 0.5376495780121499, 0.5376495780121499, 0.5376495780121499]}]}, \"metricName\": null, \"primaryMetricName\": \"accuracy\", \"showLegend\": false}, \"run_metrics\": [{\"name\": \"experiment_status\", \"run_id\": \"AutoML_fc137486-3d67-4d93-ba32-89abac93bbe7\", \"categories\": [0, 1, 2, 3, 4, 5, 6, 7, 8, 9, 10, 11], \"series\": [{\"data\": [\"DatasetEvaluation\", \"FeaturesGeneration\", \"DatasetFeaturization\", \"DatasetFeaturizationCompleted\", \"DatasetBalancing\", \"ModelSelection\", \"BestRunExplainModel\", \"ModelExplanationDataSetSetup\", \"PickSurrogateModel\", \"EngineeredFeatureExplanations\", \"EngineeredFeatureExplanations\", \"RawFeaturesExplanations\"]}]}, {\"name\": \"experiment_status_description\", \"run_id\": \"AutoML_fc137486-3d67-4d93-ba32-89abac93bbe7\", \"categories\": [0, 1, 2, 3, 4, 5, 6, 7, 8, 9, 10, 11], \"series\": [{\"data\": [\"Gathering dataset statistics.\", \"Generating features for the dataset.\", \"Beginning to fit featurizers and featurize the dataset.\", \"Completed fit featurizers and featurizing the dataset.\", \"Performing class balancing sweeping\", \"Beginning model selection.\", \"Best run model explanations started\", \"Model explanations data setup completed\", \"Choosing LightGBM as the surrogate model for explanations\", \"Computation of engineered features started\", \"Computation of engineered features completed\", \"Computation of raw features started\"]}]}, {\"name\": \"log_loss\", \"run_id\": \"AutoML_fc137486-3d67-4d93-ba32-89abac93bbe7\", \"categories\": [0], \"series\": [{\"data\": [0.6050150451166487]}]}, {\"name\": \"f1_score_micro\", \"run_id\": \"AutoML_fc137486-3d67-4d93-ba32-89abac93bbe7\", \"categories\": [0], \"series\": [{\"data\": [0.7338709677419355]}]}, {\"name\": \"AUC_macro\", \"run_id\": \"AutoML_fc137486-3d67-4d93-ba32-89abac93bbe7\", \"categories\": [0], \"series\": [{\"data\": [0.7113657796179373]}]}, {\"name\": \"precision_score_weighted\", \"run_id\": \"AutoML_fc137486-3d67-4d93-ba32-89abac93bbe7\", \"categories\": [0], \"series\": [{\"data\": [0.8759539633891135]}]}, {\"name\": \"f1_score_weighted\", \"run_id\": \"AutoML_fc137486-3d67-4d93-ba32-89abac93bbe7\", \"categories\": [0], \"series\": [{\"data\": [0.7862739368770877]}]}, {\"name\": \"matthews_correlation\", \"run_id\": \"AutoML_fc137486-3d67-4d93-ba32-89abac93bbe7\", \"categories\": [0], \"series\": [{\"data\": [0.19783965590226618]}]}, {\"name\": \"balanced_accuracy\", \"run_id\": \"AutoML_fc137486-3d67-4d93-ba32-89abac93bbe7\", \"categories\": [0], \"series\": [{\"data\": [0.6544093476913682]}]}, {\"name\": \"recall_score_macro\", \"run_id\": \"AutoML_fc137486-3d67-4d93-ba32-89abac93bbe7\", \"categories\": [0], \"series\": [{\"data\": [0.6544093476913682]}]}, {\"name\": \"weighted_accuracy\", \"run_id\": \"AutoML_fc137486-3d67-4d93-ba32-89abac93bbe7\", \"categories\": [0], \"series\": [{\"data\": [0.7494822127873415]}]}, {\"name\": \"average_precision_score_macro\", \"run_id\": \"AutoML_fc137486-3d67-4d93-ba32-89abac93bbe7\", \"categories\": [0], \"series\": [{\"data\": [0.5990394986321927]}]}, {\"name\": \"AUC_weighted\", \"run_id\": \"AutoML_fc137486-3d67-4d93-ba32-89abac93bbe7\", \"categories\": [0], \"series\": [{\"data\": [0.7113657796179373]}]}, {\"name\": \"accuracy\", \"run_id\": \"AutoML_fc137486-3d67-4d93-ba32-89abac93bbe7\", \"categories\": [0], \"series\": [{\"data\": [0.7338709677419355]}]}, {\"name\": \"f1_score_macro\", \"run_id\": \"AutoML_fc137486-3d67-4d93-ba32-89abac93bbe7\", \"categories\": [0], \"series\": [{\"data\": [0.5557008726824182]}]}, {\"name\": \"precision_score_macro\", \"run_id\": \"AutoML_fc137486-3d67-4d93-ba32-89abac93bbe7\", \"categories\": [0], \"series\": [{\"data\": [0.563371372965322]}]}, {\"name\": \"recall_score_micro\", \"run_id\": \"AutoML_fc137486-3d67-4d93-ba32-89abac93bbe7\", \"categories\": [0], \"series\": [{\"data\": [0.7338709677419355]}]}, {\"name\": \"average_precision_score_weighted\", \"run_id\": \"AutoML_fc137486-3d67-4d93-ba32-89abac93bbe7\", \"categories\": [0], \"series\": [{\"data\": [0.8941355964281428]}]}, {\"name\": \"average_precision_score_micro\", \"run_id\": \"AutoML_fc137486-3d67-4d93-ba32-89abac93bbe7\", \"categories\": [0], \"series\": [{\"data\": [0.7836978730951284]}]}, {\"name\": \"recall_score_weighted\", \"run_id\": \"AutoML_fc137486-3d67-4d93-ba32-89abac93bbe7\", \"categories\": [0], \"series\": [{\"data\": [0.7338709677419354]}]}, {\"name\": \"AUC_micro\", \"run_id\": \"AutoML_fc137486-3d67-4d93-ba32-89abac93bbe7\", \"categories\": [0], \"series\": [{\"data\": [0.7812356211995725]}]}, {\"name\": \"precision_score_micro\", \"run_id\": \"AutoML_fc137486-3d67-4d93-ba32-89abac93bbe7\", \"categories\": [0], \"series\": [{\"data\": [0.7338709677419355]}]}, {\"name\": \"norm_macro_recall\", \"run_id\": \"AutoML_fc137486-3d67-4d93-ba32-89abac93bbe7\", \"categories\": [0], \"series\": [{\"data\": [0.3088186953827363]}]}], \"run_logs\": \"\\nRun is completed.\", \"graph\": {}, \"widget_settings\": {\"childWidgetDisplay\": \"popup\", \"send_telemetry\": false, \"log_level\": \"INFO\", \"sdk_version\": \"1.34.0\"}, \"loading\": false}"
          },
          "metadata": {}
        }
      ],
      "execution_count": 7,
      "metadata": {
        "gather": {
          "logged": 1634746413806
        },
        "jupyter": {
          "outputs_hidden": false,
          "source_hidden": false
        },
        "nteract": {
          "transient": {
            "deleting": false
          }
        }
      }
    },
    {
      "cell_type": "markdown",
      "source": [
        "## Run Details\n",
        "\n",
        "OPTIONAL: Write about the different models trained and their performance. Why do you think some models did better than others?\n",
        "\n",
        "TODO: In the cell below, use the `RunDetails` widget to show the different experiments."
      ],
      "metadata": {}
    },
    {
      "cell_type": "markdown",
      "source": [
        "## Best Model\n",
        "\n",
        "TODO: In the cell below, get the best model from the automl experiments and display all the properties of the model.\n",
        "\n"
      ],
      "metadata": {}
    },
    {
      "cell_type": "code",
      "source": [
        "best_run, best_model = remote_run.get_output()\r\n",
        "\r\n",
        "best_model_metrics = best_run.get_metrics()\r\n"
      ],
      "outputs": [],
      "execution_count": 8,
      "metadata": {
        "gather": {
          "logged": 1634747161507
        },
        "jupyter": {
          "outputs_hidden": false,
          "source_hidden": false
        },
        "nteract": {
          "transient": {
            "deleting": false
          }
        }
      }
    },
    {
      "cell_type": "code",
      "source": [
        "# Display the metrics of the best model\r\n",
        "\r\n",
        "metrics = pd.DataFrame.from_dict(best_model_metrics, orient='index', columns=['metric value'])\r\n",
        "metrics"
      ],
      "outputs": [
        {
          "output_type": "execute_result",
          "execution_count": 9,
          "data": {
            "text/plain": "                                                                       metric value\nf1_score_weighted                                                              0.79\nrecall_score_weighted                                                          0.73\nf1_score_macro                                                                 0.56\nnorm_macro_recall                                                              0.31\nlog_loss                                                                       0.61\nmatthews_correlation                                                           0.20\nf1_score_micro                                                                 0.73\nweighted_accuracy                                                              0.75\naccuracy                                                                       0.73\nAUC_micro                                                                      0.78\nAUC_weighted                                                                   0.71\naverage_precision_score_weighted                                               0.89\nprecision_score_macro                                                          0.56\nrecall_score_macro                                                             0.65\naverage_precision_score_macro                                                  0.60\nAUC_macro                                                                      0.71\nprecision_score_micro                                                          0.73\naverage_precision_score_micro                                                  0.78\nrecall_score_micro                                                             0.73\nprecision_score_weighted                                                       0.88\nbalanced_accuracy                                                              0.65\naccuracy_table                    aml://artifactId/ExperimentRun/dcid.AutoML_fc1...\nconfusion_matrix                  aml://artifactId/ExperimentRun/dcid.AutoML_fc1...",
            "text/html": "<div>\n<style scoped>\n    .dataframe tbody tr th:only-of-type {\n        vertical-align: middle;\n    }\n\n    .dataframe tbody tr th {\n        vertical-align: top;\n    }\n\n    .dataframe thead th {\n        text-align: right;\n    }\n</style>\n<table border=\"1\" class=\"dataframe\">\n  <thead>\n    <tr style=\"text-align: right;\">\n      <th></th>\n      <th>metric value</th>\n    </tr>\n  </thead>\n  <tbody>\n    <tr>\n      <th>f1_score_weighted</th>\n      <td>0.79</td>\n    </tr>\n    <tr>\n      <th>recall_score_weighted</th>\n      <td>0.73</td>\n    </tr>\n    <tr>\n      <th>f1_score_macro</th>\n      <td>0.56</td>\n    </tr>\n    <tr>\n      <th>norm_macro_recall</th>\n      <td>0.31</td>\n    </tr>\n    <tr>\n      <th>log_loss</th>\n      <td>0.61</td>\n    </tr>\n    <tr>\n      <th>matthews_correlation</th>\n      <td>0.20</td>\n    </tr>\n    <tr>\n      <th>f1_score_micro</th>\n      <td>0.73</td>\n    </tr>\n    <tr>\n      <th>weighted_accuracy</th>\n      <td>0.75</td>\n    </tr>\n    <tr>\n      <th>accuracy</th>\n      <td>0.73</td>\n    </tr>\n    <tr>\n      <th>AUC_micro</th>\n      <td>0.78</td>\n    </tr>\n    <tr>\n      <th>AUC_weighted</th>\n      <td>0.71</td>\n    </tr>\n    <tr>\n      <th>average_precision_score_weighted</th>\n      <td>0.89</td>\n    </tr>\n    <tr>\n      <th>precision_score_macro</th>\n      <td>0.56</td>\n    </tr>\n    <tr>\n      <th>recall_score_macro</th>\n      <td>0.65</td>\n    </tr>\n    <tr>\n      <th>average_precision_score_macro</th>\n      <td>0.60</td>\n    </tr>\n    <tr>\n      <th>AUC_macro</th>\n      <td>0.71</td>\n    </tr>\n    <tr>\n      <th>precision_score_micro</th>\n      <td>0.73</td>\n    </tr>\n    <tr>\n      <th>average_precision_score_micro</th>\n      <td>0.78</td>\n    </tr>\n    <tr>\n      <th>recall_score_micro</th>\n      <td>0.73</td>\n    </tr>\n    <tr>\n      <th>precision_score_weighted</th>\n      <td>0.88</td>\n    </tr>\n    <tr>\n      <th>balanced_accuracy</th>\n      <td>0.65</td>\n    </tr>\n    <tr>\n      <th>accuracy_table</th>\n      <td>aml://artifactId/ExperimentRun/dcid.AutoML_fc1...</td>\n    </tr>\n    <tr>\n      <th>confusion_matrix</th>\n      <td>aml://artifactId/ExperimentRun/dcid.AutoML_fc1...</td>\n    </tr>\n  </tbody>\n</table>\n</div>"
          },
          "metadata": {}
        }
      ],
      "execution_count": 9,
      "metadata": {
        "jupyter": {
          "source_hidden": false,
          "outputs_hidden": false
        },
        "nteract": {
          "transient": {
            "deleting": false
          }
        },
        "gather": {
          "logged": 1634747188557
        }
      }
    },
    {
      "cell_type": "code",
      "source": [
        "#TODO: Save the best model\r\n",
        "\r\n",
        "aml_model = remote_run.register_model(model_name='AML_Best', tags=best_model_metrics)\r\n",
        "\r\n"
      ],
      "outputs": [],
      "execution_count": 10,
      "metadata": {
        "gather": {
          "logged": 1634747195209
        },
        "jupyter": {
          "outputs_hidden": false,
          "source_hidden": false
        },
        "nteract": {
          "transient": {
            "deleting": false
          }
        }
      }
    },
    {
      "cell_type": "markdown",
      "source": [
        "## Model Deployment\n",
        "\n",
        "Remember you have to deploy only one of the two models you trained but you still need to register both the models. Perform the steps in the rest of this notebook only if you wish to deploy this model.\n",
        "\n",
        "TODO: In the cell below, register the model, create an inference config and deploy the model as a web service."
      ],
      "metadata": {}
    },
    {
      "cell_type": "code",
      "source": [
        "# Define inference config\r\n",
        "\r\n",
        "env = best_run.get_environment()\r\n",
        "inference_config = InferenceConfig(\r\n",
        "    environment= env,\r\n",
        "    source_directory = \"./source_dir\",\r\n",
        "    entry_script=\"score.py\"\r\n",
        ")"
      ],
      "outputs": [],
      "execution_count": 25,
      "metadata": {
        "jupyter": {
          "source_hidden": false,
          "outputs_hidden": false
        },
        "nteract": {
          "transient": {
            "deleting": false
          }
        },
        "gather": {
          "logged": 1634749520901
        }
      }
    },
    {
      "cell_type": "code",
      "source": [
        "# Define a deployment configuration on the Webservice\r\n",
        "\r\n",
        "deploy_config = AciWebservice.deploy_configuration(\r\n",
        "    cpu_cores=0.5, memory_gb=1, auth_enabled=True, enable_app_insights=True\r\n",
        ")"
      ],
      "outputs": [],
      "execution_count": 26,
      "metadata": {
        "jupyter": {
          "source_hidden": false,
          "outputs_hidden": false
        },
        "nteract": {
          "transient": {
            "deleting": false
          }
        },
        "gather": {
          "logged": 1634749524395
        }
      }
    },
    {
      "cell_type": "code",
      "source": [
        "# Deploy the model\r\n",
        "\r\n",
        "service = Model.deploy(\r\n",
        "    workspace = ws,\r\n",
        "    name = \"sinter-scrap-model1\",\r\n",
        "    models = [aml_model],\r\n",
        "    inference_config = inference_config,\r\n",
        "    deployment_config = deploy_config,\r\n",
        "    overwrite = True\r\n",
        ")\r\n",
        "\r\n",
        "service.wait_for_deployment(show_output=True)"
      ],
      "outputs": [
        {
          "output_type": "stream",
          "name": "stdout",
          "text": "Tips: You can try get_logs(): https://aka.ms/debugimage#dockerlog or local deployment: https://aka.ms/debugimage#debug-locally to debug if deployment takes longer than 10 minutes.\nRunning\n2021-10-20 17:05:29+00:00 Creating Container Registry if not exists.\n2021-10-20 17:05:29+00:00 Registering the environment.\n2021-10-20 17:05:29+00:00 Use the existing image.\n2021-10-20 17:05:29+00:00 Generating deployment configuration.\n2021-10-20 17:05:30+00:00 Submitting deployment to compute.\n2021-10-20 17:05:33+00:00 Checking the status of deployment sinter-scrap-model1..\n2021-10-20 17:10:57+00:00 Checking the status of inference endpoint sinter-scrap-model1.\nSucceeded\nACI service creation operation finished, operation \"Succeeded\"\n"
        }
      ],
      "execution_count": 27,
      "metadata": {
        "gather": {
          "logged": 1634749859383
        },
        "jupyter": {
          "outputs_hidden": false,
          "source_hidden": false
        },
        "nteract": {
          "transient": {
            "deleting": false
          }
        }
      }
    },
    {
      "cell_type": "code",
      "source": [
        "print(service.get_logs())"
      ],
      "outputs": [
        {
          "output_type": "stream",
          "name": "stdout",
          "text": "2021-10-20T16:41:41,966028900+00:00 - rsyslog/run \n2021-10-20T16:41:41,963577600+00:00 - nginx/run \n2021-10-20T16:41:41,984021800+00:00 - iot-server/run \n2021-10-20T16:41:41,997521800+00:00 - gunicorn/run \nDynamic Python package installation is disabled.\nStarting HTTP server\nrsyslogd: /azureml-envs/azureml_1b22a9c5d9b447e8fbdcc34171e02fe8/lib/libuuid.so.1: no version information available (required by rsyslogd)\nEdgeHubConnectionString and IOTEDGE_IOTHUBHOSTNAME are not set. Exiting...\n2021-10-20T16:41:42,537530000+00:00 - iot-server/finish 1 0\n2021-10-20T16:41:42,539346700+00:00 - Exit code 1 is normal. Not restarting iot-server.\nStarting gunicorn 20.1.0\nListening at: http://127.0.0.1:31311 (65)\nUsing worker: sync\nworker timeout is set to 300\nBooting worker with pid: 89\nSPARK_HOME not set. Skipping PySpark Initialization.\nGenerating new fontManager, this may take some time...\nInitializing logger\n2021-10-20 16:41:45,561 | root | INFO | Starting up app insights client\nlogging socket was found. logging is available.\nlogging socket was found. logging is available.\n2021-10-20 16:41:45,563 | root | INFO | Starting up request id generator\n2021-10-20 16:41:45,563 | root | INFO | Starting up app insight hooks\n2021-10-20 16:41:45,563 | root | INFO | Invoking user's init function\n2021-10-20 16:41:51,388 | azureml.core | WARNING | Failure while loading azureml_run_type_providers. Failed to load entrypoint automl = azureml.train.automl.run:AutoMLRun._from_run_dto with exception cannot import name 'RunType'.\nFailure while loading azureml_run_type_providers. Failed to load entrypoint automl = azureml.train.automl.run:AutoMLRun._from_run_dto with exception cannot import name 'RunType'.\n2021-10-20 16:41:53,125 | root | INFO | Users's init has completed successfully\n2021-10-20 16:41:53,129 | root | INFO | Skipping middleware: dbg_model_info as it's not enabled.\n2021-10-20 16:41:53,129 | root | INFO | Skipping middleware: dbg_resource_usage as it's not enabled.\n2021-10-20 16:41:53,131 | root | INFO | Scoring timeout is found from os.environ: 60000 ms\n2021-10-20 16:41:53,149 | root | INFO | Swagger file not present\n2021-10-20 16:41:53,150 | root | INFO | 404\n127.0.0.1 - - [20/Oct/2021:16:41:53 +0000] \"GET /swagger.json HTTP/1.0\" 404 19 \"-\" \"Go-http-client/1.1\"\n2021-10-20 16:41:57,791 | root | INFO | Swagger file not present\n2021-10-20 16:41:57,792 | root | INFO | 404\n127.0.0.1 - - [20/Oct/2021:16:41:57 +0000] \"GET /swagger.json HTTP/1.0\" 404 19 \"-\" \"Go-http-client/1.1\"\n2021-10-20 16:42:00,444 | root | INFO | Swagger file not present\n2021-10-20 16:42:00,445 | root | INFO | 404\n127.0.0.1 - - [20/Oct/2021:16:42:00 +0000] \"GET /swagger.json HTTP/1.0\" 404 19 \"-\" \"Go-http-client/1.1\"\n\n"
        }
      ],
      "execution_count": 14,
      "metadata": {
        "jupyter": {
          "source_hidden": false,
          "outputs_hidden": false
        },
        "nteract": {
          "transient": {
            "deleting": false
          }
        },
        "gather": {
          "logged": 1634748190194
        }
      }
    },
    {
      "cell_type": "code",
      "source": [
        "print(service.scoring_uri)"
      ],
      "outputs": [
        {
          "output_type": "stream",
          "name": "stdout",
          "text": "http://b1d21690-1514-4d1b-9656-0a1cc00c9f6a.southcentralus.azurecontainer.io/score\n"
        }
      ],
      "execution_count": 15,
      "metadata": {
        "jupyter": {
          "source_hidden": false,
          "outputs_hidden": false
        },
        "nteract": {
          "transient": {
            "deleting": false
          }
        },
        "gather": {
          "logged": 1634748197967
        }
      }
    },
    {
      "cell_type": "markdown",
      "source": [
        "TODO: In the cell below, send a request to the web service you deployed to test it."
      ],
      "metadata": {
        "collapsed": true,
        "gather": {
          "logged": 1598431657736
        },
        "jupyter": {
          "outputs_hidden": false,
          "source_hidden": false
        },
        "nteract": {
          "transient": {
            "deleting": false
          }
        }
      }
    },
    {
      "cell_type": "code",
      "source": [
        "import json \r\n",
        "import numpy as np\r\n",
        "\r\n",
        "test_data = raw_data[0:10]\r\n",
        "test_data = test_data.drop(\"HAS SCRAP AT SINTER\", axis=1)\r\n",
        "test_dict = ({'data':test_data.to_dict(orient='records')})\r\n",
        "test_sample = json.dumps(test_dict)\r\n",
        "\r\n",
        "#json_data = json.loads(sample)['data']\r\n",
        "\r\n",
        "#pd_data = pd.DataFrame(json_data)\r\n",
        "\r\n",
        "#print(pd_data.shape)\r\n",
        "\r\n",
        "#np_array = np.array(json_data)\r\n",
        "\r\n",
        "#len(np_array)\r\n",
        "\r\n",
        "print(service.run(test_sample))"
      ],
      "outputs": [
        {
          "output_type": "stream",
          "name": "stdout",
          "text": "[0, 1, 1, 1, 1, 1, 0, 1, 0, 1]\n"
        }
      ],
      "execution_count": 31,
      "metadata": {
        "jupyter": {
          "source_hidden": false,
          "outputs_hidden": false
        },
        "nteract": {
          "transient": {
            "deleting": false
          }
        },
        "gather": {
          "logged": 1634750102919
        }
      }
    },
    {
      "cell_type": "code",
      "source": [
        "service.get_logs()"
      ],
      "outputs": [
        {
          "output_type": "execute_result",
          "execution_count": 43,
          "data": {
            "text/plain": "'2021-10-19T13:03:18,233826700+00:00 - nginx/run \\n2021-10-19T13:03:18,245304000+00:00 - iot-server/run \\n2021-10-19T13:03:18,314432800+00:00 - rsyslog/run \\n2021-10-19T13:03:18,313497200+00:00 - gunicorn/run \\nDynamic Python package installation is disabled.\\nStarting HTTP server\\nrsyslogd: /azureml-envs/azureml_1b22a9c5d9b447e8fbdcc34171e02fe8/lib/libuuid.so.1: no version information available (required by rsyslogd)\\nEdgeHubConnectionString and IOTEDGE_IOTHUBHOSTNAME are not set. Exiting...\\n2021-10-19T13:03:19,027141200+00:00 - iot-server/finish 1 0\\n2021-10-19T13:03:19,037201000+00:00 - Exit code 1 is normal. Not restarting iot-server.\\nStarting gunicorn 20.1.0\\nListening at: http://127.0.0.1:31311 (64)\\nUsing worker: sync\\nworker timeout is set to 300\\nBooting worker with pid: 89\\nSPARK_HOME not set. Skipping PySpark Initialization.\\nGenerating new fontManager, this may take some time...\\nInitializing logger\\n2021-10-19 13:03:22,706 | root | INFO | Starting up app insights client\\nlogging socket was found. logging is available.\\nlogging socket was found. logging is available.\\n2021-10-19 13:03:22,708 | root | INFO | Starting up request id generator\\n2021-10-19 13:03:22,708 | root | INFO | Starting up app insight hooks\\n2021-10-19 13:03:22,709 | root | INFO | Invoking user\\'s init function\\n2021-10-19 13:03:29,309 | azureml.core | WARNING | Failure while loading azureml_run_type_providers. Failed to load entrypoint automl = azureml.train.automl.run:AutoMLRun._from_run_dto with exception cannot import name \\'RunType\\'.\\nFailure while loading azureml_run_type_providers. Failed to load entrypoint automl = azureml.train.automl.run:AutoMLRun._from_run_dto with exception cannot import name \\'RunType\\'.\\n2021-10-19 13:03:31,107 | root | INFO | Users\\'s init has completed successfully\\n2021-10-19 13:03:31,110 | root | INFO | Skipping middleware: dbg_model_info as it\\'s not enabled.\\n2021-10-19 13:03:31,110 | root | INFO | Skipping middleware: dbg_resource_usage as it\\'s not enabled.\\n2021-10-19 13:03:31,113 | root | INFO | Scoring timeout is found from os.environ: 60000 ms\\n2021-10-19 13:03:56,797 | root | INFO | Swagger file not present\\n2021-10-19 13:03:56,797 | root | INFO | 404\\n127.0.0.1 - - [19/Oct/2021:13:03:56 +0000] \"GET /swagger.json HTTP/1.0\" 404 19 \"-\" \"Go-http-client/1.1\"\\n2021-10-19 13:03:59,497 | root | INFO | Swagger file not present\\n2021-10-19 13:03:59,498 | root | INFO | 404\\n127.0.0.1 - - [19/Oct/2021:13:03:59 +0000] \"GET /swagger.json HTTP/1.0\" 404 19 \"-\" \"Go-http-client/1.1\"\\n2021-10-19 13:04:53,772 | root | INFO | Scoring Timer is set to 60.0 seconds\\n{\"data\": [{\"IS REWORK\": 0, \"HOURS BLAST TO PREP\": 1224.0, \"PREP DAY\": 3, \"PREP SHIFT\": 2, \"PREP H\": 3, \"PREP QTY\": 10, \"PREP QTY IN THE SHIFT\": 20, \"PREPED IN THE SHIFT SO FAR\": 0, \"HOURS PREP TO FUR\": 0.0, \"HAS SCRAP AT SINTER\": 0, \"ASSOCIATE AXPERIENCE\": 2, \"Prep week\": 1, \"PROD_CDE_DXMETA_OP1\": 0, \"PROD_CDE_DX_EP_OP10\": 0, \"PROD_CDE_EMS_SHL10\": 0, \"PROD_CDE_GUIMB_PORO\": 0, \"PROD_CDE_GUIMST_P\": 0, \"PROD_CDE_GU_AN10_B\": 0, \"PROD_CDE_GU_RE_OP10\": 0, \"PROD_CDE_PINN_PORO\": 1, \"PROD_CDE_PIN_GRIP_P\": 0, \"PREP ASSOCIATE_57000235\": 0, \"PREP ASSOCIATE_57000242\": 0, \"PREP ASSOCIATE_57000436\": 0, \"PREP ASSOCIATE_57000763\": 0, \"PREP ASSOCIATE_57001344\": 0, \"PREP ASSOCIATE_152046736\": 0, \"PREP ASSOCIATE_152051910\": 0, \"PREP ASSOCIATE_152054287\": 0, \"PREP ASSOCIATE_152058678\": 0, \"PREP ASSOCIATE_152059403\": 0, \"PREP ASSOCIATE_152061442\": 0, \"PREP ASSOCIATE_152064733\": 0, \"PREP ASSOCIATE_152065732\": 0, \"PREP ASSOCIATE_152072306\": 0, \"PREP ASSOCIATE_152072361\": 0, \"PREP ASSOCIATE_152072888\": 0, \"PREP ASSOCIATE_152806978\": 0, \"PREP ASSOCIATE_152808293\": 0, \"PREP ASSOCIATE_152815980\": 0, \"PREP ASSOCIATE_152824994\": 0, \"PREP ASSOCIATE_152824995\": 0, \"PREP ASSOCIATE_152827348\": 0, \"PREP ASSOCIATE_152828421\": 0, \"PREP ASSOCIATE_152834263\": 0, \"PREP ASSOCIATE_152848002\": 0, \"PREP ASSOCIATE_152848005\": 1, \"PREP ASSOCIATE_152848008\": 0, \"PREP ASSOCIATE_152848254\": 0, \"PREP ASSOCIATE_152848438\": 0, \"PREP ASSOCIATE_152849580\": 0, \"PREP ASSOCIATE_152851272\": 0, \"PREP ASSOCIATE_152851276\": 0, \"PREP ASSOCIATE_152852517\": 0, \"PREP ASSOCIATE_152859137\": 0, \"PREP ASSOCIATE_152859275\": 0, \"PREP ASSOCIATE_152861369\": 0, \"PREP ASSOCIATE_152861371\": 0, \"PREP ASSOCIATE_152863741\": 0, \"PREP ASSOCIATE_152867385\": 0, \"PREP ASSOCIATE_152868301\": 0, \"PREP ASSOCIATE_152868302\": 0, \"PREP ASSOCIATE_152868303\": 0, \"PREP ASSOCIATE_152870937\": 0, \"PREP ASSOCIATE_152871590\": 0, \"PREP ASSOCIATE_152872349\": 0, \"PREP ASSOCIATE_152872541\": 0, \"PREP ASSOCIATE_152872563\": 0, \"PREP ASSOCIATE_152890203\": 0, \"PREP ASSOCIATE_152890598\": 0, \"PREP ASSOCIATE_152890600\": 0, \"PREP ASSOCIATE_152890601\": 0, \"PREP ASSOCIATE_152890987\": 0, \"PREP ASSOCIATE_152898251\": 0, \"PREP ASSOCIATE_152899469\": 0, \"PREP ASSOCIATE_152899588\": 0, \"PREP ASSOCIATE_152900144\": 0, \"PREP ASSOCIATE_152900996\": 0, \"PREP ASSOCIATE_152904101\": 0, \"PREP ASSOCIATE_152925182\": 0, \"PREP ASSOCIATE_152925222\": 0, \"PREP ASSOCIATE_152925225\": 0, \"PREP ASSOCIATE_152926099\": 0, \"PREP ASSOCIATE_152926100\": 0, \"PREP ASSOCIATE_152926153\": 0, \"PREP ASSOCIATE_152927232\": 0, \"FURN_DE138\": 0, \"FURN_FURN0004\": 0, \"FURN_FURN0005\": 0, \"FURN_FURN0006\": 1, \"FURN_FURN0007\": 0}]}\\n6f757190-96dc-493f-bbef-f9d47126fc6d,{\"data\": [{\"IS REWORK\": 0, \"HOURS BLAST TO PREP\": 1224.0, \"PREP DAY\": 3, \"PREP SHIFT\": 2, \"PREP H\": 3, \"PREP QTY\": 10, \"PREP QTY IN THE SHIFT\": 20, \"PREPED IN THE SHIFT SO FAR\": 0, \"HOURS PREP TO FUR\": 0.0, \"HAS SCRAP AT SINTER\": 0, \"ASSOCIATE AXPERIENCE\": 2, \"Prep week\": 1, \"PROD_CDE_DXMETA_OP1\": 0, \"PROD_CDE_DX_EP_OP10\": 0, \"PROD_CDE_EMS_SHL10\": 0, \"PROD_CDE_GUIMB_PORO\": 0, \"PROD_CDE_GUIMST_P\": 0, \"PROD_CDE_GU_AN10_B\": 0, \"PROD_CDE_GU_RE_OP10\": 0, \"PROD_CDE_PINN_PORO\": 1, \"PROD_CDE_PIN_GRIP_P\": 0, \"PREP ASSOCIATE_57000235\": 0, \"PREP ASSOCIATE_57000242\": 0, \"PREP ASSOCIATE_57000436\": 0, \"PREP ASSOCIATE_57000763\": 0, \"PREP ASSOCIATE_57001344\": 0, \"PREP ASSOCIATE_152046736\": 0, \"PREP ASSOCIATE_152051910\": 0, \"PREP ASSOCIATE_152054287\": 0, \"PREP ASSOCIATE_152058678\": 0, \"PREP ASSOCIATE_152059403\": 0, \"PREP ASSOCIATE_152061442\": 0, \"PREP ASSOCIATE_152064733\": 0, \"PREP ASSOCIATE_152065732\": 0, \"PREP ASSOCIATE_152072306\": 0, \"PREP ASSOCIATE_152072361\": 0, \"PREP ASSOCIATE_152072888\": 0, \"PREP ASSOCIATE_152806978\": 0, \"PREP ASSOCIATE_152808293\": 0, \"PREP ASSOCIATE_152815980\": 0, \"PREP ASSOCIATE_152824994\": 0, \"PREP ASSOCIATE_152824995\": 0, \"PREP ASSOCIATE_152827348\": 0, \"PREP ASSOCIATE_152828421\": 0, \"PREP ASSOCIATE_152834263\": 0, \"PREP ASSOCIATE_152848002\": 0, \"PREP ASSOCIATE_152848005\": 1, \"PREP ASSOCIATE_152848008\": 0, \"PREP ASSOCIATE_152848254\": 0, \"PREP ASSOCIATE_152848438\": 0, \"PREP ASSOCIATE_152849580\": 0, \"PREP ASSOCIATE_152851272\": 0, \"PREP ASSOCIATE_152851276\": 0, \"PREP ASSOCIATE_152852517\": 0, \"PREP ASSOCIATE_152859137\": 0, \"PREP ASSOCIATE_152859275\": 0, \"PREP ASSOCIATE_152861369\": 0, \"PREP ASSOCIATE_152861371\": 0, \"PREP ASSOCIATE_152863741\": 0, \"PREP ASSOCIATE_152867385\": 0, \"PREP ASSOCIATE_152868301\": 0, \"PREP ASSOCIATE_152868302\": 0, \"PREP ASSOCIATE_152868303\": 0, \"PREP ASSOCIATE_152870937\": 0, \"PREP ASSOCIATE_152871590\": 0, \"PREP ASSOCIATE_152872349\": 0, \"PREP ASSOCIATE_152872541\": 0, \"PREP ASSOCIATE_152872563\": 0, \"PREP ASSOCIATE_152890203\": 0, \"PREP ASSOCIATE_152890598\": 0, \"PREP ASSOCIATE_152890600\": 0, \"PREP ASSOCIATE_152890601\": 0, \"PREP ASSOCIATE_152890987\": 0, \"PREP ASSOCIATE_152898251\": 0, \"PREP ASSOCIATE_152899469\": 0, \"PREP ASSOCIATE_152899588\": 0, \"PREP ASSOCIATE_152900144\": 0, \"PREP ASSOCIATE_152900996\": 0, \"PREP ASSOCIATE_152904101\": 0, \"PREP ASSOCIATE_152925182\": 0, \"PREP ASSOCIATE_152925222\": 0, \"PREP ASSOCIATE_152925225\": 0, \"PREP ASSOCIATE_152926099\": 0, \"PREP ASSOCIATE_152926100\": 0, \"PREP ASSOCIATE_152926153\": 0, \"PREP ASSOCIATE_152927232\": 0, \"FURN_DE138\": 0, \"FURN_FURN0004\": 0, \"FURN_FURN0005\": 0, \"FURN_FURN0006\": 1, \"FURN_FURN0007\": 0}]}\\n\\n2021-10-19 13:04:53,782 | root | ERROR | Encountered Exception: Traceback (most recent call last):\\n  File \"/var/azureml-server/synchronous/routes.py\", line 65, in run_scoring\\n    response, time_taken_ms = invoke_user_with_timer(service_input, request_headers)\\n  File \"/var/azureml-server/synchronous/routes.py\", line 110, in invoke_user_with_timer\\n    result, time_taken_ms = capture_time_taken(user_main.run)(**params)\\n  File \"/var/azureml-server/synchronous/routes.py\", line 92, in timer\\n    result = func(*args, **kwargs)\\n  File \"/var/azureml-app/main.py\", line 21, in run\\n    return_obj = driver_module.run(**arguments)\\n  File \"/var/azureml-app/source_dir/score.py\", line 19, in run\\n    data = pd.DataFrame(raw_data)\\n  File \"/azureml-envs/azureml_1b22a9c5d9b447e8fbdcc34171e02fe8/lib/python3.6/site-packages/pandas/core/frame.py\", line 485, in __init__\\n    raise ValueError(\"DataFrame constructor not properly called!\")\\nValueError: DataFrame constructor not properly called!\\n\\nDuring handling of the above exception, another exception occurred:\\n\\nTraceback (most recent call last):\\n  File \"/azureml-envs/azureml_1b22a9c5d9b447e8fbdcc34171e02fe8/lib/python3.6/site-packages/flask/app.py\", line 1832, in full_dispatch_request\\n    rv = self.dispatch_request()\\n  File \"/azureml-envs/azureml_1b22a9c5d9b447e8fbdcc34171e02fe8/lib/python3.6/site-packages/flask/app.py\", line 1818, in dispatch_request\\n    return self.view_functions[rule.endpoint](**req.view_args)\\n  File \"/var/azureml-server/synchronous/routes.py\", line 44, in score_realtime\\n    return run_scoring(service_input, request.headers, request.environ.get(\\'REQUEST_ID\\', \\'00000000-0000-0000-0000-000000000000\\'))\\n  File \"/var/azureml-server/synchronous/routes.py\", line 74, in run_scoring\\n    raise RunFunctionException(str(exc))\\nrun_function_exception.RunFunctionException\\n\\n2021-10-19 13:04:53,790 | root | INFO | 500\\n127.0.0.1 - - [19/Oct/2021:13:04:53 +0000] \"POST /score HTTP/1.0\" 500 42 \"-\" \"python-requests/2.26.0\"\\n2021-10-19 13:04:53,831 | root | INFO | Scoring Timer is set to 60.0 seconds\\n{\"data\": [{\"IS REWORK\": 0, \"HOURS BLAST TO PREP\": 1224.0, \"PREP DAY\": 3, \"PREP SHIFT\": 2, \"PREP H\": 3, \"PREP QTY\": 10, \"PREP QTY IN THE SHIFT\": 20, \"PREPED IN THE SHIFT SO FAR\": 0, \"HOURS PREP TO FUR\": 0.0, \"HAS SCRAP AT SINTER\": 0, \"ASSOCIATE AXPERIENCE\": 2, \"Prep week\": 1, \"PROD_CDE_DXMETA_OP1\": 0, \"PROD_CDE_DX_EP_OP10\": 0, \"PROD_CDE_EMS_SHL10\": 0, \"PROD_CDE_GUIMB_PORO\": 0, \"PROD_CDE_GUIMST_P\": 0, \"PROD_CDE_GU_AN10_B\": 0, \"PROD_CDE_GU_RE_OP10\": 0, \"PROD_CDE_PINN_PORO\": 1, \"PROD_CDE_PIN_GRIP_P\": 0, \"PREP ASSOCIATE_57000235\": 0, \"PREP ASSOCIATE_57000242\": 0, \"PREP ASSOCIATE_57000436\": 0, \"PREP ASSOCIATE_57000763\": 0, \"PREP ASSOCIATE_57001344\": 0, \"PREP ASSOCIATE_152046736\": 0, \"PREP ASSOCIATE_152051910\": 0, \"PREP ASSOCIATE_152054287\": 0, \"PREP ASSOCIATE_152058678\": 0, \"PREP ASSOCIATE_152059403\": 0, \"PREP ASSOCIATE_152061442\": 0, \"PREP ASSOCIATE_152064733\": 0, \"PREP ASSOCIATE_152065732\": 0, \"PREP ASSOCIATE_152072306\": 0, \"PREP ASSOCIATE_152072361\": 0, \"PREP ASSOCIATE_152072888\": 0, \"PREP ASSOCIATE_152806978\": 0, \"PREP ASSOCIATE_152808293\": 0, \"PREP ASSOCIATE_152815980\": 0, \"PREP ASSOCIATE_152824994\": 0, \"PREP ASSOCIATE_152824995\": 0, \"PREP ASSOCIATE_152827348\": 0, \"PREP ASSOCIATE_152828421\": 0, \"PREP ASSOCIATE_152834263\": 0, \"PREP ASSOCIATE_152848002\": 0, \"PREP ASSOCIATE_152848005\": 1, \"PREP ASSOCIATE_152848008\": 0, \"PREP ASSOCIATE_152848254\": 0, \"PREP ASSOCIATE_152848438\": 0, \"PREP ASSOCIATE_152849580\": 0, \"PREP ASSOCIATE_152851272\": 0, \"PREP ASSOCIATE_152851276\": 0, \"PREP ASSOCIATE_152852517\": 0, \"PREP ASSOCIATE_152859137\": 0, \"PREP ASSOCIATE_152859275\": 0, \"PREP ASSOCIATE_152861369\": 0, \"PREP ASSOCIATE_152861371\": 0, \"PREP ASSOCIATE_152863741\": 0, \"PREP ASSOCIATE_152867385\": 0, \"PREP ASSOCIATE_152868301\": 0, \"PREP ASSOCIATE_152868302\": 0, \"PREP ASSOCIATE_152868303\": 0, \"PREP ASSOCIATE_152870937\": 0, \"PREP ASSOCIATE_152871590\": 0, \"PREP ASSOCIATE_152872349\": 0, \"PREP ASSOCIATE_152872541\": 0, \"PREP ASSOCIATE_152872563\": 0, \"PREP ASSOCIATE_152890203\": 0, \"PREP ASSOCIATE_152890598\": 0, \"PREP ASSOCIATE_152890600\": 0, \"PREP ASSOCIATE_152890601\": 0, \"PREP ASSOCIATE_152890987\": 0, \"PREP ASSOCIATE_152898251\": 0, \"PREP ASSOCIATE_152899469\": 0, \"PREP ASSOCIATE_152899588\": 0, \"PREP ASSOCIATE_152900144\": 0, \"PREP ASSOCIATE_152900996\": 0, \"PREP ASSOCIATE_152904101\": 0, \"PREP ASSOCIATE_152925182\": 0, \"PREP ASSOCIATE_152925222\": 0, \"PREP ASSOCIATE_152925225\": 0, \"PREP ASSOCIATE_152926099\": 0, \"PREP ASSOCIATE_152926100\": 0, \"PREP ASSOCIATE_152926153\": 0, \"PREP ASSOCIATE_152927232\": 0, \"FURN_DE138\": 0, \"FURN_FURN0004\": 0, \"FURN_FURN0005\": 0, \"FURN_FURN0006\": 1, \"FURN_FURN0007\": 0}]}\\n1851958e-eea7-47d5-a851-7623f052f202,{\"data\": [{\"IS REWORK\": 0, \"HOURS BLAST TO PREP\": 1224.0, \"PREP DAY\": 3, \"PREP SHIFT\": 2, \"PREP H\": 3, \"PREP QTY\": 10, \"PREP QTY IN THE SHIFT\": 20, \"PREPED IN THE SHIFT SO FAR\": 0, \"HOURS PREP TO FUR\": 0.0, \"HAS SCRAP AT SINTER\": 0, \"ASSOCIATE AXPERIENCE\": 2, \"Prep week\": 1, \"PROD_CDE_DXMETA_OP1\": 0, \"PROD_CDE_DX_EP_OP10\": 0, \"PROD_CDE_EMS_SHL10\": 0, \"PROD_CDE_GUIMB_PORO\": 0, \"PROD_CDE_GUIMST_P\": 0, \"PROD_CDE_GU_AN10_B\": 0, \"PROD_CDE_GU_RE_OP10\": 0, \"PROD_CDE_PINN_PORO\": 1, \"PROD_CDE_PIN_GRIP_P\": 0, \"PREP ASSOCIATE_57000235\": 0, \"PREP ASSOCIATE_57000242\": 0, \"PREP ASSOCIATE_57000436\": 0, \"PREP ASSOCIATE_57000763\": 0, \"PREP ASSOCIATE_57001344\": 0, \"PREP ASSOCIATE_152046736\": 0, \"PREP ASSOCIATE_152051910\": 0, \"PREP ASSOCIATE_152054287\": 0, \"PREP ASSOCIATE_152058678\": 0, \"PREP ASSOCIATE_152059403\": 0, \"PREP ASSOCIATE_152061442\": 0, \"PREP ASSOCIATE_152064733\": 0, \"PREP ASSOCIATE_152065732\": 0, \"PREP ASSOCIATE_152072306\": 0, \"PREP ASSOCIATE_152072361\": 0, \"PREP ASSOCIATE_152072888\": 0, \"PREP ASSOCIATE_152806978\": 0, \"PREP ASSOCIATE_152808293\": 0, \"PREP ASSOCIATE_152815980\": 0, \"PREP ASSOCIATE_152824994\": 0, \"PREP ASSOCIATE_152824995\": 0, \"PREP ASSOCIATE_152827348\": 0, \"PREP ASSOCIATE_152828421\": 0, \"PREP ASSOCIATE_152834263\": 0, \"PREP ASSOCIATE_152848002\": 0, \"PREP ASSOCIATE_152848005\": 1, \"PREP ASSOCIATE_152848008\": 0, \"PREP ASSOCIATE_152848254\": 0, \"PREP ASSOCIATE_152848438\": 0, \"PREP ASSOCIATE_152849580\": 0, \"PREP ASSOCIATE_152851272\": 0, \"PREP ASSOCIATE_152851276\": 0, \"PREP ASSOCIATE_152852517\": 0, \"PREP ASSOCIATE_152859137\": 0, \"PREP ASSOCIATE_152859275\": 0, \"PREP ASSOCIATE_152861369\": 0, \"PREP ASSOCIATE_152861371\": 0, \"PREP ASSOCIATE_152863741\": 0, \"PREP ASSOCIATE_152867385\": 0, \"PREP ASSOCIATE_152868301\": 0, \"PREP ASSOCIATE_152868302\": 0, \"PREP ASSOCIATE_152868303\": 0, \"PREP ASSOCIATE_152870937\": 0, \"PREP ASSOCIATE_152871590\": 0, \"PREP ASSOCIATE_152872349\": 0, \"PREP ASSOCIATE_152872541\": 0, \"PREP ASSOCIATE_152872563\": 0, \"PREP ASSOCIATE_152890203\": 0, \"PREP ASSOCIATE_152890598\": 0, \"PREP ASSOCIATE_152890600\": 0, \"PREP ASSOCIATE_152890601\": 0, \"PREP ASSOCIATE_152890987\": 0, \"PREP ASSOCIATE_152898251\": 0, \"PREP ASSOCIATE_152899469\": 0, \"PREP ASSOCIATE_152899588\": 0, \"PREP ASSOCIATE_152900144\": 0, \"PREP ASSOCIATE_152900996\": 0, \"PREP ASSOCIATE_152904101\": 0, \"PREP ASSOCIATE_152925182\": 0, \"PREP ASSOCIATE_152925222\": 0, \"PREP ASSOCIATE_152925225\": 0, \"PREP ASSOCIATE_152926099\": 0, \"PREP ASSOCIATE_152926100\": 0, \"PREP ASSOCIATE_152926153\": 0, \"PREP ASSOCIATE_152927232\": 0, \"FURN_DE138\": 0, \"FURN_FURN0004\": 0, \"FURN_FURN0005\": 0, \"FURN_FURN0006\": 1, \"FURN_FURN0007\": 0}]}\\n\\n2021-10-19 13:04:53,833 | root | ERROR | Encountered Exception: Traceback (most recent call last):\\n  File \"/var/azureml-server/synchronous/routes.py\", line 65, in run_scoring\\n    response, time_taken_ms = invoke_user_with_timer(service_input, request_headers)\\n  File \"/var/azureml-server/synchronous/routes.py\", line 110, in invoke_user_with_timer\\n    result, time_taken_ms = capture_time_taken(user_main.run)(**params)\\n  File \"/var/azureml-server/synchronous/routes.py\", line 92, in timer\\n    result = func(*args, **kwargs)\\n  File \"/var/azureml-app/main.py\", line 21, in run\\n    return_obj = driver_module.run(**arguments)\\n  File \"/var/azureml-app/source_dir/score.py\", line 19, in run\\n    data = pd.DataFrame(raw_data)\\n  File \"/azureml-envs/azureml_1b22a9c5d9b447e8fbdcc34171e02fe8/lib/python3.6/site-packages/pandas/core/frame.py\", line 485, in __init__\\n    raise ValueError(\"DataFrame constructor not properly called!\")\\nValueError: DataFrame constructor not properly called!\\n\\nDuring handling of the above exception, another exception occurred:\\n\\nTraceback (most recent call last):\\n  File \"/azureml-envs/azureml_1b22a9c5d9b447e8fbdcc34171e02fe8/lib/python3.6/site-packages/flask/app.py\", line 1832, in full_dispatch_request\\n    rv = self.dispatch_request()\\n  File \"/azureml-envs/azureml_1b22a9c5d9b447e8fbdcc34171e02fe8/lib/python3.6/site-packages/flask/app.py\", line 1818, in dispatch_request\\n    return self.view_functions[rule.endpoint](**req.view_args)\\n  File \"/var/azureml-server/synchronous/routes.py\", line 44, in score_realtime\\n    return run_scoring(service_input, request.headers, request.environ.get(\\'REQUEST_ID\\', \\'00000000-0000-0000-0000-000000000000\\'))\\n  File \"/var/azureml-server/synchronous/routes.py\", line 74, in run_scoring\\n    raise RunFunctionException(str(exc))\\nrun_function_exception.RunFunctionException\\n\\n2021-10-19 13:04:53,833 | root | INFO | 500\\n127.0.0.1 - - [19/Oct/2021:13:04:53 +0000] \"POST /score HTTP/1.0\" 500 42 \"-\" \"python-requests/2.26.0\"\\n2021-10-19 13:04:54,866 | root | INFO | Scoring Timer is set to 60.0 seconds\\n{\"data\": [{\"IS REWORK\": 0, \"HOURS BLAST TO PREP\": 1224.0, \"PREP DAY\": 3, \"PREP SHIFT\": 2, \"PREP H\": 3, \"PREP QTY\": 10, \"PREP QTY IN THE SHIFT\": 20, \"PREPED IN THE SHIFT SO FAR\": 0, \"HOURS PREP TO FUR\": 0.0, \"HAS SCRAP AT SINTER\": 0, \"ASSOCIATE AXPERIENCE\": 2, \"Prep week\": 1, \"PROD_CDE_DXMETA_OP1\": 0, \"PROD_CDE_DX_EP_OP10\": 0, \"PROD_CDE_EMS_SHL10\": 0, \"PROD_CDE_GUIMB_PORO\": 0, \"PROD_CDE_GUIMST_P\": 0, \"PROD_CDE_GU_AN10_B\": 0, \"PROD_CDE_GU_RE_OP10\": 0, \"PROD_CDE_PINN_PORO\": 1, \"PROD_CDE_PIN_GRIP_P\": 0, \"PREP ASSOCIATE_57000235\": 0, \"PREP ASSOCIATE_57000242\": 0, \"PREP ASSOCIATE_57000436\": 0, \"PREP ASSOCIATE_57000763\": 0, \"PREP ASSOCIATE_57001344\": 0, \"PREP ASSOCIATE_152046736\": 0, \"PREP ASSOCIATE_152051910\": 0, \"PREP ASSOCIATE_152054287\": 0, \"PREP ASSOCIATE_152058678\": 0, \"PREP ASSOCIATE_152059403\": 0, \"PREP ASSOCIATE_152061442\": 0, \"PREP ASSOCIATE_152064733\": 0, \"PREP ASSOCIATE_152065732\": 0, \"PREP ASSOCIATE_152072306\": 0, \"PREP ASSOCIATE_152072361\": 0, \"PREP ASSOCIATE_152072888\": 0, \"PREP ASSOCIATE_152806978\": 0, \"PREP ASSOCIATE_152808293\": 0, \"PREP ASSOCIATE_152815980\": 0, \"PREP ASSOCIATE_152824994\": 0, \"PREP ASSOCIATE_152824995\": 0, \"PREP ASSOCIATE_152827348\": 0, \"PREP ASSOCIATE_152828421\": 0, \"PREP ASSOCIATE_152834263\": 0, \"PREP ASSOCIATE_152848002\": 0, \"PREP ASSOCIATE_152848005\": 1, \"PREP ASSOCIATE_152848008\": 0, \"PREP ASSOCIATE_152848254\": 0, \"PREP ASSOCIATE_152848438\": 0, \"PREP ASSOCIATE_152849580\": 0, \"PREP ASSOCIATE_152851272\": 0, \"PREP ASSOCIATE_152851276\": 0, \"PREP ASSOCIATE_152852517\": 0, \"PREP ASSOCIATE_152859137\": 0, \"PREP ASSOCIATE_152859275\": 0, \"PREP ASSOCIATE_152861369\": 0, \"PREP ASSOCIATE_152861371\": 0, \"PREP ASSOCIATE_152863741\": 0, \"PREP ASSOCIATE_152867385\": 0, \"PREP ASSOCIATE_152868301\": 0, \"PREP ASSOCIATE_152868302\": 0, \"PREP ASSOCIATE_152868303\": 0, \"PREP ASSOCIATE_152870937\": 0, \"PREP ASSOCIATE_152871590\": 0, \"PREP ASSOCIATE_152872349\": 0, \"PREP ASSOCIATE_152872541\": 0, \"PREP ASSOCIATE_152872563\": 0, \"PREP ASSOCIATE_152890203\": 0, \"PREP ASSOCIATE_152890598\": 0, \"PREP ASSOCIATE_152890600\": 0, \"PREP ASSOCIATE_152890601\": 0, \"PREP ASSOCIATE_152890987\": 0, \"PREP ASSOCIATE_152898251\": 0, \"PREP ASSOCIATE_152899469\": 0, \"PREP ASSOCIATE_152899588\": 0, \"PREP ASSOCIATE_152900144\": 0, \"PREP ASSOCIATE_152900996\": 0, \"PREP ASSOCIATE_152904101\": 0, \"PREP ASSOCIATE_152925182\": 0, \"PREP ASSOCIATE_152925222\": 0, \"PREP ASSOCIATE_152925225\": 0, \"PREP ASSOCIATE_152926099\": 0, \"PREP ASSOCIATE_152926100\": 0, \"PREP ASSOCIATE_152926153\": 0, \"PREP ASSOCIATE_152927232\": 0, \"FURN_DE138\": 0, \"FURN_FURN0004\": 0, \"FURN_FURN0005\": 0, \"FURN_FURN0006\": 1, \"FURN_FURN0007\": 0}]}\\n0fb8feda-ce7d-4231-9bde-bb0e91a25373,{\"data\": [{\"IS REWORK\": 0, \"HOURS BLAST TO PREP\": 1224.0, \"PREP DAY\": 3, \"PREP SHIFT\": 2, \"PREP H\": 3, \"PREP QTY\": 10, \"PREP QTY IN THE SHIFT\": 20, \"PREPED IN THE SHIFT SO FAR\": 0, \"HOURS PREP TO FUR\": 0.0, \"HAS SCRAP AT SINTER\": 0, \"ASSOCIATE AXPERIENCE\": 2, \"Prep week\": 1, \"PROD_CDE_DXMETA_OP1\": 0, \"PROD_CDE_DX_EP_OP10\": 0, \"PROD_CDE_EMS_SHL10\": 0, \"PROD_CDE_GUIMB_PORO\": 0, \"PROD_CDE_GUIMST_P\": 0, \"PROD_CDE_GU_AN10_B\": 0, \"PROD_CDE_GU_RE_OP10\": 0, \"PROD_CDE_PINN_PORO\": 1, \"PROD_CDE_PIN_GRIP_P\": 0, \"PREP ASSOCIATE_57000235\": 0, \"PREP ASSOCIATE_57000242\": 0, \"PREP ASSOCIATE_57000436\": 0, \"PREP ASSOCIATE_57000763\": 0, \"PREP ASSOCIATE_57001344\": 0, \"PREP ASSOCIATE_152046736\": 0, \"PREP ASSOCIATE_152051910\": 0, \"PREP ASSOCIATE_152054287\": 0, \"PREP ASSOCIATE_152058678\": 0, \"PREP ASSOCIATE_152059403\": 0, \"PREP ASSOCIATE_152061442\": 0, \"PREP ASSOCIATE_152064733\": 0, \"PREP ASSOCIATE_152065732\": 0, \"PREP ASSOCIATE_152072306\": 0, \"PREP ASSOCIATE_152072361\": 0, \"PREP ASSOCIATE_152072888\": 0, \"PREP ASSOCIATE_152806978\": 0, \"PREP ASSOCIATE_152808293\": 0, \"PREP ASSOCIATE_152815980\": 0, \"PREP ASSOCIATE_152824994\": 0, \"PREP ASSOCIATE_152824995\": 0, \"PREP ASSOCIATE_152827348\": 0, \"PREP ASSOCIATE_152828421\": 0, \"PREP ASSOCIATE_152834263\": 0, \"PREP ASSOCIATE_152848002\": 0, \"PREP ASSOCIATE_152848005\": 1, \"PREP ASSOCIATE_152848008\": 0, \"PREP ASSOCIATE_152848254\": 0, \"PREP ASSOCIATE_152848438\": 0, \"PREP ASSOCIATE_152849580\": 0, \"PREP ASSOCIATE_152851272\": 0, \"PREP ASSOCIATE_152851276\": 0, \"PREP ASSOCIATE_152852517\": 0, \"PREP ASSOCIATE_152859137\": 0, \"PREP ASSOCIATE_152859275\": 0, \"PREP ASSOCIATE_152861369\": 0, \"PREP ASSOCIATE_152861371\": 0, \"PREP ASSOCIATE_152863741\": 0, \"PREP ASSOCIATE_152867385\": 0, \"PREP ASSOCIATE_152868301\": 0, \"PREP ASSOCIATE_152868302\": 0, \"PREP ASSOCIATE_152868303\": 0, \"PREP ASSOCIATE_152870937\": 0, \"PREP ASSOCIATE_152871590\": 0, \"PREP ASSOCIATE_152872349\": 0, \"PREP ASSOCIATE_152872541\": 0, \"PREP ASSOCIATE_152872563\": 0, \"PREP ASSOCIATE_152890203\": 0, \"PREP ASSOCIATE_152890598\": 0, \"PREP ASSOCIATE_152890600\": 0, \"PREP ASSOCIATE_152890601\": 0, \"PREP ASSOCIATE_152890987\": 0, \"PREP ASSOCIATE_152898251\": 0, \"PREP ASSOCIATE_152899469\": 0, \"PREP ASSOCIATE_152899588\": 0, \"PREP ASSOCIATE_152900144\": 0, \"PREP ASSOCIATE_152900996\": 0, \"PREP ASSOCIATE_152904101\": 0, \"PREP ASSOCIATE_152925182\": 0, \"PREP ASSOCIATE_152925222\": 0, \"PREP ASSOCIATE_152925225\": 0, \"PREP ASSOCIATE_152926099\": 0, \"PREP ASSOCIATE_152926100\": 0, \"PREP ASSOCIATE_152926153\": 0, \"PREP ASSOCIATE_152927232\": 0, \"FURN_DE138\": 0, \"FURN_FURN0004\": 0, \"FURN_FURN0005\": 0, \"FURN_FURN0006\": 1, \"FURN_FURN0007\": 0}]}\\n\\n2021-10-19 13:04:54,868 | root | ERROR | Encountered Exception: Traceback (most recent call last):\\n  File \"/var/azureml-server/synchronous/routes.py\", line 65, in run_scoring\\n    response, time_taken_ms = invoke_user_with_timer(service_input, request_headers)\\n  File \"/var/azureml-server/synchronous/routes.py\", line 110, in invoke_user_with_timer\\n    result, time_taken_ms = capture_time_taken(user_main.run)(**params)\\n  File \"/var/azureml-server/synchronous/routes.py\", line 92, in timer\\n    result = func(*args, **kwargs)\\n  File \"/var/azureml-app/main.py\", line 21, in run\\n    return_obj = driver_module.run(**arguments)\\n  File \"/var/azureml-app/source_dir/score.py\", line 19, in run\\n    data = pd.DataFrame(raw_data)\\n  File \"/azureml-envs/azureml_1b22a9c5d9b447e8fbdcc34171e02fe8/lib/python3.6/site-packages/pandas/core/frame.py\", line 485, in __init__\\n    raise ValueError(\"DataFrame constructor not properly called!\")\\nValueError: DataFrame constructor not properly called!\\n\\nDuring handling of the above exception, another exception occurred:\\n\\nTraceback (most recent call last):\\n  File \"/azureml-envs/azureml_1b22a9c5d9b447e8fbdcc34171e02fe8/lib/python3.6/site-packages/flask/app.py\", line 1832, in full_dispatch_request\\n    rv = self.dispatch_request()\\n  File \"/azureml-envs/azureml_1b22a9c5d9b447e8fbdcc34171e02fe8/lib/python3.6/site-packages/flask/app.py\", line 1818, in dispatch_request\\n    return self.view_functions[rule.endpoint](**req.view_args)\\n  File \"/var/azureml-server/synchronous/routes.py\", line 44, in score_realtime\\n    return run_scoring(service_input, request.headers, request.environ.get(\\'REQUEST_ID\\', \\'00000000-0000-0000-0000-000000000000\\'))\\n  File \"/var/azureml-server/synchronous/routes.py\", line 74, in run_scoring\\n    raise RunFunctionException(str(exc))\\nrun_function_exception.RunFunctionException\\n\\n2021-10-19 13:04:54,869 | root | INFO | 500\\n127.0.0.1 - - [19/Oct/2021:13:04:54 +0000] \"POST /score HTTP/1.0\" 500 42 \"-\" \"python-requests/2.26.0\"\\n2021-10-19 13:04:56,882 | root | INFO | Scoring Timer is set to 60.0 seconds\\n{\"data\": [{\"IS REWORK\": 0, \"HOURS BLAST TO PREP\": 1224.0, \"PREP DAY\": 3, \"PREP SHIFT\": 2, \"PREP H\": 3, \"PREP QTY\": 10, \"PREP QTY IN THE SHIFT\": 20, \"PREPED IN THE SHIFT SO FAR\": 0, \"HOURS PREP TO FUR\": 0.0, \"HAS SCRAP AT SINTER\": 0, \"ASSOCIATE AXPERIENCE\": 2, \"Prep week\": 1, \"PROD_CDE_DXMETA_OP1\": 0, \"PROD_CDE_DX_EP_OP10\": 0, \"PROD_CDE_EMS_SHL10\": 0, \"PROD_CDE_GUIMB_PORO\": 0, \"PROD_CDE_GUIMST_P\": 0, \"PROD_CDE_GU_AN10_B\": 0, \"PROD_CDE_GU_RE_OP10\": 0, \"PROD_CDE_PINN_PORO\": 1, \"PROD_CDE_PIN_GRIP_P\": 0, \"PREP ASSOCIATE_57000235\": 0, \"PREP ASSOCIATE_57000242\": 0, \"PREP ASSOCIATE_57000436\": 0, \"PREP ASSOCIATE_57000763\": 0, \"PREP ASSOCIATE_57001344\": 0, \"PREP ASSOCIATE_152046736\": 0, \"PREP ASSOCIATE_152051910\": 0, \"PREP ASSOCIATE_152054287\": 0, \"PREP ASSOCIATE_152058678\": 0, \"PREP ASSOCIATE_152059403\": 0, \"PREP ASSOCIATE_152061442\": 0, \"PREP ASSOCIATE_152064733\": 0, \"PREP ASSOCIATE_152065732\": 0, \"PREP ASSOCIATE_152072306\": 0, \"PREP ASSOCIATE_152072361\": 0, \"PREP ASSOCIATE_152072888\": 0, \"PREP ASSOCIATE_152806978\": 0, \"PREP ASSOCIATE_152808293\": 0, \"PREP ASSOCIATE_152815980\": 0, \"PREP ASSOCIATE_152824994\": 0, \"PREP ASSOCIATE_152824995\": 0, \"PREP ASSOCIATE_152827348\": 0, \"PREP ASSOCIATE_152828421\": 0, \"PREP ASSOCIATE_152834263\": 0, \"PREP ASSOCIATE_152848002\": 0, \"PREP ASSOCIATE_152848005\": 1, \"PREP ASSOCIATE_152848008\": 0, \"PREP ASSOCIATE_152848254\": 0, \"PREP ASSOCIATE_152848438\": 0, \"PREP ASSOCIATE_152849580\": 0, \"PREP ASSOCIATE_152851272\": 0, \"PREP ASSOCIATE_152851276\": 0, \"PREP ASSOCIATE_152852517\": 0, \"PREP ASSOCIATE_152859137\": 0, \"PREP ASSOCIATE_152859275\": 0, \"PREP ASSOCIATE_152861369\": 0, \"PREP ASSOCIATE_152861371\": 0, \"PREP ASSOCIATE_152863741\": 0, \"PREP ASSOCIATE_152867385\": 0, \"PREP ASSOCIATE_152868301\": 0, \"PREP ASSOCIATE_152868302\": 0, \"PREP ASSOCIATE_152868303\": 0, \"PREP ASSOCIATE_152870937\": 0, \"PREP ASSOCIATE_152871590\": 0, \"PREP ASSOCIATE_152872349\": 0, \"PREP ASSOCIATE_152872541\": 0, \"PREP ASSOCIATE_152872563\": 0, \"PREP ASSOCIATE_152890203\": 0, \"PREP ASSOCIATE_152890598\": 0, \"PREP ASSOCIATE_152890600\": 0, \"PREP ASSOCIATE_152890601\": 0, \"PREP ASSOCIATE_152890987\": 0, \"PREP ASSOCIATE_152898251\": 0, \"PREP ASSOCIATE_152899469\": 0, \"PREP ASSOCIATE_152899588\": 0, \"PREP ASSOCIATE_152900144\": 0, \"PREP ASSOCIATE_152900996\": 0, \"PREP ASSOCIATE_152904101\": 0, \"PREP ASSOCIATE_152925182\": 0, \"PREP ASSOCIATE_152925222\": 0, \"PREP ASSOCIATE_152925225\": 0, \"PREP ASSOCIATE_152926099\": 0, \"PREP ASSOCIATE_152926100\": 0, \"PREP ASSOCIATE_152926153\": 0, \"PREP ASSOCIATE_152927232\": 0, \"FURN_DE138\": 0, \"FURN_FURN0004\": 0, \"FURN_FURN0005\": 0, \"FURN_FURN0006\": 1, \"FURN_FURN0007\": 0}]}\\n20d62c9f-471b-4c54-ad13-5c703d0f07c1,{\"data\": [{\"IS REWORK\": 0, \"HOURS BLAST TO PREP\": 1224.0, \"PREP DAY\": 3, \"PREP SHIFT\": 2, \"PREP H\": 3, \"PREP QTY\": 10, \"PREP QTY IN THE SHIFT\": 20, \"PREPED IN THE SHIFT SO FAR\": 0, \"HOURS PREP TO FUR\": 0.0, \"HAS SCRAP AT SINTER\": 0, \"ASSOCIATE AXPERIENCE\": 2, \"Prep week\": 1, \"PROD_CDE_DXMETA_OP1\": 0, \"PROD_CDE_DX_EP_OP10\": 0, \"PROD_CDE_EMS_SHL10\": 0, \"PROD_CDE_GUIMB_PORO\": 0, \"PROD_CDE_GUIMST_P\": 0, \"PROD_CDE_GU_AN10_B\": 0, \"PROD_CDE_GU_RE_OP10\": 0, \"PROD_CDE_PINN_PORO\": 1, \"PROD_CDE_PIN_GRIP_P\": 0, \"PREP ASSOCIATE_57000235\": 0, \"PREP ASSOCIATE_57000242\": 0, \"PREP ASSOCIATE_57000436\": 0, \"PREP ASSOCIATE_57000763\": 0, \"PREP ASSOCIATE_57001344\": 0, \"PREP ASSOCIATE_152046736\": 0, \"PREP ASSOCIATE_152051910\": 0, \"PREP ASSOCIATE_152054287\": 0, \"PREP ASSOCIATE_152058678\": 0, \"PREP ASSOCIATE_152059403\": 0, \"PREP ASSOCIATE_152061442\": 0, \"PREP ASSOCIATE_152064733\": 0, \"PREP ASSOCIATE_152065732\": 0, \"PREP ASSOCIATE_152072306\": 0, \"PREP ASSOCIATE_152072361\": 0, \"PREP ASSOCIATE_152072888\": 0, \"PREP ASSOCIATE_152806978\": 0, \"PREP ASSOCIATE_152808293\": 0, \"PREP ASSOCIATE_152815980\": 0, \"PREP ASSOCIATE_152824994\": 0, \"PREP ASSOCIATE_152824995\": 0, \"PREP ASSOCIATE_152827348\": 0, \"PREP ASSOCIATE_152828421\": 0, \"PREP ASSOCIATE_152834263\": 0, \"PREP ASSOCIATE_152848002\": 0, \"PREP ASSOCIATE_152848005\": 1, \"PREP ASSOCIATE_152848008\": 0, \"PREP ASSOCIATE_152848254\": 0, \"PREP ASSOCIATE_152848438\": 0, \"PREP ASSOCIATE_152849580\": 0, \"PREP ASSOCIATE_152851272\": 0, \"PREP ASSOCIATE_152851276\": 0, \"PREP ASSOCIATE_152852517\": 0, \"PREP ASSOCIATE_152859137\": 0, \"PREP ASSOCIATE_152859275\": 0, \"PREP ASSOCIATE_152861369\": 0, \"PREP ASSOCIATE_152861371\": 0, \"PREP ASSOCIATE_152863741\": 0, \"PREP ASSOCIATE_152867385\": 0, \"PREP ASSOCIATE_152868301\": 0, \"PREP ASSOCIATE_152868302\": 0, \"PREP ASSOCIATE_152868303\": 0, \"PREP ASSOCIATE_152870937\": 0, \"PREP ASSOCIATE_152871590\": 0, \"PREP ASSOCIATE_152872349\": 0, \"PREP ASSOCIATE_152872541\": 0, \"PREP ASSOCIATE_152872563\": 0, \"PREP ASSOCIATE_152890203\": 0, \"PREP ASSOCIATE_152890598\": 0, \"PREP ASSOCIATE_152890600\": 0, \"PREP ASSOCIATE_152890601\": 0, \"PREP ASSOCIATE_152890987\": 0, \"PREP ASSOCIATE_152898251\": 0, \"PREP ASSOCIATE_152899469\": 0, \"PREP ASSOCIATE_152899588\": 0, \"PREP ASSOCIATE_152900144\": 0, \"PREP ASSOCIATE_152900996\": 0, \"PREP ASSOCIATE_152904101\": 0, \"PREP ASSOCIATE_152925182\": 0, \"PREP ASSOCIATE_152925222\": 0, \"PREP ASSOCIATE_152925225\": 0, \"PREP ASSOCIATE_152926099\": 0, \"PREP ASSOCIATE_152926100\": 0, \"PREP ASSOCIATE_152926153\": 0, \"PREP ASSOCIATE_152927232\": 0, \"FURN_DE138\": 0, \"FURN_FURN0004\": 0, \"FURN_FURN0005\": 0, \"FURN_FURN0006\": 1, \"FURN_FURN0007\": 0}]}\\n\\n2021-10-19 13:04:56,884 | root | ERROR | Encountered Exception: Traceback (most recent call last):\\n  File \"/var/azureml-server/synchronous/routes.py\", line 65, in run_scoring\\n    response, time_taken_ms = invoke_user_with_timer(service_input, request_headers)\\n  File \"/var/azureml-server/synchronous/routes.py\", line 110, in invoke_user_with_timer\\n    result, time_taken_ms = capture_time_taken(user_main.run)(**params)\\n  File \"/var/azureml-server/synchronous/routes.py\", line 92, in timer\\n    result = func(*args, **kwargs)\\n  File \"/var/azureml-app/main.py\", line 21, in run\\n    return_obj = driver_module.run(**arguments)\\n  File \"/var/azureml-app/source_dir/score.py\", line 19, in run\\n    data = pd.DataFrame(raw_data)\\n  File \"/azureml-envs/azureml_1b22a9c5d9b447e8fbdcc34171e02fe8/lib/python3.6/site-packages/pandas/core/frame.py\", line 485, in __init__\\n    raise ValueError(\"DataFrame constructor not properly called!\")\\nValueError: DataFrame constructor not properly called!\\n\\nDuring handling of the above exception, another exception occurred:\\n\\nTraceback (most recent call last):\\n  File \"/azureml-envs/azureml_1b22a9c5d9b447e8fbdcc34171e02fe8/lib/python3.6/site-packages/flask/app.py\", line 1832, in full_dispatch_request\\n    rv = self.dispatch_request()\\n  File \"/azureml-envs/azureml_1b22a9c5d9b447e8fbdcc34171e02fe8/lib/python3.6/site-packages/flask/app.py\", line 1818, in dispatch_request\\n    return self.view_functions[rule.endpoint](**req.view_args)\\n  File \"/var/azureml-server/synchronous/routes.py\", line 44, in score_realtime\\n    return run_scoring(service_input, request.headers, request.environ.get(\\'REQUEST_ID\\', \\'00000000-0000-0000-0000-000000000000\\'))\\n  File \"/var/azureml-server/synchronous/routes.py\", line 74, in run_scoring\\n    raise RunFunctionException(str(exc))\\nrun_function_exception.RunFunctionException\\n\\n2021-10-19 13:04:56,884 | root | INFO | 500\\n127.0.0.1 - - [19/Oct/2021:13:04:56 +0000] \"POST /score HTTP/1.0\" 500 42 \"-\" \"python-requests/2.26.0\"\\nException in worker process\\nTraceback (most recent call last):\\n  File \"/azureml-envs/azureml_1b22a9c5d9b447e8fbdcc34171e02fe8/lib/python3.6/site-packages/gunicorn/arbiter.py\", line 589, in spawn_worker\\n    worker.init_process()\\n  File \"/azureml-envs/azureml_1b22a9c5d9b447e8fbdcc34171e02fe8/lib/python3.6/site-packages/gunicorn/workers/base.py\", line 142, in init_process\\n    self.run()\\n  File \"/azureml-envs/azureml_1b22a9c5d9b447e8fbdcc34171e02fe8/lib/python3.6/site-packages/gunicorn/workers/sync.py\", line 125, in run\\n    self.run_for_one(timeout)\\n  File \"/azureml-envs/azureml_1b22a9c5d9b447e8fbdcc34171e02fe8/lib/python3.6/site-packages/gunicorn/workers/sync.py\", line 84, in run_for_one\\n    self.wait(timeout)\\n  File \"/azureml-envs/azureml_1b22a9c5d9b447e8fbdcc34171e02fe8/lib/python3.6/site-packages/gunicorn/workers/sync.py\", line 36, in wait\\n    ret = select.select(self.wait_fds, [], [], timeout)\\n  File \"/var/azureml-server/routes_common.py\", line 153, in alarm_handler\\n    raise TimeoutException(error_message)\\ntimeout_exception.TimeoutException\\nWorker exiting (pid: 89)\\nworker timeout is set to 300\\nBooting worker with pid: 170\\nSPARK_HOME not set. Skipping PySpark Initialization.\\nInitializing logger\\n2021-10-19 13:06:00,119 | root | INFO | Starting up app insights client\\nlogging socket was found. logging is available.\\nlogging socket was found. logging is available.\\n2021-10-19 13:06:00,123 | root | INFO | Starting up request id generator\\n2021-10-19 13:06:00,123 | root | INFO | Starting up app insight hooks\\n2021-10-19 13:06:00,124 | root | INFO | Invoking user\\'s init function\\n2021-10-19 13:06:06,228 | azureml.core | WARNING | Failure while loading azureml_run_type_providers. Failed to load entrypoint automl = azureml.train.automl.run:AutoMLRun._from_run_dto with exception cannot import name \\'RunType\\'.\\nFailure while loading azureml_run_type_providers. Failed to load entrypoint automl = azureml.train.automl.run:AutoMLRun._from_run_dto with exception cannot import name \\'RunType\\'.\\n2021-10-19 13:06:07,964 | root | INFO | Users\\'s init has completed successfully\\n2021-10-19 13:06:07,996 | root | INFO | Skipping middleware: dbg_model_info as it\\'s not enabled.\\n2021-10-19 13:06:07,997 | root | INFO | Skipping middleware: dbg_resource_usage as it\\'s not enabled.\\n2021-10-19 13:06:07,998 | root | INFO | Scoring timeout is found from os.environ: 60000 ms\\n'"
          },
          "metadata": {}
        }
      ],
      "execution_count": 43,
      "metadata": {
        "jupyter": {
          "source_hidden": false,
          "outputs_hidden": false
        },
        "nteract": {
          "transient": {
            "deleting": false
          }
        },
        "gather": {
          "logged": 1634648823604
        }
      }
    },
    {
      "cell_type": "markdown",
      "source": [
        "TODO: In the cell below, print the logs of the web service and delete the service"
      ],
      "metadata": {
        "collapsed": true,
        "gather": {
          "logged": 1598432765711
        },
        "jupyter": {
          "outputs_hidden": false,
          "source_hidden": false
        },
        "nteract": {
          "transient": {
            "deleting": false
          }
        }
      }
    },
    {
      "cell_type": "code",
      "source": [],
      "outputs": [],
      "execution_count": null,
      "metadata": {
        "jupyter": {
          "outputs_hidden": false,
          "source_hidden": false
        },
        "nteract": {
          "transient": {
            "deleting": false
          }
        }
      }
    },
    {
      "cell_type": "markdown",
      "source": [
        "**Submission Checklist**\n",
        "- I have registered the model.\n",
        "- I have deployed the model with the best accuracy as a webservice.\n",
        "- I have tested the webservice by sending a request to the model endpoint.\n",
        "- I have deleted the webservice and shutdown all the computes that I have used.\n",
        "- I have taken a screenshot showing the model endpoint as active.\n",
        "- The project includes a file containing the environment details.\n"
      ],
      "metadata": {}
    },
    {
      "cell_type": "markdown",
      "source": [],
      "metadata": {}
    }
  ],
  "metadata": {
    "kernel_info": {
      "name": "python3"
    },
    "kernelspec": {
      "name": "python3",
      "language": "python",
      "display_name": "Python 3"
    },
    "language_info": {
      "name": "python",
      "version": "3.6.9",
      "mimetype": "text/x-python",
      "codemirror_mode": {
        "name": "ipython",
        "version": 3
      },
      "pygments_lexer": "ipython3",
      "nbconvert_exporter": "python",
      "file_extension": ".py"
    },
    "nteract": {
      "version": "nteract-front-end@1.0.0"
    },
    "microsoft": {
      "host": {
        "AzureML": {
          "notebookHasBeenCompleted": true
        }
      }
    }
  },
  "nbformat": 4,
  "nbformat_minor": 2
}
