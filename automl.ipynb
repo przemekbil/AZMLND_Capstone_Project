{
  "cells": [
    {
      "cell_type": "markdown",
      "source": [
        "# Automated ML\n",
        "\n",
        "TODO: Import Dependencies. In the cell below, import all the dependencies that you will need to complete the project."
      ],
      "metadata": {}
    },
    {
      "cell_type": "code",
      "source": [
        "import pandas as pd\r\n",
        "import requests\r\n",
        "import json\r\n",
        "import os\r\n",
        "from azureml.core import Workspace, Datastore, Dataset, Experiment, Environment\r\n",
        "from azureml.train.automl import AutoMLConfig\r\n",
        "from azureml.core.compute import ComputeTarget, AmlCompute\r\n",
        "from azureml.core.model import Model, InferenceConfig\r\n",
        "from azureml.widgets import RunDetails\r\n",
        "from azureml.core.webservice import LocalWebservice\r\n",
        "from azureml.core.webservice import AciWebservice"
      ],
      "outputs": [],
      "execution_count": 1,
      "metadata": {
        "gather": {
          "logged": 1635935843968
        },
        "jupyter": {
          "outputs_hidden": false,
          "source_hidden": false
        },
        "nteract": {
          "transient": {
            "deleting": false
          }
        }
      }
    },
    {
      "cell_type": "markdown",
      "source": [
        "## Dataset\n",
        "\n",
        "### Overview\n",
        "TODO: In this markdown cell, give an overview of the dataset you are using. Also mention the task you will be performing.\n",
        "\n",
        "\n",
        "TODO: Get data. In the cell below, write code to access the data you will be using in this project. Remember that the dataset needs to be external."
      ],
      "metadata": {}
    },
    {
      "cell_type": "code",
      "source": [
        "# Read and clean the data\r\n",
        "\r\n",
        "raw_data = pd.read_csv('./data/balanced.csv')\r\n",
        "raw_data = raw_data.dropna()\r\n",
        "raw_data = raw_data.drop(\"WO-MRR NUM\", axis=1)\r\n",
        "raw_data = raw_data.drop(\"Has MRR\", axis=1)\r\n",
        "raw_data = pd.get_dummies(raw_data, columns=['PROD_CDE','PREP ASSOCIATE', 'FURN'])\r\n",
        "print(raw_data.shape)"
      ],
      "outputs": [
        {
          "output_type": "stream",
          "name": "stdout",
          "text": "(4124, 85)\n"
        }
      ],
      "execution_count": 2,
      "metadata": {
        "jupyter": {
          "source_hidden": false,
          "outputs_hidden": false
        },
        "nteract": {
          "transient": {
            "deleting": false
          }
        },
        "gather": {
          "logged": 1635935863911
        }
      }
    },
    {
      "cell_type": "code",
      "source": [
        "# Create a new Dataset from the raw_data\r\n",
        "ws = Workspace.from_config()\r\n",
        "datastore = Datastore.get(ws, 'workspaceblobstore')\r\n",
        "\r\n",
        "dataset = Dataset.Tabular.register_pandas_dataframe(raw_data, datastore ,\"Sinter\", show_progress=True)"
      ],
      "outputs": [
        {
          "output_type": "stream",
          "name": "stderr",
          "text": "Method register_pandas_dataframe: This is an experimental method, and may change at any time. Please see https://aka.ms/azuremlexperimental for more information.\n"
        },
        {
          "output_type": "stream",
          "name": "stdout",
          "text": "Validating arguments.\nArguments validated.\nSuccessfully obtained datastore reference and path.\nUploading file to managed-dataset/bd9e50d0-5a89-4deb-ad76-018ca1177c15/\nSuccessfully uploaded file to datastore.\nCreating and registering a new dataset.\nSuccessfully created and registered a new dataset.\n"
        }
      ],
      "execution_count": 3,
      "metadata": {
        "jupyter": {
          "source_hidden": false,
          "outputs_hidden": false
        },
        "nteract": {
          "transient": {
            "deleting": false
          }
        },
        "gather": {
          "logged": 1635935884209
        }
      }
    },
    {
      "cell_type": "code",
      "source": [
        "# choose a name for experiment\n",
        "experiment_name = 'Sinter_AML'\n",
        "\n",
        "experiment=Experiment(ws, experiment_name)"
      ],
      "outputs": [],
      "execution_count": 4,
      "metadata": {
        "gather": {
          "logged": 1635935891231
        },
        "jupyter": {
          "outputs_hidden": false,
          "source_hidden": false
        },
        "nteract": {
          "transient": {
            "deleting": false
          }
        }
      }
    },
    {
      "cell_type": "markdown",
      "source": [
        "# Create a Compute target"
      ],
      "metadata": {
        "nteract": {
          "transient": {
            "deleting": false
          }
        }
      }
    },
    {
      "cell_type": "code",
      "source": [
        "cpu_cluster_name = \"ML-Cluster\"\r\n",
        "compute_config = AmlCompute.provisioning_configuration(\"Standard_D2_V2\", min_nodes=0, max_nodes=2)\r\n",
        "cpu_cluster = ComputeTarget.create(ws, cpu_cluster_name, compute_config)\r\n",
        "cpu_cluster.wait_for_completion(show_output=True)"
      ],
      "outputs": [
        {
          "output_type": "stream",
          "name": "stdout",
          "text": "InProgress....\nSucceededProvisioning operation finished, operation \"Succeeded\"\nSucceeded\nAmlCompute wait for completion finished\n\nMinimum number of nodes requested have been provisioned\n"
        }
      ],
      "execution_count": 5,
      "metadata": {
        "jupyter": {
          "source_hidden": false,
          "outputs_hidden": false
        },
        "nteract": {
          "transient": {
            "deleting": false
          }
        },
        "gather": {
          "logged": 1635935929110
        }
      }
    },
    {
      "cell_type": "markdown",
      "source": [
        "## AutoML Configuration\n",
        "\n",
        "TODO: Explain why you chose the automl settings and cofiguration you used below."
      ],
      "metadata": {}
    },
    {
      "cell_type": "code",
      "source": [
        "automl_settings = {\n",
        "    \"experiment_timeout_minutes\": 40,\n",
        "    \"max_concurrent_iterations\": 2,\n",
        "    \"primary_metric\" : 'accuracy'\n",
        "}\n",
        "automl_config = AutoMLConfig(compute_target=cpu_cluster,\n",
        "                             task = \"classification\",\n",
        "                             training_data=dataset,\n",
        "                             label_column_name=\"HAS SCRAP AT SINTER\",\n",
        "                             enable_early_stopping= True,\n",
        "                             featurization= 'auto',\n",
        "                             debug_log = \"automl_errors.log\",\n",
        "                             **automl_settings\n",
        "                            )"
      ],
      "outputs": [],
      "execution_count": 6,
      "metadata": {
        "gather": {
          "logged": 1635935982088
        },
        "jupyter": {
          "outputs_hidden": false,
          "source_hidden": false
        },
        "nteract": {
          "transient": {
            "deleting": false
          }
        }
      }
    },
    {
      "cell_type": "code",
      "source": [
        "# TODO: Submit your experiment\n",
        "remote_run = experiment.submit(automl_config, show_output=True)\n",
        "RunDetails(remote_run).show()"
      ],
      "outputs": [
        {
          "output_type": "stream",
          "name": "stdout",
          "text": "Submitting remote run.\nNo run_configuration provided, running on ML-Cluster with default configuration\nRunning on remote compute: ML-Cluster\n"
        },
        {
          "output_type": "display_data",
          "data": {
            "text/plain": "<IPython.core.display.HTML object>",
            "text/html": "<table style=\"width:100%\"><tr><th>Experiment</th><th>Id</th><th>Type</th><th>Status</th><th>Details Page</th><th>Docs Page</th></tr><tr><td>Sinter_AML</td><td>AutoML_33386fa7-d00f-44bb-a03c-b1933e789deb</td><td>automl</td><td>NotStarted</td><td><a href=\"https://ml.azure.com/runs/AutoML_33386fa7-d00f-44bb-a03c-b1933e789deb?wsid=/subscriptions/2c48c51c-bd47-40d4-abbe-fb8eabd19c8c/resourcegroups/aml-quickstarts-162658/workspaces/quick-starts-ws-162658&amp;tid=660b3398-b80e-49d2-bc5b-ac1dc93b5254\" target=\"_blank\" rel=\"noopener\">Link to Azure Machine Learning studio</a></td><td><a href=\"https://docs.microsoft.com/en-us/python/api/overview/azure/ml/intro?view=azure-ml-py\" target=\"_blank\" rel=\"noopener\">Link to Documentation</a></td></tr></table>"
          },
          "metadata": {}
        },
        {
          "output_type": "stream",
          "name": "stdout",
          "text": "\nCurrent status: FeaturesGeneration. Generating features for the dataset.\nCurrent status: DatasetFeaturization. Beginning to fit featurizers and featurize the dataset.\nCurrent status: DatasetCrossValidationSplit. Generating individually featurized CV splits.\nCurrent status: ModelSelection. Beginning model selection.\n\n****************************************************************************************************\nDATA GUARDRAILS: \n\nTYPE:         Cross validation\nSTATUS:       DONE\nDESCRIPTION:  Each iteration of the trained model was validated through cross-validation.\n              \nDETAILS:      \n+---------------------------------+\n|Number of folds                  |\n+=================================+\n|3                                |\n+---------------------------------+\n\n****************************************************************************************************\n\nTYPE:         Class balancing detection\nSTATUS:       PASSED\nDESCRIPTION:  Your inputs were analyzed, and all classes are balanced in your training data.\n              Learn more about imbalanced data: https://aka.ms/AutomatedMLImbalancedData\n\n****************************************************************************************************\n\nTYPE:         Missing feature values imputation\nSTATUS:       PASSED\nDESCRIPTION:  No feature missing values were detected in the training data.\n              Learn more about missing value imputation: https://aka.ms/AutomatedMLFeaturization\n\n****************************************************************************************************\n\nTYPE:         High cardinality feature detection\nSTATUS:       PASSED\nDESCRIPTION:  Your inputs were analyzed, and no high cardinality features were detected.\n              Learn more about high cardinality feature handling: https://aka.ms/AutomatedMLFeaturization\n\n****************************************************************************************************\n\n****************************************************************************************************\nITERATION: The iteration being evaluated.\nPIPELINE: A summary description of the pipeline being evaluated.\nDURATION: Time taken for the current iteration.\nMETRIC: The result of computing score on the fitted pipeline.\nBEST: The best observed score thus far.\n****************************************************************************************************\n\n ITERATION   PIPELINE                                       DURATION      METRIC      BEST\n         1   MaxAbsScaler XGBoostClassifier                 0:00:39       0.6198    0.6198\n         0   MaxAbsScaler LightGBM                          0:00:39       0.6225    0.6225\n         2   MaxAbsScaler ExtremeRandomTrees                0:00:38       0.6181    0.6225\n         3   SparseNormalizer XGBoostClassifier             0:02:25       0.6169    0.6225\n         4   MaxAbsScaler LightGBM                          0:01:35       0.6064    0.6225\n         5   MaxAbsScaler LightGBM                          0:00:37       0.6031    0.6225\n         6   StandardScalerWrapper XGBoostClassifier        0:00:36       0.6035    0.6225\n         7   MaxAbsScaler LogisticRegression                0:00:37       0.6329    0.6329\n         8   StandardScalerWrapper ExtremeRandomTrees       0:00:38       0.6203    0.6329\n        10   SparseNormalizer LightGBM                      0:00:37       0.5912    0.6329\n        11   StandardScalerWrapper XGBoostClassifier        0:00:37       0.6074    0.6329\n         9   StandardScalerWrapper XGBoostClassifier        0:02:24       0.6028    0.6329\n        13   MaxAbsScaler SGD                               0:00:38       0.6355    0.6355\n        12   MaxAbsScaler LogisticRegression                0:02:24       0.6329    0.6355\n        15   SparseNormalizer RandomForest                  0:00:38       0.6164    0.6355\n        14   StandardScalerWrapper XGBoostClassifier        0:02:24       0.5924    0.6355\n        16   StandardScalerWrapper LogisticRegression       0:00:36       0.6309    0.6355\n        17   StandardScalerWrapper RandomForest             0:00:37       0.6171    0.6355\n        18   StandardScalerWrapper XGBoostClassifier        0:00:37       0.6178    0.6355\n        19   TruncatedSVDWrapper RandomForest               0:00:49       0.6077    0.6355\n        20   TruncatedSVDWrapper RandomForest               0:00:48       0.6295    0.6355\n        21   StandardScalerWrapper XGBoostClassifier        0:00:37       0.6220    0.6355\n        22   SparseNormalizer XGBoostClassifier             0:00:40       0.6171    0.6355\n        23   MaxAbsScaler GradientBoosting                  0:00:40       0.5473    0.6355\n        24   SparseNormalizer LogisticRegression            0:02:25       0.6271    0.6355\n        25   MaxAbsScaler SGD                               0:02:23       0.5068    0.6355\n        26   StandardScalerWrapper LightGBM                 0:00:39       0.5490    0.6355\n        27   SparseNormalizer XGBoostClassifier             0:00:39       0.6232    0.6355\n        28   SparseNormalizer XGBoostClassifier             0:00:36       0.6120    0.6355\n        29   SparseNormalizer LightGBM                      0:00:39       0.6149    0.6355\n        30   MaxAbsScaler SGD                               0:00:37       0.4998    0.6355\n        31   MaxAbsScaler ExtremeRandomTrees                0:00:36       0.5555    0.6355\n        32    VotingEnsemble                                0:00:52       0.6428    0.6428\n        33    StackEnsemble                                 0:00:56       0.6380    0.6428\n"
        },
        {
          "output_type": "display_data",
          "data": {
            "text/plain": "_AutoMLWidget(widget_settings={'childWidgetDisplay': 'popup', 'send_telemetry': False, 'log_level': 'INFO', 's…",
            "application/vnd.jupyter.widget-view+json": {
              "version_major": 2,
              "version_minor": 0,
              "model_id": "7c2b2966af64467d9fb79ed4e8a3fefa"
            }
          },
          "metadata": {}
        },
        {
          "output_type": "display_data",
          "data": {
            "application/aml.mini.widget.v1": "{\"status\": \"Completed\", \"workbench_run_details_uri\": \"https://ml.azure.com/runs/AutoML_33386fa7-d00f-44bb-a03c-b1933e789deb?wsid=/subscriptions/2c48c51c-bd47-40d4-abbe-fb8eabd19c8c/resourcegroups/aml-quickstarts-162658/workspaces/quick-starts-ws-162658&tid=660b3398-b80e-49d2-bc5b-ac1dc93b5254\", \"run_id\": \"AutoML_33386fa7-d00f-44bb-a03c-b1933e789deb\", \"run_properties\": {\"run_id\": \"AutoML_33386fa7-d00f-44bb-a03c-b1933e789deb\", \"created_utc\": \"2021-11-03T10:39:58.422428Z\", \"properties\": {\"num_iterations\": \"1000\", \"training_type\": \"TrainFull\", \"acquisition_function\": \"EI\", \"primary_metric\": \"accuracy\", \"train_split\": \"0\", \"acquisition_parameter\": \"0\", \"num_cross_validation\": null, \"target\": \"ML-Cluster\", \"AMLSettingsJsonString\": \"{\\\"path\\\":null,\\\"name\\\":\\\"Sinter_AML\\\",\\\"subscription_id\\\":\\\"2c48c51c-bd47-40d4-abbe-fb8eabd19c8c\\\",\\\"resource_group\\\":\\\"aml-quickstarts-162658\\\",\\\"workspace_name\\\":\\\"quick-starts-ws-162658\\\",\\\"region\\\":\\\"southcentralus\\\",\\\"compute_target\\\":\\\"ML-Cluster\\\",\\\"spark_service\\\":null,\\\"azure_service\\\":\\\"remote\\\",\\\"many_models\\\":false,\\\"pipeline_fetch_max_batch_size\\\":1,\\\"enable_batch_run\\\":false,\\\"enable_run_restructure\\\":false,\\\"start_auxiliary_runs_before_parent_complete\\\":false,\\\"enable_code_generation\\\":false,\\\"iterations\\\":1000,\\\"primary_metric\\\":\\\"accuracy\\\",\\\"task_type\\\":\\\"classification\\\",\\\"data_script\\\":null,\\\"test_size\\\":0.0,\\\"test_include_predictions_only\\\":false,\\\"validation_size\\\":0.0,\\\"n_cross_validations\\\":null,\\\"y_min\\\":null,\\\"y_max\\\":null,\\\"num_classes\\\":null,\\\"featurization\\\":\\\"auto\\\",\\\"_ignore_package_version_incompatibilities\\\":false,\\\"is_timeseries\\\":false,\\\"max_cores_per_iteration\\\":1,\\\"max_concurrent_iterations\\\":2,\\\"iteration_timeout_minutes\\\":null,\\\"mem_in_mb\\\":null,\\\"enforce_time_on_windows\\\":false,\\\"experiment_timeout_minutes\\\":40,\\\"experiment_exit_score\\\":null,\\\"whitelist_models\\\":null,\\\"blacklist_algos\\\":[\\\"TensorFlowLinearClassifier\\\",\\\"TensorFlowDNN\\\"],\\\"supported_models\\\":[\\\"RandomForest\\\",\\\"SVM\\\",\\\"GradientBoosting\\\",\\\"LinearSVM\\\",\\\"TensorFlowLinearClassifier\\\",\\\"SGD\\\",\\\"KNN\\\",\\\"LightGBM\\\",\\\"TensorFlowDNN\\\",\\\"DecisionTree\\\",\\\"ExtremeRandomTrees\\\",\\\"BernoulliNaiveBayes\\\",\\\"XGBoostClassifier\\\",\\\"AveragedPerceptronClassifier\\\",\\\"LogisticRegression\\\",\\\"MultinomialNaiveBayes\\\"],\\\"private_models\\\":[],\\\"auto_blacklist\\\":true,\\\"blacklist_samples_reached\\\":false,\\\"exclude_nan_labels\\\":true,\\\"verbosity\\\":20,\\\"_debug_log\\\":\\\"azureml_automl.log\\\",\\\"show_warnings\\\":false,\\\"model_explainability\\\":true,\\\"service_url\\\":null,\\\"sdk_url\\\":null,\\\"sdk_packages\\\":null,\\\"enable_onnx_compatible_models\\\":false,\\\"enable_split_onnx_featurizer_estimator_models\\\":false,\\\"vm_type\\\":\\\"STANDARD_D2_V2\\\",\\\"telemetry_verbosity\\\":20,\\\"send_telemetry\\\":true,\\\"enable_dnn\\\":false,\\\"scenario\\\":\\\"SDK-1.13.0\\\",\\\"environment_label\\\":null,\\\"save_mlflow\\\":false,\\\"force_text_dnn\\\":false,\\\"enable_feature_sweeping\\\":true,\\\"enable_early_stopping\\\":true,\\\"early_stopping_n_iters\\\":10,\\\"metrics\\\":null,\\\"enable_metric_confidence\\\":false,\\\"enable_ensembling\\\":true,\\\"enable_stack_ensembling\\\":true,\\\"ensemble_iterations\\\":15,\\\"enable_tf\\\":false,\\\"enable_subsampling\\\":null,\\\"subsample_seed\\\":null,\\\"enable_nimbusml\\\":false,\\\"enable_streaming\\\":false,\\\"force_streaming\\\":false,\\\"track_child_runs\\\":true,\\\"allowed_private_models\\\":[],\\\"label_column_name\\\":\\\"HAS SCRAP AT SINTER\\\",\\\"weight_column_name\\\":null,\\\"cv_split_column_names\\\":null,\\\"positive_label\\\":null,\\\"enable_local_managed\\\":false,\\\"_local_managed_run_id\\\":null,\\\"cost_mode\\\":1,\\\"lag_length\\\":0,\\\"metric_operation\\\":\\\"maximize\\\",\\\"preprocess\\\":true}\", \"DataPrepJsonString\": \"{\\\\\\\"training_data\\\\\\\": {\\\\\\\"datasetId\\\\\\\": \\\\\\\"fab67153-23d6-4648-b6a1-00d4775a2bb6\\\\\\\"}, \\\\\\\"datasets\\\\\\\": 0}\", \"EnableSubsampling\": null, \"runTemplate\": \"AutoML\", \"azureml.runsource\": \"automl\", \"display_task_type\": \"classification\", \"dependencies_versions\": \"{\\\"azureml-widgets\\\": \\\"1.34.0\\\", \\\"azureml-train\\\": \\\"1.34.0\\\", \\\"azureml-train-restclients-hyperdrive\\\": \\\"1.34.0\\\", \\\"azureml-train-core\\\": \\\"1.34.0\\\", \\\"azureml-train-automl\\\": \\\"1.34.0\\\", \\\"azureml-train-automl-runtime\\\": \\\"1.34.0\\\", \\\"azureml-train-automl-client\\\": \\\"1.34.0\\\", \\\"azureml-tensorboard\\\": \\\"1.34.0\\\", \\\"azureml-telemetry\\\": \\\"1.34.0\\\", \\\"azureml-sdk\\\": \\\"1.34.0\\\", \\\"azureml-samples\\\": \\\"0+unknown\\\", \\\"azureml-responsibleai\\\": \\\"1.34.0\\\", \\\"azureml-pipeline\\\": \\\"1.34.0\\\", \\\"azureml-pipeline-steps\\\": \\\"1.34.0\\\", \\\"azureml-pipeline-core\\\": \\\"1.34.0\\\", \\\"azureml-opendatasets\\\": \\\"1.34.0\\\", \\\"azureml-mlflow\\\": \\\"1.34.0\\\", \\\"azureml-interpret\\\": \\\"1.34.0\\\", \\\"azureml-inference-server-http\\\": \\\"0.3.1\\\", \\\"azureml-explain-model\\\": \\\"1.34.0\\\", \\\"azureml-defaults\\\": \\\"1.34.0\\\", \\\"azureml-dataset-runtime\\\": \\\"1.34.0\\\", \\\"azureml-dataprep\\\": \\\"2.22.2\\\", \\\"azureml-dataprep-rslex\\\": \\\"1.20.1\\\", \\\"azureml-dataprep-native\\\": \\\"38.0.0\\\", \\\"azureml-datadrift\\\": \\\"1.34.0\\\", \\\"azureml-core\\\": \\\"1.34.0\\\", \\\"azureml-contrib-services\\\": \\\"1.34.0\\\", \\\"azureml-contrib-server\\\": \\\"1.34.0\\\", \\\"azureml-contrib-reinforcementlearning\\\": \\\"1.34.0\\\", \\\"azureml-contrib-pipeline-steps\\\": \\\"1.34.0\\\", \\\"azureml-contrib-notebook\\\": \\\"1.34.0\\\", \\\"azureml-contrib-fairness\\\": \\\"1.34.0\\\", \\\"azureml-contrib-dataset\\\": \\\"1.34.0\\\", \\\"azureml-contrib-automl-pipeline-steps\\\": \\\"1.34.0\\\", \\\"azureml-cli-common\\\": \\\"1.34.0\\\", \\\"azureml-automl-runtime\\\": \\\"1.34.0\\\", \\\"azureml-automl-dnn-nlp\\\": \\\"1.34.0\\\", \\\"azureml-automl-core\\\": \\\"1.34.0\\\", \\\"azureml-accel-models\\\": \\\"1.34.0\\\"}\", \"_aml_system_scenario_identification\": \"Remote.Parent\", \"ClientType\": \"SDK\", \"environment_cpu_name\": \"AzureML-AutoML\", \"environment_cpu_label\": \"prod\", \"environment_gpu_name\": \"AzureML-AutoML-GPU\", \"environment_gpu_label\": \"prod\", \"root_attribution\": \"automl\", \"attribution\": \"AutoML\", \"Orchestrator\": \"AutoML\", \"CancelUri\": \"https://southcentralus.api.azureml.ms/jasmine/v1.0/subscriptions/2c48c51c-bd47-40d4-abbe-fb8eabd19c8c/resourceGroups/aml-quickstarts-162658/providers/Microsoft.MachineLearningServices/workspaces/quick-starts-ws-162658/experimentids/706b25ac-eba9-4c1b-86af-2850331abeae/cancel/AutoML_33386fa7-d00f-44bb-a03c-b1933e789deb\", \"ClientSdkVersion\": \"1.35.1\", \"snapshotId\": \"00000000-0000-0000-0000-000000000000\", \"SetupRunId\": \"AutoML_33386fa7-d00f-44bb-a03c-b1933e789deb_setup\", \"SetupRunContainerId\": \"dcid.AutoML_33386fa7-d00f-44bb-a03c-b1933e789deb_setup\", \"FeaturizationRunJsonPath\": \"featurizer_container.json\", \"FeaturizationRunId\": \"AutoML_33386fa7-d00f-44bb-a03c-b1933e789deb_featurize\", \"ProblemInfoJsonString\": \"{\\\"dataset_num_categorical\\\": 0, \\\"is_sparse\\\": true, \\\"subsampling\\\": false, \\\"has_extra_col\\\": true, \\\"dataset_classes\\\": 2, \\\"dataset_features\\\": 170, \\\"dataset_samples\\\": 4124, \\\"single_frequency_class_detected\\\": false}\", \"ModelExplainRunId\": \"AutoML_33386fa7-d00f-44bb-a03c-b1933e789deb_ModelExplain\"}, \"tags\": {\"model_explain_run\": \"best_run\", \"_aml_system_azureml.automlComponent\": \"AutoML\", \"pipeline_id\": \"\", \"score\": \"\", \"predicted_cost\": \"\", \"fit_time\": \"\", \"training_percent\": \"\", \"iteration\": \"\", \"run_preprocessor\": \"\", \"run_algorithm\": \"\", \"dynamic_whitelisting_iterations\": \"<25>;<30>;\", \"_aml_system_azureml.automl_early_exit_message\": \"No scores improved over last 20 iterations, so experiment stopped early. This early stopping behavior can be disabled by setting enable_early_stopping = False in AutoMLConfig for notebook/python SDK runs.\", \"automl_best_child_run_id\": \"AutoML_33386fa7-d00f-44bb-a03c-b1933e789deb_32\", \"model_explain_best_run_child_id\": \"AutoML_33386fa7-d00f-44bb-a03c-b1933e789deb_32\"}, \"end_time_utc\": \"2021-11-03T11:09:49.976666Z\", \"status\": \"Completed\", \"log_files\": {}, \"log_groups\": [], \"run_duration\": \"0:29:51\", \"run_number\": \"1\", \"run_queued_details\": {\"status\": \"Completed\", \"details\": null}}, \"child_runs\": [{\"run_id\": \"AutoML_33386fa7-d00f-44bb-a03c-b1933e789deb_setup\", \"run_number\": 2, \"metric\": null, \"status\": \"Completed\", \"run_type\": \"azureml.scriptrun\", \"training_percent\": null, \"start_time\": \"2021-11-03T10:42:08.39169Z\", \"end_time\": \"2021-11-03T10:43:58.186049Z\", \"created_time\": \"2021-11-03T10:40:12.16344Z\", \"created_time_dt\": \"2021-11-03T10:40:12.16344Z\", \"duration\": \"0:03:46\", \"iteration\": null, \"goal\": null, \"run_name\": \"Completed\", \"run_properties\": null}, {\"run_id\": \"AutoML_33386fa7-d00f-44bb-a03c-b1933e789deb_featurize\", \"run_number\": 3, \"metric\": null, \"status\": \"Completed\", \"run_type\": \"automl.featurization\", \"training_percent\": null, \"start_time\": \"2021-11-03T10:43:59.066083Z\", \"end_time\": \"2021-11-03T10:48:38.296Z\", \"created_time\": \"2021-11-03T10:43:58.565406Z\", \"created_time_dt\": \"2021-11-03T10:43:58.565406Z\", \"duration\": \"0:04:39\", \"iteration\": null, \"goal\": null, \"run_name\": \"Completed\", \"run_properties\": null}, {\"run_id\": \"AutoML_33386fa7-d00f-44bb-a03c-b1933e789deb_0\", \"run_number\": 5, \"metric\": null, \"status\": \"Completed\", \"run_type\": \"azureml.scriptrun\", \"training_percent\": \"100\", \"start_time\": \"2021-11-03T10:49:30.741914Z\", \"end_time\": \"2021-11-03T10:50:09.936225Z\", \"created_time\": \"2021-11-03T10:48:38.900052Z\", \"created_time_dt\": \"2021-11-03T10:48:38.900052Z\", \"duration\": \"0:01:31\", \"iteration\": \"0\", \"goal\": \"accuracy_max\", \"run_name\": \"MaxAbsScaler, LightGBM\", \"run_properties\": \"copy=True\", \"primary_metric\": 0.62245459, \"best_metric\": 0.62245459}, {\"run_id\": \"AutoML_33386fa7-d00f-44bb-a03c-b1933e789deb_1\", \"run_number\": 6, \"metric\": null, \"status\": \"Completed\", \"run_type\": \"azureml.scriptrun\", \"training_percent\": \"100\", \"start_time\": \"2021-11-03T10:48:44.258136Z\", \"end_time\": \"2021-11-03T10:49:23.390942Z\", \"created_time\": \"2021-11-03T10:48:38.901815Z\", \"created_time_dt\": \"2021-11-03T10:48:38.901815Z\", \"duration\": \"0:00:44\", \"iteration\": \"1\", \"goal\": \"accuracy_max\", \"run_name\": \"MaxAbsScaler, XGBoostClassifier\", \"run_properties\": \"copy=True\", \"primary_metric\": 0.61978439, \"best_metric\": 0.62245459}, {\"run_id\": \"AutoML_33386fa7-d00f-44bb-a03c-b1933e789deb_2\", \"run_number\": 7, \"metric\": null, \"status\": \"Completed\", \"run_type\": \"azureml.scriptrun\", \"training_percent\": \"100\", \"start_time\": \"2021-11-03T10:50:15.383499Z\", \"end_time\": \"2021-11-03T10:50:53.50739Z\", \"created_time\": \"2021-11-03T10:49:24.800779Z\", \"created_time_dt\": \"2021-11-03T10:49:24.800779Z\", \"duration\": \"0:01:28\", \"iteration\": \"2\", \"goal\": \"accuracy_max\", \"run_name\": \"MaxAbsScaler, ExtremeRandomTrees\", \"run_properties\": \"copy=True\", \"primary_metric\": 0.61808866, \"best_metric\": 0.62245459}, {\"run_id\": \"AutoML_33386fa7-d00f-44bb-a03c-b1933e789deb_3\", \"run_number\": 8, \"metric\": null, \"status\": \"Completed\", \"run_type\": \"azureml.scriptrun\", \"training_percent\": \"100\", \"start_time\": \"2021-11-03T10:50:57.398713Z\", \"end_time\": \"2021-11-03T10:53:22.887415Z\", \"created_time\": \"2021-11-03T10:50:11.247309Z\", \"created_time_dt\": \"2021-11-03T10:50:11.247309Z\", \"duration\": \"0:03:11\", \"iteration\": \"3\", \"goal\": \"accuracy_max\", \"run_name\": \"SparseNormalizer, XGBoostClassifier\", \"run_properties\": \"copy=True, norm='l2'\", \"primary_metric\": 0.6168776, \"best_metric\": 0.62245459}, {\"run_id\": \"AutoML_33386fa7-d00f-44bb-a03c-b1933e789deb_4\", \"run_number\": 9, \"metric\": null, \"status\": \"Completed\", \"run_type\": \"azureml.scriptrun\", \"training_percent\": \"100\", \"start_time\": \"2021-11-03T10:52:33.376239Z\", \"end_time\": \"2021-11-03T10:54:08.329894Z\", \"created_time\": \"2021-11-03T10:50:55.861441Z\", \"created_time_dt\": \"2021-11-03T10:50:55.861441Z\", \"duration\": \"0:03:12\", \"iteration\": \"4\", \"goal\": \"accuracy_max\", \"run_name\": \"MaxAbsScaler, LightGBM\", \"run_properties\": \"copy=True\", \"primary_metric\": 0.60644753, \"best_metric\": 0.62245459}, {\"run_id\": \"AutoML_33386fa7-d00f-44bb-a03c-b1933e789deb_5\", \"run_number\": 10, \"metric\": null, \"status\": \"Completed\", \"run_type\": \"azureml.scriptrun\", \"training_percent\": \"100\", \"start_time\": \"2021-11-03T10:53:31.767844Z\", \"end_time\": \"2021-11-03T10:54:09.089093Z\", \"created_time\": \"2021-11-03T10:53:25.180884Z\", \"created_time_dt\": \"2021-11-03T10:53:25.180884Z\", \"duration\": \"0:00:43\", \"iteration\": \"5\", \"goal\": \"accuracy_max\", \"run_name\": \"MaxAbsScaler, LightGBM\", \"run_properties\": \"copy=True\", \"primary_metric\": 0.603052, \"best_metric\": 0.62245459}, {\"run_id\": \"AutoML_33386fa7-d00f-44bb-a03c-b1933e789deb_6\", \"run_number\": 11, \"metric\": null, \"status\": \"Completed\", \"run_type\": \"azureml.scriptrun\", \"training_percent\": \"100\", \"start_time\": \"2021-11-03T10:54:17.313706Z\", \"end_time\": \"2021-11-03T10:54:53.391997Z\", \"created_time\": \"2021-11-03T10:54:10.501689Z\", \"created_time_dt\": \"2021-11-03T10:54:10.501689Z\", \"duration\": \"0:00:42\", \"iteration\": \"6\", \"goal\": \"accuracy_max\", \"run_name\": \"StandardScalerWrapper, XGBoostClassifier\", \"run_properties\": \"\\n    copy=True,\\n    with_mean=False,\\n    with_std=False\\n\", \"primary_metric\": 0.60353862, \"best_metric\": 0.62245459}, {\"run_id\": \"AutoML_33386fa7-d00f-44bb-a03c-b1933e789deb_7\", \"run_number\": 12, \"metric\": null, \"status\": \"Completed\", \"run_type\": \"azureml.scriptrun\", \"training_percent\": \"100\", \"start_time\": \"2021-11-03T10:54:19.426518Z\", \"end_time\": \"2021-11-03T10:54:56.129911Z\", \"created_time\": \"2021-11-03T10:54:14.452897Z\", \"created_time_dt\": \"2021-11-03T10:54:14.452897Z\", \"duration\": \"0:00:41\", \"iteration\": \"7\", \"goal\": \"accuracy_max\", \"run_name\": \"MaxAbsScaler, LogisticRegression\", \"run_properties\": \"copy=True\", \"primary_metric\": 0.63288007, \"best_metric\": 0.63288007}, {\"run_id\": \"AutoML_33386fa7-d00f-44bb-a03c-b1933e789deb_8\", \"run_number\": 13, \"metric\": null, \"status\": \"Completed\", \"run_type\": \"azureml.scriptrun\", \"training_percent\": \"100\", \"start_time\": \"2021-11-03T10:55:08.412472Z\", \"end_time\": \"2021-11-03T10:55:46.017711Z\", \"created_time\": \"2021-11-03T10:54:55.665017Z\", \"created_time_dt\": \"2021-11-03T10:54:55.665017Z\", \"duration\": \"0:00:50\", \"iteration\": \"8\", \"goal\": \"accuracy_max\", \"run_name\": \"StandardScalerWrapper, ExtremeRandomTrees\", \"run_properties\": \"\\n    copy=True,\\n    with_mean=False,\\n    with_std=False\\n\", \"primary_metric\": 0.62026942, \"best_metric\": 0.63288007}, {\"run_id\": \"AutoML_33386fa7-d00f-44bb-a03c-b1933e789deb_9\", \"run_number\": 14, \"metric\": null, \"status\": \"Completed\", \"run_type\": \"azureml.scriptrun\", \"training_percent\": \"100\", \"start_time\": \"2021-11-03T10:55:06.472761Z\", \"end_time\": \"2021-11-03T10:57:30.288954Z\", \"created_time\": \"2021-11-03T10:55:00.016101Z\", \"created_time_dt\": \"2021-11-03T10:55:00.016101Z\", \"duration\": \"0:02:30\", \"iteration\": \"9\", \"goal\": \"accuracy_max\", \"run_name\": \"StandardScalerWrapper, XGBoostClassifier\", \"run_properties\": \"\\n    copy=True,\\n    with_mean=False,\\n    with_std=False\\n\", \"primary_metric\": 0.60280658, \"best_metric\": 0.63288007}, {\"run_id\": \"AutoML_33386fa7-d00f-44bb-a03c-b1933e789deb_10\", \"run_number\": 15, \"metric\": null, \"status\": \"Completed\", \"run_type\": \"azureml.scriptrun\", \"training_percent\": \"100\", \"start_time\": \"2021-11-03T10:55:57.276671Z\", \"end_time\": \"2021-11-03T10:56:33.809483Z\", \"created_time\": \"2021-11-03T10:55:48.206632Z\", \"created_time_dt\": \"2021-11-03T10:55:48.206632Z\", \"duration\": \"0:00:45\", \"iteration\": \"10\", \"goal\": \"accuracy_max\", \"run_name\": \"SparseNormalizer, LightGBM\", \"run_properties\": \"copy=True, norm='l1'\", \"primary_metric\": 0.59117428, \"best_metric\": 0.63288007}, {\"run_id\": \"AutoML_33386fa7-d00f-44bb-a03c-b1933e789deb_11\", \"run_number\": 16, \"metric\": null, \"status\": \"Completed\", \"run_type\": \"azureml.scriptrun\", \"training_percent\": \"100\", \"start_time\": \"2021-11-03T10:56:41.389732Z\", \"end_time\": \"2021-11-03T10:57:18.425003Z\", \"created_time\": \"2021-11-03T10:56:35.896647Z\", \"created_time_dt\": \"2021-11-03T10:56:35.896647Z\", \"duration\": \"0:00:42\", \"iteration\": \"11\", \"goal\": \"accuracy_max\", \"run_name\": \"StandardScalerWrapper, XGBoostClassifier\", \"run_properties\": \"\\n    copy=True,\\n    with_mean=False,\\n    with_std=False\\n\", \"primary_metric\": 0.60741494, \"best_metric\": 0.63288007}, {\"run_id\": \"AutoML_33386fa7-d00f-44bb-a03c-b1933e789deb_12\", \"run_number\": 17, \"metric\": null, \"status\": \"Completed\", \"run_type\": \"azureml.scriptrun\", \"training_percent\": \"100\", \"start_time\": \"2021-11-03T10:57:25.824328Z\", \"end_time\": \"2021-11-03T10:59:50.180978Z\", \"created_time\": \"2021-11-03T10:57:20.650877Z\", \"created_time_dt\": \"2021-11-03T10:57:20.650877Z\", \"duration\": \"0:02:29\", \"iteration\": \"12\", \"goal\": \"accuracy_max\", \"run_name\": \"MaxAbsScaler, LogisticRegression\", \"run_properties\": \"copy=True\", \"primary_metric\": 0.63287883, \"best_metric\": 0.63288007}, {\"run_id\": \"AutoML_33386fa7-d00f-44bb-a03c-b1933e789deb_13\", \"run_number\": 18, \"metric\": null, \"status\": \"Completed\", \"run_type\": \"azureml.scriptrun\", \"training_percent\": \"100\", \"start_time\": \"2021-11-03T10:57:37.848153Z\", \"end_time\": \"2021-11-03T10:58:15.831521Z\", \"created_time\": \"2021-11-03T10:57:32.451896Z\", \"created_time_dt\": \"2021-11-03T10:57:32.451896Z\", \"duration\": \"0:00:43\", \"iteration\": \"13\", \"goal\": \"accuracy_max\", \"run_name\": \"MaxAbsScaler, SGD\", \"run_properties\": \"copy=True\", \"primary_metric\": 0.63554867, \"best_metric\": 0.63554867}, {\"run_id\": \"AutoML_33386fa7-d00f-44bb-a03c-b1933e789deb_14\", \"run_number\": 19, \"metric\": null, \"status\": \"Completed\", \"run_type\": \"azureml.scriptrun\", \"training_percent\": \"100\", \"start_time\": \"2021-11-03T10:58:22.335544Z\", \"end_time\": \"2021-11-03T11:00:45.933535Z\", \"created_time\": \"2021-11-03T10:58:17.766807Z\", \"created_time_dt\": \"2021-11-03T10:58:17.766807Z\", \"duration\": \"0:02:28\", \"iteration\": \"14\", \"goal\": \"accuracy_max\", \"run_name\": \"StandardScalerWrapper, XGBoostClassifier\", \"run_properties\": \"\\n    copy=True,\\n    with_mean=False,\\n    with_std=False\\n\", \"primary_metric\": 0.59238534, \"best_metric\": 0.63554867}, {\"run_id\": \"AutoML_33386fa7-d00f-44bb-a03c-b1933e789deb_15\", \"run_number\": 20, \"metric\": null, \"status\": \"Completed\", \"run_type\": \"azureml.scriptrun\", \"training_percent\": \"100\", \"start_time\": \"2021-11-03T11:00:01.074405Z\", \"end_time\": \"2021-11-03T11:00:39.153285Z\", \"created_time\": \"2021-11-03T10:59:52.5861Z\", \"created_time_dt\": \"2021-11-03T10:59:52.5861Z\", \"duration\": \"0:00:46\", \"iteration\": \"15\", \"goal\": \"accuracy_max\", \"run_name\": \"SparseNormalizer, RandomForest\", \"run_properties\": \"copy=True, norm='l2'\", \"primary_metric\": 0.61639134, \"best_metric\": 0.63554867}, {\"run_id\": \"AutoML_33386fa7-d00f-44bb-a03c-b1933e789deb_16\", \"run_number\": 21, \"metric\": null, \"status\": \"Completed\", \"run_type\": \"azureml.scriptrun\", \"training_percent\": \"100\", \"start_time\": \"2021-11-03T11:00:46.694805Z\", \"end_time\": \"2021-11-03T11:01:23.078124Z\", \"created_time\": \"2021-11-03T11:00:41.420966Z\", \"created_time_dt\": \"2021-11-03T11:00:41.420966Z\", \"duration\": \"0:00:41\", \"iteration\": \"16\", \"goal\": \"accuracy_max\", \"run_name\": \"StandardScalerWrapper, LogisticRegression\", \"run_properties\": \"\\n    copy=True,\\n    with_mean=False,\\n    with_std=False\\n\", \"primary_metric\": 0.63094014, \"best_metric\": 0.63554867}, {\"run_id\": \"AutoML_33386fa7-d00f-44bb-a03c-b1933e789deb_17\", \"run_number\": 22, \"metric\": null, \"status\": \"Completed\", \"run_type\": \"azureml.scriptrun\", \"training_percent\": \"100\", \"start_time\": \"2021-11-03T11:00:54.667183Z\", \"end_time\": \"2021-11-03T11:01:31.220049Z\", \"created_time\": \"2021-11-03T11:00:48.18245Z\", \"created_time_dt\": \"2021-11-03T11:00:48.18245Z\", \"duration\": \"0:00:43\", \"iteration\": \"17\", \"goal\": \"accuracy_max\", \"run_name\": \"StandardScalerWrapper, RandomForest\", \"run_properties\": \"\\n    copy=True,\\n    with_mean=False,\\n    with_std=False\\n\", \"primary_metric\": 0.61711526, \"best_metric\": 0.63554867}, {\"run_id\": \"AutoML_33386fa7-d00f-44bb-a03c-b1933e789deb_18\", \"run_number\": 23, \"metric\": null, \"status\": \"Completed\", \"run_type\": \"azureml.scriptrun\", \"training_percent\": \"100\", \"start_time\": \"2021-11-03T11:01:31.25716Z\", \"end_time\": \"2021-11-03T11:02:08.053089Z\", \"created_time\": \"2021-11-03T11:01:25.317384Z\", \"created_time_dt\": \"2021-11-03T11:01:25.317384Z\", \"duration\": \"0:00:42\", \"iteration\": \"18\", \"goal\": \"accuracy_max\", \"run_name\": \"StandardScalerWrapper, XGBoostClassifier\", \"run_properties\": \"\\n    copy=True,\\n    with_mean=False,\\n    with_std=False\\n\", \"primary_metric\": 0.61784482, \"best_metric\": 0.63554867}, {\"run_id\": \"AutoML_33386fa7-d00f-44bb-a03c-b1933e789deb_19\", \"run_number\": 24, \"metric\": null, \"status\": \"Completed\", \"run_type\": \"azureml.scriptrun\", \"training_percent\": \"100\", \"start_time\": \"2021-11-03T11:01:39.280576Z\", \"end_time\": \"2021-11-03T11:02:27.89871Z\", \"created_time\": \"2021-11-03T11:01:33.762984Z\", \"created_time_dt\": \"2021-11-03T11:01:33.762984Z\", \"duration\": \"0:00:54\", \"iteration\": \"19\", \"goal\": \"accuracy_max\", \"run_name\": \"TruncatedSVDWrapper, RandomForest\", \"run_properties\": \"n_components=0.8015789473684211, random_state=None\", \"primary_metric\": 0.60766001, \"best_metric\": 0.63554867}, {\"run_id\": \"AutoML_33386fa7-d00f-44bb-a03c-b1933e789deb_20\", \"run_number\": 25, \"metric\": null, \"status\": \"Completed\", \"run_type\": \"azureml.scriptrun\", \"training_percent\": \"100\", \"start_time\": \"2021-11-03T11:02:15.733008Z\", \"end_time\": \"2021-11-03T11:03:03.295596Z\", \"created_time\": \"2021-11-03T11:02:10.079705Z\", \"created_time_dt\": \"2021-11-03T11:02:10.079705Z\", \"duration\": \"0:00:53\", \"iteration\": \"20\", \"goal\": \"accuracy_max\", \"run_name\": \"TruncatedSVDWrapper, RandomForest\", \"run_properties\": \"n_components=0.7026315789473684, random_state=None\", \"primary_metric\": 0.62948278, \"best_metric\": 0.63554867}, {\"run_id\": \"AutoML_33386fa7-d00f-44bb-a03c-b1933e789deb_21\", \"run_number\": 26, \"metric\": null, \"status\": \"Completed\", \"run_type\": \"azureml.scriptrun\", \"training_percent\": \"100\", \"start_time\": \"2021-11-03T11:02:34.667008Z\", \"end_time\": \"2021-11-03T11:03:11.20807Z\", \"created_time\": \"2021-11-03T11:02:30.215954Z\", \"created_time_dt\": \"2021-11-03T11:02:30.215954Z\", \"duration\": \"0:00:40\", \"iteration\": \"21\", \"goal\": \"accuracy_max\", \"run_name\": \"StandardScalerWrapper, XGBoostClassifier\", \"run_properties\": \"\\n    copy=True,\\n    with_mean=False,\\n    with_std=False\\n\", \"primary_metric\": 0.62196886, \"best_metric\": 0.63554867}, {\"run_id\": \"AutoML_33386fa7-d00f-44bb-a03c-b1933e789deb_22\", \"run_number\": 27, \"metric\": null, \"status\": \"Completed\", \"run_type\": \"azureml.scriptrun\", \"training_percent\": \"100\", \"start_time\": \"2021-11-03T11:03:12.922939Z\", \"end_time\": \"2021-11-03T11:03:52.768504Z\", \"created_time\": \"2021-11-03T11:03:05.441911Z\", \"created_time_dt\": \"2021-11-03T11:03:05.441911Z\", \"duration\": \"0:00:47\", \"iteration\": \"22\", \"goal\": \"accuracy_max\", \"run_name\": \"SparseNormalizer, XGBoostClassifier\", \"run_properties\": \"copy=True, norm='l1'\", \"primary_metric\": 0.61712143, \"best_metric\": 0.63554867}, {\"run_id\": \"AutoML_33386fa7-d00f-44bb-a03c-b1933e789deb_23\", \"run_number\": 28, \"metric\": null, \"status\": \"Completed\", \"run_type\": \"azureml.scriptrun\", \"training_percent\": \"100\", \"start_time\": \"2021-11-03T11:03:17.195205Z\", \"end_time\": \"2021-11-03T11:03:57.300484Z\", \"created_time\": \"2021-11-03T11:03:13.007696Z\", \"created_time_dt\": \"2021-11-03T11:03:13.007696Z\", \"duration\": \"0:00:44\", \"iteration\": \"23\", \"goal\": \"accuracy_max\", \"run_name\": \"MaxAbsScaler, GradientBoosting\", \"run_properties\": \"copy=True\", \"primary_metric\": 0.54728155, \"best_metric\": 0.63554867}, {\"run_id\": \"AutoML_33386fa7-d00f-44bb-a03c-b1933e789deb_24\", \"run_number\": 29, \"metric\": null, \"status\": \"Completed\", \"run_type\": \"azureml.scriptrun\", \"training_percent\": \"100\", \"start_time\": \"2021-11-03T11:03:59.518694Z\", \"end_time\": \"2021-11-03T11:06:24.536668Z\", \"created_time\": \"2021-11-03T11:03:54.74912Z\", \"created_time_dt\": \"2021-11-03T11:03:54.74912Z\", \"duration\": \"0:02:29\", \"iteration\": \"24\", \"goal\": \"accuracy_max\", \"run_name\": \"SparseNormalizer, LogisticRegression\", \"run_properties\": \"copy=True, norm='l2'\", \"primary_metric\": 0.62706294, \"best_metric\": 0.63554867}, {\"run_id\": \"AutoML_33386fa7-d00f-44bb-a03c-b1933e789deb_25\", \"run_number\": 30, \"metric\": null, \"status\": \"Completed\", \"run_type\": \"azureml.scriptrun\", \"training_percent\": \"100\", \"start_time\": \"2021-11-03T11:04:05.913885Z\", \"end_time\": \"2021-11-03T11:06:28.618768Z\", \"created_time\": \"2021-11-03T11:04:00.299967Z\", \"created_time_dt\": \"2021-11-03T11:04:00.299967Z\", \"duration\": \"0:02:28\", \"iteration\": \"25\", \"goal\": \"accuracy_max\", \"run_name\": \"MaxAbsScaler, SGD\", \"run_properties\": \"copy=True\", \"primary_metric\": 0.50679247, \"best_metric\": 0.63554867}, {\"run_id\": \"AutoML_33386fa7-d00f-44bb-a03c-b1933e789deb_26\", \"run_number\": 31, \"metric\": null, \"status\": \"Completed\", \"run_type\": \"azureml.scriptrun\", \"training_percent\": \"100\", \"start_time\": \"2021-11-03T11:06:33.047913Z\", \"end_time\": \"2021-11-03T11:07:12.279084Z\", \"created_time\": \"2021-11-03T11:06:26.37756Z\", \"created_time_dt\": \"2021-11-03T11:06:26.37756Z\", \"duration\": \"0:00:45\", \"iteration\": \"26\", \"goal\": \"accuracy_max\", \"run_name\": \"StandardScalerWrapper, LightGBM\", \"run_properties\": \"\\n    copy=True,\\n    with_mean=False,\\n    with_std=False\\n\", \"primary_metric\": 0.54897781, \"best_metric\": 0.63554867}, {\"run_id\": \"AutoML_33386fa7-d00f-44bb-a03c-b1933e789deb_27\", \"run_number\": 32, \"metric\": null, \"status\": \"Completed\", \"run_type\": \"azureml.scriptrun\", \"training_percent\": \"100\", \"start_time\": \"2021-11-03T11:06:35.949708Z\", \"end_time\": \"2021-11-03T11:07:14.982353Z\", \"created_time\": \"2021-11-03T11:06:30.424695Z\", \"created_time_dt\": \"2021-11-03T11:06:30.424695Z\", \"duration\": \"0:00:44\", \"iteration\": \"27\", \"goal\": \"accuracy_max\", \"run_name\": \"SparseNormalizer, XGBoostClassifier\", \"run_properties\": \"copy=True, norm='l1'\", \"primary_metric\": 0.6231831, \"best_metric\": 0.63554867}, {\"run_id\": \"AutoML_33386fa7-d00f-44bb-a03c-b1933e789deb_28\", \"run_number\": 33, \"metric\": null, \"status\": \"Completed\", \"run_type\": \"azureml.scriptrun\", \"training_percent\": \"100\", \"start_time\": \"2021-11-03T11:07:23.603191Z\", \"end_time\": \"2021-11-03T11:07:59.641996Z\", \"created_time\": \"2021-11-03T11:07:14.209682Z\", \"created_time_dt\": \"2021-11-03T11:07:14.209682Z\", \"duration\": \"0:00:45\", \"iteration\": \"28\", \"goal\": \"accuracy_max\", \"run_name\": \"SparseNormalizer, XGBoostClassifier\", \"run_properties\": \"copy=True, norm='l1'\", \"primary_metric\": 0.61202946, \"best_metric\": 0.63554867}, {\"run_id\": \"AutoML_33386fa7-d00f-44bb-a03c-b1933e789deb_29\", \"run_number\": 34, \"metric\": null, \"status\": \"Completed\", \"run_type\": \"azureml.scriptrun\", \"training_percent\": \"100\", \"start_time\": \"2021-11-03T11:07:22.609592Z\", \"end_time\": \"2021-11-03T11:08:01.499933Z\", \"created_time\": \"2021-11-03T11:07:17.080131Z\", \"created_time_dt\": \"2021-11-03T11:07:17.080131Z\", \"duration\": \"0:00:44\", \"iteration\": \"29\", \"goal\": \"accuracy_max\", \"run_name\": \"SparseNormalizer, LightGBM\", \"run_properties\": \"copy=True, norm='l1'\", \"primary_metric\": 0.61493414, \"best_metric\": 0.63554867}, {\"run_id\": \"AutoML_33386fa7-d00f-44bb-a03c-b1933e789deb_30\", \"run_number\": 35, \"metric\": null, \"status\": \"Completed\", \"run_type\": \"azureml.scriptrun\", \"training_percent\": \"100\", \"start_time\": \"2021-11-03T11:08:07.786576Z\", \"end_time\": \"2021-11-03T11:08:45.28329Z\", \"created_time\": \"2021-11-03T11:08:03.102405Z\", \"created_time_dt\": \"2021-11-03T11:08:03.102405Z\", \"duration\": \"0:00:42\", \"iteration\": \"30\", \"goal\": \"accuracy_max\", \"run_name\": \"MaxAbsScaler, SGD\", \"run_properties\": \"copy=True\", \"primary_metric\": 0.49976216, \"best_metric\": 0.63554867}, {\"run_id\": \"AutoML_33386fa7-d00f-44bb-a03c-b1933e789deb_31\", \"run_number\": 36, \"metric\": null, \"status\": \"Canceled\", \"run_type\": \"azureml.scriptrun\", \"training_percent\": \"100\", \"start_time\": \"2021-11-03T11:08:10.821017Z\", \"end_time\": \"2021-11-03T11:08:46.359348Z\", \"created_time\": \"2021-11-03T11:08:06.151171Z\", \"created_time_dt\": \"2021-11-03T11:08:06.151171Z\", \"duration\": \"0:00:40\", \"iteration\": \"31\", \"goal\": \"accuracy_max\", \"run_name\": \"MaxAbsScaler, ExtremeRandomTrees\", \"run_properties\": \"copy=True\", \"primary_metric\": 0.55552627, \"best_metric\": 0.63554867}, {\"run_id\": \"AutoML_33386fa7-d00f-44bb-a03c-b1933e789deb_32\", \"run_number\": 37, \"metric\": null, \"status\": \"Completed\", \"run_type\": \"azureml.scriptrun\", \"training_percent\": \"100\", \"start_time\": \"2021-11-03T11:08:52.181772Z\", \"end_time\": \"2021-11-03T11:09:43.715948Z\", \"created_time\": \"2021-11-03T11:08:47.234304Z\", \"created_time_dt\": \"2021-11-03T11:08:47.234304Z\", \"duration\": \"0:00:56\", \"iteration\": \"32\", \"goal\": \"accuracy_max\", \"run_name\": \"VotingEnsemble\", \"run_properties\": \"\\n    estimators=[('13', Pipeline(\\n        memory=None,\\n        steps=[('maxabsscaler', MaxAbsScaler(\\n            copy=True\\n        \", \"primary_metric\": 0.64282334, \"best_metric\": 0.64282334}, {\"run_id\": \"AutoML_33386fa7-d00f-44bb-a03c-b1933e789deb_33\", \"run_number\": 38, \"metric\": null, \"status\": \"Completed\", \"run_type\": \"azureml.scriptrun\", \"training_percent\": \"100\", \"start_time\": \"2021-11-03T11:08:52.24598Z\", \"end_time\": \"2021-11-03T11:09:48.079646Z\", \"created_time\": \"2021-11-03T11:08:47.256346Z\", \"created_time_dt\": \"2021-11-03T11:08:47.256346Z\", \"duration\": \"0:01:00\", \"iteration\": \"33\", \"goal\": \"accuracy_max\", \"run_name\": \"StackEnsemble\", \"run_properties\": \"\\n    base_learners=[('13', Pipeline(\\n        memory=None,\\n        steps=[('maxabsscaler', MaxAbsScaler(\\n            copy=True\\n        \", \"primary_metric\": 0.63797256, \"best_metric\": 0.64282334}], \"children_metrics\": {\"categories\": [0], \"series\": {\"precision_score_macro\": [{\"categories\": [\"0\", \"1\", \"2\", \"3\", \"4\", \"5\", \"6\", \"7\", \"8\", \"9\", \"10\", \"11\", \"12\", \"13\", \"14\", \"15\", \"16\", \"17\", \"18\", \"19\", \"20\", \"21\", \"22\", \"23\", \"24\", \"25\", \"26\", \"27\", \"28\", \"29\", \"30\", \"31\", \"32\", \"33\"], \"mode\": \"markers\", \"name\": \"precision_score_macro\", \"stepped\": false, \"type\": \"scatter\", \"data\": [0.6233086061533962, 0.6230772033047612, 0.6193441502503082, 0.6208610951364438, 0.6108888961128439, 0.6102250711253173, 0.6061479885002389, 0.6341118264288014, 0.6224431731289796, 0.6077935111111404, 0.5976008335703612, 0.6145716645469019, 0.6340926943939937, 0.6358766967627352, 0.5968831730304812, 0.6167409460115483, 0.6322822945800106, 0.6186524899346272, 0.6205099069624134, 0.6084455180898032, 0.6303538990550231, 0.6257052061073859, 0.6198381724196141, 0.5497106515025477, 0.6281294336157045, 0.25339623307308895, 0.551558810101569, 0.6241511942497026, 0.6156241255915768, 0.615590716667646, 0.24988108155793745, 0.5615672406725107, 0.6436547673501388, 0.6401950228859087]}, {\"categories\": [\"0\", \"1\", \"2\", \"3\", \"4\", \"5\", \"6\", \"7\", \"8\", \"9\", \"10\", \"11\", \"12\", \"13\", \"14\", \"15\", \"16\", \"17\", \"18\", \"19\", \"20\", \"21\", \"22\", \"23\", \"24\", \"25\", \"26\", \"27\", \"28\", \"29\", \"30\", \"31\", \"32\", \"33\"], \"mode\": \"lines\", \"name\": \"precision_score_macro_max\", \"stepped\": true, \"type\": \"scatter\", \"data\": [0.6233086061533962, 0.6233086061533962, 0.6233086061533962, 0.6233086061533962, 0.6233086061533962, 0.6233086061533962, 0.6233086061533962, 0.6341118264288014, 0.6341118264288014, 0.6341118264288014, 0.6341118264288014, 0.6341118264288014, 0.6341118264288014, 0.6358766967627352, 0.6358766967627352, 0.6358766967627352, 0.6358766967627352, 0.6358766967627352, 0.6358766967627352, 0.6358766967627352, 0.6358766967627352, 0.6358766967627352, 0.6358766967627352, 0.6358766967627352, 0.6358766967627352, 0.6358766967627352, 0.6358766967627352, 0.6358766967627352, 0.6358766967627352, 0.6358766967627352, 0.6358766967627352, 0.6358766967627352, 0.6436547673501388, 0.6436547673501388]}], \"AUC_micro\": [{\"categories\": [\"0\", \"1\", \"2\", \"3\", \"4\", \"5\", \"6\", \"7\", \"8\", \"9\", \"10\", \"11\", \"12\", \"13\", \"14\", \"15\", \"16\", \"17\", \"18\", \"19\", \"20\", \"21\", \"22\", \"23\", \"24\", \"25\", \"26\", \"27\", \"28\", \"29\", \"30\", \"31\", \"32\", \"33\"], \"mode\": \"markers\", \"name\": \"AUC_micro\", \"stepped\": false, \"type\": \"scatter\", \"data\": [0.6666611961811214, 0.6759061843982178, 0.6664874874707972, 0.664496022950473, 0.6674409701520586, 0.6605857497179902, 0.6600472440684825, 0.6835366662800207, 0.671509527762875, 0.6553490477143503, 0.6349434064665976, 0.6576031014998668, 0.6814105675658403, 0.6842742484035421, 0.6465779646890591, 0.6568492238326317, 0.6743122781787502, 0.6686640531731705, 0.6697217546747524, 0.6540788890284951, 0.68212636034186, 0.6737017702264811, 0.6632632857691249, 0.560287884276753, 0.6618183679037098, 0.5, 0.569236067046683, 0.6692458490823395, 0.6578019021174099, 0.6669515887985522, 0.4997621631158749, 0.5666459218169573, 0.6881833752785287, 0.6876779588332093]}, {\"categories\": [\"0\", \"1\", \"2\", \"3\", \"4\", \"5\", \"6\", \"7\", \"8\", \"9\", \"10\", \"11\", \"12\", \"13\", \"14\", \"15\", \"16\", \"17\", \"18\", \"19\", \"20\", \"21\", \"22\", \"23\", \"24\", \"25\", \"26\", \"27\", \"28\", \"29\", \"30\", \"31\", \"32\", \"33\"], \"mode\": \"lines\", \"name\": \"AUC_micro_max\", \"stepped\": true, \"type\": \"scatter\", \"data\": [0.6666611961811214, 0.6759061843982178, 0.6759061843982178, 0.6759061843982178, 0.6759061843982178, 0.6759061843982178, 0.6759061843982178, 0.6835366662800207, 0.6835366662800207, 0.6835366662800207, 0.6835366662800207, 0.6835366662800207, 0.6835366662800207, 0.6842742484035421, 0.6842742484035421, 0.6842742484035421, 0.6842742484035421, 0.6842742484035421, 0.6842742484035421, 0.6842742484035421, 0.6842742484035421, 0.6842742484035421, 0.6842742484035421, 0.6842742484035421, 0.6842742484035421, 0.6842742484035421, 0.6842742484035421, 0.6842742484035421, 0.6842742484035421, 0.6842742484035421, 0.6842742484035421, 0.6842742484035421, 0.6881833752785287, 0.6881833752785287]}], \"f1_score_macro\": [{\"categories\": [\"0\", \"1\", \"2\", \"3\", \"4\", \"5\", \"6\", \"7\", \"8\", \"9\", \"10\", \"11\", \"12\", \"13\", \"14\", \"15\", \"16\", \"17\", \"18\", \"19\", \"20\", \"21\", \"22\", \"23\", \"24\", \"25\", \"26\", \"27\", \"28\", \"29\", \"30\", \"31\", \"32\", \"33\"], \"mode\": \"markers\", \"name\": \"f1_score_macro\", \"stepped\": false, \"type\": \"scatter\", \"data\": [0.6222704123480375, 0.6185511299262464, 0.6176846148300094, 0.6127100192941096, 0.604586135737001, 0.5989040241477874, 0.601458623500616, 0.6326887417974857, 0.6192307413071494, 0.5998491239921623, 0.5838205544718496, 0.6017313066158368, 0.63267442438417, 0.6352488608560899, 0.590023877046833, 0.616381000646835, 0.6307740912064307, 0.6168537954383143, 0.6167537922787263, 0.6075861615064796, 0.6294331948997852, 0.6199552527557642, 0.6161100154073482, 0.5417761978145618, 0.6264776279770176, 0.336298163496042, 0.5440092234513085, 0.6221683597356034, 0.6095064898879927, 0.6146715287166384, 0.33317342993100435, 0.5377498710876489, 0.6426721067013871, 0.6374413611611746]}, {\"categories\": [\"0\", \"1\", \"2\", \"3\", \"4\", \"5\", \"6\", \"7\", \"8\", \"9\", \"10\", \"11\", \"12\", \"13\", \"14\", \"15\", \"16\", \"17\", \"18\", \"19\", \"20\", \"21\", \"22\", \"23\", \"24\", \"25\", \"26\", \"27\", \"28\", \"29\", \"30\", \"31\", \"32\", \"33\"], \"mode\": \"lines\", \"name\": \"f1_score_macro_max\", \"stepped\": true, \"type\": \"scatter\", \"data\": [0.6222704123480375, 0.6222704123480375, 0.6222704123480375, 0.6222704123480375, 0.6222704123480375, 0.6222704123480375, 0.6222704123480375, 0.6326887417974857, 0.6326887417974857, 0.6326887417974857, 0.6326887417974857, 0.6326887417974857, 0.6326887417974857, 0.6352488608560899, 0.6352488608560899, 0.6352488608560899, 0.6352488608560899, 0.6352488608560899, 0.6352488608560899, 0.6352488608560899, 0.6352488608560899, 0.6352488608560899, 0.6352488608560899, 0.6352488608560899, 0.6352488608560899, 0.6352488608560899, 0.6352488608560899, 0.6352488608560899, 0.6352488608560899, 0.6352488608560899, 0.6352488608560899, 0.6352488608560899, 0.6426721067013871, 0.6426721067013871]}], \"AUC_weighted\": [{\"categories\": [\"0\", \"1\", \"2\", \"3\", \"4\", \"5\", \"6\", \"7\", \"8\", \"9\", \"10\", \"11\", \"12\", \"13\", \"14\", \"15\", \"16\", \"17\", \"18\", \"19\", \"20\", \"21\", \"22\", \"23\", \"24\", \"25\", \"26\", \"27\", \"28\", \"29\", \"30\", \"31\", \"32\", \"33\"], \"mode\": \"markers\", \"name\": \"AUC_weighted\", \"stepped\": false, \"type\": \"scatter\", \"data\": [0.6676662105718223, 0.6783335235856391, 0.6670472250258713, 0.6676198479061485, 0.6706852197883747, 0.6649461728945589, 0.6622472144950601, 0.6846372156255972, 0.6733780070905354, 0.6583482189108473, 0.6348255604535197, 0.657110662765037, 0.6822649391923284, 0.6847218966489033, 0.6507720842217273, 0.6567698720425538, 0.6750423089526233, 0.6705202104380227, 0.6721984171316059, 0.6544802183690726, 0.6832654225755732, 0.6756059910780053, 0.664668449436722, 0.5567489467980716, 0.6626902417703109, 0.5, 0.5695222782623024, 0.669761064199025, 0.6582806498444813, 0.6680646911040471, 0.5, 0.5585238266832032, 0.6892712241887421, 0.6911312180395118]}, {\"categories\": [\"0\", \"1\", \"2\", \"3\", \"4\", \"5\", \"6\", \"7\", \"8\", \"9\", \"10\", \"11\", \"12\", \"13\", \"14\", \"15\", \"16\", \"17\", \"18\", \"19\", \"20\", \"21\", \"22\", \"23\", \"24\", \"25\", \"26\", \"27\", \"28\", \"29\", \"30\", \"31\", \"32\", \"33\"], \"mode\": \"lines\", \"name\": \"AUC_weighted_max\", \"stepped\": true, \"type\": \"scatter\", \"data\": [0.6676662105718223, 0.6783335235856391, 0.6783335235856391, 0.6783335235856391, 0.6783335235856391, 0.6783335235856391, 0.6783335235856391, 0.6846372156255972, 0.6846372156255972, 0.6846372156255972, 0.6846372156255972, 0.6846372156255972, 0.6846372156255972, 0.6847218966489033, 0.6847218966489033, 0.6847218966489033, 0.6847218966489033, 0.6847218966489033, 0.6847218966489033, 0.6847218966489033, 0.6847218966489033, 0.6847218966489033, 0.6847218966489033, 0.6847218966489033, 0.6847218966489033, 0.6847218966489033, 0.6847218966489033, 0.6847218966489033, 0.6847218966489033, 0.6847218966489033, 0.6847218966489033, 0.6847218966489033, 0.6892712241887421, 0.6911312180395118]}], \"precision_score_weighted\": [{\"categories\": [\"0\", \"1\", \"2\", \"3\", \"4\", \"5\", \"6\", \"7\", \"8\", \"9\", \"10\", \"11\", \"12\", \"13\", \"14\", \"15\", \"16\", \"17\", \"18\", \"19\", \"20\", \"21\", \"22\", \"23\", \"24\", \"25\", \"26\", \"27\", \"28\", \"29\", \"30\", \"31\", \"32\", \"33\"], \"mode\": \"markers\", \"name\": \"precision_score_weighted\", \"stepped\": false, \"type\": \"scatter\", \"data\": [0.623795120022948, 0.6237103716851363, 0.6198413878583146, 0.6210556603105822, 0.611583431741111, 0.6109067224271384, 0.6065767701822458, 0.6346622094258315, 0.6229477903323913, 0.6083576155118761, 0.5979108782205124, 0.6149153177543165, 0.6346338074189664, 0.6362391619881395, 0.5975672562577012, 0.6171754498656582, 0.6328545760787767, 0.6192185561716442, 0.6210882924867923, 0.6089234781494965, 0.6308704946709723, 0.6262632295715527, 0.6204666632096182, 0.5501155242557062, 0.6285546582305268, 0.25697644134775227, 0.5519916159429702, 0.6244643888172727, 0.61608849506356, 0.6160236678148998, 0.24994613831744925, 0.5617511406482317, 0.6441477795350437, 0.6408218576999302]}, {\"categories\": [\"0\", \"1\", \"2\", \"3\", \"4\", \"5\", \"6\", \"7\", \"8\", \"9\", \"10\", \"11\", \"12\", \"13\", \"14\", \"15\", \"16\", \"17\", \"18\", \"19\", \"20\", \"21\", \"22\", \"23\", \"24\", \"25\", \"26\", \"27\", \"28\", \"29\", \"30\", \"31\", \"32\", \"33\"], \"mode\": \"lines\", \"name\": \"precision_score_weighted_max\", \"stepped\": true, \"type\": \"scatter\", \"data\": [0.623795120022948, 0.623795120022948, 0.623795120022948, 0.623795120022948, 0.623795120022948, 0.623795120022948, 0.623795120022948, 0.6346622094258315, 0.6346622094258315, 0.6346622094258315, 0.6346622094258315, 0.6346622094258315, 0.6346622094258315, 0.6362391619881395, 0.6362391619881395, 0.6362391619881395, 0.6362391619881395, 0.6362391619881395, 0.6362391619881395, 0.6362391619881395, 0.6362391619881395, 0.6362391619881395, 0.6362391619881395, 0.6362391619881395, 0.6362391619881395, 0.6362391619881395, 0.6362391619881395, 0.6362391619881395, 0.6362391619881395, 0.6362391619881395, 0.6362391619881395, 0.6362391619881395, 0.6441477795350437, 0.6441477795350437]}], \"f1_score_weighted\": [{\"categories\": [\"0\", \"1\", \"2\", \"3\", \"4\", \"5\", \"6\", \"7\", \"8\", \"9\", \"10\", \"11\", \"12\", \"13\", \"14\", \"15\", \"16\", \"17\", \"18\", \"19\", \"20\", \"21\", \"22\", \"23\", \"24\", \"25\", \"26\", \"27\", \"28\", \"29\", \"30\", \"31\", \"32\", \"33\"], \"mode\": \"markers\", \"name\": \"f1_score_weighted\", \"stepped\": false, \"type\": \"scatter\", \"data\": [0.6222385812956147, 0.6183106047471294, 0.6176418631714408, 0.6131544119167872, 0.6041771780661301, 0.5985958193230182, 0.601541753582125, 0.6325831881056065, 0.6191901640300498, 0.5997180083070379, 0.5841141209278876, 0.6019429086535438, 0.6325777432084209, 0.6353920729587611, 0.5895089675425484, 0.6164111812695338, 0.6306370703438838, 0.6166683642004217, 0.6165782537074175, 0.607505987124493, 0.6293476576357607, 0.6198163256495448, 0.6158231489385403, 0.5421883180628448, 0.6265335760746514, 0.3409886053002717, 0.5443219165203358, 0.6223895033803392, 0.6094530710817258, 0.6147105858995664, 0.3331774663697411, 0.5390541534759548, 0.6426560753543181, 0.6372552189900901]}, {\"categories\": [\"0\", \"1\", \"2\", \"3\", \"4\", \"5\", \"6\", \"7\", \"8\", \"9\", \"10\", \"11\", \"12\", \"13\", \"14\", \"15\", \"16\", \"17\", \"18\", \"19\", \"20\", \"21\", \"22\", \"23\", \"24\", \"25\", \"26\", \"27\", \"28\", \"29\", \"30\", \"31\", \"32\", \"33\"], \"mode\": \"lines\", \"name\": \"f1_score_weighted_max\", \"stepped\": true, \"type\": \"scatter\", \"data\": [0.6222385812956147, 0.6222385812956147, 0.6222385812956147, 0.6222385812956147, 0.6222385812956147, 0.6222385812956147, 0.6222385812956147, 0.6325831881056065, 0.6325831881056065, 0.6325831881056065, 0.6325831881056065, 0.6325831881056065, 0.6325831881056065, 0.6353920729587611, 0.6353920729587611, 0.6353920729587611, 0.6353920729587611, 0.6353920729587611, 0.6353920729587611, 0.6353920729587611, 0.6353920729587611, 0.6353920729587611, 0.6353920729587611, 0.6353920729587611, 0.6353920729587611, 0.6353920729587611, 0.6353920729587611, 0.6353920729587611, 0.6353920729587611, 0.6353920729587611, 0.6353920729587611, 0.6353920729587611, 0.6426560753543181, 0.6426560753543181]}], \"average_precision_score_weighted\": [{\"categories\": [\"0\", \"1\", \"2\", \"3\", \"4\", \"5\", \"6\", \"7\", \"8\", \"9\", \"10\", \"11\", \"12\", \"13\", \"14\", \"15\", \"16\", \"17\", \"18\", \"19\", \"20\", \"21\", \"22\", \"23\", \"24\", \"25\", \"26\", \"27\", \"28\", \"29\", \"30\", \"31\", \"32\", \"33\"], \"mode\": \"markers\", \"name\": \"average_precision_score_weighted\", \"stepped\": false, \"type\": \"scatter\", \"data\": [0.6547056216503081, 0.6672438038852248, 0.655301602702707, 0.6562633503605656, 0.6576084038370638, 0.6477931058159299, 0.6497248491688826, 0.6671928215465445, 0.6604139703971655, 0.6459017729008992, 0.6218716656725557, 0.6393620464880372, 0.6624477229498343, 0.666582968628084, 0.6417959937995673, 0.6469520666260741, 0.6609534007613304, 0.6630184924513469, 0.6636287566294974, 0.64396784909081, 0.6735786628030995, 0.6655327138593818, 0.6527707525595611, 0.5513980910162358, 0.6417065985941678, 0.5003679504031487, 0.5646202635658001, 0.6604342880922468, 0.6429124118016362, 0.6569718853528826, 0.5003679504031487, 0.5501363392769684, 0.6732535843982445, 0.6778408290328347]}, {\"categories\": [\"0\", \"1\", \"2\", \"3\", \"4\", \"5\", \"6\", \"7\", \"8\", \"9\", \"10\", \"11\", \"12\", \"13\", \"14\", \"15\", \"16\", \"17\", \"18\", \"19\", \"20\", \"21\", \"22\", \"23\", \"24\", \"25\", \"26\", \"27\", \"28\", \"29\", \"30\", \"31\", \"32\", \"33\"], \"mode\": \"lines\", \"name\": \"average_precision_score_weighted_max\", \"stepped\": true, \"type\": \"scatter\", \"data\": [0.6547056216503081, 0.6672438038852248, 0.6672438038852248, 0.6672438038852248, 0.6672438038852248, 0.6672438038852248, 0.6672438038852248, 0.6672438038852248, 0.6672438038852248, 0.6672438038852248, 0.6672438038852248, 0.6672438038852248, 0.6672438038852248, 0.6672438038852248, 0.6672438038852248, 0.6672438038852248, 0.6672438038852248, 0.6672438038852248, 0.6672438038852248, 0.6672438038852248, 0.6735786628030995, 0.6735786628030995, 0.6735786628030995, 0.6735786628030995, 0.6735786628030995, 0.6735786628030995, 0.6735786628030995, 0.6735786628030995, 0.6735786628030995, 0.6735786628030995, 0.6735786628030995, 0.6735786628030995, 0.6735786628030995, 0.6778408290328347]}], \"average_precision_score_micro\": [{\"categories\": [\"0\", \"1\", \"2\", \"3\", \"4\", \"5\", \"6\", \"7\", \"8\", \"9\", \"10\", \"11\", \"12\", \"13\", \"14\", \"15\", \"16\", \"17\", \"18\", \"19\", \"20\", \"21\", \"22\", \"23\", \"24\", \"25\", \"26\", \"27\", \"28\", \"29\", \"30\", \"31\", \"32\", \"33\"], \"mode\": \"markers\", \"name\": \"average_precision_score_micro\", \"stepped\": false, \"type\": \"scatter\", \"data\": [0.6539796730375297, 0.6646739775254953, 0.6550018964687889, 0.6534835010557419, 0.6562190496124692, 0.6479905431497669, 0.6473884438043219, 0.6655795111819759, 0.6588823705840327, 0.6438703505974387, 0.6249826790765026, 0.6420664274143911, 0.6606778619530005, 0.6659714505501856, 0.6386504122253276, 0.6476969030493902, 0.6597052775251852, 0.6605247266340472, 0.6603035285161474, 0.644078448951281, 0.6720286130539755, 0.663215134903782, 0.6510153966211699, 0.5533899996580598, 0.6381276999000288, 0.5, 0.5607402448093788, 0.658820842671282, 0.6447509855195437, 0.6556682343359291, 0.5000650567595119, 0.558871625682489, 0.6725437870333254, 0.6752963428659515]}, {\"categories\": [\"0\", \"1\", \"2\", \"3\", \"4\", \"5\", \"6\", \"7\", \"8\", \"9\", \"10\", \"11\", \"12\", \"13\", \"14\", \"15\", \"16\", \"17\", \"18\", \"19\", \"20\", \"21\", \"22\", \"23\", \"24\", \"25\", \"26\", \"27\", \"28\", \"29\", \"30\", \"31\", \"32\", \"33\"], \"mode\": \"lines\", \"name\": \"average_precision_score_micro_max\", \"stepped\": true, \"type\": \"scatter\", \"data\": [0.6539796730375297, 0.6646739775254953, 0.6646739775254953, 0.6646739775254953, 0.6646739775254953, 0.6646739775254953, 0.6646739775254953, 0.6655795111819759, 0.6655795111819759, 0.6655795111819759, 0.6655795111819759, 0.6655795111819759, 0.6655795111819759, 0.6659714505501856, 0.6659714505501856, 0.6659714505501856, 0.6659714505501856, 0.6659714505501856, 0.6659714505501856, 0.6659714505501856, 0.6720286130539755, 0.6720286130539755, 0.6720286130539755, 0.6720286130539755, 0.6720286130539755, 0.6720286130539755, 0.6720286130539755, 0.6720286130539755, 0.6720286130539755, 0.6720286130539755, 0.6720286130539755, 0.6720286130539755, 0.6725437870333254, 0.6752963428659515]}], \"AUC_macro\": [{\"categories\": [\"0\", \"1\", \"2\", \"3\", \"4\", \"5\", \"6\", \"7\", \"8\", \"9\", \"10\", \"11\", \"12\", \"13\", \"14\", \"15\", \"16\", \"17\", \"18\", \"19\", \"20\", \"21\", \"22\", \"23\", \"24\", \"25\", \"26\", \"27\", \"28\", \"29\", \"30\", \"31\", \"32\", \"33\"], \"mode\": \"markers\", \"name\": \"AUC_macro\", \"stepped\": false, \"type\": \"scatter\", \"data\": [0.6676662105718223, 0.6783335235856391, 0.6670472250258713, 0.6676198479061485, 0.6706852197883747, 0.664946172894559, 0.6622472144950602, 0.6846372156255972, 0.6733780070905354, 0.6583482189108473, 0.6348255604535197, 0.657110662765037, 0.6822649391923284, 0.6847218966489033, 0.6507720842217273, 0.6567698720425538, 0.6750423089526233, 0.6705202104380227, 0.6721984171316059, 0.6544802183690726, 0.6832654225755732, 0.6756059985183297, 0.664668449436722, 0.5567489467980716, 0.6626902417703109, 0.5, 0.5695222782623023, 0.6697610641990251, 0.6582806498444813, 0.6680646911040471, 0.5, 0.5585238266832032, 0.6892712241887423, 0.6911312180395118]}, {\"categories\": [\"0\", \"1\", \"2\", \"3\", \"4\", \"5\", \"6\", \"7\", \"8\", \"9\", \"10\", \"11\", \"12\", \"13\", \"14\", \"15\", \"16\", \"17\", \"18\", \"19\", \"20\", \"21\", \"22\", \"23\", \"24\", \"25\", \"26\", \"27\", \"28\", \"29\", \"30\", \"31\", \"32\", \"33\"], \"mode\": \"lines\", \"name\": \"AUC_macro_max\", \"stepped\": true, \"type\": \"scatter\", \"data\": [0.6676662105718223, 0.6783335235856391, 0.6783335235856391, 0.6783335235856391, 0.6783335235856391, 0.6783335235856391, 0.6783335235856391, 0.6846372156255972, 0.6846372156255972, 0.6846372156255972, 0.6846372156255972, 0.6846372156255972, 0.6846372156255972, 0.6847218966489033, 0.6847218966489033, 0.6847218966489033, 0.6847218966489033, 0.6847218966489033, 0.6847218966489033, 0.6847218966489033, 0.6847218966489033, 0.6847218966489033, 0.6847218966489033, 0.6847218966489033, 0.6847218966489033, 0.6847218966489033, 0.6847218966489033, 0.6847218966489033, 0.6847218966489033, 0.6847218966489033, 0.6847218966489033, 0.6847218966489033, 0.6892712241887423, 0.6911312180395118]}], \"balanced_accuracy\": [{\"categories\": [\"0\", \"1\", \"2\", \"3\", \"4\", \"5\", \"6\", \"7\", \"8\", \"9\", \"10\", \"11\", \"12\", \"13\", \"14\", \"15\", \"16\", \"17\", \"18\", \"19\", \"20\", \"21\", \"22\", \"23\", \"24\", \"25\", \"26\", \"27\", \"28\", \"29\", \"30\", \"31\", \"32\", \"33\"], \"mode\": \"markers\", \"name\": \"balanced_accuracy\", \"stepped\": false, \"type\": \"scatter\", \"data\": [0.623003729366474, 0.6208837126934784, 0.6186682887995045, 0.6161768549395125, 0.60793480770312, 0.6042806153530976, 0.6037885104559481, 0.6336396264336311, 0.6208452899206648, 0.6035918596848889, 0.5909142862413111, 0.6073288767244073, 0.633611381307075, 0.6356241954254715, 0.5940691861313581, 0.6167655983079027, 0.6317844993352743, 0.618049324175815, 0.6187621308065039, 0.6082974451415435, 0.630169504963314, 0.6227784015939134, 0.6183142254356364, 0.5468345539704457, 0.6273724785591276, 0.5, 0.5487540313780498, 0.6230508402414852, 0.6125831403061631, 0.6152879493498732, 0.5, 0.553205656265542, 0.64334751403661, 0.6389655981554639]}, {\"categories\": [\"0\", \"1\", \"2\", \"3\", \"4\", \"5\", \"6\", \"7\", \"8\", \"9\", \"10\", \"11\", \"12\", \"13\", \"14\", \"15\", \"16\", \"17\", \"18\", \"19\", \"20\", \"21\", \"22\", \"23\", \"24\", \"25\", \"26\", \"27\", \"28\", \"29\", \"30\", \"31\", \"32\", \"33\"], \"mode\": \"lines\", \"name\": \"balanced_accuracy_max\", \"stepped\": true, \"type\": \"scatter\", \"data\": [0.623003729366474, 0.623003729366474, 0.623003729366474, 0.623003729366474, 0.623003729366474, 0.623003729366474, 0.623003729366474, 0.6336396264336311, 0.6336396264336311, 0.6336396264336311, 0.6336396264336311, 0.6336396264336311, 0.6336396264336311, 0.6356241954254715, 0.6356241954254715, 0.6356241954254715, 0.6356241954254715, 0.6356241954254715, 0.6356241954254715, 0.6356241954254715, 0.6356241954254715, 0.6356241954254715, 0.6356241954254715, 0.6356241954254715, 0.6356241954254715, 0.6356241954254715, 0.6356241954254715, 0.6356241954254715, 0.6356241954254715, 0.6356241954254715, 0.6356241954254715, 0.6356241954254715, 0.64334751403661, 0.64334751403661]}], \"accuracy\": [{\"categories\": [\"0\", \"1\", \"2\", \"3\", \"4\", \"5\", \"6\", \"7\", \"8\", \"9\", \"10\", \"11\", \"12\", \"13\", \"14\", \"15\", \"16\", \"17\", \"18\", \"19\", \"20\", \"21\", \"22\", \"23\", \"24\", \"25\", \"26\", \"27\", \"28\", \"29\", \"30\", \"31\", \"32\", \"33\"], \"mode\": \"markers\", \"name\": \"accuracy\", \"stepped\": false, \"type\": \"scatter\", \"data\": [0.6224545895637599, 0.61978439415994, 0.6180886595209739, 0.6168775969299986, 0.6064475320894535, 0.6030520047637952, 0.6035386176172203, 0.6328800670460059, 0.6202694190816462, 0.6028065810947907, 0.5911742755061532, 0.6074149353800009, 0.6328788319880023, 0.6355486745181068, 0.5923853380971286, 0.6163913369502889, 0.630940143796039, 0.6171152573772661, 0.6178448237836884, 0.60766000617529, 0.629482775351771, 0.6219688588946232, 0.6171214326672841, 0.5472815491156102, 0.6270629438489701, 0.5067924661461779, 0.5489778130651494, 0.6231830973490362, 0.6120294649552291, 0.6149341449428786, 0.4997621631158749, 0.5555262670371841, 0.6428233425962684, 0.6379725640686339]}, {\"categories\": [\"0\", \"1\", \"2\", \"3\", \"4\", \"5\", \"6\", \"7\", \"8\", \"9\", \"10\", \"11\", \"12\", \"13\", \"14\", \"15\", \"16\", \"17\", \"18\", \"19\", \"20\", \"21\", \"22\", \"23\", \"24\", \"25\", \"26\", \"27\", \"28\", \"29\", \"30\", \"31\", \"32\", \"33\"], \"mode\": \"lines\", \"name\": \"accuracy_max\", \"stepped\": true, \"type\": \"scatter\", \"data\": [0.6224545895637599, 0.6224545895637599, 0.6224545895637599, 0.6224545895637599, 0.6224545895637599, 0.6224545895637599, 0.6224545895637599, 0.6328800670460059, 0.6328800670460059, 0.6328800670460059, 0.6328800670460059, 0.6328800670460059, 0.6328800670460059, 0.6355486745181068, 0.6355486745181068, 0.6355486745181068, 0.6355486745181068, 0.6355486745181068, 0.6355486745181068, 0.6355486745181068, 0.6355486745181068, 0.6355486745181068, 0.6355486745181068, 0.6355486745181068, 0.6355486745181068, 0.6355486745181068, 0.6355486745181068, 0.6355486745181068, 0.6355486745181068, 0.6355486745181068, 0.6355486745181068, 0.6355486745181068, 0.6428233425962684, 0.6428233425962684]}], \"recall_score_macro\": [{\"categories\": [\"0\", \"1\", \"2\", \"3\", \"4\", \"5\", \"6\", \"7\", \"8\", \"9\", \"10\", \"11\", \"12\", \"13\", \"14\", \"15\", \"16\", \"17\", \"18\", \"19\", \"20\", \"21\", \"22\", \"23\", \"24\", \"25\", \"26\", \"27\", \"28\", \"29\", \"30\", \"31\", \"32\", \"33\"], \"mode\": \"markers\", \"name\": \"recall_score_macro\", \"stepped\": false, \"type\": \"scatter\", \"data\": [0.623003729366474, 0.6208837126934784, 0.6186682887995045, 0.6161768549395125, 0.60793480770312, 0.6042806153530976, 0.6037885104559481, 0.6336396264336311, 0.6208452899206648, 0.6035918596848889, 0.5909142862413111, 0.6073288767244073, 0.633611381307075, 0.6356241954254715, 0.5940691861313581, 0.6167655983079027, 0.6317844993352743, 0.618049324175815, 0.6187621308065039, 0.6082974451415435, 0.630169504963314, 0.6227784015939134, 0.6183142254356364, 0.5468345539704457, 0.6273724785591276, 0.5, 0.5487540313780498, 0.6230508402414852, 0.6125831403061631, 0.6152879493498732, 0.5, 0.553205656265542, 0.64334751403661, 0.6389655981554639]}, {\"categories\": [\"0\", \"1\", \"2\", \"3\", \"4\", \"5\", \"6\", \"7\", \"8\", \"9\", \"10\", \"11\", \"12\", \"13\", \"14\", \"15\", \"16\", \"17\", \"18\", \"19\", \"20\", \"21\", \"22\", \"23\", \"24\", \"25\", \"26\", \"27\", \"28\", \"29\", \"30\", \"31\", \"32\", \"33\"], \"mode\": \"lines\", \"name\": \"recall_score_macro_max\", \"stepped\": true, \"type\": \"scatter\", \"data\": [0.623003729366474, 0.623003729366474, 0.623003729366474, 0.623003729366474, 0.623003729366474, 0.623003729366474, 0.623003729366474, 0.6336396264336311, 0.6336396264336311, 0.6336396264336311, 0.6336396264336311, 0.6336396264336311, 0.6336396264336311, 0.6356241954254715, 0.6356241954254715, 0.6356241954254715, 0.6356241954254715, 0.6356241954254715, 0.6356241954254715, 0.6356241954254715, 0.6356241954254715, 0.6356241954254715, 0.6356241954254715, 0.6356241954254715, 0.6356241954254715, 0.6356241954254715, 0.6356241954254715, 0.6356241954254715, 0.6356241954254715, 0.6356241954254715, 0.6356241954254715, 0.6356241954254715, 0.64334751403661, 0.64334751403661]}], \"log_loss\": [{\"categories\": [\"0\", \"1\", \"2\", \"3\", \"4\", \"5\", \"6\", \"7\", \"8\", \"9\", \"10\", \"11\", \"12\", \"13\", \"14\", \"15\", \"16\", \"17\", \"18\", \"19\", \"20\", \"21\", \"22\", \"23\", \"24\", \"25\", \"26\", \"27\", \"28\", \"29\", \"30\", \"31\", \"32\", \"33\"], \"mode\": \"markers\", \"name\": \"log_loss\", \"stepped\": false, \"type\": \"scatter\", \"data\": [0.6775594495119539, 0.6442037651506046, 0.6576149983109106, 0.6588409725997019, 0.6491602779234805, 0.6686028344774054, 0.6594135151847126, 0.6514137569895032, 0.6532483522088773, 0.6674799269072968, 0.6646629913121291, 0.6638830890129656, 0.6642856422301526, 0.7356098879217975, 0.6619626764470471, 0.658136286031119, 0.6529650453776864, 0.6479151800663518, 0.6467080540242736, 0.6687299332059528, 0.6505667834003764, 0.6465668847209569, 0.6547923741801349, 0.6886368549181022, 0.6639396394190809, 0.6931471805599454, 0.6855930957358769, 0.6491697995295423, 0.660413494294905, 0.6495069667945786, 0.6931471002574575, 0.6887919906558406, 0.6380409069089269, 0.6371711399873354]}, {\"categories\": [\"0\", \"1\", \"2\", \"3\", \"4\", \"5\", \"6\", \"7\", \"8\", \"9\", \"10\", \"11\", \"12\", \"13\", \"14\", \"15\", \"16\", \"17\", \"18\", \"19\", \"20\", \"21\", \"22\", \"23\", \"24\", \"25\", \"26\", \"27\", \"28\", \"29\", \"30\", \"31\", \"32\", \"33\"], \"mode\": \"lines\", \"name\": \"log_loss_min\", \"stepped\": true, \"type\": \"scatter\", \"data\": [0.6775594495119539, 0.6442037651506046, 0.6442037651506046, 0.6442037651506046, 0.6442037651506046, 0.6442037651506046, 0.6442037651506046, 0.6442037651506046, 0.6442037651506046, 0.6442037651506046, 0.6442037651506046, 0.6442037651506046, 0.6442037651506046, 0.6442037651506046, 0.6442037651506046, 0.6442037651506046, 0.6442037651506046, 0.6442037651506046, 0.6442037651506046, 0.6442037651506046, 0.6442037651506046, 0.6442037651506046, 0.6442037651506046, 0.6442037651506046, 0.6442037651506046, 0.6442037651506046, 0.6442037651506046, 0.6442037651506046, 0.6442037651506046, 0.6442037651506046, 0.6442037651506046, 0.6442037651506046, 0.6380409069089269, 0.6371711399873354]}], \"f1_score_micro\": [{\"categories\": [\"0\", \"1\", \"2\", \"3\", \"4\", \"5\", \"6\", \"7\", \"8\", \"9\", \"10\", \"11\", \"12\", \"13\", \"14\", \"15\", \"16\", \"17\", \"18\", \"19\", \"20\", \"21\", \"22\", \"23\", \"24\", \"25\", \"26\", \"27\", \"28\", \"29\", \"30\", \"31\", \"32\", \"33\"], \"mode\": \"markers\", \"name\": \"f1_score_micro\", \"stepped\": false, \"type\": \"scatter\", \"data\": [0.6224545895637599, 0.61978439415994, 0.6180886595209739, 0.6168775969299986, 0.6064475320894535, 0.6030520047637952, 0.6035386176172203, 0.6328800670460059, 0.6202694190816462, 0.6028065810947907, 0.5911742755061532, 0.6074149353800009, 0.6328788319880023, 0.6355486745181068, 0.5923853380971286, 0.6163913369502889, 0.630940143796039, 0.6171152573772661, 0.6178448237836884, 0.60766000617529, 0.629482775351771, 0.6219688588946232, 0.6171214326672841, 0.5472815491156102, 0.6270629438489701, 0.5067924661461779, 0.5489778130651494, 0.6231830973490362, 0.6120294649552291, 0.6149341449428786, 0.4997621631158749, 0.5555262670371841, 0.6428233425962684, 0.6379725640686339]}, {\"categories\": [\"0\", \"1\", \"2\", \"3\", \"4\", \"5\", \"6\", \"7\", \"8\", \"9\", \"10\", \"11\", \"12\", \"13\", \"14\", \"15\", \"16\", \"17\", \"18\", \"19\", \"20\", \"21\", \"22\", \"23\", \"24\", \"25\", \"26\", \"27\", \"28\", \"29\", \"30\", \"31\", \"32\", \"33\"], \"mode\": \"lines\", \"name\": \"f1_score_micro_max\", \"stepped\": true, \"type\": \"scatter\", \"data\": [0.6224545895637599, 0.6224545895637599, 0.6224545895637599, 0.6224545895637599, 0.6224545895637599, 0.6224545895637599, 0.6224545895637599, 0.6328800670460059, 0.6328800670460059, 0.6328800670460059, 0.6328800670460059, 0.6328800670460059, 0.6328800670460059, 0.6355486745181068, 0.6355486745181068, 0.6355486745181068, 0.6355486745181068, 0.6355486745181068, 0.6355486745181068, 0.6355486745181068, 0.6355486745181068, 0.6355486745181068, 0.6355486745181068, 0.6355486745181068, 0.6355486745181068, 0.6355486745181068, 0.6355486745181068, 0.6355486745181068, 0.6355486745181068, 0.6355486745181068, 0.6355486745181068, 0.6355486745181068, 0.6428233425962684, 0.6428233425962684]}], \"precision_score_micro\": [{\"categories\": [\"0\", \"1\", \"2\", \"3\", \"4\", \"5\", \"6\", \"7\", \"8\", \"9\", \"10\", \"11\", \"12\", \"13\", \"14\", \"15\", \"16\", \"17\", \"18\", \"19\", \"20\", \"21\", \"22\", \"23\", \"24\", \"25\", \"26\", \"27\", \"28\", \"29\", \"30\", \"31\", \"32\", \"33\"], \"mode\": \"markers\", \"name\": \"precision_score_micro\", \"stepped\": false, \"type\": \"scatter\", \"data\": [0.6224545895637599, 0.61978439415994, 0.6180886595209739, 0.6168775969299986, 0.6064475320894535, 0.6030520047637952, 0.6035386176172203, 0.6328800670460059, 0.6202694190816462, 0.6028065810947907, 0.5911742755061532, 0.6074149353800009, 0.6328788319880023, 0.6355486745181068, 0.5923853380971286, 0.6163913369502889, 0.630940143796039, 0.6171152573772661, 0.6178448237836884, 0.60766000617529, 0.629482775351771, 0.6219688588946232, 0.6171214326672841, 0.5472815491156102, 0.6270629438489701, 0.5067924661461779, 0.5489778130651494, 0.6231830973490362, 0.6120294649552291, 0.6149341449428786, 0.4997621631158749, 0.5555262670371841, 0.6428233425962684, 0.6379725640686339]}, {\"categories\": [\"0\", \"1\", \"2\", \"3\", \"4\", \"5\", \"6\", \"7\", \"8\", \"9\", \"10\", \"11\", \"12\", \"13\", \"14\", \"15\", \"16\", \"17\", \"18\", \"19\", \"20\", \"21\", \"22\", \"23\", \"24\", \"25\", \"26\", \"27\", \"28\", \"29\", \"30\", \"31\", \"32\", \"33\"], \"mode\": \"lines\", \"name\": \"precision_score_micro_max\", \"stepped\": true, \"type\": \"scatter\", \"data\": [0.6224545895637599, 0.6224545895637599, 0.6224545895637599, 0.6224545895637599, 0.6224545895637599, 0.6224545895637599, 0.6224545895637599, 0.6328800670460059, 0.6328800670460059, 0.6328800670460059, 0.6328800670460059, 0.6328800670460059, 0.6328800670460059, 0.6355486745181068, 0.6355486745181068, 0.6355486745181068, 0.6355486745181068, 0.6355486745181068, 0.6355486745181068, 0.6355486745181068, 0.6355486745181068, 0.6355486745181068, 0.6355486745181068, 0.6355486745181068, 0.6355486745181068, 0.6355486745181068, 0.6355486745181068, 0.6355486745181068, 0.6355486745181068, 0.6355486745181068, 0.6355486745181068, 0.6355486745181068, 0.6428233425962684, 0.6428233425962684]}], \"recall_score_weighted\": [{\"categories\": [\"0\", \"1\", \"2\", \"3\", \"4\", \"5\", \"6\", \"7\", \"8\", \"9\", \"10\", \"11\", \"12\", \"13\", \"14\", \"15\", \"16\", \"17\", \"18\", \"19\", \"20\", \"21\", \"22\", \"23\", \"24\", \"25\", \"26\", \"27\", \"28\", \"29\", \"30\", \"31\", \"32\", \"33\"], \"mode\": \"markers\", \"name\": \"recall_score_weighted\", \"stepped\": false, \"type\": \"scatter\", \"data\": [0.6224545895637599, 0.61978439415994, 0.6180886595209739, 0.6168775969299986, 0.6064475320894535, 0.6030520047637952, 0.6035386176172203, 0.6328800670460059, 0.6202694190816462, 0.6028065810947907, 0.5911742755061532, 0.6074149353800009, 0.6328788319880023, 0.6355486745181068, 0.5923853380971286, 0.6163913369502889, 0.630940143796039, 0.6171152573772661, 0.6178448237836884, 0.60766000617529, 0.629482775351771, 0.6219688588946232, 0.6171214326672841, 0.5472815491156102, 0.6270629438489701, 0.5067924661461779, 0.5489778130651494, 0.6231830973490362, 0.6120294649552291, 0.6149341449428786, 0.4997621631158749, 0.5555262670371841, 0.6428233425962683, 0.6379725640686339]}, {\"categories\": [\"0\", \"1\", \"2\", \"3\", \"4\", \"5\", \"6\", \"7\", \"8\", \"9\", \"10\", \"11\", \"12\", \"13\", \"14\", \"15\", \"16\", \"17\", \"18\", \"19\", \"20\", \"21\", \"22\", \"23\", \"24\", \"25\", \"26\", \"27\", \"28\", \"29\", \"30\", \"31\", \"32\", \"33\"], \"mode\": \"lines\", \"name\": \"recall_score_weighted_max\", \"stepped\": true, \"type\": \"scatter\", \"data\": [0.6224545895637599, 0.6224545895637599, 0.6224545895637599, 0.6224545895637599, 0.6224545895637599, 0.6224545895637599, 0.6224545895637599, 0.6328800670460059, 0.6328800670460059, 0.6328800670460059, 0.6328800670460059, 0.6328800670460059, 0.6328800670460059, 0.6355486745181068, 0.6355486745181068, 0.6355486745181068, 0.6355486745181068, 0.6355486745181068, 0.6355486745181068, 0.6355486745181068, 0.6355486745181068, 0.6355486745181068, 0.6355486745181068, 0.6355486745181068, 0.6355486745181068, 0.6355486745181068, 0.6355486745181068, 0.6355486745181068, 0.6355486745181068, 0.6355486745181068, 0.6355486745181068, 0.6355486745181068, 0.6428233425962683, 0.6428233425962683]}], \"average_precision_score_macro\": [{\"categories\": [\"0\", \"1\", \"2\", \"3\", \"4\", \"5\", \"6\", \"7\", \"8\", \"9\", \"10\", \"11\", \"12\", \"13\", \"14\", \"15\", \"16\", \"17\", \"18\", \"19\", \"20\", \"21\", \"22\", \"23\", \"24\", \"25\", \"26\", \"27\", \"28\", \"29\", \"30\", \"31\", \"32\", \"33\"], \"mode\": \"markers\", \"name\": \"average_precision_score_macro\", \"stepped\": false, \"type\": \"scatter\", \"data\": [0.6544460595920244, 0.6670160040455512, 0.6548195546563809, 0.6559522496270727, 0.6572997170153775, 0.6474321668992453, 0.6494254139285462, 0.6669403628434457, 0.6599261335850157, 0.6455304911667242, 0.6215526182814807, 0.6390544789124878, 0.6621608328447847, 0.6663027627553214, 0.641416876345862, 0.6464252196406349, 0.6605068745760413, 0.6627282682605545, 0.6633186833416743, 0.6435033017979058, 0.6733441886951782, 0.6652141305990285, 0.6523806484997645, 0.5511477520683548, 0.6412529719426557, 0.5, 0.5643169557335477, 0.6600399750406276, 0.642425162616793, 0.6567013349893899, 0.5, 0.5499500217215509, 0.6730069785784106, 0.6776163364844742]}, {\"categories\": [\"0\", \"1\", \"2\", \"3\", \"4\", \"5\", \"6\", \"7\", \"8\", \"9\", \"10\", \"11\", \"12\", \"13\", \"14\", \"15\", \"16\", \"17\", \"18\", \"19\", \"20\", \"21\", \"22\", \"23\", \"24\", \"25\", \"26\", \"27\", \"28\", \"29\", \"30\", \"31\", \"32\", \"33\"], \"mode\": \"lines\", \"name\": \"average_precision_score_macro_max\", \"stepped\": true, \"type\": \"scatter\", \"data\": [0.6544460595920244, 0.6670160040455512, 0.6670160040455512, 0.6670160040455512, 0.6670160040455512, 0.6670160040455512, 0.6670160040455512, 0.6670160040455512, 0.6670160040455512, 0.6670160040455512, 0.6670160040455512, 0.6670160040455512, 0.6670160040455512, 0.6670160040455512, 0.6670160040455512, 0.6670160040455512, 0.6670160040455512, 0.6670160040455512, 0.6670160040455512, 0.6670160040455512, 0.6733441886951782, 0.6733441886951782, 0.6733441886951782, 0.6733441886951782, 0.6733441886951782, 0.6733441886951782, 0.6733441886951782, 0.6733441886951782, 0.6733441886951782, 0.6733441886951782, 0.6733441886951782, 0.6733441886951782, 0.6733441886951782, 0.6776163364844742]}], \"norm_macro_recall\": [{\"categories\": [\"0\", \"1\", \"2\", \"3\", \"4\", \"5\", \"6\", \"7\", \"8\", \"9\", \"10\", \"11\", \"12\", \"13\", \"14\", \"15\", \"16\", \"17\", \"18\", \"19\", \"20\", \"21\", \"22\", \"23\", \"24\", \"25\", \"26\", \"27\", \"28\", \"29\", \"30\", \"31\", \"32\", \"33\"], \"mode\": \"markers\", \"name\": \"norm_macro_recall\", \"stepped\": false, \"type\": \"scatter\", \"data\": [0.24600745873294802, 0.24176742538695692, 0.23733657759900906, 0.23235370987902493, 0.21586961540624014, 0.20856123070619512, 0.20757702091189612, 0.26727925286726234, 0.24169057984132944, 0.20718371936977795, 0.1818285724826222, 0.21465775344881463, 0.26722276261414996, 0.2712483908509431, 0.18813837226271604, 0.23353119661580535, 0.26356899867054845, 0.23609864835163, 0.23752426161300777, 0.21659489028308707, 0.26033900992662806, 0.24555680318782666, 0.23662845087127282, 0.09366910794089127, 0.25474495711825523, 0.0, 0.09750806275609958, 0.24610168048297032, 0.22516628061232616, 0.23057589869974615, 0.0, 0.106411312531084, 0.2866950280732199, 0.2779311963109279]}, {\"categories\": [\"0\", \"1\", \"2\", \"3\", \"4\", \"5\", \"6\", \"7\", \"8\", \"9\", \"10\", \"11\", \"12\", \"13\", \"14\", \"15\", \"16\", \"17\", \"18\", \"19\", \"20\", \"21\", \"22\", \"23\", \"24\", \"25\", \"26\", \"27\", \"28\", \"29\", \"30\", \"31\", \"32\", \"33\"], \"mode\": \"lines\", \"name\": \"norm_macro_recall_max\", \"stepped\": true, \"type\": \"scatter\", \"data\": [0.24600745873294802, 0.24600745873294802, 0.24600745873294802, 0.24600745873294802, 0.24600745873294802, 0.24600745873294802, 0.24600745873294802, 0.26727925286726234, 0.26727925286726234, 0.26727925286726234, 0.26727925286726234, 0.26727925286726234, 0.26727925286726234, 0.2712483908509431, 0.2712483908509431, 0.2712483908509431, 0.2712483908509431, 0.2712483908509431, 0.2712483908509431, 0.2712483908509431, 0.2712483908509431, 0.2712483908509431, 0.2712483908509431, 0.2712483908509431, 0.2712483908509431, 0.2712483908509431, 0.2712483908509431, 0.2712483908509431, 0.2712483908509431, 0.2712483908509431, 0.2712483908509431, 0.2712483908509431, 0.2866950280732199, 0.2866950280732199]}], \"weighted_accuracy\": [{\"categories\": [\"0\", \"1\", \"2\", \"3\", \"4\", \"5\", \"6\", \"7\", \"8\", \"9\", \"10\", \"11\", \"12\", \"13\", \"14\", \"15\", \"16\", \"17\", \"18\", \"19\", \"20\", \"21\", \"22\", \"23\", \"24\", \"25\", \"26\", \"27\", \"28\", \"29\", \"30\", \"31\", \"32\", \"33\"], \"mode\": \"markers\", \"name\": \"weighted_accuracy\", \"stepped\": false, \"type\": \"scatter\", \"data\": [0.621906445051312, 0.6186863148016079, 0.6175096710619095, 0.6175760251722319, 0.604962451556835, 0.6018239203493899, 0.603288775143885, 0.6321220378455444, 0.6196941403845715, 0.6020219140443913, 0.5914302295061113, 0.6075006433162484, 0.6321477648492956, 0.6354727015492204, 0.5907043709704659, 0.616017794454266, 0.6300974107584011, 0.6161829658748034, 0.6169285462691964, 0.6070240066522953, 0.6287975464922851, 0.6211598209221633, 0.615930163445261, 0.5477262809129563, 0.6267533876745324, 0.513565766335478, 0.5491992330963411, 0.6233141728326465, 0.611474863752053, 0.6145808486939724, 0.49951141202335547, 0.5578389861663466, 0.6422998926308451, 0.636981177196365]}, {\"categories\": [\"0\", \"1\", \"2\", \"3\", \"4\", \"5\", \"6\", \"7\", \"8\", \"9\", \"10\", \"11\", \"12\", \"13\", \"14\", \"15\", \"16\", \"17\", \"18\", \"19\", \"20\", \"21\", \"22\", \"23\", \"24\", \"25\", \"26\", \"27\", \"28\", \"29\", \"30\", \"31\", \"32\", \"33\"], \"mode\": \"lines\", \"name\": \"weighted_accuracy_max\", \"stepped\": true, \"type\": \"scatter\", \"data\": [0.621906445051312, 0.621906445051312, 0.621906445051312, 0.621906445051312, 0.621906445051312, 0.621906445051312, 0.621906445051312, 0.6321220378455444, 0.6321220378455444, 0.6321220378455444, 0.6321220378455444, 0.6321220378455444, 0.6321477648492956, 0.6354727015492204, 0.6354727015492204, 0.6354727015492204, 0.6354727015492204, 0.6354727015492204, 0.6354727015492204, 0.6354727015492204, 0.6354727015492204, 0.6354727015492204, 0.6354727015492204, 0.6354727015492204, 0.6354727015492204, 0.6354727015492204, 0.6354727015492204, 0.6354727015492204, 0.6354727015492204, 0.6354727015492204, 0.6354727015492204, 0.6354727015492204, 0.6422998926308451, 0.6422998926308451]}], \"recall_score_micro\": [{\"categories\": [\"0\", \"1\", \"2\", \"3\", \"4\", \"5\", \"6\", \"7\", \"8\", \"9\", \"10\", \"11\", \"12\", \"13\", \"14\", \"15\", \"16\", \"17\", \"18\", \"19\", \"20\", \"21\", \"22\", \"23\", \"24\", \"25\", \"26\", \"27\", \"28\", \"29\", \"30\", \"31\", \"32\", \"33\"], \"mode\": \"markers\", \"name\": \"recall_score_micro\", \"stepped\": false, \"type\": \"scatter\", \"data\": [0.6224545895637599, 0.61978439415994, 0.6180886595209739, 0.6168775969299986, 0.6064475320894535, 0.6030520047637952, 0.6035386176172203, 0.6328800670460059, 0.6202694190816462, 0.6028065810947907, 0.5911742755061532, 0.6074149353800009, 0.6328788319880023, 0.6355486745181068, 0.5923853380971286, 0.6163913369502889, 0.630940143796039, 0.6171152573772661, 0.6178448237836884, 0.60766000617529, 0.629482775351771, 0.6219688588946232, 0.6171214326672841, 0.5472815491156102, 0.6270629438489701, 0.5067924661461779, 0.5489778130651494, 0.6231830973490362, 0.6120294649552291, 0.6149341449428786, 0.4997621631158749, 0.5555262670371841, 0.6428233425962684, 0.6379725640686339]}, {\"categories\": [\"0\", \"1\", \"2\", \"3\", \"4\", \"5\", \"6\", \"7\", \"8\", \"9\", \"10\", \"11\", \"12\", \"13\", \"14\", \"15\", \"16\", \"17\", \"18\", \"19\", \"20\", \"21\", \"22\", \"23\", \"24\", \"25\", \"26\", \"27\", \"28\", \"29\", \"30\", \"31\", \"32\", \"33\"], \"mode\": \"lines\", \"name\": \"recall_score_micro_max\", \"stepped\": true, \"type\": \"scatter\", \"data\": [0.6224545895637599, 0.6224545895637599, 0.6224545895637599, 0.6224545895637599, 0.6224545895637599, 0.6224545895637599, 0.6224545895637599, 0.6328800670460059, 0.6328800670460059, 0.6328800670460059, 0.6328800670460059, 0.6328800670460059, 0.6328800670460059, 0.6355486745181068, 0.6355486745181068, 0.6355486745181068, 0.6355486745181068, 0.6355486745181068, 0.6355486745181068, 0.6355486745181068, 0.6355486745181068, 0.6355486745181068, 0.6355486745181068, 0.6355486745181068, 0.6355486745181068, 0.6355486745181068, 0.6355486745181068, 0.6355486745181068, 0.6355486745181068, 0.6355486745181068, 0.6355486745181068, 0.6355486745181068, 0.6428233425962684, 0.6428233425962684]}], \"matthews_correlation\": [{\"categories\": [\"0\", \"1\", \"2\", \"3\", \"4\", \"5\", \"6\", \"7\", \"8\", \"9\", \"10\", \"11\", \"12\", \"13\", \"14\", \"15\", \"16\", \"17\", \"18\", \"19\", \"20\", \"21\", \"22\", \"23\", \"24\", \"25\", \"26\", \"27\", \"28\", \"29\", \"30\", \"31\", \"32\", \"33\"], \"mode\": \"markers\", \"name\": \"matthews_correlation\", \"stepped\": false, \"type\": \"scatter\", \"data\": [0.2463117355999609, 0.2439366149082681, 0.23800940167748763, 0.23698113062604542, 0.2187779257594954, 0.21430601440148767, 0.20991140632300753, 0.2677506548017863, 0.24327405342758102, 0.21128594331386816, 0.18838561616249772, 0.22173847211071954, 0.2677032295371418, 0.27150064419328784, 0.1909065203815071, 0.23350653454700387, 0.2640660051351926, 0.23670048420425885, 0.23925349688850997, 0.21674286470695472, 0.2605232849700849, 0.24843031549006325, 0.2381419315649368, 0.09648396785480805, 0.25549821736052675, 0.0, 0.10024657256383378, 0.24719768164458067, 0.22817911923145404, 0.23087795524941723, 0.0, 0.11438891531065226, 0.2870015947838789, 0.27915413955032076]}, {\"categories\": [\"0\", \"1\", \"2\", \"3\", \"4\", \"5\", \"6\", \"7\", \"8\", \"9\", \"10\", \"11\", \"12\", \"13\", \"14\", \"15\", \"16\", \"17\", \"18\", \"19\", \"20\", \"21\", \"22\", \"23\", \"24\", \"25\", \"26\", \"27\", \"28\", \"29\", \"30\", \"31\", \"32\", \"33\"], \"mode\": \"lines\", \"name\": \"matthews_correlation_max\", \"stepped\": true, \"type\": \"scatter\", \"data\": [0.2463117355999609, 0.2463117355999609, 0.2463117355999609, 0.2463117355999609, 0.2463117355999609, 0.2463117355999609, 0.2463117355999609, 0.2677506548017863, 0.2677506548017863, 0.2677506548017863, 0.2677506548017863, 0.2677506548017863, 0.2677506548017863, 0.27150064419328784, 0.27150064419328784, 0.27150064419328784, 0.27150064419328784, 0.27150064419328784, 0.27150064419328784, 0.27150064419328784, 0.27150064419328784, 0.27150064419328784, 0.27150064419328784, 0.27150064419328784, 0.27150064419328784, 0.27150064419328784, 0.27150064419328784, 0.27150064419328784, 0.27150064419328784, 0.27150064419328784, 0.27150064419328784, 0.27150064419328784, 0.2870015947838789, 0.2870015947838789]}]}, \"metricName\": null, \"primaryMetricName\": \"accuracy\", \"showLegend\": false}, \"run_metrics\": [{\"name\": \"experiment_status\", \"run_id\": \"AutoML_33386fa7-d00f-44bb-a03c-b1933e789deb\", \"categories\": [0, 1, 2, 3, 4, 5, 6, 7, 8, 9, 10, 11, 12, 13], \"series\": [{\"data\": [\"DatasetEvaluation\", \"FeaturesGeneration\", \"DatasetFeaturization\", \"DatasetFeaturizationCompleted\", \"DatasetCrossValidationSplit\", \"ModelSelection\", \"BestRunExplainModel\", \"ModelExplanationDataSetSetup\", \"PickSurrogateModel\", \"EngineeredFeatureExplanations\", \"EngineeredFeatureExplanations\", \"RawFeaturesExplanations\", \"RawFeaturesExplanations\", \"BestRunExplainModel\"]}]}, {\"name\": \"experiment_status_description\", \"run_id\": \"AutoML_33386fa7-d00f-44bb-a03c-b1933e789deb\", \"categories\": [0, 1, 2, 3, 4, 5, 6, 7, 8, 9, 10, 11, 12, 13], \"series\": [{\"data\": [\"Gathering dataset statistics.\", \"Generating features for the dataset.\", \"Beginning to fit featurizers and featurize the dataset.\", \"Completed fit featurizers and featurizing the dataset.\", \"Generating individually featurized CV splits.\", \"Beginning model selection.\", \"Best run model explanations started\", \"Model explanations data setup completed\", \"Choosing LightGBM as the surrogate model for explanations\", \"Computation of engineered features started\", \"Computation of engineered features completed\", \"Computation of raw features started\", \"Computation of raw features completed\", \"Best run model explanations completed\"]}]}, {\"name\": \"AUC_micro\", \"run_id\": \"AutoML_33386fa7-d00f-44bb-a03c-b1933e789deb\", \"categories\": [0], \"series\": [{\"data\": [0.6881833752785287]}]}, {\"name\": \"f1_score_micro\", \"run_id\": \"AutoML_33386fa7-d00f-44bb-a03c-b1933e789deb\", \"categories\": [0], \"series\": [{\"data\": [0.6428233425962684]}]}, {\"name\": \"recall_score_micro\", \"run_id\": \"AutoML_33386fa7-d00f-44bb-a03c-b1933e789deb\", \"categories\": [0], \"series\": [{\"data\": [0.6428233425962684]}]}, {\"name\": \"precision_score_micro\", \"run_id\": \"AutoML_33386fa7-d00f-44bb-a03c-b1933e789deb\", \"categories\": [0], \"series\": [{\"data\": [0.6428233425962684]}]}, {\"name\": \"accuracy\", \"run_id\": \"AutoML_33386fa7-d00f-44bb-a03c-b1933e789deb\", \"categories\": [0], \"series\": [{\"data\": [0.6428233425962684]}]}, {\"name\": \"matthews_correlation\", \"run_id\": \"AutoML_33386fa7-d00f-44bb-a03c-b1933e789deb\", \"categories\": [0], \"series\": [{\"data\": [0.2870015947838789]}]}, {\"name\": \"recall_score_weighted\", \"run_id\": \"AutoML_33386fa7-d00f-44bb-a03c-b1933e789deb\", \"categories\": [0], \"series\": [{\"data\": [0.6428233425962683]}]}, {\"name\": \"average_precision_score_weighted\", \"run_id\": \"AutoML_33386fa7-d00f-44bb-a03c-b1933e789deb\", \"categories\": [0], \"series\": [{\"data\": [0.6732535843982445]}]}, {\"name\": \"weighted_accuracy\", \"run_id\": \"AutoML_33386fa7-d00f-44bb-a03c-b1933e789deb\", \"categories\": [0], \"series\": [{\"data\": [0.6422998926308451]}]}, {\"name\": \"f1_score_weighted\", \"run_id\": \"AutoML_33386fa7-d00f-44bb-a03c-b1933e789deb\", \"categories\": [0], \"series\": [{\"data\": [0.6426560753543181]}]}, {\"name\": \"average_precision_score_micro\", \"run_id\": \"AutoML_33386fa7-d00f-44bb-a03c-b1933e789deb\", \"categories\": [0], \"series\": [{\"data\": [0.6725437870333254]}]}, {\"name\": \"balanced_accuracy\", \"run_id\": \"AutoML_33386fa7-d00f-44bb-a03c-b1933e789deb\", \"categories\": [0], \"series\": [{\"data\": [0.64334751403661]}]}, {\"name\": \"average_precision_score_macro\", \"run_id\": \"AutoML_33386fa7-d00f-44bb-a03c-b1933e789deb\", \"categories\": [0], \"series\": [{\"data\": [0.6730069785784106]}]}, {\"name\": \"AUC_weighted\", \"run_id\": \"AutoML_33386fa7-d00f-44bb-a03c-b1933e789deb\", \"categories\": [0], \"series\": [{\"data\": [0.6892712241887421]}]}, {\"name\": \"AUC_macro\", \"run_id\": \"AutoML_33386fa7-d00f-44bb-a03c-b1933e789deb\", \"categories\": [0], \"series\": [{\"data\": [0.6892712241887423]}]}, {\"name\": \"norm_macro_recall\", \"run_id\": \"AutoML_33386fa7-d00f-44bb-a03c-b1933e789deb\", \"categories\": [0], \"series\": [{\"data\": [0.2866950280732199]}]}, {\"name\": \"log_loss\", \"run_id\": \"AutoML_33386fa7-d00f-44bb-a03c-b1933e789deb\", \"categories\": [0], \"series\": [{\"data\": [0.6380409069089269]}]}, {\"name\": \"recall_score_macro\", \"run_id\": \"AutoML_33386fa7-d00f-44bb-a03c-b1933e789deb\", \"categories\": [0], \"series\": [{\"data\": [0.64334751403661]}]}, {\"name\": \"precision_score_macro\", \"run_id\": \"AutoML_33386fa7-d00f-44bb-a03c-b1933e789deb\", \"categories\": [0], \"series\": [{\"data\": [0.6436547673501388]}]}, {\"name\": \"precision_score_weighted\", \"run_id\": \"AutoML_33386fa7-d00f-44bb-a03c-b1933e789deb\", \"categories\": [0], \"series\": [{\"data\": [0.6441477795350437]}]}, {\"name\": \"f1_score_macro\", \"run_id\": \"AutoML_33386fa7-d00f-44bb-a03c-b1933e789deb\", \"categories\": [0], \"series\": [{\"data\": [0.6426721067013871]}]}], \"run_logs\": \"\\nRun is completed.\", \"graph\": {}, \"widget_settings\": {\"childWidgetDisplay\": \"popup\", \"send_telemetry\": false, \"log_level\": \"INFO\", \"sdk_version\": \"1.34.0\"}, \"loading\": false}"
          },
          "metadata": {}
        }
      ],
      "execution_count": 7,
      "metadata": {
        "gather": {
          "logged": 1635937808838
        },
        "jupyter": {
          "outputs_hidden": false,
          "source_hidden": false
        },
        "nteract": {
          "transient": {
            "deleting": false
          }
        }
      }
    },
    {
      "cell_type": "markdown",
      "source": [
        "## Run Details\n",
        "\n",
        "OPTIONAL: Write about the different models trained and their performance. Why do you think some models did better than others?\n",
        "\n",
        "TODO: In the cell below, use the `RunDetails` widget to show the different experiments."
      ],
      "metadata": {}
    },
    {
      "cell_type": "markdown",
      "source": [
        "## Best Model\n",
        "\n",
        "TODO: In the cell below, get the best model from the automl experiments and display all the properties of the model.\n",
        "\n"
      ],
      "metadata": {}
    },
    {
      "cell_type": "code",
      "source": [
        "best_run, best_model = remote_run.get_output()\r\n",
        "\r\n",
        "best_model_metrics = best_run.get_metrics()\r\n"
      ],
      "outputs": [
        {
          "output_type": "stream",
          "name": "stderr",
          "text": "WARNING:root:The version of the SDK does not match the version the model was trained on.\nWARNING:root:The consistency in the result may not be guaranteed.\nWARNING:root:Package:azureml-automl-core, training version:1.35.1, current version:1.34.0\nPackage:azureml-automl-runtime, training version:1.35.1, current version:1.34.0\nPackage:azureml-core, training version:1.35.0.post1, current version:1.34.0\nPackage:azureml-dataprep, training version:2.23.2, current version:2.22.2\nPackage:azureml-dataprep-rslex, training version:1.21.2, current version:1.20.1\nPackage:azureml-dataset-runtime, training version:1.35.0, current version:1.34.0\nPackage:azureml-defaults, training version:1.35.0, current version:1.34.0\nPackage:azureml-interpret, training version:1.35.0, current version:1.34.0\nPackage:azureml-mlflow, training version:1.35.0, current version:1.34.0\nPackage:azureml-pipeline-core, training version:1.35.0, current version:1.34.0\nPackage:azureml-responsibleai, training version:1.35.0, current version:1.34.0\nPackage:azureml-telemetry, training version:1.35.0, current version:1.34.0\nPackage:azureml-train-automl-client, training version:1.35.0, current version:1.34.0\nPackage:azureml-train-automl-runtime, training version:1.35.1, current version:1.34.0\nPackage:azureml-train-core, training version:1.35.0, current version:1.34.0\nPackage:azureml-train-restclients-hyperdrive, training version:1.35.0, current version:1.34.0\nWARNING:root:Please ensure the version of your local conda dependencies match the version on which your model was trained in order to properly retrieve your model.\n"
        }
      ],
      "execution_count": 8,
      "metadata": {
        "gather": {
          "logged": 1635943497441
        },
        "jupyter": {
          "outputs_hidden": false,
          "source_hidden": false
        },
        "nteract": {
          "transient": {
            "deleting": false
          }
        }
      }
    },
    {
      "cell_type": "code",
      "source": [
        "# Display the metrics of the best model\r\n",
        "\r\n",
        "metrics = pd.DataFrame.from_dict(best_model_metrics, orient='index', columns=['metric value'])\r\n",
        "metrics"
      ],
      "outputs": [
        {
          "output_type": "execute_result",
          "execution_count": 9,
          "data": {
            "text/plain": "                                                                       metric value\nbalanced_accuracy                                                              0.64\nf1_score_macro                                                                 0.64\nprecision_score_macro                                                          0.64\nmatthews_correlation                                                           0.29\nf1_score_weighted                                                              0.64\nnorm_macro_recall                                                              0.29\nAUC_weighted                                                                   0.69\naverage_precision_score_weighted                                               0.67\naverage_precision_score_micro                                                  0.67\naverage_precision_score_macro                                                  0.67\nrecall_score_macro                                                             0.64\nAUC_micro                                                                      0.69\nrecall_score_micro                                                             0.64\nf1_score_micro                                                                 0.64\nrecall_score_weighted                                                          0.64\nlog_loss                                                                       0.64\nprecision_score_weighted                                                       0.64\nAUC_macro                                                                      0.69\nprecision_score_micro                                                          0.64\naccuracy                                                                       0.64\nweighted_accuracy                                                              0.64\naccuracy_table                    aml://artifactId/ExperimentRun/dcid.AutoML_333...\nconfusion_matrix                  aml://artifactId/ExperimentRun/dcid.AutoML_333...",
            "text/html": "<div>\n<style scoped>\n    .dataframe tbody tr th:only-of-type {\n        vertical-align: middle;\n    }\n\n    .dataframe tbody tr th {\n        vertical-align: top;\n    }\n\n    .dataframe thead th {\n        text-align: right;\n    }\n</style>\n<table border=\"1\" class=\"dataframe\">\n  <thead>\n    <tr style=\"text-align: right;\">\n      <th></th>\n      <th>metric value</th>\n    </tr>\n  </thead>\n  <tbody>\n    <tr>\n      <th>balanced_accuracy</th>\n      <td>0.64</td>\n    </tr>\n    <tr>\n      <th>f1_score_macro</th>\n      <td>0.64</td>\n    </tr>\n    <tr>\n      <th>precision_score_macro</th>\n      <td>0.64</td>\n    </tr>\n    <tr>\n      <th>matthews_correlation</th>\n      <td>0.29</td>\n    </tr>\n    <tr>\n      <th>f1_score_weighted</th>\n      <td>0.64</td>\n    </tr>\n    <tr>\n      <th>norm_macro_recall</th>\n      <td>0.29</td>\n    </tr>\n    <tr>\n      <th>AUC_weighted</th>\n      <td>0.69</td>\n    </tr>\n    <tr>\n      <th>average_precision_score_weighted</th>\n      <td>0.67</td>\n    </tr>\n    <tr>\n      <th>average_precision_score_micro</th>\n      <td>0.67</td>\n    </tr>\n    <tr>\n      <th>average_precision_score_macro</th>\n      <td>0.67</td>\n    </tr>\n    <tr>\n      <th>recall_score_macro</th>\n      <td>0.64</td>\n    </tr>\n    <tr>\n      <th>AUC_micro</th>\n      <td>0.69</td>\n    </tr>\n    <tr>\n      <th>recall_score_micro</th>\n      <td>0.64</td>\n    </tr>\n    <tr>\n      <th>f1_score_micro</th>\n      <td>0.64</td>\n    </tr>\n    <tr>\n      <th>recall_score_weighted</th>\n      <td>0.64</td>\n    </tr>\n    <tr>\n      <th>log_loss</th>\n      <td>0.64</td>\n    </tr>\n    <tr>\n      <th>precision_score_weighted</th>\n      <td>0.64</td>\n    </tr>\n    <tr>\n      <th>AUC_macro</th>\n      <td>0.69</td>\n    </tr>\n    <tr>\n      <th>precision_score_micro</th>\n      <td>0.64</td>\n    </tr>\n    <tr>\n      <th>accuracy</th>\n      <td>0.64</td>\n    </tr>\n    <tr>\n      <th>weighted_accuracy</th>\n      <td>0.64</td>\n    </tr>\n    <tr>\n      <th>accuracy_table</th>\n      <td>aml://artifactId/ExperimentRun/dcid.AutoML_333...</td>\n    </tr>\n    <tr>\n      <th>confusion_matrix</th>\n      <td>aml://artifactId/ExperimentRun/dcid.AutoML_333...</td>\n    </tr>\n  </tbody>\n</table>\n</div>"
          },
          "metadata": {}
        }
      ],
      "execution_count": 9,
      "metadata": {
        "jupyter": {
          "source_hidden": false,
          "outputs_hidden": false
        },
        "nteract": {
          "transient": {
            "deleting": false
          }
        },
        "gather": {
          "logged": 1635943642444
        }
      }
    },
    {
      "cell_type": "code",
      "source": [
        "from pprint import pprint\r\n",
        "\r\n",
        "def print_model(model, prefix=\"\"):\r\n",
        "    for step in model.steps:\r\n",
        "        print(prefix + step[0])\r\n",
        "        if hasattr(step[1], 'estimators') and hasattr(step[1], 'weights'):\r\n",
        "            pprint({'estimators': list(\r\n",
        "                e[0] for e in step[1].estimators), 'weights': step[1].weights})\r\n",
        "            print()\r\n",
        "            for estimator in step[1].estimators:\r\n",
        "                print_model(estimator[1], estimator[0] + ' - ')\r\n",
        "        else:\r\n",
        "            pprint(step[1].get_params())\r\n",
        "            print()\r\n",
        "\r\n",
        "print_model(best_model)"
      ],
      "outputs": [
        {
          "output_type": "stream",
          "name": "stdout",
          "text": "datatransformer\n{'enable_dnn': False,\n 'enable_feature_sweeping': True,\n 'feature_sweeping_config': {},\n 'feature_sweeping_timeout': 86400,\n 'featurization_config': None,\n 'force_text_dnn': False,\n 'is_cross_validation': True,\n 'is_onnx_compatible': False,\n 'observer': None,\n 'task': 'classification',\n 'working_dir': '/mnt/batch/tasks/shared/LS_root/mounts/clusters/notebook162658/code/Users/odl_user_162658'}\n\nprefittedsoftvotingclassifier\n{'estimators': ['13', '7', '12', '16', '20', '0', '11', '31'],\n 'weights': [0.3, 0.1, 0.1, 0.1, 0.1, 0.1, 0.1, 0.1]}\n\n13 - maxabsscaler\n{'copy': True}\n\n13 - sgdclassifierwrapper\n{'alpha': 7.5510448979591835,\n 'class_weight': 'balanced',\n 'eta0': 0.001,\n 'fit_intercept': True,\n 'l1_ratio': 0.42857142857142855,\n 'learning_rate': 'constant',\n 'loss': 'modified_huber',\n 'max_iter': 1000,\n 'n_jobs': 1,\n 'penalty': 'none',\n 'power_t': 0.7777777777777777,\n 'random_state': None,\n 'tol': 0.0001}\n\n7 - maxabsscaler\n{'copy': True}\n\n7 - logisticregression\n{'C': 1.7575106248547894,\n 'class_weight': None,\n 'dual': False,\n 'fit_intercept': True,\n 'intercept_scaling': 1,\n 'l1_ratio': None,\n 'max_iter': 100,\n 'multi_class': 'multinomial',\n 'n_jobs': 1,\n 'penalty': 'l2',\n 'random_state': None,\n 'solver': 'lbfgs',\n 'tol': 0.0001,\n 'verbose': 0,\n 'warm_start': False}\n\n12 - maxabsscaler\n{'copy': True}\n\n12 - logisticregression\n{'C': 719.6856730011514,\n 'class_weight': None,\n 'dual': False,\n 'fit_intercept': True,\n 'intercept_scaling': 1,\n 'l1_ratio': None,\n 'max_iter': 100,\n 'multi_class': 'multinomial',\n 'n_jobs': 1,\n 'penalty': 'l2',\n 'random_state': None,\n 'solver': 'lbfgs',\n 'tol': 0.0001,\n 'verbose': 0,\n 'warm_start': False}\n\n16 - standardscalerwrapper\n{'class_name': 'StandardScaler',\n 'copy': True,\n 'module_name': 'sklearn.preprocessing._data',\n 'with_mean': False,\n 'with_std': False}\n\n16 - logisticregression\n{'C': 51.79474679231202,\n 'class_weight': None,\n 'dual': False,\n 'fit_intercept': True,\n 'intercept_scaling': 1,\n 'l1_ratio': None,\n 'max_iter': 100,\n 'multi_class': 'ovr',\n 'n_jobs': 1,\n 'penalty': 'l2',\n 'random_state': None,\n 'solver': 'lbfgs',\n 'tol': 0.0001,\n 'verbose': 0,\n 'warm_start': False}\n\n20 - truncatedsvdwrapper\n{'n_components': 0.7026315789473684, 'random_state': None}\n\n20 - randomforestclassifier\n{'bootstrap': False,\n 'ccp_alpha': 0.0,\n 'class_weight': 'balanced',\n 'criterion': 'gini',\n 'max_depth': None,\n 'max_features': 'log2',\n 'max_leaf_nodes': None,\n 'max_samples': None,\n 'min_impurity_decrease': 0.0,\n 'min_impurity_split': None,\n 'min_samples_leaf': 0.01,\n 'min_samples_split': 0.01,\n 'min_weight_fraction_leaf': 0.0,\n 'n_estimators': 200,\n 'n_jobs': 1,\n 'oob_score': False,\n 'random_state': None,\n 'verbose': 0,\n 'warm_start': False}\n\n0 - maxabsscaler\n{'copy': True}\n\n0 - lightgbmclassifier\n{'min_data_in_leaf': 20,\n 'n_jobs': 1,\n 'problem_info': ProblemInfo(\n    gpu_training_param_dict={'processing_unit_type': 'cpu'}\n),\n 'random_state': None}\n\n11 - standardscalerwrapper\n{'class_name': 'StandardScaler',\n 'copy': True,\n 'module_name': 'sklearn.preprocessing._data',\n 'with_mean': False,\n 'with_std': False}\n\n11 - xgboostclassifier\n{'base_score': 0.5,\n 'booster': 'gbtree',\n 'colsample_bylevel': 1,\n 'colsample_bynode': 1,\n 'colsample_bytree': 0.6,\n 'eta': 0.3,\n 'gamma': 0,\n 'learning_rate': 0.1,\n 'max_delta_step': 0,\n 'max_depth': 6,\n 'max_leaves': 0,\n 'min_child_weight': 1,\n 'missing': nan,\n 'n_estimators': 10,\n 'n_jobs': 1,\n 'nthread': None,\n 'objective': 'reg:logistic',\n 'random_state': 0,\n 'reg_alpha': 0.3125,\n 'reg_lambda': 2.3958333333333335,\n 'scale_pos_weight': 1,\n 'seed': None,\n 'silent': None,\n 'subsample': 1,\n 'tree_method': 'auto',\n 'verbose': -10,\n 'verbosity': 0}\n\n31 - maxabsscaler\n{'copy': True}\n\n31 - extratreesclassifier\n{'bootstrap': False,\n 'ccp_alpha': 0.0,\n 'class_weight': 'balanced',\n 'criterion': 'entropy',\n 'max_depth': None,\n 'max_features': 'sqrt',\n 'max_leaf_nodes': None,\n 'max_samples': None,\n 'min_impurity_decrease': 0.0,\n 'min_impurity_split': None,\n 'min_samples_leaf': 0.06157894736842105,\n 'min_samples_split': 0.33789473684210525,\n 'min_weight_fraction_leaf': 0.0,\n 'n_estimators': 600,\n 'n_jobs': 1,\n 'oob_score': False,\n 'random_state': None,\n 'verbose': 0,\n 'warm_start': False}\n\n"
        }
      ],
      "execution_count": 10,
      "metadata": {
        "jupyter": {
          "source_hidden": false,
          "outputs_hidden": false
        },
        "nteract": {
          "transient": {
            "deleting": false
          }
        },
        "gather": {
          "logged": 1635943709127
        }
      }
    },
    {
      "cell_type": "code",
      "source": [
        "#TODO: Save the best model\r\n",
        "\r\n",
        "aml_model = remote_run.register_model(model_name='AML_Best', tags=best_model_metrics)\r\n",
        "\r\n"
      ],
      "outputs": [],
      "execution_count": 10,
      "metadata": {
        "gather": {
          "logged": 1634747195209
        },
        "jupyter": {
          "outputs_hidden": false,
          "source_hidden": false
        },
        "nteract": {
          "transient": {
            "deleting": false
          }
        }
      }
    },
    {
      "cell_type": "markdown",
      "source": [
        "## Model Deployment\n",
        "\n",
        "Remember you have to deploy only one of the two models you trained but you still need to register both the models. Perform the steps in the rest of this notebook only if you wish to deploy this model.\n",
        "\n",
        "TODO: In the cell below, register the model, create an inference config and deploy the model as a web service."
      ],
      "metadata": {}
    },
    {
      "cell_type": "code",
      "source": [
        "# Define inference config\r\n",
        "\r\n",
        "env = best_run.get_environment()\r\n",
        "inference_config = InferenceConfig(\r\n",
        "    environment= env,\r\n",
        "    source_directory = \"./source_dir\",\r\n",
        "    entry_script=\"score.py\"\r\n",
        ")"
      ],
      "outputs": [],
      "execution_count": 25,
      "metadata": {
        "jupyter": {
          "source_hidden": false,
          "outputs_hidden": false
        },
        "nteract": {
          "transient": {
            "deleting": false
          }
        },
        "gather": {
          "logged": 1634749520901
        }
      }
    },
    {
      "cell_type": "code",
      "source": [
        "# Define a deployment configuration on the Webservice\r\n",
        "\r\n",
        "deploy_config = AciWebservice.deploy_configuration(\r\n",
        "    cpu_cores=0.5, memory_gb=1, auth_enabled=True, enable_app_insights=True\r\n",
        ")"
      ],
      "outputs": [],
      "execution_count": 26,
      "metadata": {
        "jupyter": {
          "source_hidden": false,
          "outputs_hidden": false
        },
        "nteract": {
          "transient": {
            "deleting": false
          }
        },
        "gather": {
          "logged": 1634749524395
        }
      }
    },
    {
      "cell_type": "code",
      "source": [
        "# Deploy the model\r\n",
        "\r\n",
        "service = Model.deploy(\r\n",
        "    workspace = ws,\r\n",
        "    name = \"sinter-scrap-model1\",\r\n",
        "    models = [aml_model],\r\n",
        "    inference_config = inference_config,\r\n",
        "    deployment_config = deploy_config,\r\n",
        "    overwrite = True\r\n",
        ")\r\n",
        "\r\n",
        "service.wait_for_deployment(show_output=True)"
      ],
      "outputs": [
        {
          "output_type": "stream",
          "name": "stdout",
          "text": "Tips: You can try get_logs(): https://aka.ms/debugimage#dockerlog or local deployment: https://aka.ms/debugimage#debug-locally to debug if deployment takes longer than 10 minutes.\nRunning\n2021-10-20 17:05:29+00:00 Creating Container Registry if not exists.\n2021-10-20 17:05:29+00:00 Registering the environment.\n2021-10-20 17:05:29+00:00 Use the existing image.\n2021-10-20 17:05:29+00:00 Generating deployment configuration.\n2021-10-20 17:05:30+00:00 Submitting deployment to compute.\n2021-10-20 17:05:33+00:00 Checking the status of deployment sinter-scrap-model1..\n2021-10-20 17:10:57+00:00 Checking the status of inference endpoint sinter-scrap-model1.\nSucceeded\nACI service creation operation finished, operation \"Succeeded\"\n"
        }
      ],
      "execution_count": 27,
      "metadata": {
        "gather": {
          "logged": 1634749859383
        },
        "jupyter": {
          "outputs_hidden": false,
          "source_hidden": false
        },
        "nteract": {
          "transient": {
            "deleting": false
          }
        }
      }
    },
    {
      "cell_type": "code",
      "source": [
        "print(service.get_logs())"
      ],
      "outputs": [
        {
          "output_type": "stream",
          "name": "stdout",
          "text": "2021-10-20T16:41:41,966028900+00:00 - rsyslog/run \n2021-10-20T16:41:41,963577600+00:00 - nginx/run \n2021-10-20T16:41:41,984021800+00:00 - iot-server/run \n2021-10-20T16:41:41,997521800+00:00 - gunicorn/run \nDynamic Python package installation is disabled.\nStarting HTTP server\nrsyslogd: /azureml-envs/azureml_1b22a9c5d9b447e8fbdcc34171e02fe8/lib/libuuid.so.1: no version information available (required by rsyslogd)\nEdgeHubConnectionString and IOTEDGE_IOTHUBHOSTNAME are not set. Exiting...\n2021-10-20T16:41:42,537530000+00:00 - iot-server/finish 1 0\n2021-10-20T16:41:42,539346700+00:00 - Exit code 1 is normal. Not restarting iot-server.\nStarting gunicorn 20.1.0\nListening at: http://127.0.0.1:31311 (65)\nUsing worker: sync\nworker timeout is set to 300\nBooting worker with pid: 89\nSPARK_HOME not set. Skipping PySpark Initialization.\nGenerating new fontManager, this may take some time...\nInitializing logger\n2021-10-20 16:41:45,561 | root | INFO | Starting up app insights client\nlogging socket was found. logging is available.\nlogging socket was found. logging is available.\n2021-10-20 16:41:45,563 | root | INFO | Starting up request id generator\n2021-10-20 16:41:45,563 | root | INFO | Starting up app insight hooks\n2021-10-20 16:41:45,563 | root | INFO | Invoking user's init function\n2021-10-20 16:41:51,388 | azureml.core | WARNING | Failure while loading azureml_run_type_providers. Failed to load entrypoint automl = azureml.train.automl.run:AutoMLRun._from_run_dto with exception cannot import name 'RunType'.\nFailure while loading azureml_run_type_providers. Failed to load entrypoint automl = azureml.train.automl.run:AutoMLRun._from_run_dto with exception cannot import name 'RunType'.\n2021-10-20 16:41:53,125 | root | INFO | Users's init has completed successfully\n2021-10-20 16:41:53,129 | root | INFO | Skipping middleware: dbg_model_info as it's not enabled.\n2021-10-20 16:41:53,129 | root | INFO | Skipping middleware: dbg_resource_usage as it's not enabled.\n2021-10-20 16:41:53,131 | root | INFO | Scoring timeout is found from os.environ: 60000 ms\n2021-10-20 16:41:53,149 | root | INFO | Swagger file not present\n2021-10-20 16:41:53,150 | root | INFO | 404\n127.0.0.1 - - [20/Oct/2021:16:41:53 +0000] \"GET /swagger.json HTTP/1.0\" 404 19 \"-\" \"Go-http-client/1.1\"\n2021-10-20 16:41:57,791 | root | INFO | Swagger file not present\n2021-10-20 16:41:57,792 | root | INFO | 404\n127.0.0.1 - - [20/Oct/2021:16:41:57 +0000] \"GET /swagger.json HTTP/1.0\" 404 19 \"-\" \"Go-http-client/1.1\"\n2021-10-20 16:42:00,444 | root | INFO | Swagger file not present\n2021-10-20 16:42:00,445 | root | INFO | 404\n127.0.0.1 - - [20/Oct/2021:16:42:00 +0000] \"GET /swagger.json HTTP/1.0\" 404 19 \"-\" \"Go-http-client/1.1\"\n\n"
        }
      ],
      "execution_count": 14,
      "metadata": {
        "jupyter": {
          "source_hidden": false,
          "outputs_hidden": false
        },
        "nteract": {
          "transient": {
            "deleting": false
          }
        },
        "gather": {
          "logged": 1634748190194
        }
      }
    },
    {
      "cell_type": "code",
      "source": [
        "print(service.scoring_uri)"
      ],
      "outputs": [
        {
          "output_type": "stream",
          "name": "stdout",
          "text": "http://b1d21690-1514-4d1b-9656-0a1cc00c9f6a.southcentralus.azurecontainer.io/score\n"
        }
      ],
      "execution_count": 15,
      "metadata": {
        "jupyter": {
          "source_hidden": false,
          "outputs_hidden": false
        },
        "nteract": {
          "transient": {
            "deleting": false
          }
        },
        "gather": {
          "logged": 1634748197967
        }
      }
    },
    {
      "cell_type": "markdown",
      "source": [
        "TODO: In the cell below, send a request to the web service you deployed to test it."
      ],
      "metadata": {
        "collapsed": true,
        "gather": {
          "logged": 1598431657736
        },
        "jupyter": {
          "outputs_hidden": false,
          "source_hidden": false
        },
        "nteract": {
          "transient": {
            "deleting": false
          }
        }
      }
    },
    {
      "cell_type": "code",
      "source": [
        "import json \r\n",
        "import numpy as np\r\n",
        "\r\n",
        "test_data = raw_data[0:10]\r\n",
        "test_data = test_data.drop(\"HAS SCRAP AT SINTER\", axis=1)\r\n",
        "test_dict = ({'data':test_data.to_dict(orient='records')})\r\n",
        "test_sample = json.dumps(test_dict)\r\n",
        "\r\n",
        "#json_data = json.loads(sample)['data']\r\n",
        "\r\n",
        "#pd_data = pd.DataFrame(json_data)\r\n",
        "\r\n",
        "#print(pd_data.shape)\r\n",
        "\r\n",
        "#np_array = np.array(json_data)\r\n",
        "\r\n",
        "#len(np_array)\r\n",
        "\r\n",
        "print(service.run(test_sample))"
      ],
      "outputs": [
        {
          "output_type": "stream",
          "name": "stdout",
          "text": "[0, 1, 1, 1, 1, 1, 0, 1, 0, 1]\n"
        }
      ],
      "execution_count": 31,
      "metadata": {
        "jupyter": {
          "source_hidden": false,
          "outputs_hidden": false
        },
        "nteract": {
          "transient": {
            "deleting": false
          }
        },
        "gather": {
          "logged": 1634750102919
        }
      }
    },
    {
      "cell_type": "code",
      "source": [
        "service.get_logs()"
      ],
      "outputs": [
        {
          "output_type": "execute_result",
          "execution_count": 43,
          "data": {
            "text/plain": "'2021-10-19T13:03:18,233826700+00:00 - nginx/run \\n2021-10-19T13:03:18,245304000+00:00 - iot-server/run \\n2021-10-19T13:03:18,314432800+00:00 - rsyslog/run \\n2021-10-19T13:03:18,313497200+00:00 - gunicorn/run \\nDynamic Python package installation is disabled.\\nStarting HTTP server\\nrsyslogd: /azureml-envs/azureml_1b22a9c5d9b447e8fbdcc34171e02fe8/lib/libuuid.so.1: no version information available (required by rsyslogd)\\nEdgeHubConnectionString and IOTEDGE_IOTHUBHOSTNAME are not set. Exiting...\\n2021-10-19T13:03:19,027141200+00:00 - iot-server/finish 1 0\\n2021-10-19T13:03:19,037201000+00:00 - Exit code 1 is normal. Not restarting iot-server.\\nStarting gunicorn 20.1.0\\nListening at: http://127.0.0.1:31311 (64)\\nUsing worker: sync\\nworker timeout is set to 300\\nBooting worker with pid: 89\\nSPARK_HOME not set. Skipping PySpark Initialization.\\nGenerating new fontManager, this may take some time...\\nInitializing logger\\n2021-10-19 13:03:22,706 | root | INFO | Starting up app insights client\\nlogging socket was found. logging is available.\\nlogging socket was found. logging is available.\\n2021-10-19 13:03:22,708 | root | INFO | Starting up request id generator\\n2021-10-19 13:03:22,708 | root | INFO | Starting up app insight hooks\\n2021-10-19 13:03:22,709 | root | INFO | Invoking user\\'s init function\\n2021-10-19 13:03:29,309 | azureml.core | WARNING | Failure while loading azureml_run_type_providers. Failed to load entrypoint automl = azureml.train.automl.run:AutoMLRun._from_run_dto with exception cannot import name \\'RunType\\'.\\nFailure while loading azureml_run_type_providers. Failed to load entrypoint automl = azureml.train.automl.run:AutoMLRun._from_run_dto with exception cannot import name \\'RunType\\'.\\n2021-10-19 13:03:31,107 | root | INFO | Users\\'s init has completed successfully\\n2021-10-19 13:03:31,110 | root | INFO | Skipping middleware: dbg_model_info as it\\'s not enabled.\\n2021-10-19 13:03:31,110 | root | INFO | Skipping middleware: dbg_resource_usage as it\\'s not enabled.\\n2021-10-19 13:03:31,113 | root | INFO | Scoring timeout is found from os.environ: 60000 ms\\n2021-10-19 13:03:56,797 | root | INFO | Swagger file not present\\n2021-10-19 13:03:56,797 | root | INFO | 404\\n127.0.0.1 - - [19/Oct/2021:13:03:56 +0000] \"GET /swagger.json HTTP/1.0\" 404 19 \"-\" \"Go-http-client/1.1\"\\n2021-10-19 13:03:59,497 | root | INFO | Swagger file not present\\n2021-10-19 13:03:59,498 | root | INFO | 404\\n127.0.0.1 - - [19/Oct/2021:13:03:59 +0000] \"GET /swagger.json HTTP/1.0\" 404 19 \"-\" \"Go-http-client/1.1\"\\n2021-10-19 13:04:53,772 | root | INFO | Scoring Timer is set to 60.0 seconds\\n{\"data\": [{\"IS REWORK\": 0, \"HOURS BLAST TO PREP\": 1224.0, \"PREP DAY\": 3, \"PREP SHIFT\": 2, \"PREP H\": 3, \"PREP QTY\": 10, \"PREP QTY IN THE SHIFT\": 20, \"PREPED IN THE SHIFT SO FAR\": 0, \"HOURS PREP TO FUR\": 0.0, \"HAS SCRAP AT SINTER\": 0, \"ASSOCIATE AXPERIENCE\": 2, \"Prep week\": 1, \"PROD_CDE_DXMETA_OP1\": 0, \"PROD_CDE_DX_EP_OP10\": 0, \"PROD_CDE_EMS_SHL10\": 0, \"PROD_CDE_GUIMB_PORO\": 0, \"PROD_CDE_GUIMST_P\": 0, \"PROD_CDE_GU_AN10_B\": 0, \"PROD_CDE_GU_RE_OP10\": 0, \"PROD_CDE_PINN_PORO\": 1, \"PROD_CDE_PIN_GRIP_P\": 0, \"PREP ASSOCIATE_57000235\": 0, \"PREP ASSOCIATE_57000242\": 0, \"PREP ASSOCIATE_57000436\": 0, \"PREP ASSOCIATE_57000763\": 0, \"PREP ASSOCIATE_57001344\": 0, \"PREP ASSOCIATE_152046736\": 0, \"PREP ASSOCIATE_152051910\": 0, \"PREP ASSOCIATE_152054287\": 0, \"PREP ASSOCIATE_152058678\": 0, \"PREP ASSOCIATE_152059403\": 0, \"PREP ASSOCIATE_152061442\": 0, \"PREP ASSOCIATE_152064733\": 0, \"PREP ASSOCIATE_152065732\": 0, \"PREP ASSOCIATE_152072306\": 0, \"PREP ASSOCIATE_152072361\": 0, \"PREP ASSOCIATE_152072888\": 0, \"PREP ASSOCIATE_152806978\": 0, \"PREP ASSOCIATE_152808293\": 0, \"PREP ASSOCIATE_152815980\": 0, \"PREP ASSOCIATE_152824994\": 0, \"PREP ASSOCIATE_152824995\": 0, \"PREP ASSOCIATE_152827348\": 0, \"PREP ASSOCIATE_152828421\": 0, \"PREP ASSOCIATE_152834263\": 0, \"PREP ASSOCIATE_152848002\": 0, \"PREP ASSOCIATE_152848005\": 1, \"PREP ASSOCIATE_152848008\": 0, \"PREP ASSOCIATE_152848254\": 0, \"PREP ASSOCIATE_152848438\": 0, \"PREP ASSOCIATE_152849580\": 0, \"PREP ASSOCIATE_152851272\": 0, \"PREP ASSOCIATE_152851276\": 0, \"PREP ASSOCIATE_152852517\": 0, \"PREP ASSOCIATE_152859137\": 0, \"PREP ASSOCIATE_152859275\": 0, \"PREP ASSOCIATE_152861369\": 0, \"PREP ASSOCIATE_152861371\": 0, \"PREP ASSOCIATE_152863741\": 0, \"PREP ASSOCIATE_152867385\": 0, \"PREP ASSOCIATE_152868301\": 0, \"PREP ASSOCIATE_152868302\": 0, \"PREP ASSOCIATE_152868303\": 0, \"PREP ASSOCIATE_152870937\": 0, \"PREP ASSOCIATE_152871590\": 0, \"PREP ASSOCIATE_152872349\": 0, \"PREP ASSOCIATE_152872541\": 0, \"PREP ASSOCIATE_152872563\": 0, \"PREP ASSOCIATE_152890203\": 0, \"PREP ASSOCIATE_152890598\": 0, \"PREP ASSOCIATE_152890600\": 0, \"PREP ASSOCIATE_152890601\": 0, \"PREP ASSOCIATE_152890987\": 0, \"PREP ASSOCIATE_152898251\": 0, \"PREP ASSOCIATE_152899469\": 0, \"PREP ASSOCIATE_152899588\": 0, \"PREP ASSOCIATE_152900144\": 0, \"PREP ASSOCIATE_152900996\": 0, \"PREP ASSOCIATE_152904101\": 0, \"PREP ASSOCIATE_152925182\": 0, \"PREP ASSOCIATE_152925222\": 0, \"PREP ASSOCIATE_152925225\": 0, \"PREP ASSOCIATE_152926099\": 0, \"PREP ASSOCIATE_152926100\": 0, \"PREP ASSOCIATE_152926153\": 0, \"PREP ASSOCIATE_152927232\": 0, \"FURN_DE138\": 0, \"FURN_FURN0004\": 0, \"FURN_FURN0005\": 0, \"FURN_FURN0006\": 1, \"FURN_FURN0007\": 0}]}\\n6f757190-96dc-493f-bbef-f9d47126fc6d,{\"data\": [{\"IS REWORK\": 0, \"HOURS BLAST TO PREP\": 1224.0, \"PREP DAY\": 3, \"PREP SHIFT\": 2, \"PREP H\": 3, \"PREP QTY\": 10, \"PREP QTY IN THE SHIFT\": 20, \"PREPED IN THE SHIFT SO FAR\": 0, \"HOURS PREP TO FUR\": 0.0, \"HAS SCRAP AT SINTER\": 0, \"ASSOCIATE AXPERIENCE\": 2, \"Prep week\": 1, \"PROD_CDE_DXMETA_OP1\": 0, \"PROD_CDE_DX_EP_OP10\": 0, \"PROD_CDE_EMS_SHL10\": 0, \"PROD_CDE_GUIMB_PORO\": 0, \"PROD_CDE_GUIMST_P\": 0, \"PROD_CDE_GU_AN10_B\": 0, \"PROD_CDE_GU_RE_OP10\": 0, \"PROD_CDE_PINN_PORO\": 1, \"PROD_CDE_PIN_GRIP_P\": 0, \"PREP ASSOCIATE_57000235\": 0, \"PREP ASSOCIATE_57000242\": 0, \"PREP ASSOCIATE_57000436\": 0, \"PREP ASSOCIATE_57000763\": 0, \"PREP ASSOCIATE_57001344\": 0, \"PREP ASSOCIATE_152046736\": 0, \"PREP ASSOCIATE_152051910\": 0, \"PREP ASSOCIATE_152054287\": 0, \"PREP ASSOCIATE_152058678\": 0, \"PREP ASSOCIATE_152059403\": 0, \"PREP ASSOCIATE_152061442\": 0, \"PREP ASSOCIATE_152064733\": 0, \"PREP ASSOCIATE_152065732\": 0, \"PREP ASSOCIATE_152072306\": 0, \"PREP ASSOCIATE_152072361\": 0, \"PREP ASSOCIATE_152072888\": 0, \"PREP ASSOCIATE_152806978\": 0, \"PREP ASSOCIATE_152808293\": 0, \"PREP ASSOCIATE_152815980\": 0, \"PREP ASSOCIATE_152824994\": 0, \"PREP ASSOCIATE_152824995\": 0, \"PREP ASSOCIATE_152827348\": 0, \"PREP ASSOCIATE_152828421\": 0, \"PREP ASSOCIATE_152834263\": 0, \"PREP ASSOCIATE_152848002\": 0, \"PREP ASSOCIATE_152848005\": 1, \"PREP ASSOCIATE_152848008\": 0, \"PREP ASSOCIATE_152848254\": 0, \"PREP ASSOCIATE_152848438\": 0, \"PREP ASSOCIATE_152849580\": 0, \"PREP ASSOCIATE_152851272\": 0, \"PREP ASSOCIATE_152851276\": 0, \"PREP ASSOCIATE_152852517\": 0, \"PREP ASSOCIATE_152859137\": 0, \"PREP ASSOCIATE_152859275\": 0, \"PREP ASSOCIATE_152861369\": 0, \"PREP ASSOCIATE_152861371\": 0, \"PREP ASSOCIATE_152863741\": 0, \"PREP ASSOCIATE_152867385\": 0, \"PREP ASSOCIATE_152868301\": 0, \"PREP ASSOCIATE_152868302\": 0, \"PREP ASSOCIATE_152868303\": 0, \"PREP ASSOCIATE_152870937\": 0, \"PREP ASSOCIATE_152871590\": 0, \"PREP ASSOCIATE_152872349\": 0, \"PREP ASSOCIATE_152872541\": 0, \"PREP ASSOCIATE_152872563\": 0, \"PREP ASSOCIATE_152890203\": 0, \"PREP ASSOCIATE_152890598\": 0, \"PREP ASSOCIATE_152890600\": 0, \"PREP ASSOCIATE_152890601\": 0, \"PREP ASSOCIATE_152890987\": 0, \"PREP ASSOCIATE_152898251\": 0, \"PREP ASSOCIATE_152899469\": 0, \"PREP ASSOCIATE_152899588\": 0, \"PREP ASSOCIATE_152900144\": 0, \"PREP ASSOCIATE_152900996\": 0, \"PREP ASSOCIATE_152904101\": 0, \"PREP ASSOCIATE_152925182\": 0, \"PREP ASSOCIATE_152925222\": 0, \"PREP ASSOCIATE_152925225\": 0, \"PREP ASSOCIATE_152926099\": 0, \"PREP ASSOCIATE_152926100\": 0, \"PREP ASSOCIATE_152926153\": 0, \"PREP ASSOCIATE_152927232\": 0, \"FURN_DE138\": 0, \"FURN_FURN0004\": 0, \"FURN_FURN0005\": 0, \"FURN_FURN0006\": 1, \"FURN_FURN0007\": 0}]}\\n\\n2021-10-19 13:04:53,782 | root | ERROR | Encountered Exception: Traceback (most recent call last):\\n  File \"/var/azureml-server/synchronous/routes.py\", line 65, in run_scoring\\n    response, time_taken_ms = invoke_user_with_timer(service_input, request_headers)\\n  File \"/var/azureml-server/synchronous/routes.py\", line 110, in invoke_user_with_timer\\n    result, time_taken_ms = capture_time_taken(user_main.run)(**params)\\n  File \"/var/azureml-server/synchronous/routes.py\", line 92, in timer\\n    result = func(*args, **kwargs)\\n  File \"/var/azureml-app/main.py\", line 21, in run\\n    return_obj = driver_module.run(**arguments)\\n  File \"/var/azureml-app/source_dir/score.py\", line 19, in run\\n    data = pd.DataFrame(raw_data)\\n  File \"/azureml-envs/azureml_1b22a9c5d9b447e8fbdcc34171e02fe8/lib/python3.6/site-packages/pandas/core/frame.py\", line 485, in __init__\\n    raise ValueError(\"DataFrame constructor not properly called!\")\\nValueError: DataFrame constructor not properly called!\\n\\nDuring handling of the above exception, another exception occurred:\\n\\nTraceback (most recent call last):\\n  File \"/azureml-envs/azureml_1b22a9c5d9b447e8fbdcc34171e02fe8/lib/python3.6/site-packages/flask/app.py\", line 1832, in full_dispatch_request\\n    rv = self.dispatch_request()\\n  File \"/azureml-envs/azureml_1b22a9c5d9b447e8fbdcc34171e02fe8/lib/python3.6/site-packages/flask/app.py\", line 1818, in dispatch_request\\n    return self.view_functions[rule.endpoint](**req.view_args)\\n  File \"/var/azureml-server/synchronous/routes.py\", line 44, in score_realtime\\n    return run_scoring(service_input, request.headers, request.environ.get(\\'REQUEST_ID\\', \\'00000000-0000-0000-0000-000000000000\\'))\\n  File \"/var/azureml-server/synchronous/routes.py\", line 74, in run_scoring\\n    raise RunFunctionException(str(exc))\\nrun_function_exception.RunFunctionException\\n\\n2021-10-19 13:04:53,790 | root | INFO | 500\\n127.0.0.1 - - [19/Oct/2021:13:04:53 +0000] \"POST /score HTTP/1.0\" 500 42 \"-\" \"python-requests/2.26.0\"\\n2021-10-19 13:04:53,831 | root | INFO | Scoring Timer is set to 60.0 seconds\\n{\"data\": [{\"IS REWORK\": 0, \"HOURS BLAST TO PREP\": 1224.0, \"PREP DAY\": 3, \"PREP SHIFT\": 2, \"PREP H\": 3, \"PREP QTY\": 10, \"PREP QTY IN THE SHIFT\": 20, \"PREPED IN THE SHIFT SO FAR\": 0, \"HOURS PREP TO FUR\": 0.0, \"HAS SCRAP AT SINTER\": 0, \"ASSOCIATE AXPERIENCE\": 2, \"Prep week\": 1, \"PROD_CDE_DXMETA_OP1\": 0, \"PROD_CDE_DX_EP_OP10\": 0, \"PROD_CDE_EMS_SHL10\": 0, \"PROD_CDE_GUIMB_PORO\": 0, \"PROD_CDE_GUIMST_P\": 0, \"PROD_CDE_GU_AN10_B\": 0, \"PROD_CDE_GU_RE_OP10\": 0, \"PROD_CDE_PINN_PORO\": 1, \"PROD_CDE_PIN_GRIP_P\": 0, \"PREP ASSOCIATE_57000235\": 0, \"PREP ASSOCIATE_57000242\": 0, \"PREP ASSOCIATE_57000436\": 0, \"PREP ASSOCIATE_57000763\": 0, \"PREP ASSOCIATE_57001344\": 0, \"PREP ASSOCIATE_152046736\": 0, \"PREP ASSOCIATE_152051910\": 0, \"PREP ASSOCIATE_152054287\": 0, \"PREP ASSOCIATE_152058678\": 0, \"PREP ASSOCIATE_152059403\": 0, \"PREP ASSOCIATE_152061442\": 0, \"PREP ASSOCIATE_152064733\": 0, \"PREP ASSOCIATE_152065732\": 0, \"PREP ASSOCIATE_152072306\": 0, \"PREP ASSOCIATE_152072361\": 0, \"PREP ASSOCIATE_152072888\": 0, \"PREP ASSOCIATE_152806978\": 0, \"PREP ASSOCIATE_152808293\": 0, \"PREP ASSOCIATE_152815980\": 0, \"PREP ASSOCIATE_152824994\": 0, \"PREP ASSOCIATE_152824995\": 0, \"PREP ASSOCIATE_152827348\": 0, \"PREP ASSOCIATE_152828421\": 0, \"PREP ASSOCIATE_152834263\": 0, \"PREP ASSOCIATE_152848002\": 0, \"PREP ASSOCIATE_152848005\": 1, \"PREP ASSOCIATE_152848008\": 0, \"PREP ASSOCIATE_152848254\": 0, \"PREP ASSOCIATE_152848438\": 0, \"PREP ASSOCIATE_152849580\": 0, \"PREP ASSOCIATE_152851272\": 0, \"PREP ASSOCIATE_152851276\": 0, \"PREP ASSOCIATE_152852517\": 0, \"PREP ASSOCIATE_152859137\": 0, \"PREP ASSOCIATE_152859275\": 0, \"PREP ASSOCIATE_152861369\": 0, \"PREP ASSOCIATE_152861371\": 0, \"PREP ASSOCIATE_152863741\": 0, \"PREP ASSOCIATE_152867385\": 0, \"PREP ASSOCIATE_152868301\": 0, \"PREP ASSOCIATE_152868302\": 0, \"PREP ASSOCIATE_152868303\": 0, \"PREP ASSOCIATE_152870937\": 0, \"PREP ASSOCIATE_152871590\": 0, \"PREP ASSOCIATE_152872349\": 0, \"PREP ASSOCIATE_152872541\": 0, \"PREP ASSOCIATE_152872563\": 0, \"PREP ASSOCIATE_152890203\": 0, \"PREP ASSOCIATE_152890598\": 0, \"PREP ASSOCIATE_152890600\": 0, \"PREP ASSOCIATE_152890601\": 0, \"PREP ASSOCIATE_152890987\": 0, \"PREP ASSOCIATE_152898251\": 0, \"PREP ASSOCIATE_152899469\": 0, \"PREP ASSOCIATE_152899588\": 0, \"PREP ASSOCIATE_152900144\": 0, \"PREP ASSOCIATE_152900996\": 0, \"PREP ASSOCIATE_152904101\": 0, \"PREP ASSOCIATE_152925182\": 0, \"PREP ASSOCIATE_152925222\": 0, \"PREP ASSOCIATE_152925225\": 0, \"PREP ASSOCIATE_152926099\": 0, \"PREP ASSOCIATE_152926100\": 0, \"PREP ASSOCIATE_152926153\": 0, \"PREP ASSOCIATE_152927232\": 0, \"FURN_DE138\": 0, \"FURN_FURN0004\": 0, \"FURN_FURN0005\": 0, \"FURN_FURN0006\": 1, \"FURN_FURN0007\": 0}]}\\n1851958e-eea7-47d5-a851-7623f052f202,{\"data\": [{\"IS REWORK\": 0, \"HOURS BLAST TO PREP\": 1224.0, \"PREP DAY\": 3, \"PREP SHIFT\": 2, \"PREP H\": 3, \"PREP QTY\": 10, \"PREP QTY IN THE SHIFT\": 20, \"PREPED IN THE SHIFT SO FAR\": 0, \"HOURS PREP TO FUR\": 0.0, \"HAS SCRAP AT SINTER\": 0, \"ASSOCIATE AXPERIENCE\": 2, \"Prep week\": 1, \"PROD_CDE_DXMETA_OP1\": 0, \"PROD_CDE_DX_EP_OP10\": 0, \"PROD_CDE_EMS_SHL10\": 0, \"PROD_CDE_GUIMB_PORO\": 0, \"PROD_CDE_GUIMST_P\": 0, \"PROD_CDE_GU_AN10_B\": 0, \"PROD_CDE_GU_RE_OP10\": 0, \"PROD_CDE_PINN_PORO\": 1, \"PROD_CDE_PIN_GRIP_P\": 0, \"PREP ASSOCIATE_57000235\": 0, \"PREP ASSOCIATE_57000242\": 0, \"PREP ASSOCIATE_57000436\": 0, \"PREP ASSOCIATE_57000763\": 0, \"PREP ASSOCIATE_57001344\": 0, \"PREP ASSOCIATE_152046736\": 0, \"PREP ASSOCIATE_152051910\": 0, \"PREP ASSOCIATE_152054287\": 0, \"PREP ASSOCIATE_152058678\": 0, \"PREP ASSOCIATE_152059403\": 0, \"PREP ASSOCIATE_152061442\": 0, \"PREP ASSOCIATE_152064733\": 0, \"PREP ASSOCIATE_152065732\": 0, \"PREP ASSOCIATE_152072306\": 0, \"PREP ASSOCIATE_152072361\": 0, \"PREP ASSOCIATE_152072888\": 0, \"PREP ASSOCIATE_152806978\": 0, \"PREP ASSOCIATE_152808293\": 0, \"PREP ASSOCIATE_152815980\": 0, \"PREP ASSOCIATE_152824994\": 0, \"PREP ASSOCIATE_152824995\": 0, \"PREP ASSOCIATE_152827348\": 0, \"PREP ASSOCIATE_152828421\": 0, \"PREP ASSOCIATE_152834263\": 0, \"PREP ASSOCIATE_152848002\": 0, \"PREP ASSOCIATE_152848005\": 1, \"PREP ASSOCIATE_152848008\": 0, \"PREP ASSOCIATE_152848254\": 0, \"PREP ASSOCIATE_152848438\": 0, \"PREP ASSOCIATE_152849580\": 0, \"PREP ASSOCIATE_152851272\": 0, \"PREP ASSOCIATE_152851276\": 0, \"PREP ASSOCIATE_152852517\": 0, \"PREP ASSOCIATE_152859137\": 0, \"PREP ASSOCIATE_152859275\": 0, \"PREP ASSOCIATE_152861369\": 0, \"PREP ASSOCIATE_152861371\": 0, \"PREP ASSOCIATE_152863741\": 0, \"PREP ASSOCIATE_152867385\": 0, \"PREP ASSOCIATE_152868301\": 0, \"PREP ASSOCIATE_152868302\": 0, \"PREP ASSOCIATE_152868303\": 0, \"PREP ASSOCIATE_152870937\": 0, \"PREP ASSOCIATE_152871590\": 0, \"PREP ASSOCIATE_152872349\": 0, \"PREP ASSOCIATE_152872541\": 0, \"PREP ASSOCIATE_152872563\": 0, \"PREP ASSOCIATE_152890203\": 0, \"PREP ASSOCIATE_152890598\": 0, \"PREP ASSOCIATE_152890600\": 0, \"PREP ASSOCIATE_152890601\": 0, \"PREP ASSOCIATE_152890987\": 0, \"PREP ASSOCIATE_152898251\": 0, \"PREP ASSOCIATE_152899469\": 0, \"PREP ASSOCIATE_152899588\": 0, \"PREP ASSOCIATE_152900144\": 0, \"PREP ASSOCIATE_152900996\": 0, \"PREP ASSOCIATE_152904101\": 0, \"PREP ASSOCIATE_152925182\": 0, \"PREP ASSOCIATE_152925222\": 0, \"PREP ASSOCIATE_152925225\": 0, \"PREP ASSOCIATE_152926099\": 0, \"PREP ASSOCIATE_152926100\": 0, \"PREP ASSOCIATE_152926153\": 0, \"PREP ASSOCIATE_152927232\": 0, \"FURN_DE138\": 0, \"FURN_FURN0004\": 0, \"FURN_FURN0005\": 0, \"FURN_FURN0006\": 1, \"FURN_FURN0007\": 0}]}\\n\\n2021-10-19 13:04:53,833 | root | ERROR | Encountered Exception: Traceback (most recent call last):\\n  File \"/var/azureml-server/synchronous/routes.py\", line 65, in run_scoring\\n    response, time_taken_ms = invoke_user_with_timer(service_input, request_headers)\\n  File \"/var/azureml-server/synchronous/routes.py\", line 110, in invoke_user_with_timer\\n    result, time_taken_ms = capture_time_taken(user_main.run)(**params)\\n  File \"/var/azureml-server/synchronous/routes.py\", line 92, in timer\\n    result = func(*args, **kwargs)\\n  File \"/var/azureml-app/main.py\", line 21, in run\\n    return_obj = driver_module.run(**arguments)\\n  File \"/var/azureml-app/source_dir/score.py\", line 19, in run\\n    data = pd.DataFrame(raw_data)\\n  File \"/azureml-envs/azureml_1b22a9c5d9b447e8fbdcc34171e02fe8/lib/python3.6/site-packages/pandas/core/frame.py\", line 485, in __init__\\n    raise ValueError(\"DataFrame constructor not properly called!\")\\nValueError: DataFrame constructor not properly called!\\n\\nDuring handling of the above exception, another exception occurred:\\n\\nTraceback (most recent call last):\\n  File \"/azureml-envs/azureml_1b22a9c5d9b447e8fbdcc34171e02fe8/lib/python3.6/site-packages/flask/app.py\", line 1832, in full_dispatch_request\\n    rv = self.dispatch_request()\\n  File \"/azureml-envs/azureml_1b22a9c5d9b447e8fbdcc34171e02fe8/lib/python3.6/site-packages/flask/app.py\", line 1818, in dispatch_request\\n    return self.view_functions[rule.endpoint](**req.view_args)\\n  File \"/var/azureml-server/synchronous/routes.py\", line 44, in score_realtime\\n    return run_scoring(service_input, request.headers, request.environ.get(\\'REQUEST_ID\\', \\'00000000-0000-0000-0000-000000000000\\'))\\n  File \"/var/azureml-server/synchronous/routes.py\", line 74, in run_scoring\\n    raise RunFunctionException(str(exc))\\nrun_function_exception.RunFunctionException\\n\\n2021-10-19 13:04:53,833 | root | INFO | 500\\n127.0.0.1 - - [19/Oct/2021:13:04:53 +0000] \"POST /score HTTP/1.0\" 500 42 \"-\" \"python-requests/2.26.0\"\\n2021-10-19 13:04:54,866 | root | INFO | Scoring Timer is set to 60.0 seconds\\n{\"data\": [{\"IS REWORK\": 0, \"HOURS BLAST TO PREP\": 1224.0, \"PREP DAY\": 3, \"PREP SHIFT\": 2, \"PREP H\": 3, \"PREP QTY\": 10, \"PREP QTY IN THE SHIFT\": 20, \"PREPED IN THE SHIFT SO FAR\": 0, \"HOURS PREP TO FUR\": 0.0, \"HAS SCRAP AT SINTER\": 0, \"ASSOCIATE AXPERIENCE\": 2, \"Prep week\": 1, \"PROD_CDE_DXMETA_OP1\": 0, \"PROD_CDE_DX_EP_OP10\": 0, \"PROD_CDE_EMS_SHL10\": 0, \"PROD_CDE_GUIMB_PORO\": 0, \"PROD_CDE_GUIMST_P\": 0, \"PROD_CDE_GU_AN10_B\": 0, \"PROD_CDE_GU_RE_OP10\": 0, \"PROD_CDE_PINN_PORO\": 1, \"PROD_CDE_PIN_GRIP_P\": 0, \"PREP ASSOCIATE_57000235\": 0, \"PREP ASSOCIATE_57000242\": 0, \"PREP ASSOCIATE_57000436\": 0, \"PREP ASSOCIATE_57000763\": 0, \"PREP ASSOCIATE_57001344\": 0, \"PREP ASSOCIATE_152046736\": 0, \"PREP ASSOCIATE_152051910\": 0, \"PREP ASSOCIATE_152054287\": 0, \"PREP ASSOCIATE_152058678\": 0, \"PREP ASSOCIATE_152059403\": 0, \"PREP ASSOCIATE_152061442\": 0, \"PREP ASSOCIATE_152064733\": 0, \"PREP ASSOCIATE_152065732\": 0, \"PREP ASSOCIATE_152072306\": 0, \"PREP ASSOCIATE_152072361\": 0, \"PREP ASSOCIATE_152072888\": 0, \"PREP ASSOCIATE_152806978\": 0, \"PREP ASSOCIATE_152808293\": 0, \"PREP ASSOCIATE_152815980\": 0, \"PREP ASSOCIATE_152824994\": 0, \"PREP ASSOCIATE_152824995\": 0, \"PREP ASSOCIATE_152827348\": 0, \"PREP ASSOCIATE_152828421\": 0, \"PREP ASSOCIATE_152834263\": 0, \"PREP ASSOCIATE_152848002\": 0, \"PREP ASSOCIATE_152848005\": 1, \"PREP ASSOCIATE_152848008\": 0, \"PREP ASSOCIATE_152848254\": 0, \"PREP ASSOCIATE_152848438\": 0, \"PREP ASSOCIATE_152849580\": 0, \"PREP ASSOCIATE_152851272\": 0, \"PREP ASSOCIATE_152851276\": 0, \"PREP ASSOCIATE_152852517\": 0, \"PREP ASSOCIATE_152859137\": 0, \"PREP ASSOCIATE_152859275\": 0, \"PREP ASSOCIATE_152861369\": 0, \"PREP ASSOCIATE_152861371\": 0, \"PREP ASSOCIATE_152863741\": 0, \"PREP ASSOCIATE_152867385\": 0, \"PREP ASSOCIATE_152868301\": 0, \"PREP ASSOCIATE_152868302\": 0, \"PREP ASSOCIATE_152868303\": 0, \"PREP ASSOCIATE_152870937\": 0, \"PREP ASSOCIATE_152871590\": 0, \"PREP ASSOCIATE_152872349\": 0, \"PREP ASSOCIATE_152872541\": 0, \"PREP ASSOCIATE_152872563\": 0, \"PREP ASSOCIATE_152890203\": 0, \"PREP ASSOCIATE_152890598\": 0, \"PREP ASSOCIATE_152890600\": 0, \"PREP ASSOCIATE_152890601\": 0, \"PREP ASSOCIATE_152890987\": 0, \"PREP ASSOCIATE_152898251\": 0, \"PREP ASSOCIATE_152899469\": 0, \"PREP ASSOCIATE_152899588\": 0, \"PREP ASSOCIATE_152900144\": 0, \"PREP ASSOCIATE_152900996\": 0, \"PREP ASSOCIATE_152904101\": 0, \"PREP ASSOCIATE_152925182\": 0, \"PREP ASSOCIATE_152925222\": 0, \"PREP ASSOCIATE_152925225\": 0, \"PREP ASSOCIATE_152926099\": 0, \"PREP ASSOCIATE_152926100\": 0, \"PREP ASSOCIATE_152926153\": 0, \"PREP ASSOCIATE_152927232\": 0, \"FURN_DE138\": 0, \"FURN_FURN0004\": 0, \"FURN_FURN0005\": 0, \"FURN_FURN0006\": 1, \"FURN_FURN0007\": 0}]}\\n0fb8feda-ce7d-4231-9bde-bb0e91a25373,{\"data\": [{\"IS REWORK\": 0, \"HOURS BLAST TO PREP\": 1224.0, \"PREP DAY\": 3, \"PREP SHIFT\": 2, \"PREP H\": 3, \"PREP QTY\": 10, \"PREP QTY IN THE SHIFT\": 20, \"PREPED IN THE SHIFT SO FAR\": 0, \"HOURS PREP TO FUR\": 0.0, \"HAS SCRAP AT SINTER\": 0, \"ASSOCIATE AXPERIENCE\": 2, \"Prep week\": 1, \"PROD_CDE_DXMETA_OP1\": 0, \"PROD_CDE_DX_EP_OP10\": 0, \"PROD_CDE_EMS_SHL10\": 0, \"PROD_CDE_GUIMB_PORO\": 0, \"PROD_CDE_GUIMST_P\": 0, \"PROD_CDE_GU_AN10_B\": 0, \"PROD_CDE_GU_RE_OP10\": 0, \"PROD_CDE_PINN_PORO\": 1, \"PROD_CDE_PIN_GRIP_P\": 0, \"PREP ASSOCIATE_57000235\": 0, \"PREP ASSOCIATE_57000242\": 0, \"PREP ASSOCIATE_57000436\": 0, \"PREP ASSOCIATE_57000763\": 0, \"PREP ASSOCIATE_57001344\": 0, \"PREP ASSOCIATE_152046736\": 0, \"PREP ASSOCIATE_152051910\": 0, \"PREP ASSOCIATE_152054287\": 0, \"PREP ASSOCIATE_152058678\": 0, \"PREP ASSOCIATE_152059403\": 0, \"PREP ASSOCIATE_152061442\": 0, \"PREP ASSOCIATE_152064733\": 0, \"PREP ASSOCIATE_152065732\": 0, \"PREP ASSOCIATE_152072306\": 0, \"PREP ASSOCIATE_152072361\": 0, \"PREP ASSOCIATE_152072888\": 0, \"PREP ASSOCIATE_152806978\": 0, \"PREP ASSOCIATE_152808293\": 0, \"PREP ASSOCIATE_152815980\": 0, \"PREP ASSOCIATE_152824994\": 0, \"PREP ASSOCIATE_152824995\": 0, \"PREP ASSOCIATE_152827348\": 0, \"PREP ASSOCIATE_152828421\": 0, \"PREP ASSOCIATE_152834263\": 0, \"PREP ASSOCIATE_152848002\": 0, \"PREP ASSOCIATE_152848005\": 1, \"PREP ASSOCIATE_152848008\": 0, \"PREP ASSOCIATE_152848254\": 0, \"PREP ASSOCIATE_152848438\": 0, \"PREP ASSOCIATE_152849580\": 0, \"PREP ASSOCIATE_152851272\": 0, \"PREP ASSOCIATE_152851276\": 0, \"PREP ASSOCIATE_152852517\": 0, \"PREP ASSOCIATE_152859137\": 0, \"PREP ASSOCIATE_152859275\": 0, \"PREP ASSOCIATE_152861369\": 0, \"PREP ASSOCIATE_152861371\": 0, \"PREP ASSOCIATE_152863741\": 0, \"PREP ASSOCIATE_152867385\": 0, \"PREP ASSOCIATE_152868301\": 0, \"PREP ASSOCIATE_152868302\": 0, \"PREP ASSOCIATE_152868303\": 0, \"PREP ASSOCIATE_152870937\": 0, \"PREP ASSOCIATE_152871590\": 0, \"PREP ASSOCIATE_152872349\": 0, \"PREP ASSOCIATE_152872541\": 0, \"PREP ASSOCIATE_152872563\": 0, \"PREP ASSOCIATE_152890203\": 0, \"PREP ASSOCIATE_152890598\": 0, \"PREP ASSOCIATE_152890600\": 0, \"PREP ASSOCIATE_152890601\": 0, \"PREP ASSOCIATE_152890987\": 0, \"PREP ASSOCIATE_152898251\": 0, \"PREP ASSOCIATE_152899469\": 0, \"PREP ASSOCIATE_152899588\": 0, \"PREP ASSOCIATE_152900144\": 0, \"PREP ASSOCIATE_152900996\": 0, \"PREP ASSOCIATE_152904101\": 0, \"PREP ASSOCIATE_152925182\": 0, \"PREP ASSOCIATE_152925222\": 0, \"PREP ASSOCIATE_152925225\": 0, \"PREP ASSOCIATE_152926099\": 0, \"PREP ASSOCIATE_152926100\": 0, \"PREP ASSOCIATE_152926153\": 0, \"PREP ASSOCIATE_152927232\": 0, \"FURN_DE138\": 0, \"FURN_FURN0004\": 0, \"FURN_FURN0005\": 0, \"FURN_FURN0006\": 1, \"FURN_FURN0007\": 0}]}\\n\\n2021-10-19 13:04:54,868 | root | ERROR | Encountered Exception: Traceback (most recent call last):\\n  File \"/var/azureml-server/synchronous/routes.py\", line 65, in run_scoring\\n    response, time_taken_ms = invoke_user_with_timer(service_input, request_headers)\\n  File \"/var/azureml-server/synchronous/routes.py\", line 110, in invoke_user_with_timer\\n    result, time_taken_ms = capture_time_taken(user_main.run)(**params)\\n  File \"/var/azureml-server/synchronous/routes.py\", line 92, in timer\\n    result = func(*args, **kwargs)\\n  File \"/var/azureml-app/main.py\", line 21, in run\\n    return_obj = driver_module.run(**arguments)\\n  File \"/var/azureml-app/source_dir/score.py\", line 19, in run\\n    data = pd.DataFrame(raw_data)\\n  File \"/azureml-envs/azureml_1b22a9c5d9b447e8fbdcc34171e02fe8/lib/python3.6/site-packages/pandas/core/frame.py\", line 485, in __init__\\n    raise ValueError(\"DataFrame constructor not properly called!\")\\nValueError: DataFrame constructor not properly called!\\n\\nDuring handling of the above exception, another exception occurred:\\n\\nTraceback (most recent call last):\\n  File \"/azureml-envs/azureml_1b22a9c5d9b447e8fbdcc34171e02fe8/lib/python3.6/site-packages/flask/app.py\", line 1832, in full_dispatch_request\\n    rv = self.dispatch_request()\\n  File \"/azureml-envs/azureml_1b22a9c5d9b447e8fbdcc34171e02fe8/lib/python3.6/site-packages/flask/app.py\", line 1818, in dispatch_request\\n    return self.view_functions[rule.endpoint](**req.view_args)\\n  File \"/var/azureml-server/synchronous/routes.py\", line 44, in score_realtime\\n    return run_scoring(service_input, request.headers, request.environ.get(\\'REQUEST_ID\\', \\'00000000-0000-0000-0000-000000000000\\'))\\n  File \"/var/azureml-server/synchronous/routes.py\", line 74, in run_scoring\\n    raise RunFunctionException(str(exc))\\nrun_function_exception.RunFunctionException\\n\\n2021-10-19 13:04:54,869 | root | INFO | 500\\n127.0.0.1 - - [19/Oct/2021:13:04:54 +0000] \"POST /score HTTP/1.0\" 500 42 \"-\" \"python-requests/2.26.0\"\\n2021-10-19 13:04:56,882 | root | INFO | Scoring Timer is set to 60.0 seconds\\n{\"data\": [{\"IS REWORK\": 0, \"HOURS BLAST TO PREP\": 1224.0, \"PREP DAY\": 3, \"PREP SHIFT\": 2, \"PREP H\": 3, \"PREP QTY\": 10, \"PREP QTY IN THE SHIFT\": 20, \"PREPED IN THE SHIFT SO FAR\": 0, \"HOURS PREP TO FUR\": 0.0, \"HAS SCRAP AT SINTER\": 0, \"ASSOCIATE AXPERIENCE\": 2, \"Prep week\": 1, \"PROD_CDE_DXMETA_OP1\": 0, \"PROD_CDE_DX_EP_OP10\": 0, \"PROD_CDE_EMS_SHL10\": 0, \"PROD_CDE_GUIMB_PORO\": 0, \"PROD_CDE_GUIMST_P\": 0, \"PROD_CDE_GU_AN10_B\": 0, \"PROD_CDE_GU_RE_OP10\": 0, \"PROD_CDE_PINN_PORO\": 1, \"PROD_CDE_PIN_GRIP_P\": 0, \"PREP ASSOCIATE_57000235\": 0, \"PREP ASSOCIATE_57000242\": 0, \"PREP ASSOCIATE_57000436\": 0, \"PREP ASSOCIATE_57000763\": 0, \"PREP ASSOCIATE_57001344\": 0, \"PREP ASSOCIATE_152046736\": 0, \"PREP ASSOCIATE_152051910\": 0, \"PREP ASSOCIATE_152054287\": 0, \"PREP ASSOCIATE_152058678\": 0, \"PREP ASSOCIATE_152059403\": 0, \"PREP ASSOCIATE_152061442\": 0, \"PREP ASSOCIATE_152064733\": 0, \"PREP ASSOCIATE_152065732\": 0, \"PREP ASSOCIATE_152072306\": 0, \"PREP ASSOCIATE_152072361\": 0, \"PREP ASSOCIATE_152072888\": 0, \"PREP ASSOCIATE_152806978\": 0, \"PREP ASSOCIATE_152808293\": 0, \"PREP ASSOCIATE_152815980\": 0, \"PREP ASSOCIATE_152824994\": 0, \"PREP ASSOCIATE_152824995\": 0, \"PREP ASSOCIATE_152827348\": 0, \"PREP ASSOCIATE_152828421\": 0, \"PREP ASSOCIATE_152834263\": 0, \"PREP ASSOCIATE_152848002\": 0, \"PREP ASSOCIATE_152848005\": 1, \"PREP ASSOCIATE_152848008\": 0, \"PREP ASSOCIATE_152848254\": 0, \"PREP ASSOCIATE_152848438\": 0, \"PREP ASSOCIATE_152849580\": 0, \"PREP ASSOCIATE_152851272\": 0, \"PREP ASSOCIATE_152851276\": 0, \"PREP ASSOCIATE_152852517\": 0, \"PREP ASSOCIATE_152859137\": 0, \"PREP ASSOCIATE_152859275\": 0, \"PREP ASSOCIATE_152861369\": 0, \"PREP ASSOCIATE_152861371\": 0, \"PREP ASSOCIATE_152863741\": 0, \"PREP ASSOCIATE_152867385\": 0, \"PREP ASSOCIATE_152868301\": 0, \"PREP ASSOCIATE_152868302\": 0, \"PREP ASSOCIATE_152868303\": 0, \"PREP ASSOCIATE_152870937\": 0, \"PREP ASSOCIATE_152871590\": 0, \"PREP ASSOCIATE_152872349\": 0, \"PREP ASSOCIATE_152872541\": 0, \"PREP ASSOCIATE_152872563\": 0, \"PREP ASSOCIATE_152890203\": 0, \"PREP ASSOCIATE_152890598\": 0, \"PREP ASSOCIATE_152890600\": 0, \"PREP ASSOCIATE_152890601\": 0, \"PREP ASSOCIATE_152890987\": 0, \"PREP ASSOCIATE_152898251\": 0, \"PREP ASSOCIATE_152899469\": 0, \"PREP ASSOCIATE_152899588\": 0, \"PREP ASSOCIATE_152900144\": 0, \"PREP ASSOCIATE_152900996\": 0, \"PREP ASSOCIATE_152904101\": 0, \"PREP ASSOCIATE_152925182\": 0, \"PREP ASSOCIATE_152925222\": 0, \"PREP ASSOCIATE_152925225\": 0, \"PREP ASSOCIATE_152926099\": 0, \"PREP ASSOCIATE_152926100\": 0, \"PREP ASSOCIATE_152926153\": 0, \"PREP ASSOCIATE_152927232\": 0, \"FURN_DE138\": 0, \"FURN_FURN0004\": 0, \"FURN_FURN0005\": 0, \"FURN_FURN0006\": 1, \"FURN_FURN0007\": 0}]}\\n20d62c9f-471b-4c54-ad13-5c703d0f07c1,{\"data\": [{\"IS REWORK\": 0, \"HOURS BLAST TO PREP\": 1224.0, \"PREP DAY\": 3, \"PREP SHIFT\": 2, \"PREP H\": 3, \"PREP QTY\": 10, \"PREP QTY IN THE SHIFT\": 20, \"PREPED IN THE SHIFT SO FAR\": 0, \"HOURS PREP TO FUR\": 0.0, \"HAS SCRAP AT SINTER\": 0, \"ASSOCIATE AXPERIENCE\": 2, \"Prep week\": 1, \"PROD_CDE_DXMETA_OP1\": 0, \"PROD_CDE_DX_EP_OP10\": 0, \"PROD_CDE_EMS_SHL10\": 0, \"PROD_CDE_GUIMB_PORO\": 0, \"PROD_CDE_GUIMST_P\": 0, \"PROD_CDE_GU_AN10_B\": 0, \"PROD_CDE_GU_RE_OP10\": 0, \"PROD_CDE_PINN_PORO\": 1, \"PROD_CDE_PIN_GRIP_P\": 0, \"PREP ASSOCIATE_57000235\": 0, \"PREP ASSOCIATE_57000242\": 0, \"PREP ASSOCIATE_57000436\": 0, \"PREP ASSOCIATE_57000763\": 0, \"PREP ASSOCIATE_57001344\": 0, \"PREP ASSOCIATE_152046736\": 0, \"PREP ASSOCIATE_152051910\": 0, \"PREP ASSOCIATE_152054287\": 0, \"PREP ASSOCIATE_152058678\": 0, \"PREP ASSOCIATE_152059403\": 0, \"PREP ASSOCIATE_152061442\": 0, \"PREP ASSOCIATE_152064733\": 0, \"PREP ASSOCIATE_152065732\": 0, \"PREP ASSOCIATE_152072306\": 0, \"PREP ASSOCIATE_152072361\": 0, \"PREP ASSOCIATE_152072888\": 0, \"PREP ASSOCIATE_152806978\": 0, \"PREP ASSOCIATE_152808293\": 0, \"PREP ASSOCIATE_152815980\": 0, \"PREP ASSOCIATE_152824994\": 0, \"PREP ASSOCIATE_152824995\": 0, \"PREP ASSOCIATE_152827348\": 0, \"PREP ASSOCIATE_152828421\": 0, \"PREP ASSOCIATE_152834263\": 0, \"PREP ASSOCIATE_152848002\": 0, \"PREP ASSOCIATE_152848005\": 1, \"PREP ASSOCIATE_152848008\": 0, \"PREP ASSOCIATE_152848254\": 0, \"PREP ASSOCIATE_152848438\": 0, \"PREP ASSOCIATE_152849580\": 0, \"PREP ASSOCIATE_152851272\": 0, \"PREP ASSOCIATE_152851276\": 0, \"PREP ASSOCIATE_152852517\": 0, \"PREP ASSOCIATE_152859137\": 0, \"PREP ASSOCIATE_152859275\": 0, \"PREP ASSOCIATE_152861369\": 0, \"PREP ASSOCIATE_152861371\": 0, \"PREP ASSOCIATE_152863741\": 0, \"PREP ASSOCIATE_152867385\": 0, \"PREP ASSOCIATE_152868301\": 0, \"PREP ASSOCIATE_152868302\": 0, \"PREP ASSOCIATE_152868303\": 0, \"PREP ASSOCIATE_152870937\": 0, \"PREP ASSOCIATE_152871590\": 0, \"PREP ASSOCIATE_152872349\": 0, \"PREP ASSOCIATE_152872541\": 0, \"PREP ASSOCIATE_152872563\": 0, \"PREP ASSOCIATE_152890203\": 0, \"PREP ASSOCIATE_152890598\": 0, \"PREP ASSOCIATE_152890600\": 0, \"PREP ASSOCIATE_152890601\": 0, \"PREP ASSOCIATE_152890987\": 0, \"PREP ASSOCIATE_152898251\": 0, \"PREP ASSOCIATE_152899469\": 0, \"PREP ASSOCIATE_152899588\": 0, \"PREP ASSOCIATE_152900144\": 0, \"PREP ASSOCIATE_152900996\": 0, \"PREP ASSOCIATE_152904101\": 0, \"PREP ASSOCIATE_152925182\": 0, \"PREP ASSOCIATE_152925222\": 0, \"PREP ASSOCIATE_152925225\": 0, \"PREP ASSOCIATE_152926099\": 0, \"PREP ASSOCIATE_152926100\": 0, \"PREP ASSOCIATE_152926153\": 0, \"PREP ASSOCIATE_152927232\": 0, \"FURN_DE138\": 0, \"FURN_FURN0004\": 0, \"FURN_FURN0005\": 0, \"FURN_FURN0006\": 1, \"FURN_FURN0007\": 0}]}\\n\\n2021-10-19 13:04:56,884 | root | ERROR | Encountered Exception: Traceback (most recent call last):\\n  File \"/var/azureml-server/synchronous/routes.py\", line 65, in run_scoring\\n    response, time_taken_ms = invoke_user_with_timer(service_input, request_headers)\\n  File \"/var/azureml-server/synchronous/routes.py\", line 110, in invoke_user_with_timer\\n    result, time_taken_ms = capture_time_taken(user_main.run)(**params)\\n  File \"/var/azureml-server/synchronous/routes.py\", line 92, in timer\\n    result = func(*args, **kwargs)\\n  File \"/var/azureml-app/main.py\", line 21, in run\\n    return_obj = driver_module.run(**arguments)\\n  File \"/var/azureml-app/source_dir/score.py\", line 19, in run\\n    data = pd.DataFrame(raw_data)\\n  File \"/azureml-envs/azureml_1b22a9c5d9b447e8fbdcc34171e02fe8/lib/python3.6/site-packages/pandas/core/frame.py\", line 485, in __init__\\n    raise ValueError(\"DataFrame constructor not properly called!\")\\nValueError: DataFrame constructor not properly called!\\n\\nDuring handling of the above exception, another exception occurred:\\n\\nTraceback (most recent call last):\\n  File \"/azureml-envs/azureml_1b22a9c5d9b447e8fbdcc34171e02fe8/lib/python3.6/site-packages/flask/app.py\", line 1832, in full_dispatch_request\\n    rv = self.dispatch_request()\\n  File \"/azureml-envs/azureml_1b22a9c5d9b447e8fbdcc34171e02fe8/lib/python3.6/site-packages/flask/app.py\", line 1818, in dispatch_request\\n    return self.view_functions[rule.endpoint](**req.view_args)\\n  File \"/var/azureml-server/synchronous/routes.py\", line 44, in score_realtime\\n    return run_scoring(service_input, request.headers, request.environ.get(\\'REQUEST_ID\\', \\'00000000-0000-0000-0000-000000000000\\'))\\n  File \"/var/azureml-server/synchronous/routes.py\", line 74, in run_scoring\\n    raise RunFunctionException(str(exc))\\nrun_function_exception.RunFunctionException\\n\\n2021-10-19 13:04:56,884 | root | INFO | 500\\n127.0.0.1 - - [19/Oct/2021:13:04:56 +0000] \"POST /score HTTP/1.0\" 500 42 \"-\" \"python-requests/2.26.0\"\\nException in worker process\\nTraceback (most recent call last):\\n  File \"/azureml-envs/azureml_1b22a9c5d9b447e8fbdcc34171e02fe8/lib/python3.6/site-packages/gunicorn/arbiter.py\", line 589, in spawn_worker\\n    worker.init_process()\\n  File \"/azureml-envs/azureml_1b22a9c5d9b447e8fbdcc34171e02fe8/lib/python3.6/site-packages/gunicorn/workers/base.py\", line 142, in init_process\\n    self.run()\\n  File \"/azureml-envs/azureml_1b22a9c5d9b447e8fbdcc34171e02fe8/lib/python3.6/site-packages/gunicorn/workers/sync.py\", line 125, in run\\n    self.run_for_one(timeout)\\n  File \"/azureml-envs/azureml_1b22a9c5d9b447e8fbdcc34171e02fe8/lib/python3.6/site-packages/gunicorn/workers/sync.py\", line 84, in run_for_one\\n    self.wait(timeout)\\n  File \"/azureml-envs/azureml_1b22a9c5d9b447e8fbdcc34171e02fe8/lib/python3.6/site-packages/gunicorn/workers/sync.py\", line 36, in wait\\n    ret = select.select(self.wait_fds, [], [], timeout)\\n  File \"/var/azureml-server/routes_common.py\", line 153, in alarm_handler\\n    raise TimeoutException(error_message)\\ntimeout_exception.TimeoutException\\nWorker exiting (pid: 89)\\nworker timeout is set to 300\\nBooting worker with pid: 170\\nSPARK_HOME not set. Skipping PySpark Initialization.\\nInitializing logger\\n2021-10-19 13:06:00,119 | root | INFO | Starting up app insights client\\nlogging socket was found. logging is available.\\nlogging socket was found. logging is available.\\n2021-10-19 13:06:00,123 | root | INFO | Starting up request id generator\\n2021-10-19 13:06:00,123 | root | INFO | Starting up app insight hooks\\n2021-10-19 13:06:00,124 | root | INFO | Invoking user\\'s init function\\n2021-10-19 13:06:06,228 | azureml.core | WARNING | Failure while loading azureml_run_type_providers. Failed to load entrypoint automl = azureml.train.automl.run:AutoMLRun._from_run_dto with exception cannot import name \\'RunType\\'.\\nFailure while loading azureml_run_type_providers. Failed to load entrypoint automl = azureml.train.automl.run:AutoMLRun._from_run_dto with exception cannot import name \\'RunType\\'.\\n2021-10-19 13:06:07,964 | root | INFO | Users\\'s init has completed successfully\\n2021-10-19 13:06:07,996 | root | INFO | Skipping middleware: dbg_model_info as it\\'s not enabled.\\n2021-10-19 13:06:07,997 | root | INFO | Skipping middleware: dbg_resource_usage as it\\'s not enabled.\\n2021-10-19 13:06:07,998 | root | INFO | Scoring timeout is found from os.environ: 60000 ms\\n'"
          },
          "metadata": {}
        }
      ],
      "execution_count": 43,
      "metadata": {
        "jupyter": {
          "source_hidden": false,
          "outputs_hidden": false
        },
        "nteract": {
          "transient": {
            "deleting": false
          }
        },
        "gather": {
          "logged": 1634648823604
        }
      }
    },
    {
      "cell_type": "markdown",
      "source": [
        "TODO: In the cell below, print the logs of the web service and delete the service"
      ],
      "metadata": {
        "collapsed": true,
        "gather": {
          "logged": 1598432765711
        },
        "jupyter": {
          "outputs_hidden": false,
          "source_hidden": false
        },
        "nteract": {
          "transient": {
            "deleting": false
          }
        }
      }
    },
    {
      "cell_type": "code",
      "source": [],
      "outputs": [],
      "execution_count": null,
      "metadata": {
        "jupyter": {
          "outputs_hidden": false,
          "source_hidden": false
        },
        "nteract": {
          "transient": {
            "deleting": false
          }
        }
      }
    },
    {
      "cell_type": "markdown",
      "source": [
        "**Submission Checklist**\n",
        "- I have registered the model.\n",
        "- I have deployed the model with the best accuracy as a webservice.\n",
        "- I have tested the webservice by sending a request to the model endpoint.\n",
        "- I have deleted the webservice and shutdown all the computes that I have used.\n",
        "- I have taken a screenshot showing the model endpoint as active.\n",
        "- The project includes a file containing the environment details.\n"
      ],
      "metadata": {}
    },
    {
      "cell_type": "markdown",
      "source": [],
      "metadata": {}
    }
  ],
  "metadata": {
    "kernel_info": {
      "name": "python3"
    },
    "kernelspec": {
      "name": "python3",
      "language": "python",
      "display_name": "Python 3"
    },
    "language_info": {
      "name": "python",
      "version": "3.6.9",
      "mimetype": "text/x-python",
      "codemirror_mode": {
        "name": "ipython",
        "version": 3
      },
      "pygments_lexer": "ipython3",
      "nbconvert_exporter": "python",
      "file_extension": ".py"
    },
    "nteract": {
      "version": "nteract-front-end@1.0.0"
    },
    "microsoft": {
      "host": {
        "AzureML": {
          "notebookHasBeenCompleted": true
        }
      }
    }
  },
  "nbformat": 4,
  "nbformat_minor": 2
}